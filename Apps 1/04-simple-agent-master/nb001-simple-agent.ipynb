{
 "cells": [
  {
   "cell_type": "markdown",
   "id": "5d733e1a-fff5-4739-b702-cc4af0a69d41",
   "metadata": {},
   "source": [
    "# How to build a simple Agent LLM App with LangGraph\n",
    "* Very basic tool-using Agent LLM App with memory.\n",
    "\n",
    "Language models can't do anything on their own; they can only create text based on what you ask them. However, LangChain allows people to build agents—think of these as smart systems or helpers— that use language models to think and decide what to do next.\n",
    "\n",
    "Here’s how it works:\n",
    "1. **Use the Language Model as a Brain**: The agent uses the language model to figure out which actions it should take, based on the information it has or what you ask it to do.\n",
    "2. **Taking Action**: After deciding, the agent then goes ahead and does those actions.\n",
    "3. **Learning and Adjusting**: Once the actions are done, the results can be given back to the language model. This helps the model check if everything is complete or if it needs to do something else.\n",
    "\n",
    "So, essentially, LangChain helps turn a language model from just a tool for writing and answering into a system that can act and react, almost like a very simple robot brain.\n",
    "\n",
    "Here we will build an agent that can interact with a search engine. You will be able to ask this agent questions, watch it calling the search tool, and have conversations with it."
   ]
  },
  {
   "cell_type": "markdown",
   "id": "d0399355-dece-4701-9bf4-4c204fe74929",
   "metadata": {},
   "source": [
    "## Concepts included\n",
    "* [LangGraph](https://python.langchain.com/v0.2/docs/concepts/#langgraph).\n",
    "\n",
    "LangGraph is a library created by the LangChain team for building stateful, multi-actor applications with LLMs, used to create agent and multi-agent workflows."
   ]
  },
  {
   "cell_type": "markdown",
   "id": "2af01334-1e2d-446a-9c8a-e2eeba448ba9",
   "metadata": {},
   "source": [
    "## Connect with the .env file located in the same directory of this notebook"
   ]
  },
  {
   "cell_type": "code",
   "execution_count": 17,
   "id": "992ec4a9-aa01-4e44-aeb9-b9a1f3aa9e54",
   "metadata": {},
   "outputs": [],
   "source": [
    "import os\n",
    "from dotenv import load_dotenv, find_dotenv\n",
    "_ = load_dotenv(find_dotenv())\n",
    "openai_api_key = os.environ[\"OPENAI_API_KEY\"]"
   ]
  },
  {
   "cell_type": "markdown",
   "id": "cc2af3ef-c2c7-445f-92bd-a29c68abce25",
   "metadata": {},
   "source": [
    "## Connect with an LLM and start a conversation with it"
   ]
  },
  {
   "cell_type": "markdown",
   "id": "bce3551e-95ca-41a1-8810-89c495bf93ab",
   "metadata": {},
   "source": [
    "* For this project, we will use OpenAI's gpt-3.5-turbo"
   ]
  },
  {
   "cell_type": "code",
   "execution_count": 18,
   "id": "9afcbc7d-a816-41e3-925f-850883f5770d",
   "metadata": {},
   "outputs": [],
   "source": [
    "from langchain_openai import ChatOpenAI\n",
    "\n",
    "llm = ChatOpenAI(model=\"gpt-3.5-turbo\")"
   ]
  },
  {
   "cell_type": "markdown",
   "id": "edabbbe2-3b88-4554-bb31-a135408a9495",
   "metadata": {},
   "source": [
    "## Agents\n",
    "* Agents use LLMs as reasoning engines to determine which actions to take."
   ]
  },
  {
   "cell_type": "markdown",
   "id": "3d0f80a4-02b5-4987-8f46-28cec86b4946",
   "metadata": {},
   "source": [
    "## Tool-using Agent\n",
    "* For this basic agent we will use just one tool. In next advanced projects, you will learn how to use agents with several tools.\n",
    "* **Our tool of choice will be Tavily** - a search engine. \n",
    "#### Tavily API Key\n",
    "* You will need to add your Tavily API key in the .env file. Obtain a key by signing up on their [website](https://tavily.com/)."
   ]
  },
  {
   "cell_type": "markdown",
   "id": "0701e301-30dd-4fe4-b5fc-b59e2573e8d7",
   "metadata": {},
   "source": [
    "If you are using the pre-loaded poetry shell, you do not need to install the following package because it is already pre-loaded for you:"
   ]
  },
  {
   "cell_type": "code",
   "execution_count": 19,
   "id": "ac0fe589-89fd-4edd-a526-c0f7e584612f",
   "metadata": {},
   "outputs": [],
   "source": [
    "#pip install langgraph"
   ]
  },
  {
   "cell_type": "markdown",
   "id": "6a5be8d9-3b54-4e65-beee-0df3237ad239",
   "metadata": {},
   "source": [
    "#### Define tools"
   ]
  },
  {
   "cell_type": "markdown",
   "id": "0fb82301-03b7-45ca-8588-e6c6fd0f53ae",
   "metadata": {},
   "source": [
    "If you are using the pre-loaded poetry shell, you do not need to install the following package because it is already pre-loaded for you:"
   ]
  },
  {
   "cell_type": "code",
   "execution_count": 20,
   "id": "350461a1-b8b3-463f-a97c-95fa931e2fc2",
   "metadata": {},
   "outputs": [],
   "source": [
    "#pip install langchain-community"
   ]
  },
  {
   "cell_type": "code",
   "execution_count": 21,
   "id": "41791f51-0372-42ce-9fb5-237323408617",
   "metadata": {},
   "outputs": [
    {
     "data": {
      "text/plain": [
       "[{'title': 'EURO 2024 Best XI of tournament - NBC Sports',\n",
       "  'url': 'https://www.nbcsports.com/soccer/news/euro-2024-best-xi-of-tournament',\n",
       "  'content': '[ EURO 2024 FINAL: · Ivan Schranz, Slovakia — · Toni Kroos, Germany — · Christian Eriksen, Denmark — · Ruben Dias, Portugal — · Ferdi Kadioglu,',\n",
       "  'score': 0.73299384},\n",
       " {'title': 'Euro 2024 – 5 Standout Performers - Attacking Football',\n",
       "  'url': 'https://www.attackingfootball.com/euro-2024-5-standout-performers/',\n",
       "  'content': 'EURO 2024: 5 STANDOUT PERFORMERS · Christoph Baumgartner (Austria) · Riccardo Calafiori (Italy) · Stanislav Lobotka (Slovakia) · Fabián Ruiz (Spain) · Zan Karnicnik',\n",
       "  'score': 0.6877354}]"
      ]
     },
     "execution_count": 21,
     "metadata": {},
     "output_type": "execute_result"
    }
   ],
   "source": [
    "from langchain_community.tools.tavily_search import TavilySearchResults\n",
    "search = TavilySearchResults(max_results=2)\n",
    "search.invoke(\"Who are the top stars of the 2024 Eurocup?\")"
   ]
  },
  {
   "cell_type": "code",
   "execution_count": 22,
   "id": "69a2b11c-5c7c-40d8-aa37-5f6aeb4128c9",
   "metadata": {},
   "outputs": [],
   "source": [
    "tools = [search]"
   ]
  },
  {
   "cell_type": "markdown",
   "id": "2dc166a2",
   "metadata": {},
   "source": [
    "* **In order to enable this model to do tool calling we use .bind_tools** to give the language model knowledge of these tools:"
   ]
  },
  {
   "cell_type": "code",
   "execution_count": 23,
   "id": "c232d6a6-5b2d-4764-b2ea-58a9546a9fc2",
   "metadata": {},
   "outputs": [],
   "source": [
    "llm_with_tools = llm.bind_tools(tools)"
   ]
  },
  {
   "cell_type": "markdown",
   "id": "a22e045c",
   "metadata": {},
   "source": [
    "## Create the agent\n",
    "* We will be using LangGraph to construct the agent. \n",
    "* **Note that below we are passing in the origina chat model, not the llm_with_tools we built later**. That is because create_tool_calling_executor will call .bind_tools for us under the hood."
   ]
  },
  {
   "cell_type": "code",
   "execution_count": 24,
   "id": "3d358d2a-9b02-4761-b34c-66545149e4a3",
   "metadata": {},
   "outputs": [],
   "source": [
    "# from langgraph.prebuilt import chat_agent_executor\n",
    "\n",
    "# agent_executor = chat_agent_executor.create_tool_calling_executor(llm, tools)"
   ]
  },
  {
   "cell_type": "markdown",
   "id": "4725a91a-edff-49a3-85a7-37b40b63545b",
   "metadata": {},
   "source": [
    "* In the latest version of langgraph, we have a most modern way to do this:"
   ]
  },
  {
   "cell_type": "code",
   "execution_count": 25,
   "id": "a2cf5dce-629b-472b-908d-f4a19606f16a",
   "metadata": {},
   "outputs": [],
   "source": [
    "from langgraph.prebuilt import create_react_agent\n",
    "\n",
    "agent_executor = create_react_agent(llm, tools)"
   ]
  },
  {
   "cell_type": "markdown",
   "id": "91674e8f",
   "metadata": {},
   "source": [
    "## Run the agent\n",
    "* Let's first try it with .invoke():"
   ]
  },
  {
   "cell_type": "code",
   "execution_count": 26,
   "id": "0074c0c0-ff35-42c4-b862-3b0aa6abbe54",
   "metadata": {},
   "outputs": [
    {
     "data": {
      "text/plain": [
       "[HumanMessage(content='Where is the soccer Eurocup 2024 played?', additional_kwargs={}, response_metadata={}, id='93b70289-a30a-42de-88a6-ebc9b882f662'),\n",
       " AIMessage(content='', additional_kwargs={'tool_calls': [{'id': 'call_XPg28ZC3shpjSB7mwsI6qdZ9', 'function': {'arguments': '{\"query\":\"Soccer Eurocup 2024 location\"}', 'name': 'tavily_search_results_json'}, 'type': 'function'}], 'refusal': None}, response_metadata={'token_usage': {'completion_tokens': 25, 'prompt_tokens': 92, 'total_tokens': 117, 'completion_tokens_details': {'accepted_prediction_tokens': 0, 'audio_tokens': 0, 'reasoning_tokens': 0, 'rejected_prediction_tokens': 0}, 'prompt_tokens_details': {'audio_tokens': 0, 'cached_tokens': 0}}, 'model_name': 'gpt-3.5-turbo-0125', 'system_fingerprint': None, 'id': 'chatcmpl-BpFXNEmEKFeM9yz7gPu1HIvacVONf', 'service_tier': 'default', 'finish_reason': 'tool_calls', 'logprobs': None}, id='run--5e7d7f25-eeff-4664-9cfb-e29919133acd-0', tool_calls=[{'name': 'tavily_search_results_json', 'args': {'query': 'Soccer Eurocup 2024 location'}, 'id': 'call_XPg28ZC3shpjSB7mwsI6qdZ9', 'type': 'tool_call'}], usage_metadata={'input_tokens': 92, 'output_tokens': 25, 'total_tokens': 117, 'input_token_details': {'audio': 0, 'cache_read': 0}, 'output_token_details': {'audio': 0, 'reasoning': 0}}),\n",
       " ToolMessage(content='[{\"title\": \"UEFA Euro 2024 final - Wikipedia\", \"url\": \"https://en.wikipedia.org/wiki/UEFA_Euro_2024_final\", \"content\": \"The final was held at the Olympiastadion \\\\\"Olympiastadion (Berlin)\\\\\") in Berlin, Germany, located in Westend \\\\\"Westend (Berlin)\\\\\") of the borough of Charlottenburg-Wilmersdorf. On 27 September 2018, UEFA announced the 2024 tournament would be held in Germany after they had defeated Turkey in the host selection vote in Nyon, Switzerland. The Olympiastadion was chosen as the final venue of the tournament by the UEFA Executive Committee in May 2022, where it was announced it would also host three\", \"score\": 0.79196626}, {\"title\": \"UEFA Euro 2024 - Wikipedia\", \"url\": \"https://en.wikipedia.org/wiki/UEFA_Euro_2024\", \"content\": \"UEFA Euro 2024 is located in Germany\\\\nBerlin\\\\nMunich\\\\nDortmund\\\\nGelsenkirchen\\\\nStuttgart\\\\nHamburg\\\\nDüsseldorf\\\\nCologne\\\\nFrankfurt\\\\nLeipzig\\\\n\\\\n### Team base camps\\\\n\\\\nEach team chose a \\\\\"team base camp\\\\\" for its stay between the matches. The teams trained and resided in these locations throughout the tournament, travelling to games staged away from their bases. The \\\\\"team base camp\\\\\" needed to be in Germany.\\\\n\\\\nBase camp and training ground by team—sortable [...] | Gelsenkirchen | UEFA Euro 2024 is located in Germany Berlin  Berlin  Munich  Munich  Dortmund  Dortmund  Gelsenkirchen  Gelsenkirchen  Stuttgart  Stuttgart  Hamburg  Hamburg  Düsseldorf  Düsseldorf  Cologne  Cologne  Frankfurt  Frankfurt  Leipzig  Leipzig  class=notpageimage| Location of the host cities of the UEFA Euro 2024. | | |\\\\n| Arena AufSchalke |\\\\n| Capacity: 50,000 |\\\\n|  |\\\\n| Hamburg |\\\\n| Volksparkstadion (Volksparkstadion Hamburg) |\\\\n| Capacity: 49,000 |\\\\n|  | [...] | Fußball-Europameisterschaft 2024 (in German) | |\\\\n| --- | --- |\\\\n| United by Football. Vereint im Herzen Europas. (United in the heart of Europe.) | |\\\\n| Tournament details | |\\\\n| Host country | Germany |\\\\n| Dates | 14 June – 14 July |\\\\n| Teams | 24 |\\\\n| Venue(s) | 10 (in 10 host cities) |\\\\n| Final positions | |\\\\n| Champions | Spain (4th title) |\\\\n| Runners-up | England |\\\\n| Tournament statistics | |\\\\n| Matches played | 51 |\\\\n| Goals scored | 117 (2.29 per match) |\", \"score\": 0.78886026}]', name='tavily_search_results_json', id='36613d29-fcb0-4bae-a77a-5a9ee5956ded', tool_call_id='call_XPg28ZC3shpjSB7mwsI6qdZ9', artifact={'query': 'Soccer Eurocup 2024 location', 'follow_up_questions': None, 'answer': None, 'images': [], 'results': [{'url': 'https://en.wikipedia.org/wiki/UEFA_Euro_2024_final', 'title': 'UEFA Euro 2024 final - Wikipedia', 'content': 'The final was held at the Olympiastadion \"Olympiastadion (Berlin)\") in Berlin, Germany, located in Westend \"Westend (Berlin)\") of the borough of Charlottenburg-Wilmersdorf. On 27 September 2018, UEFA announced the 2024 tournament would be held in Germany after they had defeated Turkey in the host selection vote in Nyon, Switzerland. The Olympiastadion was chosen as the final venue of the tournament by the UEFA Executive Committee in May 2022, where it was announced it would also host three', 'score': 0.79196626, 'raw_content': None}, {'url': 'https://en.wikipedia.org/wiki/UEFA_Euro_2024', 'title': 'UEFA Euro 2024 - Wikipedia', 'content': 'UEFA Euro 2024 is located in Germany\\nBerlin\\nMunich\\nDortmund\\nGelsenkirchen\\nStuttgart\\nHamburg\\nDüsseldorf\\nCologne\\nFrankfurt\\nLeipzig\\n\\n### Team base camps\\n\\nEach team chose a \"team base camp\" for its stay between the matches. The teams trained and resided in these locations throughout the tournament, travelling to games staged away from their bases. The \"team base camp\" needed to be in Germany.\\n\\nBase camp and training ground by team—sortable [...] | Gelsenkirchen | UEFA Euro 2024 is located in Germany Berlin  Berlin  Munich  Munich  Dortmund  Dortmund  Gelsenkirchen  Gelsenkirchen  Stuttgart  Stuttgart  Hamburg  Hamburg  Düsseldorf  Düsseldorf  Cologne  Cologne  Frankfurt  Frankfurt  Leipzig  Leipzig  class=notpageimage| Location of the host cities of the UEFA Euro 2024. | | |\\n| Arena AufSchalke |\\n| Capacity: 50,000 |\\n|  |\\n| Hamburg |\\n| Volksparkstadion (Volksparkstadion Hamburg) |\\n| Capacity: 49,000 |\\n|  | [...] | Fußball-Europameisterschaft 2024 (in German) | |\\n| --- | --- |\\n| United by Football. Vereint im Herzen Europas. (United in the heart of Europe.) | |\\n| Tournament details | |\\n| Host country | Germany |\\n| Dates | 14 June – 14 July |\\n| Teams | 24 |\\n| Venue(s) | 10 (in 10 host cities) |\\n| Final positions | |\\n| Champions | Spain (4th title) |\\n| Runners-up | England |\\n| Tournament statistics | |\\n| Matches played | 51 |\\n| Goals scored | 117 (2.29 per match) |', 'score': 0.78886026, 'raw_content': None}], 'response_time': 1.64}),\n",
       " AIMessage(content='The Soccer Eurocup 2024 will be played in Germany. The final will be held at the Olympiastadion in Berlin, Germany. Germany was selected as the host country for the Eurocup 2024, and Berlin is one of the host cities for the tournament.', additional_kwargs={'refusal': None}, response_metadata={'token_usage': {'completion_tokens': 58, 'prompt_tokens': 749, 'total_tokens': 807, 'completion_tokens_details': {'accepted_prediction_tokens': 0, 'audio_tokens': 0, 'reasoning_tokens': 0, 'rejected_prediction_tokens': 0}, 'prompt_tokens_details': {'audio_tokens': 0, 'cached_tokens': 0}}, 'model_name': 'gpt-3.5-turbo-0125', 'system_fingerprint': None, 'id': 'chatcmpl-BpFXQDAeO8aGfueHYazBkdFLyCHjR', 'service_tier': 'default', 'finish_reason': 'stop', 'logprobs': None}, id='run--74758402-3ffd-47b3-98ca-4e08bedc37f5-0', usage_metadata={'input_tokens': 749, 'output_tokens': 58, 'total_tokens': 807, 'input_token_details': {'audio': 0, 'cache_read': 0}, 'output_token_details': {'audio': 0, 'reasoning': 0}})]"
      ]
     },
     "execution_count": 26,
     "metadata": {},
     "output_type": "execute_result"
    }
   ],
   "source": [
    "from langchain_core.messages import HumanMessage\n",
    "\n",
    "response = agent_executor.invoke({\"messages\": [HumanMessage(content=\"Where is the soccer Eurocup 2024 played?\")]})\n",
    "\n",
    "response[\"messages\"]"
   ]
  },
  {
   "cell_type": "markdown",
   "id": "71504800-6cb3-4a33-91e3-0006c4200c3a",
   "metadata": {},
   "source": [
    "* Now let's try it with .stream():"
   ]
  },
  {
   "cell_type": "code",
   "execution_count": 27,
   "id": "0e9691c4-3bf4-4216-b9c5-54f146071d09",
   "metadata": {},
   "outputs": [
    {
     "name": "stdout",
     "output_type": "stream",
     "text": [
      "{'agent': {'messages': [AIMessage(content='', additional_kwargs={'tool_calls': [{'id': 'call_jZissqrn9zDubwboeq2iw7Qr', 'function': {'arguments': '{\"query\":\"2024 Eurocup final match date and location\"}', 'name': 'tavily_search_results_json'}, 'type': 'function'}], 'refusal': None}, response_metadata={'token_usage': {'completion_tokens': 26, 'prompt_tokens': 96, 'total_tokens': 122, 'completion_tokens_details': {'accepted_prediction_tokens': 0, 'audio_tokens': 0, 'reasoning_tokens': 0, 'rejected_prediction_tokens': 0}, 'prompt_tokens_details': {'audio_tokens': 0, 'cached_tokens': 0}}, 'model_name': 'gpt-3.5-turbo-0125', 'system_fingerprint': None, 'id': 'chatcmpl-BpFXS2mmdeKm7yYgYyCp735aiLSRF', 'service_tier': 'default', 'finish_reason': 'tool_calls', 'logprobs': None}, id='run--a37afb8f-3daa-4ef9-a27b-95e39acae612-0', tool_calls=[{'name': 'tavily_search_results_json', 'args': {'query': '2024 Eurocup final match date and location'}, 'id': 'call_jZissqrn9zDubwboeq2iw7Qr', 'type': 'tool_call'}], usage_metadata={'input_tokens': 96, 'output_tokens': 26, 'total_tokens': 122, 'input_token_details': {'audio': 0, 'cache_read': 0}, 'output_token_details': {'audio': 0, 'reasoning': 0}})]}}\n",
      "----\n",
      "{'tools': {'messages': [ToolMessage(content='[{\"title\": \"UEFA Euro 2024 final - Wikipedia\", \"url\": \"https://en.wikipedia.org/wiki/UEFA_Euro_2024_final\", \"content\": \"The UEFA Euro 2024 final was a football match that determined the winners of UEFA Euro 2024. The match was the seventeenth final of the European Championship, a quadrennial tournament contested by the men\\'s national teams of the member associations of UEFA to decide the champions of Europe. The match was held at the Olympiastadion \\\\\"Olympiastadion (Berlin)\\\\\") in Berlin, Germany, on 14 July 2024, and was contested by Spain, in their fifth final, and England, in their second final, but their first [...] |  |  |\\\\n| --- | --- |\\\\n| The Olympiastadion \\\\\"Olympiastadion (Berlin)\\\\\") in Berlin hosted the final. | |\\\\n| Event | UEFA Euro 2024 |\\\\n| | Spain | England | | --- | --- | |  |  | | 2 | 1 | | |\\\\n| Date | 14 July 2024 (2024-07-14) |\\\\n| Venue | Olympiastadion \\\\\"Olympiastadion (Berlin)\\\\\"), Berlin |\\\\n| Man of the Match | Nico Williams (Spain) |\\\\n| Referee \\\\\"Referee (association football)\\\\\") | François Letexier (France) |\\\\n| Attendance | 65,600 |\\\\n| Weather | Partly cloudy night 22 °C (72 °F) 53% humidity | [...] The final was held at the Olympiastadion \\\\\"Olympiastadion (Berlin)\\\\\") in Berlin, Germany, located in Westend \\\\\"Westend (Berlin)\\\\\") of the borough of Charlottenburg-Wilmersdorf. On 27 September 2018, UEFA announced the 2024 tournament would be held in Germany after they had defeated Turkey in the host selection vote in Nyon, Switzerland. The Olympiastadion was chosen as the final venue of the tournament by the UEFA Executive Committee in May 2022, where it was announced it would also host three\", \"score\": 0.8834878}, {\"title\": \"Eurocup 2024 Schedule: All Maches | Socios.com\", \"url\": \"https://www.socios.com/eurocup-2024-full-schedule/\", \"content\": \"The round of 16 kicks off on June 29, the quarter-finals begin on July 5, the first semi-final is on July 9, and the final takes place on July 14.\", \"score\": 0.81875163}]', name='tavily_search_results_json', id='a515a5b9-302e-45c1-9fe5-b1c0d3cbc059', tool_call_id='call_jZissqrn9zDubwboeq2iw7Qr', artifact={'query': '2024 Eurocup final match date and location', 'follow_up_questions': None, 'answer': None, 'images': [], 'results': [{'url': 'https://en.wikipedia.org/wiki/UEFA_Euro_2024_final', 'title': 'UEFA Euro 2024 final - Wikipedia', 'content': 'The UEFA Euro 2024 final was a football match that determined the winners of UEFA Euro 2024. The match was the seventeenth final of the European Championship, a quadrennial tournament contested by the men\\'s national teams of the member associations of UEFA to decide the champions of Europe. The match was held at the Olympiastadion \"Olympiastadion (Berlin)\") in Berlin, Germany, on 14 July 2024, and was contested by Spain, in their fifth final, and England, in their second final, but their first [...] |  |  |\\n| --- | --- |\\n| The Olympiastadion \"Olympiastadion (Berlin)\") in Berlin hosted the final. | |\\n| Event | UEFA Euro 2024 |\\n| | Spain | England | | --- | --- | |  |  | | 2 | 1 | | |\\n| Date | 14 July 2024 (2024-07-14) |\\n| Venue | Olympiastadion \"Olympiastadion (Berlin)\"), Berlin |\\n| Man of the Match | Nico Williams (Spain) |\\n| Referee \"Referee (association football)\") | François Letexier (France) |\\n| Attendance | 65,600 |\\n| Weather | Partly cloudy night 22 °C (72 °F) 53% humidity | [...] The final was held at the Olympiastadion \"Olympiastadion (Berlin)\") in Berlin, Germany, located in Westend \"Westend (Berlin)\") of the borough of Charlottenburg-Wilmersdorf. On 27 September 2018, UEFA announced the 2024 tournament would be held in Germany after they had defeated Turkey in the host selection vote in Nyon, Switzerland. The Olympiastadion was chosen as the final venue of the tournament by the UEFA Executive Committee in May 2022, where it was announced it would also host three', 'score': 0.8834878, 'raw_content': None}, {'url': 'https://www.socios.com/eurocup-2024-full-schedule/', 'title': 'Eurocup 2024 Schedule: All Maches | Socios.com', 'content': 'The round of 16 kicks off on June 29, the quarter-finals begin on July 5, the first semi-final is on July 9, and the final takes place on July 14.', 'score': 0.81875163, 'raw_content': None}], 'response_time': 1.04})]}}\n",
      "----\n",
      "{'agent': {'messages': [AIMessage(content='The 2024 Eurocup final match will be held at the Olympiastadion in Berlin, Germany on 14th July 2024. The match will decide the winners of UEFA Euro 2024, and Spain will be contesting against England in the final.', additional_kwargs={'refusal': None}, response_metadata={'token_usage': {'completion_tokens': 57, 'prompt_tokens': 700, 'total_tokens': 757, 'completion_tokens_details': {'accepted_prediction_tokens': 0, 'audio_tokens': 0, 'reasoning_tokens': 0, 'rejected_prediction_tokens': 0}, 'prompt_tokens_details': {'audio_tokens': 0, 'cached_tokens': 0}}, 'model_name': 'gpt-3.5-turbo-0125', 'system_fingerprint': None, 'id': 'chatcmpl-BpFXUa9NctzhMuYeNOBgv5A3gEmhz', 'service_tier': 'default', 'finish_reason': 'stop', 'logprobs': None}, id='run--12a208c9-da93-4933-b25b-9eec53bc2f39-0', usage_metadata={'input_tokens': 700, 'output_tokens': 57, 'total_tokens': 757, 'input_token_details': {'audio': 0, 'cache_read': 0}, 'output_token_details': {'audio': 0, 'reasoning': 0}})]}}\n",
      "----\n"
     ]
    }
   ],
   "source": [
    "for chunk in agent_executor.stream(\n",
    "    {\"messages\": [HumanMessage(content=\"When and where will it be the 2024 Eurocup final match?\")]}\n",
    "):\n",
    "    print(chunk)\n",
    "    print(\"----\")"
   ]
  },
  {
   "cell_type": "markdown",
   "id": "bd52ab92-41fa-4116-9e0b-9c13eb1668ad",
   "metadata": {},
   "source": [
    "## Adding memory\n",
    "* Adding memory in LangGraph is very similar to what we did with LangChain."
   ]
  },
  {
   "cell_type": "code",
   "execution_count": 28,
   "id": "79cc4f48-8e1e-45a4-9925-4f70cd841455",
   "metadata": {},
   "outputs": [],
   "source": [
    "from langgraph.checkpoint.memory import MemorySaver\n",
    "\n",
    "memory = MemorySaver()"
   ]
  },
  {
   "cell_type": "markdown",
   "id": "54d8441e-2573-4f5d-9671-66b41b707fd6",
   "metadata": {},
   "source": [
    "* Let's create our new agent with memory and set one thread_id so the agent can create a memory for each session as we did with our previous conversational RAG app:"
   ]
  },
  {
   "cell_type": "code",
   "execution_count": 29,
   "id": "db243a40-84de-4e89-a30d-9792717ac619",
   "metadata": {},
   "outputs": [],
   "source": [
    "agent_executor = create_react_agent(llm, tools, checkpointer=memory)\n",
    "\n",
    "config = {\"configurable\": {\"thread_id\": \"001\"}}"
   ]
  },
  {
   "cell_type": "markdown",
   "id": "665c6f6a-9dd3-4336-b2aa-a510da135893",
   "metadata": {},
   "source": [
    "* Let's now try this new agent with .stream():"
   ]
  },
  {
   "cell_type": "code",
   "execution_count": 30,
   "id": "ad9e8c0f-6352-478f-b376-69167a24471d",
   "metadata": {},
   "outputs": [
    {
     "name": "stdout",
     "output_type": "stream",
     "text": [
      "{'agent': {'messages': [AIMessage(content='', additional_kwargs={'tool_calls': [{'id': 'call_1EXbt7J3iklDk3wYq7iIzV98', 'function': {'arguments': '{\"query\":\"2024 soccer Eurocup winner\"}', 'name': 'tavily_search_results_json'}, 'type': 'function'}], 'refusal': None}, response_metadata={'token_usage': {'completion_tokens': 23, 'prompt_tokens': 91, 'total_tokens': 114, 'completion_tokens_details': {'accepted_prediction_tokens': 0, 'audio_tokens': 0, 'reasoning_tokens': 0, 'rejected_prediction_tokens': 0}, 'prompt_tokens_details': {'audio_tokens': 0, 'cached_tokens': 0}}, 'model_name': 'gpt-3.5-turbo-0125', 'system_fingerprint': None, 'id': 'chatcmpl-BpFXWIFO6cRN9142a4wVKIlkvKQhS', 'service_tier': 'default', 'finish_reason': 'tool_calls', 'logprobs': None}, id='run--093fae5f-82fc-4c60-b560-bdca7ea2012a-0', tool_calls=[{'name': 'tavily_search_results_json', 'args': {'query': '2024 soccer Eurocup winner'}, 'id': 'call_1EXbt7J3iklDk3wYq7iIzV98', 'type': 'tool_call'}], usage_metadata={'input_tokens': 91, 'output_tokens': 23, 'total_tokens': 114, 'input_token_details': {'audio': 0, 'cache_read': 0}, 'output_token_details': {'audio': 0, 'reasoning': 0}})]}}\n",
      "----\n",
      "{'tools': {'messages': [ToolMessage(content='[{\"title\": \"Euro Cup 2024 final highlights: Spain wins record 4th title with a 2-1 ...\", \"url\": \"https://www.youtube.com/watch?v=jPG0J8PrrrQ\", \"content\": \"Euro Cup 2024 final highlights: Spain wins record 4th title with a 2-1 victory against England · Comments.\", \"score\": 0.8252664}, {\"title\": \"Spain wins Euro 2024, defeating England 2-1 in a dramatic final to ...\", \"url\": \"https://www.cnn.com/2024/07/14/sport/spain-england-euro-2024-final-spt-intl\", \"content\": \"### CNN values your feedback\\\\n\\\\n# Spain wins Euro 2024, defeating England 2-1 in a dramatic final to claim record fourth European Championship\\\\n\\\\nFollow:\\\\n\\\\nAlvaro Morata lifts the Henri Delaunay trophy after Spain defeats England in the Euro 2024 final.\\\\n\\\\nSpain won a record-breaking fourth European Championship, defeating England 2-1 following a drama-filled second half in the Euro 2024 final on Sunday in Berlin. [...] Soccer Football - Euro 2024 - Quarter Final - Netherlands v Turkey - Berlin Olympiastadion, Berlin, Germany - July 6, 2024\\\\rNetherlands fans celebrate after the match REUTERS/Annegret Hilse\\\\n\\\\nRelated article\\\\n‘Orange madness:’ Meet the man behind the viral dance craze sweeping Euro 2024 [...] Spain players celebrate after defeating England and winning Euro 2024.\\\\n\\\\nThe game began in tight fashion befitting a major final, with both teams feeling one another out as the players overcame any pre-match nerves. As predicted by many, Spain enjoyed the majority of the possession in the opening 30 minutes, however, it did so without producing any real goalscoring opportunities.\", \"score\": 0.81133276}]', name='tavily_search_results_json', id='b9583960-c521-46d9-89e9-869b3dda0885', tool_call_id='call_1EXbt7J3iklDk3wYq7iIzV98', artifact={'query': '2024 soccer Eurocup winner', 'follow_up_questions': None, 'answer': None, 'images': [], 'results': [{'url': 'https://www.youtube.com/watch?v=jPG0J8PrrrQ', 'title': 'Euro Cup 2024 final highlights: Spain wins record 4th title with a 2-1 ...', 'content': 'Euro Cup 2024 final highlights: Spain wins record 4th title with a 2-1 victory against England · Comments.', 'score': 0.8252664, 'raw_content': None}, {'url': 'https://www.cnn.com/2024/07/14/sport/spain-england-euro-2024-final-spt-intl', 'title': 'Spain wins Euro 2024, defeating England 2-1 in a dramatic final to ...', 'content': '### CNN values your feedback\\n\\n# Spain wins Euro 2024, defeating England 2-1 in a dramatic final to claim record fourth European Championship\\n\\nFollow:\\n\\nAlvaro Morata lifts the Henri Delaunay trophy after Spain defeats England in the Euro 2024 final.\\n\\nSpain won a record-breaking fourth European Championship, defeating England 2-1 following a drama-filled second half in the Euro 2024 final on Sunday in Berlin. [...] Soccer Football - Euro 2024 - Quarter Final - Netherlands v Turkey - Berlin Olympiastadion, Berlin, Germany - July 6, 2024\\rNetherlands fans celebrate after the match REUTERS/Annegret Hilse\\n\\nRelated article\\n‘Orange madness:’ Meet the man behind the viral dance craze sweeping Euro 2024 [...] Spain players celebrate after defeating England and winning Euro 2024.\\n\\nThe game began in tight fashion befitting a major final, with both teams feeling one another out as the players overcame any pre-match nerves. As predicted by many, Spain enjoyed the majority of the possession in the opening 30 minutes, however, it did so without producing any real goalscoring opportunities.', 'score': 0.81133276, 'raw_content': None}], 'response_time': 1.15})]}}\n",
      "----\n",
      "{'agent': {'messages': [AIMessage(content='Spain won the 2024 soccer Eurocup by defeating England with a score of 2-1 in a dramatic final. Spain claimed a record fourth European Championship title. You can find more details about the final [here](https://www.cnn.com/2024/07/14/sport/spain-england-euro-2024-final-spt-intl).', additional_kwargs={'refusal': None}, response_metadata={'token_usage': {'completion_tokens': 76, 'prompt_tokens': 537, 'total_tokens': 613, 'completion_tokens_details': {'accepted_prediction_tokens': 0, 'audio_tokens': 0, 'reasoning_tokens': 0, 'rejected_prediction_tokens': 0}, 'prompt_tokens_details': {'audio_tokens': 0, 'cached_tokens': 0}}, 'model_name': 'gpt-3.5-turbo-0125', 'system_fingerprint': None, 'id': 'chatcmpl-BpFXZlbPrYFQOaAxQvDWr4e0y3uBX', 'service_tier': 'default', 'finish_reason': 'stop', 'logprobs': None}, id='run--43f27379-8ba9-4b59-b738-ed0a5bf54bf2-0', usage_metadata={'input_tokens': 537, 'output_tokens': 76, 'total_tokens': 613, 'input_token_details': {'audio': 0, 'cache_read': 0}, 'output_token_details': {'audio': 0, 'reasoning': 0}})]}}\n",
      "----\n"
     ]
    }
   ],
   "source": [
    "for chunk in agent_executor.stream(\n",
    "    {\"messages\": [HumanMessage(content=\"Who won the 2024 soccer Eurocup?\")]}, config\n",
    "):\n",
    "    print(chunk)\n",
    "    print(\"----\")"
   ]
  },
  {
   "cell_type": "code",
   "execution_count": 31,
   "id": "b163e8bd-f80b-4c2b-8c77-8ba84c12e9a2",
   "metadata": {},
   "outputs": [
    {
     "name": "stdout",
     "output_type": "stream",
     "text": [
      "{'agent': {'messages': [AIMessage(content=\"The top stars of the Spain national team that won the 2024 soccer Eurocup included players like Alvaro Morata, who played a key role in the final, helping Spain to victory. Other notable players in the team may have included rising talents and experienced players who contributed to Spain's success in the tournament.\", additional_kwargs={'refusal': None}, response_metadata={'token_usage': {'completion_tokens': 65, 'prompt_tokens': 630, 'total_tokens': 695, 'completion_tokens_details': {'accepted_prediction_tokens': 0, 'audio_tokens': 0, 'reasoning_tokens': 0, 'rejected_prediction_tokens': 0}, 'prompt_tokens_details': {'audio_tokens': 0, 'cached_tokens': 0}}, 'model_name': 'gpt-3.5-turbo-0125', 'system_fingerprint': None, 'id': 'chatcmpl-BpFXaMGNoWvXLDGsOPH3M8YS8A4Ns', 'service_tier': 'default', 'finish_reason': 'stop', 'logprobs': None}, id='run--0830a485-d8f6-4ba2-a960-6808a7a4ef6d-0', usage_metadata={'input_tokens': 630, 'output_tokens': 65, 'total_tokens': 695, 'input_token_details': {'audio': 0, 'cache_read': 0}, 'output_token_details': {'audio': 0, 'reasoning': 0}})]}}\n",
      "----\n"
     ]
    }
   ],
   "source": [
    "for chunk in agent_executor.stream(\n",
    "    {\"messages\": [HumanMessage(content=\"Who were the top stars of that winner team?\")]}, config\n",
    "):\n",
    "    print(chunk)\n",
    "    print(\"----\")"
   ]
  },
  {
   "cell_type": "markdown",
   "id": "fa47f438-7996-4004-8c28-004f6b9292c1",
   "metadata": {},
   "source": [
    "* Let's change the thread_id and see what happens:"
   ]
  },
  {
   "cell_type": "code",
   "execution_count": 32,
   "id": "464c7bce-dd1b-43e2-b6fa-a8e5edb88fe0",
   "metadata": {},
   "outputs": [
    {
     "name": "stdout",
     "output_type": "stream",
     "text": [
      "{'agent': {'messages': [AIMessage(content='You were asking about the Barcelona soccer team. Would you like more information about them?', additional_kwargs={'refusal': None}, response_metadata={'token_usage': {'completion_tokens': 18, 'prompt_tokens': 89, 'total_tokens': 107, 'completion_tokens_details': {'accepted_prediction_tokens': 0, 'audio_tokens': 0, 'reasoning_tokens': 0, 'rejected_prediction_tokens': 0}, 'prompt_tokens_details': {'audio_tokens': 0, 'cached_tokens': 0}}, 'model_name': 'gpt-3.5-turbo-0125', 'system_fingerprint': None, 'id': 'chatcmpl-BpFXcfxN55tHwkUWn4uXiJOx3RauJ', 'service_tier': 'default', 'finish_reason': 'stop', 'logprobs': None}, id='run--62f9d9e1-66b6-471b-b231-46d0ca031ea4-0', usage_metadata={'input_tokens': 89, 'output_tokens': 18, 'total_tokens': 107, 'input_token_details': {'audio': 0, 'cache_read': 0}, 'output_token_details': {'audio': 0, 'reasoning': 0}})]}}\n",
      "----\n"
     ]
    }
   ],
   "source": [
    "config = {\"configurable\": {\"thread_id\": \"002\"}}\n",
    "for chunk in agent_executor.stream(\n",
    "    {\"messages\": [HumanMessage(content=\"About what soccer team we were talking?\")]}, config\n",
    "):\n",
    "    print(chunk)\n",
    "    print(\"----\")"
   ]
  },
  {
   "cell_type": "markdown",
   "id": "afd3a024-a9e6-486b-b03d-accde68e49cd",
   "metadata": {},
   "source": [
    "* As you can see, when we changed the threat_id we started a different conversation memory, so our app does not remember the previous interaction and instead of giving us the right answer it decided to hallucinate."
   ]
  }
 ],
 "metadata": {
  "kernelspec": {
   "display_name": "Python 3",
   "language": "python",
   "name": "python3"
  },
  "language_info": {
   "codemirror_mode": {
    "name": "ipython",
    "version": 3
   },
   "file_extension": ".py",
   "mimetype": "text/x-python",
   "name": "python",
   "nbconvert_exporter": "python",
   "pygments_lexer": "ipython3",
   "version": "3.11.9"
  }
 },
 "nbformat": 4,
 "nbformat_minor": 5
}
