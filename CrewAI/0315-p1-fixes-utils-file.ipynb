{
 "cells": [
  {
   "cell_type": "markdown",
   "id": "21179220-b7e2-45d5-b35d-6d2d185d47be",
   "metadata": {},
   "source": [
    "# Fixes in the `utils/emails.py` file"
   ]
  },
  {
   "cell_type": "markdown",
   "id": "979ac2b1-6ecf-41a1-9a0b-4b7a4fa866cf",
   "metadata": {},
   "source": [
    "We made a small but important change in how we **search for emails** using the Gmail API. The rest of the file remains unchanged.\n",
    "\n",
    "#### Before\n",
    "\n",
    "```python\n",
    "emails = search(\"after:newer_than:1d\")\n",
    "```\n",
    "\n",
    "* This search query only fetches emails **received in the last day**.\n",
    "* It's useful for daily summaries, but not ideal if you want to process only **unread** emails (which may be older than 1 day).\n",
    "\n",
    "\n",
    "#### After\n",
    "\n",
    "```python\n",
    "emails = search(\"is:unread\")\n",
    "```\n",
    "\n",
    "* This updated query fetches only **unread emails**, regardless of when they arrived.\n",
    "* This is a better fit for a **real-time auto-responder**, ensuring:\n",
    "\n",
    "  * We don’t miss any email that was received earlier but is still unread.\n",
    "  * We don't reprocess already-read emails.\n",
    "\n",
    "\n",
    "#### Why this matters for CrewAI agents:\n",
    "CrewAI agents rely on accurate, filtered inputs. By switching to `\"is:unread\"`:\n",
    "\n",
    "* We reduce noise and avoid reprocessing.\n",
    "* We ensure agents only work on tasks that truly require attention."
   ]
  },
  {
   "cell_type": "code",
   "execution_count": null,
   "id": "a3bb9b85-bba4-4d44-ad67-90b8e713ccaf",
   "metadata": {},
   "outputs": [],
   "source": []
  }
 ],
 "metadata": {
  "kernelspec": {
   "display_name": "Python 3 (ipykernel)",
   "language": "python",
   "name": "python3"
  },
  "language_info": {
   "codemirror_mode": {
    "name": "ipython",
    "version": 3
   },
   "file_extension": ".py",
   "mimetype": "text/x-python",
   "name": "python",
   "nbconvert_exporter": "python",
   "pygments_lexer": "ipython3",
   "version": "3.12.2"
  }
 },
 "nbformat": 4,
 "nbformat_minor": 5
}
