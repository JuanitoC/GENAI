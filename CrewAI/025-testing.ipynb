{
 "cells": [
  {
   "cell_type": "markdown",
   "id": "d9164524-66b3-46aa-94cc-8eef9e22c9da",
   "metadata": {},
   "source": [
    "# Testing\n",
    "* With crewAI, you can easily test your crew and evaluate its performance using the built-in testing capabilities."
   ]
  },
  {
   "cell_type": "markdown",
   "id": "ca1b5b57-016e-43e6-ad40-ba0343580bdf",
   "metadata": {},
   "source": [
    "## Using the Testing Feature\n",
    "* CrewAI has added the CLI command `crewai test` to make it easy to test your crew. This command will run your crew for a specified number of iterations and provide detailed performance metrics. The parameters are n_iterations and model, which are optional and default to 2 and gpt-4o-mini respectively. For now, the only provider available is OpenAI.\n",
    "* So the default way to test your app is writing this in your terminal:"
   ]
  },
  {
   "cell_type": "code",
   "execution_count": null,
   "id": "18956bd4-1f17-44d1-836a-1197201e8b1c",
   "metadata": {},
   "outputs": [],
   "source": [
    "crewai test"
   ]
  },
  {
   "cell_type": "markdown",
   "id": "c5aa0811-c715-4a5a-b01c-2836172e5a7d",
   "metadata": {},
   "source": [
    "* If you want to run more iterations or use a different model, you can specify the parameters like this:"
   ]
  },
  {
   "cell_type": "code",
   "execution_count": null,
   "id": "11de2975-57a3-4169-92d5-12a5f63a5a4c",
   "metadata": {},
   "outputs": [],
   "source": [
    "crewai test --n_iterations 5 --model gpt-4o"
   ]
  },
  {
   "cell_type": "markdown",
   "id": "c1001bb6-dc10-4a8c-b0ab-7da5bea77603",
   "metadata": {},
   "source": [
    "* When you run the crewai test command, the crew will be executed for the specified number of iterations, and the performance metrics will be displayed at the end of the run.\n",
    "* A table of scores at the end will show the performance of the crew."
   ]
  },
  {
   "cell_type": "code",
   "execution_count": null,
   "id": "e9a883db-9b13-47dd-860c-5583037bfa5f",
   "metadata": {},
   "outputs": [],
   "source": []
  }
 ],
 "metadata": {
  "kernelspec": {
   "display_name": "Python 3 (ipykernel)",
   "language": "python",
   "name": "python3"
  },
  "language_info": {
   "codemirror_mode": {
    "name": "ipython",
    "version": 3
   },
   "file_extension": ".py",
   "mimetype": "text/x-python",
   "name": "python",
   "nbconvert_exporter": "python",
   "pygments_lexer": "ipython3",
   "version": "3.12.2"
  }
 },
 "nbformat": 4,
 "nbformat_minor": 5
}
