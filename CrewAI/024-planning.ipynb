{
 "cells": [
  {
   "cell_type": "markdown",
   "id": "5fb5c04e-ea2c-4adb-8747-5177c211de9e",
   "metadata": {},
   "source": [
    "# Planning\n",
    "* The planning feature in CrewAI allows you to add planning capability to your crew.\n",
    "* When enabled, before each Crew iteration, all Crew information is sent to an AgentPlanner that will plan the tasks step by step, and each plan will be added to each task description."
   ]
  },
  {
   "cell_type": "markdown",
   "id": "dee5d189-0307-48e6-9231-68dc323f6c43",
   "metadata": {},
   "source": [
    "## Using the Planning Feature\n",
    "* Optionally, you can define the LLM that will be used to plan the tasks."
   ]
  },
  {
   "cell_type": "code",
   "execution_count": null,
   "id": "989fde12-6f5f-46ef-8132-0b8fb05c3edc",
   "metadata": {},
   "outputs": [],
   "source": [
    "from crewai import Crew, Agent, Task, Process\n",
    "\n",
    "# Assemble your crew with planning capabilities and custom LLM\n",
    "my_crew = Crew(\n",
    "    agents=self.agents,\n",
    "    tasks=self.tasks,\n",
    "    process=Process.sequential,\n",
    "    planning=True,\n",
    "    planning_llm=\"gpt-4o\"\n",
    ")\n",
    "\n",
    "# Run the crew\n",
    "my_crew.kickoff()"
   ]
  },
  {
   "cell_type": "code",
   "execution_count": null,
   "id": "6c6c2482-c347-4002-9618-d36e6f6aec3a",
   "metadata": {},
   "outputs": [],
   "source": []
  }
 ],
 "metadata": {
  "kernelspec": {
   "display_name": "Python 3 (ipykernel)",
   "language": "python",
   "name": "python3"
  },
  "language_info": {
   "codemirror_mode": {
    "name": "ipython",
    "version": 3
   },
   "file_extension": ".py",
   "mimetype": "text/x-python",
   "name": "python",
   "nbconvert_exporter": "python",
   "pygments_lexer": "ipython3",
   "version": "3.12.2"
  }
 },
 "nbformat": 4,
 "nbformat_minor": 5
}
