{
 "cells": [
  {
   "cell_type": "markdown",
   "id": "6240e29a-5f62-4dd5-ab96-8f8a5bb5a7b6",
   "metadata": {},
   "source": [
    "# Processes\n",
    "\n",
    "#### Sequential: Executes tasks sequentially.\n",
    "* Task execution follows the predefined order in the task list, with the output of one task serving as context for the next.\n",
    "* To customize task context, utilize the context parameter in the Task class to specify outputs that should be used as context for subsequent tasks.\n",
    "\n",
    "#### Hierarchical: Organizes tasks in a managerial hierarchy.\n",
    "* This manager agent oversees task execution, including planning, delegation, and validation. He allocates tasks to agents based on their capabilities, reviews outputs, and assesses task completion.\n",
    "\n",
    "#### In preparation (not yet available): Consensual Process. "
   ]
  },
  {
   "cell_type": "markdown",
   "id": "d74a44ab-339e-4f02-9aa3-846c8f0ccd6f",
   "metadata": {},
   "source": [
    "## Setting the type of process in the configuration of a Crew"
   ]
  },
  {
   "cell_type": "code",
   "execution_count": null,
   "id": "45343f7a-31c7-44a0-a087-253133e3fc13",
   "metadata": {},
   "outputs": [],
   "source": [
    "from crewai import Crew, Process\n",
    "\n",
    "# Example: Creating a crew with a sequential process\n",
    "crew = Crew(\n",
    "    agents=my_agents,\n",
    "    tasks=my_tasks,\n",
    "    process=Process.sequential\n",
    ")\n",
    "\n",
    "# Example: Creating a crew with a hierarchical process\n",
    "# Ensure to provide a manager_llm or manager_agent\n",
    "crew = Crew(\n",
    "    agents=my_agents,\n",
    "    tasks=my_tasks,\n",
    "    process=Process.hierarchical,\n",
    "    manager_llm=\"gpt-4o\"\n",
    "    # or\n",
    "    # manager_agent=my_manager_agent\n",
    ")"
   ]
  },
  {
   "cell_type": "code",
   "execution_count": null,
   "id": "40acc299-2507-428b-a13b-b9f99087ad8e",
   "metadata": {},
   "outputs": [],
   "source": []
  }
 ],
 "metadata": {
  "kernelspec": {
   "display_name": "Python 3 (ipykernel)",
   "language": "python",
   "name": "python3"
  },
  "language_info": {
   "codemirror_mode": {
    "name": "ipython",
    "version": 3
   },
   "file_extension": ".py",
   "mimetype": "text/x-python",
   "name": "python",
   "nbconvert_exporter": "python",
   "pygments_lexer": "ipython3",
   "version": "3.12.2"
  }
 },
 "nbformat": 4,
 "nbformat_minor": 5
}
