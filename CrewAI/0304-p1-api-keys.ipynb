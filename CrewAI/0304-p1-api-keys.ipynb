{
 "cells": [
  {
   "cell_type": "markdown",
   "id": "83bfff69-b889-4baf-baf0-f67827de1536",
   "metadata": {},
   "source": [
    "# Gmail Auto Responder Project: Clear Explanation to get the API Keys."
   ]
  },
  {
   "cell_type": "markdown",
   "id": "db0dd1d7-59fe-424a-8e21-b2186b49d115",
   "metadata": {},
   "source": [
    "## Get the necessary API Keys\n",
    "* OpenAI: if you need it, see a step-by-step guide below.\n",
    "* Serper: if you need it, see a step-by-step guide below.\n",
    "* Tavily: if you need it, see a step-by-step guide below."
   ]
  },
  {
   "cell_type": "markdown",
   "id": "5d53a8c5-7631-40d4-a81d-589e0730f66f",
   "metadata": {},
   "source": [
    "## How to Get the OpenAI API Key\n",
    "\n",
    "#### Step 1: Visit OpenAI's Platform\n",
    "\n",
    "Go to the OpenAI API platform:\n",
    "👉 [https://platform.openai.com](https://platform.openai.com)\n",
    "\n",
    "#### Step 2: Sign Up or Log In\n",
    "\n",
    "* If you **already have an OpenAI account**, click **“Log in”**.\n",
    "* If not, click **“Sign up”** and follow the instructions to create an account.\n",
    "\n",
    "#### Step 3: Verify Your Email and Phone\n",
    "\n",
    "* After signing up, verify your **email address** (check your inbox).\n",
    "* You may also need to verify your **phone number** for account security.\n",
    "\n",
    "#### Step 4: Navigate to API Keys\n",
    "\n",
    "Once logged in:\n",
    "\n",
    "* Click your **profile icon** (top-right corner).\n",
    "* Select **“API keys”** from the dropdown menu.\n",
    "  Or directly go to:\n",
    "  👉 [https://platform.openai.com/account/api-keys](https://platform.openai.com/account/api-keys)\n",
    "\n",
    "#### Step 5: Create a New API Key\n",
    "\n",
    "* Click the **“+ Create new secret key”** button.\n",
    "* Give your key a name (optional).\n",
    "* Click **Create secret key**.\n",
    "\n",
    "**Important**: Copy and save the key somewhere safe right away — **you won’t be able to see it again**!\n",
    "\n",
    "#### Step 6: Store the Key Securely\n",
    "\n",
    "* Store the key in a **password manager**, environment variable, or `.env` file (if using in code).\n",
    "* Never share your key publicly or commit it to version control (e.g., GitHub).\n",
    "\n",
    "#### Done!\n",
    "\n",
    "You can now use this key to make requests to the OpenAI API from your applications."
   ]
  },
  {
   "cell_type": "markdown",
   "id": "05a83db9-f9b3-4aef-908e-d7c3e46a499f",
   "metadata": {},
   "source": [
    "## Step-by-Step: How to Get a Serper API Key\n",
    "\n",
    "Here’s a step-by-step guide to obtaining your **Serper API key**, which allows you to access Google Search results programmatically via [Serper.dev](https://serper.dev/).\n",
    "\n",
    "#### 1. Sign Up for a Free Account\n",
    "\n",
    "* Visit [https://serper.dev](https://serper.dev).\n",
    "* Click **“Sign Up”** in the top-right corner.\n",
    "* Enter your email and create a password.\n",
    "* Verify your email address if prompted.([What is MindMac? | MindMac Docs][2])\n",
    "\n",
    "> You’ll receive **2,500 free queries** — no credit card required.([serper.dev][1])\n",
    "\n",
    "#### 2. Log In to Your Dashboard\n",
    "\n",
    "* After registering, go to [https://serper.dev/login](https://serper.dev/login).\n",
    "* Enter your credentials to access your dashboard.\n",
    "\n",
    "#### 3. Locate Your API Key\n",
    "\n",
    "* In the dashboard, click on **“API Key”** in the sidebar or go directly to [https://serper.dev/api-key](https://serper.dev/api-key).\n",
    "* Your API key will be displayed there.([What is MindMac? | MindMac Docs][2])\n",
    "\n",
    "> **Important**: Keep this key secure and do not share it publicly.\n",
    "\n",
    "#### 4. Store the API Key Securely\n",
    "\n",
    "#### Done!\n",
    "\n",
    "You’re now ready to use the Serper API to fetch real-time Google Search results for your applications."
   ]
  },
  {
   "cell_type": "markdown",
   "id": "e69e25a1-254d-473d-82d7-eefffcf83682",
   "metadata": {},
   "source": [
    "## Step-by-Step: How to Get a Tavily API Key\n",
    "\n",
    "Here’s a step-by-step guide to obtaining your **Tavily API key**, which enables you to integrate Tavily’s real-time search capabilities into your applications.\n",
    "\n",
    "#### 1. Sign Up or Log In to Tavily\n",
    "\n",
    "* Navigate to [https://tavily.com](https://tavily.com) and click **“Sign In”**.\n",
    "* Choose your preferred sign-in method (e.g., Google, GitHub, or email).\n",
    "* If you don’t have an account, follow the prompts to create one.\n",
    "\n",
    "#### 2. Access Your Dashboard\n",
    "\n",
    "* After logging in, you’ll be redirected to your dashboard at [https://app.tavily.com/home](https://app.tavily.com/home).\n",
    "\n",
    "#### 3. Locate Your API Key\n",
    "\n",
    "* Within the dashboard, scroll to the **“API Keys”** section.\n",
    "* Your API key will be displayed there. It typically starts with `tvly-`.\n",
    "* Copy the key and store it securely.\n",
    "\n",
    "> **Important**: Treat your API key like a password. Do not share it publicly or commit it to version control systems.\n",
    "\n",
    "#### Done!\n",
    "\n",
    "You’re now ready to use the Tavily in your applications."
   ]
  },
  {
   "cell_type": "markdown",
   "id": "bca05463-ffc9-4e88-998b-c94bd97d9e86",
   "metadata": {},
   "source": []
  }
 ],
 "metadata": {
  "kernelspec": {
   "display_name": "Python 3 (ipykernel)",
   "language": "python",
   "name": "python3"
  },
  "language_info": {
   "codemirror_mode": {
    "name": "ipython",
    "version": 3
   },
   "file_extension": ".py",
   "mimetype": "text/x-python",
   "name": "python",
   "nbconvert_exporter": "python",
   "pygments_lexer": "ipython3",
   "version": "3.12.2"
  }
 },
 "nbformat": 4,
 "nbformat_minor": 5
}
