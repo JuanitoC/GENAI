{
 "cells": [
  {
   "cell_type": "markdown",
   "id": "07ea5724-a6e3-4bcd-b1e0-d0c4e6ec043e",
   "metadata": {},
   "source": [
    "# Error-Free Installation Instructions for the new CrewAI projects added in the Bootcamp #2"
   ]
  },
  {
   "cell_type": "markdown",
   "id": "f1e129e9-a703-43e4-af7c-aaaf82eaf9be",
   "metadata": {},
   "source": [
    "## Remember\n",
    "* Instead of using poetry (widely used in our Bootcamp #1 and with the LangGraph projects of Bootcamp #2), for the new CrewAI projects of the Bootcamp #2 we are going to use uv.\n",
    "* If you are new to uv, learning this new approach will be very interesting for you, since the CrewAI team is now using uv instead of poetry.\n",
    "* Remember that in a previous section we explained what uv is and how to install it in your computer (see notebook called `005-installation`)."
   ]
  },
  {
   "cell_type": "markdown",
   "id": "61eae168-d17f-4618-a36f-298620ddb4c4",
   "metadata": {},
   "source": [
    "## Goal of the error-free installation\n",
    "* Ensuring that you will use the same versions we have used when creating the project:\n",
    "    * Python.\n",
    "    * CrewAI.\n",
    "    * Other packages.\n",
    "* This will allow you to focus on learning the features of the project and not be distracted solving potential version conflicts."
   ]
  },
  {
   "cell_type": "markdown",
   "id": "b45297fa-ce61-4ca0-b05c-2c3378f38599",
   "metadata": {},
   "source": [
    "## Is it OK to experiment with different versions and alternatives later?\n",
    "* Absolutely. Experimenting is one of the best ways to learn. But do it after you have mastered the project with the error-free installation."
   ]
  },
  {
   "cell_type": "markdown",
   "id": "54eff0b1-1f6c-4b77-a357-63cd6d315e0a",
   "metadata": {},
   "source": [
    "## What are the main differences of this error-free installation instructions and the ones we used in the Bootcamp #1?\n",
    "* We are going to use Python 3.12.2 instead of Python 3.11.4\n",
    "* We are going to use uv instead of poetry."
   ]
  },
  {
   "cell_type": "markdown",
   "id": "45266bcd-0aff-4ed1-9f3b-b474cc26690f",
   "metadata": {},
   "source": [
    "## What are the main differences of this error-free installation instructions and the ones we used in LangGraph projcts of the Bootcamp #2?\n",
    "* We are going to use uv instead of poetry.\n",
    "* We keep using Python 3.12.2"
   ]
  },
  {
   "cell_type": "markdown",
   "id": "27375f10-580d-4d21-b72e-a1e5191578bc",
   "metadata": {},
   "source": [
    "## Contents of the github repo\n",
    "* Jupyter Notebooks associated with the new CrewAI block included in the Bootcamp #2.\n",
    "* Folders with the new CrewAI projects included in the Bootcamp #2."
   ]
  },
  {
   "cell_type": "markdown",
   "id": "e5d6ba8b-a715-4471-9df8-965e8e59bddc",
   "metadata": {},
   "source": [
    "## Before starting, make sure you have these two things installed in your computer\n",
    "\n",
    "#### The 3.12.2 version of Python\n",
    "* It is probable that your computer has another Python version installed by default. You do not need to change this. You can continue using your default Python version in your computer because we will use Python 3.12.2 inside of virtual environments. Remember, a virtual environment encapsulates the code used with one project so the changes there do not affect your system.\n",
    "\n",
    "* **Check if you have Python 3.12.2 installed on your computer.**\n",
    "  Open your terminal (or Command Prompt) and type:\n",
    "\n",
    "  ```bash\n",
    "  python3.12 --version\n",
    "  ```\n",
    "\n",
    "  or\n",
    "\n",
    "  ```bash\n",
    "  py -3.12 --version\n",
    "  ```\n",
    "\n",
    "  If Python 3.12.2 is installed, you should see output like:\n",
    "\n",
    "  ```\n",
    "  Python 3.12.2\n",
    "  ```\n",
    "\n",
    "* **If you do not have it**, go to the official Python website and download Python 3.12.2:\n",
    "  [https://www.python.org/downloads/](https://www.python.org/downloads/)\n",
    "\n",
    "* **Install it following the instructions for your operating system.**\n",
    "\n",
    "  * On Windows: Run the installer and make sure to check **\"Add Python 3.12.2 to PATH\"** during installation.\n",
    "  * On macOS: Use the installer package provided on the download page.\n",
    "  * On Linux: You can build from source or use a package manager like `pyenv`.\n",
    "\n",
    "* Once installed, verify again with:\n",
    "\n",
    "  ```bash\n",
    "  python3.12 --version\n",
    "  ```\n",
    "\n",
    "* Now you're ready to use Python 3.12.2 in virtual environments.\n",
    "\n",
    "#### The uv package\n",
    "* If you need it, see how to install uv in the notebook called `005-installation.ipynb`"
   ]
  },
  {
   "cell_type": "markdown",
   "id": "30bcd8c7-8b7e-4367-acd8-48cf9189e4ee",
   "metadata": {},
   "source": [
    "## Steps to copy and prepare the repo in your computer\n",
    "* Create the repo folder in your computer.\n",
    "    * Using the UI.\n",
    "    * Or, in terminal: `mkdir your_repo_folder_name` \n",
    "* Copy the repo content in the new folder.\n",
    "    * Go to the github repo URL.\n",
    "    * Click on the `<> Code` button and then click on `Download ZIP` to download a ZIP file with the repo.\n",
    "    * Place the zip file in the repo folder.\n",
    "    * Unzip the zip file by double-clicking on it.\n",
    "    * When you unzip the zip file it will probably create a new folder inside your repo folder with all the unzipped files. For cleaning purposes, make sure the contents of the zip file are in the root repo folder, or if you prefer it, just make the zip folder your new repo folder.\n",
    "    * If you are an advanced student, you can clone the github repo instead. We do not recommend this for beginners.\n",
    "* Open the terminal.\n",
    "* Make sure you are in the repo folder.\n",
    "    * see where you are: `ls`\n",
    "    * if necessary, move towards the repo folder: `cd folder_that_has_your_repo_folder`\n",
    "    * go to the folder: `cd your_repo_folder_name` \n",
    "* Create a new virtual environment for the repo.\n",
    "    * If you need it, see next section on how to do this with uv. \n",
    "* Ensure you are using Python 3.12.2\n",
    "    * `python --version` \n",
    "* Install Jupyter Lab.\n",
    "    * `pip install jupyterlab` \n",
    "* If you leave, close the repo virtual environment.\n",
    "    * `deactivate` "
   ]
  },
  {
   "cell_type": "markdown",
   "id": "44e7c779-a0bc-4c2f-9c9a-089ec4000be7",
   "metadata": {},
   "source": [
    "## How to create and activate a virtual environment with uv\n",
    "* `uv venv`\n",
    "\n",
    "How to activate the virtual environment on MacOS/Linux:\n",
    "* `source .venv/bin/activate`\n",
    "\n",
    "How to activate the virtual environment on Windows:\n",
    "* `.venv\\Scripts\\activate`\n",
    "\n",
    "To close the virtual environment:\n",
    "* `deactivate`\n",
    "\n",
    "To re-open the virtual environment:\n",
    "* On MacOS/Linux: `source .venv/bin/activate`\n",
    "* On Windows: `.venv\\Scripts\\activate`"
   ]
  },
  {
   "cell_type": "markdown",
   "id": "4aba391c-773f-408e-8e91-83f99a5f0d39",
   "metadata": {},
   "source": [
    "## How to confirm you are using the recommended Python version in the virtual environment\n",
    "* `python --version`\n",
    "\n",
    "If the version is **not 3.12.2**, follow these steps:\n",
    "\n",
    "1. **Install Python 3.12.2**\n",
    "   You can use a version manager like [`pyenv`](https://github.com/pyenv/pyenv) to install and manage Python versions:\n",
    "\n",
    "   ```bash\n",
    "   pyenv install 3.12.2\n",
    "   pyenv local 3.12.2\n",
    "   ```\n",
    "\n",
    "   Alternatively, download Python 3.12.2 from the official [Python website](https://www.python.org/downloads) and install it manually.\n",
    "\n",
    "2. **Recreate the virtual environment using the correct Python version**\n",
    "   After installing Python 3.12.2, create a new virtual environment with it:\n",
    "\n",
    "   ```bash\n",
    "   uv venv --python=3.12.2\n",
    "   ```\n",
    "\n",
    "3. **Activate the new environment and verify the version**\n",
    "\n",
    "   ```bash\n",
    "   source .venv/bin/activate  # or .venv\\Scripts\\activate on Windows\n",
    "   python --version\n",
    "   ```\n",
    "\n",
    "   The output should be:\n",
    "\n",
    "   ```\n",
    "   Python 3.12.2\n",
    "   ```\n",
    "\n",
    "Now you're ready to continue with the project setup."
   ]
  },
  {
   "cell_type": "markdown",
   "id": "cee16c31-c585-4163-b55f-92fbc2c76b92",
   "metadata": {},
   "source": [
    "## Steps to open and manage the notebooks in the repo\n",
    "* Open the terminal.\n",
    "* Go to the repo folder in your computer.\n",
    "* Open the repo virtual environment.\n",
    "* Open jupyter lab from the terminal.\n",
    "    * `jupyter lab` \n",
    "* Open the notebook you want to use.\n",
    "    * You can see all the notebooks by clicking on the folder icon 📁 you will see in the left sidebar you see in your browser when jupyter lab opens.\n",
    "* In most cases you do not need to run the provided notebooks, but whenever necessary:\n",
    "    * If you need to run one cell in one notebook, go to that cell and enter `Shift + Enter` in you keyboard. Remember that in a notebook you will need to run cells sequentially (for example: if cell #1 is not run, cell #2 will give error).\n",
    "    * You can run all cells in a notebook by going to the `Run` option in the top navigation and the selecting `Run All Cells`.\n",
    "    * Sometimes notebooks get stuck. If that happens, just reload the page in your browser.\n",
    "    * To close jupyter lab, just click CTRL+C in the terminal"
   ]
  },
  {
   "cell_type": "markdown",
   "id": "1f5994ff-8ddc-44a0-91a6-a029e55e90fd",
   "metadata": {},
   "source": [
    "## Steps to open, install, visualize and run the projects in the repo\n",
    "* Open the terminal.\n",
    "* Go to the project folder inside of the repo folder in your computer.\n",
    "    * `cd your_repo_folder_name`\n",
    "    * `cd project_folder_name` \n",
    "* Create a new virtual environment for the project.\n",
    "    * If necessary, see the previous section to see how to do this with uv. \n",
    "* Ensure you are using Python 3.12.2\n",
    "    * `python --version` \n",
    "* Install the project with crewai.\n",
    "    * `crewai install`\n",
    "    * Note: do not use `pip install -r requirements.txt`\n",
    "* Open the project in Visual Studio Code to see the code.\n",
    "    * Open Visual Studio Code.\n",
    "    * Open the project folder. \n",
    "* Run the project.\n",
    "    * See the right command to use at the end of the notebook associated with the project execution."
   ]
  },
  {
   "cell_type": "code",
   "execution_count": null,
   "id": "835d7d17-a6fd-40d7-bf66-4952c408e74a",
   "metadata": {},
   "outputs": [],
   "source": []
  }
 ],
 "metadata": {
  "kernelspec": {
   "display_name": "Python 3 (ipykernel)",
   "language": "python",
   "name": "python3"
  },
  "language_info": {
   "codemirror_mode": {
    "name": "ipython",
    "version": 3
   },
   "file_extension": ".py",
   "mimetype": "text/x-python",
   "name": "python",
   "nbconvert_exporter": "python",
   "pygments_lexer": "ipython3",
   "version": "3.12.2"
  }
 },
 "nbformat": 4,
 "nbformat_minor": 5
}
