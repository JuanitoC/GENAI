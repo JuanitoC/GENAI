{
 "cells": [
  {
   "cell_type": "markdown",
   "id": "b03fe764-819b-43ac-beec-973ce25ffe7f",
   "metadata": {},
   "source": [
    "# CrewAI's Flows in Detail\n",
    "* Flows allow developers to combine and coordinate coding tasks and Crews efficiently.\n",
    "* Flows allow you to create structured, event-driven workflows.\n",
    "* They provide a seamless way to:\n",
    "    * connect multiple tasks and crews,\n",
    "    * manage state,\n",
    "    * and control the flow of execution."
   ]
  },
  {
   "cell_type": "markdown",
   "id": "4da52bd2-fef2-41ce-9a5c-1e527c0b0905",
   "metadata": {},
   "source": [
    "## A Basic Flow\n",
    "* **The @start() decorator** is used to mark a method as the starting point of a Flow.\n",
    "    * You can have multiple start methods in a Flow, and they will all be executed in parallel when the Flow is started.\n",
    "* **The @listen() decorator** is used to mark a method as a listener for the output of another task in the Flow.\n",
    "    * The method can access the output of the task it is listening to as an argument."
   ]
  },
  {
   "cell_type": "markdown",
   "id": "be46a8fc-6a96-46e5-ba25-40041791d0db",
   "metadata": {},
   "source": [
    "## Retrieving the Final Output\n",
    "* When you run a Flow, the final output is determined by **the last method that completes**. The kickoff() method returns the output of this final method."
   ]
  },
  {
   "cell_type": "markdown",
   "id": "b623b58b-3292-48b0-bec2-a424fa27f43e",
   "metadata": {},
   "source": [
    "## Accessing and Updating State\n",
    "* The state can be updated in the different steps of a flow.\n",
    "* After the Flow has run, you can access the state to retrieve any information that was added or updated during the execution.\n",
    "    * `print(flow_name.state)`"
   ]
  },
  {
   "cell_type": "markdown",
   "id": "2859b104-54f0-494f-9b21-38fb099143d8",
   "metadata": {},
   "source": [
    "## Unstructured vs. Structured State"
   ]
  },
  {
   "cell_type": "markdown",
   "id": "63a64560-d236-4150-b541-25924e640fe3",
   "metadata": {},
   "source": [
    "## Persisting State\n",
    "* The **@persist decorator** enables automatic state persistence in CrewAI Flows, allowing you to maintain flow state across restarts or different workflow executions.\n",
    "    * `@persist  # Using SQLiteFlowPersistence by default`\n",
    "    * SQLiteFlowPersistence is the default storage backend.\n",
    "    * States are automatically saved to a local SQLite database.\n",
    "* This decorator can be applied at either the flow class level or method level, providing flexibility in how you manage state persistence."
   ]
  },
  {
   "cell_type": "markdown",
   "id": "452c1192-247a-4dd3-af61-1af2ed175e94",
   "metadata": {},
   "source": [
    "## Flow control\n",
    "* Conditional logic: `or_`\n",
    "    * `@listen(or_(start_method, second_method))`\n",
    "    * The method will be triggered by the output of either the start_method or the second_method.\n",
    "* Conditional logic: `and_`\n",
    "    * `@listen(and_(start_method, second_method))`\n",
    "    * The method will be triggered only when both the start_method and the second_method emit an output.\n",
    "* Router:\n",
    "    * `@router(start_method)`\n",
    "    * The @router() decorator in Flows allows you to define conditional routing logic based on the output of a method. You can specify different routes based on the output of the method, allowing you to control the flow of execution dynamically."
   ]
  },
  {
   "cell_type": "markdown",
   "id": "f8c9dc79-98b4-44b8-a85c-afa7fb778241",
   "metadata": {},
   "source": [
    "## Adding Agents to Flows\n",
    "* You can create and execute agents inside a Flow."
   ]
  },
  {
   "cell_type": "markdown",
   "id": "d7ee777b-f37b-474f-a5a8-a1689dfc3c42",
   "metadata": {},
   "source": [
    "## Adding Crews to Flows\n",
    "* The flow template includes a prebuilt crew called poem_crew that is already working. You can use the poem_crew folder as a template by copying, pasting, and editing it to create other crews.\n",
    "* In the crews folder, you can define multiple crews. Each crew will have its own folder containing configuration files and the crew definition file.\n",
    "\n",
    "#### Connecting Crews in `main.py`\n",
    "* The `main.py` file is where you\n",
    "    * create your flow\n",
    "    * and connect the crews together.\n",
    "* See how to import a crew to use it in main.py\n",
    "    * `from .crews.poem_crew.poem_crew import PoemCrew`"
   ]
  },
  {
   "cell_type": "markdown",
   "id": "cd6a15b9-580e-4670-8c27-d722407cffb9",
   "metadata": {},
   "source": [
    "## Graphical representation of flows: Plots\n",
    "* `flow_name.plot(\"my_flow_plot\")`\n",
    "* This will generate a file named `my_flow_plot.html` in your current directory. You can open this file in a web browser to view the interactive plot."
   ]
  },
  {
   "cell_type": "markdown",
   "id": "5745e2bf-1eed-4c1b-853f-322f3b9e54d2",
   "metadata": {},
   "source": [
    "## Examples of pre-built flows\n",
    "To study the following examples in detail (code and explanations) will be a great way to learn about flows. **Click on each title to see the code and documentation of each project**.\n",
    "\n",
    "#### [Email auto-responder flow](https://github.com/crewAIInc/crewAI-examples/tree/main/email_auto_responder_flow)\n",
    "Automate the process of checking Gmail emails and creating draft responses.\n",
    "* Set up google credentials.\n",
    "* Fetch new emails.\n",
    "* Generate draft responses.\n",
    "\n",
    "#### [Lead score flow](https://github.com/crewAIInc/crewAI-examples/tree/main/lead-score-flow)\n",
    "Adding human-in-the-loop feedback and handling different conditional branches using the router.\n",
    "* Load leads from a CSV file.\n",
    "* Score leads based on predefined criteria.\n",
    "* Human in the loop: top 3 candidates presented for human review.\n",
    "* Write and save emails for all leads.\n",
    "\n",
    "#### [Write a book flow](https://github.com/crewAIInc/crewAI-examples/tree/main/write_a_book_with_flows)\n",
    "This example excels at chaining multiple crews together, where the output of one crew is used by another.\n",
    "\n",
    "One crew outlines an entire book, another crew generates chapters based on the outline, and the flow combines all the chapters to create the complete book.\n",
    "\n",
    "#### [Meeting assistant flow](https://github.com/crewAIInc/crewAI-examples/tree/main/meeting_assistant_flow)\n",
    "This flow demonstrates how to broadcast one event to trigger multiple follow-up actions. For instance, after a meeting is completed, the flow can update a Trello board, send a Slack message, and save the results.\n",
    "It’s a great example of handling multiple outcomes from a single event, making it ideal for comprehensive task management and notification systems.\n",
    "* Set up Trello.\n",
    "* Set up Slack.\n",
    "* Load meeting notes from a .txt file.\n",
    "* Generate tasks from the meeting transcript.\n",
    "* Add tasks to a Trello board.\n",
    "* Save new tasks to a CSV file.\n",
    "* Send a notification to a Slack channel informing that the new tasks have been added in the Trello board."
   ]
  },
  {
   "cell_type": "code",
   "execution_count": null,
   "id": "4a886436-dd53-4670-8413-047d33589756",
   "metadata": {},
   "outputs": [],
   "source": []
  }
 ],
 "metadata": {
  "kernelspec": {
   "display_name": "Python 3 (ipykernel)",
   "language": "python",
   "name": "python3"
  },
  "language_info": {
   "codemirror_mode": {
    "name": "ipython",
    "version": 3
   },
   "file_extension": ".py",
   "mimetype": "text/x-python",
   "name": "python",
   "nbconvert_exporter": "python",
   "pygments_lexer": "ipython3",
   "version": "3.12.2"
  }
 },
 "nbformat": 4,
 "nbformat_minor": 5
}
