{
 "cells": [
  {
   "cell_type": "markdown",
   "id": "07e7e225-7eff-444c-b11a-81de8b84be37",
   "metadata": {},
   "source": [
    "# CrewAI's Agents in Detail"
   ]
  },
  {
   "cell_type": "markdown",
   "id": "37bcc2bd-7f2b-48a9-b52a-684493868a83",
   "metadata": {},
   "source": [
    "## Agent Attributes\n",
    "* List of attibutes: from the 3 non-optional to the +20 optional ones.\n",
    "* This attributes are explained in the \"Parameters Detail\" section of the Core Concepts > Agents page in the CrewAI documentation."
   ]
  },
  {
   "cell_type": "markdown",
   "id": "3b126e1b-7a4d-466b-a6eb-fbe938278ae9",
   "metadata": {},
   "source": [
    "## Creating Agents\n",
    "* Two alternative ways:\n",
    "    * Recommended: using the agents.yaml file.\n",
    "    * Or defining them directly in code.  "
   ]
  },
  {
   "cell_type": "markdown",
   "id": "5cbe4fc6-29f5-4805-8e1d-0fa50c1d35ff",
   "metadata": {},
   "source": [
    "## Agent Tools\n",
    "CrewAI supports tools from:\n",
    "* [CrewAI Toolkit](https://github.com/crewAIInc/crewAI-tools)\n",
    "* [LangChain Tools](https://python.langchain.com/docs/integrations/tools/)"
   ]
  },
  {
   "cell_type": "code",
   "execution_count": null,
   "id": "21a52640-1781-4419-b938-80df00f8d1a2",
   "metadata": {},
   "outputs": [],
   "source": []
  }
 ],
 "metadata": {
  "kernelspec": {
   "display_name": "Python 3 (ipykernel)",
   "language": "python",
   "name": "python3"
  },
  "language_info": {
   "codemirror_mode": {
    "name": "ipython",
    "version": 3
   },
   "file_extension": ".py",
   "mimetype": "text/x-python",
   "name": "python",
   "nbconvert_exporter": "python",
   "pygments_lexer": "ipython3",
   "version": "3.12.2"
  }
 },
 "nbformat": 4,
 "nbformat_minor": 5
}
