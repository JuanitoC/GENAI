{
 "cells": [
  {
   "cell_type": "markdown",
   "id": "0cb06833-8881-49a8-b548-517d66d62fe6",
   "metadata": {},
   "source": [
    "# Knowledge Apps in CrewAI (aka Agentic RAG apps)\n",
    "* Knowledge in CrewAI is a system that allows Agents to access and utilize external information sources during their tasks.\n",
    "* While knowledge can be provided at the crew level, individual agents can also have their own knowledge.\n",
    "* CrewAI supports various types of knowledge sources out of the box\n",
    "    * Raw strings\n",
    "    * Text files (.txt)\n",
    "    * PDF documents\n",
    "    * CSV files\n",
    "    * Excel spreadsheets\n",
    "    * JSON documents\n",
    "* CrewDoclingSource can handle multiple file formats including MD, PDF, DOCX, HTML, and more.\n",
    "* CrewAI allows you to create custom knowledge sources for any type of data (external APIs, etc) by extending the BaseKnowledgeSource class.\n",
    "* Knowledge sources automatically chunk content for better processing. You can configure chunking behavior.\n",
    "* You can also configure the embedder for the knowledge store."
   ]
  },
  {
   "cell_type": "markdown",
   "id": "197fb0ba-17de-4ea5-8334-2b1616277075",
   "metadata": {},
   "source": [
    "## Miscelanea: Agent-Specific Knowledge, Clearing Knowledge, Best Practices, etc."
   ]
  },
  {
   "cell_type": "code",
   "execution_count": null,
   "id": "bc27cafb-86b2-48df-9805-41f6e5dbf83c",
   "metadata": {},
   "outputs": [],
   "source": []
  }
 ],
 "metadata": {
  "kernelspec": {
   "display_name": "Python 3 (ipykernel)",
   "language": "python",
   "name": "python3"
  },
  "language_info": {
   "codemirror_mode": {
    "name": "ipython",
    "version": 3
   },
   "file_extension": ".py",
   "mimetype": "text/x-python",
   "name": "python",
   "nbconvert_exporter": "python",
   "pygments_lexer": "ipython3",
   "version": "3.12.2"
  }
 },
 "nbformat": 4,
 "nbformat_minor": 5
}
