{
 "cells": [
  {
   "cell_type": "markdown",
   "metadata": {},
   "source": [
    "# 🚀 Tutorial Completo: Agents en CrewAI\n",
    "\n",
    "## 📚 Información del Tutorial\n",
    "\n",
    "Este tutorial está basado en la documentación oficial de CrewAI: [https://docs.crewai.com/en/concepts/agents.md](https://docs.crewai.com/en/concepts/agents.md)\n",
    "\n",
    "## 🎯 Objetivos del Tutorial\n",
    "\n",
    "1. **Entender qué son los Agents en CrewAI**\n",
    "2. **Aprender a crear Agents usando YAML y código**\n",
    "3. **Explorar todos los atributos y configuraciones disponibles**\n",
    "4. **Practicar con ejemplos reales**\n",
    "5. **Aprender mejores prácticas y troubleshooting**\n",
    "\n",
    "---"
   ]
  },
  {
   "cell_type": "markdown",
   "metadata": {},
   "source": [
    "## 🏗️ 1. ¿Qué es un Agent en CrewAI?\n",
    "\n",
    "Un **Agent** en CrewAI es una unidad autónoma que puede:\n",
    "\n",
    "✅ **Realizar tareas específicas**  \n",
    "✅ **Tomar decisiones basadas en su rol y objetivo**  \n",
    "✅ **Usar herramientas para cumplir objetivos**  \n",
    "✅ **Comunicarse y colaborar con otros agents**  \n",
    "✅ **Mantener memoria de interacciones**  \n",
    "✅ **Delegar tareas cuando está permitido**\n",
    "\n",
    "### 🤔 Analogía\n",
    "\n",
    "Piensa en un Agent como un **miembro especializado de un equipo** con habilidades, experiencia y responsabilidades específicas:\n",
    "\n",
    "- 🔍 **Researcher Agent**: Excelente en recopilar y analizar información\n",
    "- ✍️ **Writer Agent**: Mejor en crear contenido\n",
    "- 📊 **Analyst Agent**: Experto en análisis de datos\n",
    "- 🎨 **Designer Agent**: Especialista en diseño y creatividad\n",
    "\n",
    "---"
   ]
  },
  {
   "cell_type": "markdown",
   "metadata": {},
   "source": [
    "## 📋 2. Atributos de un Agent\n",
    "\n",
    "### 📊 Tabla Completa de Atributos\n",
    "\n",
    "| Atributo | Parámetro | Tipo | Descripción |\n",
    "|----------|-----------|------|-------------|\n",
    "| **Role** | `role` | `str` | Define la función y experiencia del agent dentro del crew |\n",
    "| **Goal** | `goal` | `str` | El objetivo individual que guía la toma de decisiones del agent |\n",
    "| **Backstory** | `backstory` | `str` | Proporciona contexto y personalidad al agent |\n",
    "| **LLM** | `llm` | `Union[str, LLM, Any]` | Modelo de lenguaje que potencia el agent |\n",
    "| **Tools** | `tools` | `List[BaseTool]` | Capacidades o funciones disponibles para el agent |\n",
    "| **Function Calling LLM** | `function_calling_llm` | `Optional[Any]` | LLM para llamadas de herramientas |\n",
    "| **Max Iterations** | `max_iter` | `int` | Máximo de iteraciones antes de dar la mejor respuesta |\n",
    "| **Max RPM** | `max_rpm` | `Optional[int]` | Máximo de requests por minuto |\n",
    "| **Max Execution Time** | `max_execution_time` | `Optional[int]` | Tiempo máximo de ejecución en segundos |\n",
    "| **Verbose** | `verbose` | `bool` | Habilitar logs detallados para debugging |\n",
    "| **Allow Delegation** | `allow_delegation` | `bool` | Permitir delegar tareas a otros agents |\n",
    "| **Cache** | `cache` | `bool` | Habilitar caché para uso de herramientas |\n",
    "| **System Template** | `system_template` | `Optional[str]` | Template personalizado del prompt del sistema |\n",
    "| **Prompt Template** | `prompt_template` | `Optional[str]` | Template personalizado del prompt |\n",
    "| **Response Template** | `response_template` | `Optional[str]` | Template personalizado de respuesta |\n",
    "| **Allow Code Execution** | `allow_code_execution` | `Optional[bool]` | Habilitar ejecución de código |\n",
    "| **Max Retry Limit** | `max_retry_limit` | `int` | Máximo número de reintentos |\n",
    "| **Respect Context Window** | `respect_context_window` | `bool` | Mantener mensajes bajo el límite del contexto |\n",
    "| **Code Execution Mode** | `code_execution_mode` | `Literal[\"safe\", \"unsafe\"]` | Modo de ejecución de código |\n",
    "| **Multimodal** | `multimodal` | `bool` | Soporte para capacidades multimodales |\n",
    "| **Inject Date** | `inject_date` | `bool` | Inyectar automáticamente la fecha actual |\n",
    "| **Date Format** | `date_format` | `str` | Formato de fecha cuando inject_date está habilitado |\n",
    "| **Reasoning** | `reasoning` | `bool` | Reflexionar y crear un plan antes de ejecutar |\n",
    "| **Max Reasoning Attempts** | `max_reasoning_attempts` | `Optional[int]` | Máximo de intentos de razonamiento |\n",
    "| **Embedder** | `embedder` | `Optional[Dict[str, Any]]` | Configuración del embedder |\n",
    "| **Knowledge Sources** | `knowledge_sources` | `Optional[List[BaseKnowledgeSource]]` | Fuentes de conocimiento |\n",
    "| **Use System Prompt** | `use_system_prompt` | `Optional[bool]` | Usar prompt del sistema |\n",
    "\n",
    "---"
   ]
  },
  {
   "cell_type": "markdown",
   "metadata": {},
   "source": [
    "## 🛠️ 3. Creando Agents\n",
    "\n",
    "Hay **dos formas** de crear agents en CrewAI:\n",
    "\n",
    "1. **📄 Configuración YAML (Recomendado)**\n",
    "2. **💻 Definición directa en código**\n",
    "\n",
    "### 🥇 Método 1: Configuración YAML (Recomendado)\n",
    "\n",
    "La configuración YAML proporciona una forma más limpia y mantenible de definir agents."
   ]
  },
  {
   "cell_type": "code",
   "execution_count": 12,
   "metadata": {},
   "outputs": [
    {
     "name": "stdout",
     "output_type": "stream",
     "text": [
      "📄 Ejemplo de configuración YAML:\n",
      "\n",
      "researcher:\n",
      "  role: >\n",
      "    {topic} Senior Data Researcher\n",
      "  goal: >\n",
      "    Uncover cutting-edge developments in {topic}\n",
      "  backstory: >\n",
      "    You're a seasoned researcher with a knack for uncovering the latest developments in {topic}. \n",
      "    Known for your ability to find the most relevant information and present it in a clear and concise manner.\n",
      "\n",
      "reporting_analyst:\n",
      "  role: >\n",
      "    {topic} Reporting Analyst\n",
      "  goal: >\n",
      "    Create detailed reports based on {topic} data analysis and research findings\n",
      "  backstory: >\n",
      "    You're a meticulous analyst with a keen eye for detail. You're known for your ability to turn \n",
      "    complex data into clear and concise reports, making it easy for others to understand and act on \n",
      "    the information you provide.\n",
      "\n"
     ]
    }
   ],
   "source": [
    "# Ejemplo de archivo YAML: agents.yaml\n",
    "yaml_example = \"\"\"\n",
    "researcher:\n",
    "  role: >\n",
    "    {topic} Senior Data Researcher\n",
    "  goal: >\n",
    "    Uncover cutting-edge developments in {topic}\n",
    "  backstory: >\n",
    "    You're a seasoned researcher with a knack for uncovering the latest developments in {topic}. \n",
    "    Known for your ability to find the most relevant information and present it in a clear and concise manner.\n",
    "\n",
    "reporting_analyst:\n",
    "  role: >\n",
    "    {topic} Reporting Analyst\n",
    "  goal: >\n",
    "    Create detailed reports based on {topic} data analysis and research findings\n",
    "  backstory: >\n",
    "    You're a meticulous analyst with a keen eye for detail. You're known for your ability to turn \n",
    "    complex data into clear and concise reports, making it easy for others to understand and act on \n",
    "    the information you provide.\n",
    "\"\"\"\n",
    "\n",
    "print(\"📄 Ejemplo de configuración YAML:\")\n",
    "print(yaml_example)"
   ]
  },
  {
   "cell_type": "code",
   "execution_count": 13,
   "metadata": {},
   "outputs": [
    {
     "ename": "OSError",
     "evalue": "source code not available",
     "output_type": "error",
     "traceback": [
      "\u001b[1;31m---------------------------------------------------------------------------\u001b[0m",
      "\u001b[1;31mOSError\u001b[0m                                   Traceback (most recent call last)",
      "Cell \u001b[1;32mIn[13], line 6\u001b[0m\n\u001b[0;32m      3\u001b[0m \u001b[38;5;28;01mfrom\u001b[39;00m \u001b[38;5;21;01mcrewai\u001b[39;00m\u001b[38;5;21;01m.\u001b[39;00m\u001b[38;5;21;01mproject\u001b[39;00m \u001b[38;5;28;01mimport\u001b[39;00m CrewBase, agent, crew\n\u001b[0;32m      4\u001b[0m \u001b[38;5;28;01mfrom\u001b[39;00m \u001b[38;5;21;01mcrewai_tools\u001b[39;00m \u001b[38;5;28;01mimport\u001b[39;00m SerperDevTool\n\u001b[1;32m----> 6\u001b[0m \u001b[38;5;129;43m@CrewBase\u001b[39;49m\n\u001b[0;32m      7\u001b[0m \u001b[38;5;28;43;01mclass\u001b[39;49;00m\u001b[43m \u001b[49m\u001b[38;5;21;43;01mLatestAiDevelopmentCrew\u001b[39;49;00m\u001b[43m(\u001b[49m\u001b[43m)\u001b[49m\u001b[43m:\u001b[49m\n\u001b[0;32m      8\u001b[0m \u001b[38;5;250;43m    \u001b[39;49m\u001b[38;5;124;43;03m\"\"\"LatestAiDevelopment crew\"\"\"\u001b[39;49;00m\n\u001b[0;32m      9\u001b[0m \u001b[43m    \u001b[49m\u001b[43magents_config\u001b[49m\u001b[43m \u001b[49m\u001b[38;5;241;43m=\u001b[39;49m\u001b[43m \u001b[49m\u001b[38;5;124;43m\"\u001b[39;49m\u001b[38;5;124;43mconfig/agents.yaml\u001b[39;49m\u001b[38;5;124;43m\"\u001b[39;49m\n",
      "File \u001b[1;32mc:\\Users\\Usuario\\AppData\\Local\\Programs\\Python\\Python311\\Lib\\site-packages\\crewai\\project\\crew_base.py:20\u001b[0m, in \u001b[0;36mCrewBase\u001b[1;34m(cls)\u001b[0m\n\u001b[0;32m     17\u001b[0m \u001b[38;5;28;01mdef\u001b[39;00m \u001b[38;5;21mCrewBase\u001b[39m(\u001b[38;5;28mcls\u001b[39m: T) \u001b[38;5;241m-\u001b[39m\u001b[38;5;241m>\u001b[39m T:\n\u001b[0;32m     18\u001b[0m \u001b[38;5;250m    \u001b[39m\u001b[38;5;124;03m\"\"\"Wraps a class with crew functionality and configuration management.\"\"\"\u001b[39;00m\n\u001b[1;32m---> 20\u001b[0m \u001b[43m    \u001b[49m\u001b[38;5;28;43;01mclass\u001b[39;49;00m\u001b[43m \u001b[49m\u001b[38;5;21;43;01mWrappedClass\u001b[39;49;00m\u001b[43m(\u001b[49m\u001b[38;5;28;43mcls\u001b[39;49m\u001b[43m)\u001b[49m\u001b[43m:\u001b[49m\u001b[43m  \u001b[49m\u001b[38;5;66;43;03m# type: ignore\u001b[39;49;00m\n\u001b[0;32m     21\u001b[0m \u001b[43m        \u001b[49m\u001b[43mis_crew_class\u001b[49m\u001b[43m:\u001b[49m\u001b[43m \u001b[49m\u001b[38;5;28;43mbool\u001b[39;49m\u001b[43m \u001b[49m\u001b[38;5;241;43m=\u001b[39;49m\u001b[43m \u001b[49m\u001b[38;5;28;43;01mTrue\u001b[39;49;00m\u001b[43m  \u001b[49m\u001b[38;5;66;43;03m# type: ignore\u001b[39;49;00m\n\u001b[0;32m     23\u001b[0m \u001b[43m        \u001b[49m\u001b[38;5;66;43;03m# Get the directory of the class being decorated\u001b[39;49;00m\n",
      "File \u001b[1;32mc:\\Users\\Usuario\\AppData\\Local\\Programs\\Python\\Python311\\Lib\\site-packages\\crewai\\project\\crew_base.py:24\u001b[0m, in \u001b[0;36mCrewBase.<locals>.WrappedClass\u001b[1;34m()\u001b[0m\n\u001b[0;32m     21\u001b[0m is_crew_class: \u001b[38;5;28mbool\u001b[39m \u001b[38;5;241m=\u001b[39m \u001b[38;5;28;01mTrue\u001b[39;00m  \u001b[38;5;66;03m# type: ignore\u001b[39;00m\n\u001b[0;32m     23\u001b[0m \u001b[38;5;66;03m# Get the directory of the class being decorated\u001b[39;00m\n\u001b[1;32m---> 24\u001b[0m base_directory \u001b[38;5;241m=\u001b[39m Path(\u001b[43minspect\u001b[49m\u001b[38;5;241;43m.\u001b[39;49m\u001b[43mgetfile\u001b[49m\u001b[43m(\u001b[49m\u001b[38;5;28;43mcls\u001b[39;49m\u001b[43m)\u001b[49m)\u001b[38;5;241m.\u001b[39mparent\n\u001b[0;32m     26\u001b[0m original_agents_config_path \u001b[38;5;241m=\u001b[39m \u001b[38;5;28mgetattr\u001b[39m(\n\u001b[0;32m     27\u001b[0m     \u001b[38;5;28mcls\u001b[39m, \u001b[38;5;124m\"\u001b[39m\u001b[38;5;124magents_config\u001b[39m\u001b[38;5;124m\"\u001b[39m, \u001b[38;5;124m\"\u001b[39m\u001b[38;5;124mconfig/agents.yaml\u001b[39m\u001b[38;5;124m\"\u001b[39m\n\u001b[0;32m     28\u001b[0m )\n\u001b[0;32m     29\u001b[0m original_tasks_config_path \u001b[38;5;241m=\u001b[39m \u001b[38;5;28mgetattr\u001b[39m(\u001b[38;5;28mcls\u001b[39m, \u001b[38;5;124m\"\u001b[39m\u001b[38;5;124mtasks_config\u001b[39m\u001b[38;5;124m\"\u001b[39m, \u001b[38;5;124m\"\u001b[39m\u001b[38;5;124mconfig/tasks.yaml\u001b[39m\u001b[38;5;124m\"\u001b[39m)\n",
      "File \u001b[1;32mc:\\Users\\Usuario\\AppData\\Local\\Programs\\Python\\Python311\\Lib\\inspect.py:908\u001b[0m, in \u001b[0;36mgetfile\u001b[1;34m(object)\u001b[0m\n\u001b[0;32m    906\u001b[0m             \u001b[38;5;28;01mreturn\u001b[39;00m module\u001b[38;5;241m.\u001b[39m\u001b[38;5;18m__file__\u001b[39m\n\u001b[0;32m    907\u001b[0m         \u001b[38;5;28;01mif\u001b[39;00m \u001b[38;5;28mobject\u001b[39m\u001b[38;5;241m.\u001b[39m\u001b[38;5;18m__module__\u001b[39m \u001b[38;5;241m==\u001b[39m \u001b[38;5;124m'\u001b[39m\u001b[38;5;124m__main__\u001b[39m\u001b[38;5;124m'\u001b[39m:\n\u001b[1;32m--> 908\u001b[0m             \u001b[38;5;28;01mraise\u001b[39;00m \u001b[38;5;167;01mOSError\u001b[39;00m(\u001b[38;5;124m'\u001b[39m\u001b[38;5;124msource code not available\u001b[39m\u001b[38;5;124m'\u001b[39m)\n\u001b[0;32m    909\u001b[0m     \u001b[38;5;28;01mraise\u001b[39;00m \u001b[38;5;167;01mTypeError\u001b[39;00m(\u001b[38;5;124m'\u001b[39m\u001b[38;5;132;01m{!r}\u001b[39;00m\u001b[38;5;124m is a built-in class\u001b[39m\u001b[38;5;124m'\u001b[39m\u001b[38;5;241m.\u001b[39mformat(\u001b[38;5;28mobject\u001b[39m))\n\u001b[0;32m    910\u001b[0m \u001b[38;5;28;01mif\u001b[39;00m ismethod(\u001b[38;5;28mobject\u001b[39m):\n",
      "\u001b[1;31mOSError\u001b[0m: source code not available"
     ]
    }
   ],
   "source": [
    "# Cómo usar la configuración YAML en tu código\n",
    "from crewai import Agent, Crew, Process\n",
    "from crewai.project import CrewBase, agent, crew\n",
    "from crewai_tools import SerperDevTool\n",
    "\n",
    "@CrewBase\n",
    "class LatestAiDevelopmentCrew():\n",
    "    \"\"\"LatestAiDevelopment crew\"\"\"\n",
    "    agents_config = \"config/agents.yaml\"\n",
    "    \n",
    "    @agent\n",
    "    def researcher(self) -> Agent:\n",
    "        return Agent(\n",
    "            config=self.agents_config['researcher'],  # type: ignore[index]\n",
    "            verbose=True,\n",
    "            tools=[SerperDevTool()]\n",
    "        )\n",
    "    \n",
    "    @agent\n",
    "    def reporting_analyst(self) -> Agent:\n",
    "        return Agent(\n",
    "            config=self.agents_config['reporting_analyst'],  # type: ignore[index]\n",
    "            verbose=True\n",
    "        )\n",
    "\n",
    "print(\"✅ Código para usar configuración YAML creado\")"
   ]
  },
  {
   "cell_type": "markdown",
   "metadata": {},
   "source": [
    "### 🥈 Método 2: Definición Directa en Código\n",
    "\n",
    "Puedes crear agents directamente en tu código Python:"
   ]
  },
  {
   "cell_type": "code",
   "execution_count": 14,
   "metadata": {},
   "outputs": [
    {
     "name": "stdout",
     "output_type": "stream",
     "text": [
      "✅ Agents creados exitosamente:\n",
      "🔍 Researcher: AI Technology Researcher\n",
      "📊 Analyst: Data Analyst\n"
     ]
    }
   ],
   "source": [
    "from crewai import Agent\n",
    "from crewai_tools import SerperDevTool\n",
    "\n",
    "# 🧪 Agent Investigador\n",
    "researcher = Agent(\n",
    "    role=\"AI Technology Researcher\",\n",
    "    goal=\"Research the latest AI developments and trends\",\n",
    "    backstory=\"\"\"\n",
    "    You are an expert AI researcher with 10+ years of experience in machine learning, \n",
    "    natural language processing, and artificial intelligence. You have a PhD in Computer Science \n",
    "    and have published numerous papers on AI advancements. You're known for your ability to \n",
    "    identify emerging trends and explain complex AI concepts in simple terms.\n",
    "    \"\"\",\n",
    "    tools=[SerperDevTool()],\n",
    "    verbose=True,\n",
    "    allow_delegation=False,\n",
    "    max_iter=15,\n",
    "    max_rpm=10\n",
    ")\n",
    "\n",
    "# 📊 Agent Analista\n",
    "analyst = Agent(\n",
    "    role=\"Data Analyst\",\n",
    "    goal=\"Analyze research data and create comprehensive reports\",\n",
    "    backstory=\"\"\"\n",
    "    You are a senior data analyst with expertise in statistical analysis, data visualization, \n",
    "    and business intelligence. You have a Master's degree in Statistics and 8 years of experience \n",
    "    in turning complex data into actionable insights. You excel at creating clear, compelling \n",
    "    reports that help decision-makers understand trends and opportunities.\n",
    "    \"\"\",\n",
    "    verbose=True,\n",
    "    reasoning=True,\n",
    "    max_reasoning_attempts=3\n",
    ")\n",
    "\n",
    "print(\"✅ Agents creados exitosamente:\")\n",
    "print(f\"🔍 Researcher: {researcher.role}\")\n",
    "print(f\"📊 Analyst: {analyst.role}\")"
   ]
  },
  {
   "cell_type": "markdown",
   "metadata": {},
   "source": [
    "## 🚀 4. Interacción Directa con Agents usando `kickoff()`\n",
    "\n",
    "Los agents pueden usarse directamente sin pasar por un workflow de crew usando el método `kickoff()`."
   ]
  },
  {
   "cell_type": "code",
   "execution_count": 15,
   "metadata": {},
   "outputs": [
    {
     "name": "stdout",
     "output_type": "stream",
     "text": [
      "🔍 Ejemplo de interacción directa con un agent:\n"
     ]
    },
    {
     "ename": "ValidationError",
     "evalue": "1 validation error for Agent\nbackstory\n  Field required [type=missing, input_value={'role': 'AI Technology R...e='')], 'verbose': True}, input_type=dict]\n    For further information visit https://errors.pydantic.dev/2.11/v/missing",
     "output_type": "error",
     "traceback": [
      "\u001b[1;31m---------------------------------------------------------------------------\u001b[0m",
      "\u001b[1;31mValidationError\u001b[0m                           Traceback (most recent call last)",
      "Cell \u001b[1;32mIn[15], line 5\u001b[0m\n\u001b[0;32m      2\u001b[0m \u001b[38;5;28mprint\u001b[39m(\u001b[38;5;124m\"\u001b[39m\u001b[38;5;124m🔍 Ejemplo de interacción directa con un agent:\u001b[39m\u001b[38;5;124m\"\u001b[39m)\n\u001b[0;32m      4\u001b[0m \u001b[38;5;66;03m# Crear un agent investigador\u001b[39;00m\n\u001b[1;32m----> 5\u001b[0m researcher \u001b[38;5;241m=\u001b[39m \u001b[43mAgent\u001b[49m\u001b[43m(\u001b[49m\n\u001b[0;32m      6\u001b[0m \u001b[43m    \u001b[49m\u001b[43mrole\u001b[49m\u001b[38;5;241;43m=\u001b[39;49m\u001b[38;5;124;43m\"\u001b[39;49m\u001b[38;5;124;43mAI Technology Researcher\u001b[39;49m\u001b[38;5;124;43m\"\u001b[39;49m\u001b[43m,\u001b[49m\n\u001b[0;32m      7\u001b[0m \u001b[43m    \u001b[49m\u001b[43mgoal\u001b[49m\u001b[38;5;241;43m=\u001b[39;49m\u001b[38;5;124;43m\"\u001b[39;49m\u001b[38;5;124;43mResearch the latest AI developments\u001b[39;49m\u001b[38;5;124;43m\"\u001b[39;49m\u001b[43m,\u001b[49m\n\u001b[0;32m      8\u001b[0m \u001b[43m    \u001b[49m\u001b[43mtools\u001b[49m\u001b[38;5;241;43m=\u001b[39;49m\u001b[43m[\u001b[49m\u001b[43mSerperDevTool\u001b[49m\u001b[43m(\u001b[49m\u001b[43m)\u001b[49m\u001b[43m]\u001b[49m\u001b[43m,\u001b[49m\n\u001b[0;32m      9\u001b[0m \u001b[43m    \u001b[49m\u001b[43mverbose\u001b[49m\u001b[38;5;241;43m=\u001b[39;49m\u001b[38;5;28;43;01mTrue\u001b[39;49;00m\n\u001b[0;32m     10\u001b[0m \u001b[43m)\u001b[49m\n\u001b[0;32m     12\u001b[0m \u001b[38;5;66;03m# Usar kickoff() para interactuar directamente\u001b[39;00m\n\u001b[0;32m     13\u001b[0m result \u001b[38;5;241m=\u001b[39m researcher\u001b[38;5;241m.\u001b[39mkickoff(\u001b[38;5;124m\"\u001b[39m\u001b[38;5;124mWhat are the latest developments in language models?\u001b[39m\u001b[38;5;124m\"\u001b[39m)\n",
      "File \u001b[1;32mc:\\Users\\Usuario\\AppData\\Local\\Programs\\Python\\Python311\\Lib\\site-packages\\pydantic\\main.py:253\u001b[0m, in \u001b[0;36mBaseModel.__init__\u001b[1;34m(self, **data)\u001b[0m\n\u001b[0;32m    251\u001b[0m \u001b[38;5;66;03m# `__tracebackhide__` tells pytest and some other tools to omit this function from tracebacks\u001b[39;00m\n\u001b[0;32m    252\u001b[0m __tracebackhide__ \u001b[38;5;241m=\u001b[39m \u001b[38;5;28;01mTrue\u001b[39;00m\n\u001b[1;32m--> 253\u001b[0m validated_self \u001b[38;5;241m=\u001b[39m \u001b[38;5;28;43mself\u001b[39;49m\u001b[38;5;241;43m.\u001b[39;49m\u001b[43m__pydantic_validator__\u001b[49m\u001b[38;5;241;43m.\u001b[39;49m\u001b[43mvalidate_python\u001b[49m\u001b[43m(\u001b[49m\u001b[43mdata\u001b[49m\u001b[43m,\u001b[49m\u001b[43m \u001b[49m\u001b[43mself_instance\u001b[49m\u001b[38;5;241;43m=\u001b[39;49m\u001b[38;5;28;43mself\u001b[39;49m\u001b[43m)\u001b[49m\n\u001b[0;32m    254\u001b[0m \u001b[38;5;28;01mif\u001b[39;00m \u001b[38;5;28mself\u001b[39m \u001b[38;5;129;01mis\u001b[39;00m \u001b[38;5;129;01mnot\u001b[39;00m validated_self:\n\u001b[0;32m    255\u001b[0m     warnings\u001b[38;5;241m.\u001b[39mwarn(\n\u001b[0;32m    256\u001b[0m         \u001b[38;5;124m'\u001b[39m\u001b[38;5;124mA custom validator is returning a value other than `self`.\u001b[39m\u001b[38;5;130;01m\\n\u001b[39;00m\u001b[38;5;124m'\u001b[39m\n\u001b[0;32m    257\u001b[0m         \u001b[38;5;124m\"\u001b[39m\u001b[38;5;124mReturning anything other than `self` from a top level model validator isn\u001b[39m\u001b[38;5;124m'\u001b[39m\u001b[38;5;124mt supported when validating via `__init__`.\u001b[39m\u001b[38;5;130;01m\\n\u001b[39;00m\u001b[38;5;124m\"\u001b[39m\n\u001b[0;32m    258\u001b[0m         \u001b[38;5;124m'\u001b[39m\u001b[38;5;124mSee the `model_validator` docs (https://docs.pydantic.dev/latest/concepts/validators/#model-validators) for more details.\u001b[39m\u001b[38;5;124m'\u001b[39m,\n\u001b[0;32m    259\u001b[0m         stacklevel\u001b[38;5;241m=\u001b[39m\u001b[38;5;241m2\u001b[39m,\n\u001b[0;32m    260\u001b[0m     )\n",
      "\u001b[1;31mValidationError\u001b[0m: 1 validation error for Agent\nbackstory\n  Field required [type=missing, input_value={'role': 'AI Technology R...e='')], 'verbose': True}, input_type=dict]\n    For further information visit https://errors.pydantic.dev/2.11/v/missing"
     ]
    }
   ],
   "source": [
    "# Ejemplo básico de kickoff()\n",
    "print(\"🔍 Ejemplo de interacción directa con un agent:\")\n",
    "\n",
    "# Crear un agent investigador\n",
    "researcher = Agent(\n",
    "    role=\"AI Technology Researcher\",\n",
    "    goal=\"Research the latest AI developments\",\n",
    "    tools=[SerperDevTool()],\n",
    "    verbose=True\n",
    ")\n",
    "\n",
    "# Usar kickoff() para interactuar directamente\n",
    "result = researcher.kickoff(\"What are the latest developments in language models?\")\n",
    "\n",
    "print(\"📝 Resultado:\")\n",
    "print(result.raw)"
   ]
  },
  {
   "cell_type": "code",
   "execution_count": 16,
   "metadata": {},
   "outputs": [
    {
     "data": {
      "text/html": [
       "<pre style=\"white-space:pre;overflow-x:auto;line-height:normal;font-family:Menlo,'DejaVu Sans Mono',consolas,'Courier New',monospace\"></pre>\n"
      ],
      "text/plain": []
     },
     "metadata": {},
     "output_type": "display_data"
    },
    {
     "data": {
      "text/html": [
       "<pre style=\"white-space:pre;overflow-x:auto;line-height:normal;font-family:Menlo,'DejaVu Sans Mono',consolas,'Courier New',monospace\"><span style=\"color: #008080; text-decoration-color: #008080\">╭─────────────────────────────────────────────── LiteAgent Started ───────────────────────────────────────────────╮</span>\n",
       "<span style=\"color: #008080; text-decoration-color: #008080\">│</span>                                                                                                                 <span style=\"color: #008080; text-decoration-color: #008080\">│</span>\n",
       "<span style=\"color: #008080; text-decoration-color: #008080\">│</span>  <span style=\"color: #008080; text-decoration-color: #008080; font-weight: bold\">LiteAgent Session Started</span>                                                                                      <span style=\"color: #008080; text-decoration-color: #008080\">│</span>\n",
       "<span style=\"color: #008080; text-decoration-color: #008080\">│</span>  <span style=\"color: #c0c0c0; text-decoration-color: #c0c0c0\">Name: </span><span style=\"color: #008080; text-decoration-color: #008080\">AI Technology Researcher</span>                                                                                 <span style=\"color: #008080; text-decoration-color: #008080\">│</span>\n",
       "<span style=\"color: #008080; text-decoration-color: #008080\">│</span>  <span style=\"color: #c0c0c0; text-decoration-color: #c0c0c0\">id: </span><span style=\"color: #008080; text-decoration-color: #008080\">0e87979b-18f3-4a27-8b25-689ec59189f1</span>                                                                       <span style=\"color: #008080; text-decoration-color: #008080\">│</span>\n",
       "<span style=\"color: #008080; text-decoration-color: #008080\">│</span>  <span style=\"color: #c0c0c0; text-decoration-color: #c0c0c0\">role: </span><span style=\"color: #008080; text-decoration-color: #008080\">AI Technology Researcher</span>                                                                                 <span style=\"color: #008080; text-decoration-color: #008080\">│</span>\n",
       "<span style=\"color: #008080; text-decoration-color: #008080\">│</span>  <span style=\"color: #c0c0c0; text-decoration-color: #c0c0c0\">goal: </span><span style=\"color: #008080; text-decoration-color: #008080\">Research the latest AI developments and trends</span>                                                           <span style=\"color: #008080; text-decoration-color: #008080\">│</span>\n",
       "<span style=\"color: #008080; text-decoration-color: #008080\">│</span>  <span style=\"color: #c0c0c0; text-decoration-color: #c0c0c0\">backstory: </span>                                                                                                    <span style=\"color: #008080; text-decoration-color: #008080\">│</span>\n",
       "<span style=\"color: #008080; text-decoration-color: #008080\">│</span>  <span style=\"color: #008080; text-decoration-color: #008080\">    You are an expert AI researcher with 10+ years of experience in machine learning, </span>                         <span style=\"color: #008080; text-decoration-color: #008080\">│</span>\n",
       "<span style=\"color: #008080; text-decoration-color: #008080\">│</span>  <span style=\"color: #008080; text-decoration-color: #008080\">    natural language processing, and artificial intelligence. You have a PhD in Computer Science </span>              <span style=\"color: #008080; text-decoration-color: #008080\">│</span>\n",
       "<span style=\"color: #008080; text-decoration-color: #008080\">│</span>  <span style=\"color: #008080; text-decoration-color: #008080\">    and have published numerous papers on AI advancements. You're known for your ability to </span>                   <span style=\"color: #008080; text-decoration-color: #008080\">│</span>\n",
       "<span style=\"color: #008080; text-decoration-color: #008080\">│</span>  <span style=\"color: #008080; text-decoration-color: #008080\">    identify emerging trends and explain complex AI concepts in simple terms.</span>                                  <span style=\"color: #008080; text-decoration-color: #008080\">│</span>\n",
       "<span style=\"color: #008080; text-decoration-color: #008080\">│</span>  <span style=\"color: #008080; text-decoration-color: #008080\">    </span>                                                                                                           <span style=\"color: #008080; text-decoration-color: #008080\">│</span>\n",
       "<span style=\"color: #008080; text-decoration-color: #008080\">│</span>  <span style=\"color: #c0c0c0; text-decoration-color: #c0c0c0\">tools: </span><span style=\"color: #008080; text-decoration-color: #008080\">[CrewStructuredTool(name='Search the internet with Serper', description='Tool Name: Search the </span>         <span style=\"color: #008080; text-decoration-color: #008080\">│</span>\n",
       "<span style=\"color: #008080; text-decoration-color: #008080\">│</span>  <span style=\"color: #008080; text-decoration-color: #008080\">internet with Serper</span>                                                                                           <span style=\"color: #008080; text-decoration-color: #008080\">│</span>\n",
       "<span style=\"color: #008080; text-decoration-color: #008080\">│</span>  <span style=\"color: #008080; text-decoration-color: #008080\">Tool Arguments: {'search_query': {'description': 'Mandatory search query you want to use to search the </span>        <span style=\"color: #008080; text-decoration-color: #008080\">│</span>\n",
       "<span style=\"color: #008080; text-decoration-color: #008080\">│</span>  <span style=\"color: #008080; text-decoration-color: #008080\">internet', 'type': 'str'}}</span>                                                                                     <span style=\"color: #008080; text-decoration-color: #008080\">│</span>\n",
       "<span style=\"color: #008080; text-decoration-color: #008080\">│</span>  <span style=\"color: #008080; text-decoration-color: #008080\">Tool Description: A tool that can be used to search the internet with a search_query. Supports different </span>      <span style=\"color: #008080; text-decoration-color: #008080\">│</span>\n",
       "<span style=\"color: #008080; text-decoration-color: #008080\">│</span>  <span style=\"color: #008080; text-decoration-color: #008080\">search types: 'search' (default), 'news'')]</span>                                                                    <span style=\"color: #008080; text-decoration-color: #008080\">│</span>\n",
       "<span style=\"color: #008080; text-decoration-color: #008080\">│</span>  <span style=\"color: #c0c0c0; text-decoration-color: #c0c0c0\">verbose: </span><span style=\"color: #008080; text-decoration-color: #008080\">True</span>                                                                                                  <span style=\"color: #008080; text-decoration-color: #008080\">│</span>\n",
       "<span style=\"color: #008080; text-decoration-color: #008080\">│</span>  <span style=\"color: #c0c0c0; text-decoration-color: #c0c0c0\">Tool Args: </span>                                                                                                    <span style=\"color: #008080; text-decoration-color: #008080\">│</span>\n",
       "<span style=\"color: #008080; text-decoration-color: #008080\">│</span>                                                                                                                 <span style=\"color: #008080; text-decoration-color: #008080\">│</span>\n",
       "<span style=\"color: #008080; text-decoration-color: #008080\">│</span>                                                                                                                 <span style=\"color: #008080; text-decoration-color: #008080\">│</span>\n",
       "<span style=\"color: #008080; text-decoration-color: #008080\">╰─────────────────────────────────────────────────────────────────────────────────────────────────────────────────╯</span>\n",
       "</pre>\n"
      ],
      "text/plain": [
       "\u001b[36m╭─\u001b[0m\u001b[36m──────────────────────────────────────────────\u001b[0m\u001b[36m LiteAgent Started \u001b[0m\u001b[36m──────────────────────────────────────────────\u001b[0m\u001b[36m─╮\u001b[0m\n",
       "\u001b[36m│\u001b[0m                                                                                                                 \u001b[36m│\u001b[0m\n",
       "\u001b[36m│\u001b[0m  \u001b[1;36mLiteAgent Session Started\u001b[0m                                                                                      \u001b[36m│\u001b[0m\n",
       "\u001b[36m│\u001b[0m  \u001b[37mName: \u001b[0m\u001b[36mAI Technology Researcher\u001b[0m                                                                                 \u001b[36m│\u001b[0m\n",
       "\u001b[36m│\u001b[0m  \u001b[37mid: \u001b[0m\u001b[36m0e87979b-18f3-4a27-8b25-689ec59189f1\u001b[0m                                                                       \u001b[36m│\u001b[0m\n",
       "\u001b[36m│\u001b[0m  \u001b[37mrole: \u001b[0m\u001b[36mAI Technology Researcher\u001b[0m                                                                                 \u001b[36m│\u001b[0m\n",
       "\u001b[36m│\u001b[0m  \u001b[37mgoal: \u001b[0m\u001b[36mResearch the latest AI developments and trends\u001b[0m                                                           \u001b[36m│\u001b[0m\n",
       "\u001b[36m│\u001b[0m  \u001b[37mbackstory: \u001b[0m                                                                                                    \u001b[36m│\u001b[0m\n",
       "\u001b[36m│\u001b[0m  \u001b[36m    You are an expert AI researcher with 10+ years of experience in machine learning, \u001b[0m                         \u001b[36m│\u001b[0m\n",
       "\u001b[36m│\u001b[0m  \u001b[36m    natural language processing, and artificial intelligence. You have a PhD in Computer Science \u001b[0m              \u001b[36m│\u001b[0m\n",
       "\u001b[36m│\u001b[0m  \u001b[36m    and have published numerous papers on AI advancements. You're known for your ability to \u001b[0m                   \u001b[36m│\u001b[0m\n",
       "\u001b[36m│\u001b[0m  \u001b[36m    identify emerging trends and explain complex AI concepts in simple terms.\u001b[0m                                  \u001b[36m│\u001b[0m\n",
       "\u001b[36m│\u001b[0m  \u001b[36m    \u001b[0m                                                                                                           \u001b[36m│\u001b[0m\n",
       "\u001b[36m│\u001b[0m  \u001b[37mtools: \u001b[0m\u001b[36m[CrewStructuredTool(name='Search the internet with Serper', description='Tool Name: Search the \u001b[0m         \u001b[36m│\u001b[0m\n",
       "\u001b[36m│\u001b[0m  \u001b[36minternet with Serper\u001b[0m                                                                                           \u001b[36m│\u001b[0m\n",
       "\u001b[36m│\u001b[0m  \u001b[36mTool Arguments: {'search_query': {'description': 'Mandatory search query you want to use to search the \u001b[0m        \u001b[36m│\u001b[0m\n",
       "\u001b[36m│\u001b[0m  \u001b[36minternet', 'type': 'str'}}\u001b[0m                                                                                     \u001b[36m│\u001b[0m\n",
       "\u001b[36m│\u001b[0m  \u001b[36mTool Description: A tool that can be used to search the internet with a search_query. Supports different \u001b[0m      \u001b[36m│\u001b[0m\n",
       "\u001b[36m│\u001b[0m  \u001b[36msearch types: 'search' (default), 'news'')]\u001b[0m                                                                    \u001b[36m│\u001b[0m\n",
       "\u001b[36m│\u001b[0m  \u001b[37mverbose: \u001b[0m\u001b[36mTrue\u001b[0m                                                                                                  \u001b[36m│\u001b[0m\n",
       "\u001b[36m│\u001b[0m  \u001b[37mTool Args: \u001b[0m                                                                                                    \u001b[36m│\u001b[0m\n",
       "\u001b[36m│\u001b[0m                                                                                                                 \u001b[36m│\u001b[0m\n",
       "\u001b[36m│\u001b[0m                                                                                                                 \u001b[36m│\u001b[0m\n",
       "\u001b[36m╰─────────────────────────────────────────────────────────────────────────────────────────────────────────────────╯\u001b[0m\n"
      ]
     },
     "metadata": {},
     "output_type": "display_data"
    },
    {
     "data": {
      "text/html": [
       "<pre style=\"white-space:pre;overflow-x:auto;line-height:normal;font-family:Menlo,'DejaVu Sans Mono',consolas,'Courier New',monospace\">\n",
       "</pre>\n"
      ],
      "text/plain": [
       "\n"
      ]
     },
     "metadata": {},
     "output_type": "display_data"
    },
    {
     "data": {
      "application/vnd.jupyter.widget-view+json": {
       "model_id": "8d6b9e0dcc9142e1ad0f8dd9c27bcb35",
       "version_major": 2,
       "version_minor": 0
      },
      "text/plain": [
       "Output()"
      ]
     },
     "metadata": {},
     "output_type": "display_data"
    },
    {
     "data": {
      "text/html": [
       "<pre style=\"white-space:pre;overflow-x:auto;line-height:normal;font-family:Menlo,'DejaVu Sans Mono',consolas,'Courier New',monospace\"></pre>\n"
      ],
      "text/plain": []
     },
     "metadata": {},
     "output_type": "display_data"
    },
    {
     "data": {
      "text/html": [
       "<pre style=\"white-space:pre;overflow-x:auto;line-height:normal;font-family:Menlo,'DejaVu Sans Mono',consolas,'Courier New',monospace\"><span style=\"color: #800080; text-decoration-color: #800080\">╭──────────────────────────────────────────── 🔧 Agent Tool Execution ────────────────────────────────────────────╮</span>\n",
       "<span style=\"color: #800080; text-decoration-color: #800080\">│</span>                                                                                                                 <span style=\"color: #800080; text-decoration-color: #800080\">│</span>\n",
       "<span style=\"color: #800080; text-decoration-color: #800080\">│</span>  <span style=\"color: #c0c0c0; text-decoration-color: #c0c0c0\">Agent: </span><span style=\"color: #00ff00; text-decoration-color: #00ff00; font-weight: bold\">AI Technology Researcher</span>                                                                                <span style=\"color: #800080; text-decoration-color: #800080\">│</span>\n",
       "<span style=\"color: #800080; text-decoration-color: #800080\">│</span>                                                                                                                 <span style=\"color: #800080; text-decoration-color: #800080\">│</span>\n",
       "<span style=\"color: #800080; text-decoration-color: #800080\">│</span>  <span style=\"color: #c0c0c0; text-decoration-color: #c0c0c0\">Thought: </span><span style=\"color: #00ff00; text-decoration-color: #00ff00\">Thought: I need to gather information about the latest developments in AI specifically for the year </span>  <span style=\"color: #800080; text-decoration-color: #800080\">│</span>\n",
       "<span style=\"color: #800080; text-decoration-color: #800080\">│</span>  <span style=\"color: #00ff00; text-decoration-color: #00ff00\">2025.</span>                                                                                                          <span style=\"color: #800080; text-decoration-color: #800080\">│</span>\n",
       "<span style=\"color: #800080; text-decoration-color: #800080\">│</span>                                                                                                                 <span style=\"color: #800080; text-decoration-color: #800080\">│</span>\n",
       "<span style=\"color: #800080; text-decoration-color: #800080\">│</span>  <span style=\"color: #c0c0c0; text-decoration-color: #c0c0c0\">Using Tool: </span><span style=\"color: #00ff00; text-decoration-color: #00ff00; font-weight: bold\">Search the internet with Serper</span>                                                                    <span style=\"color: #800080; text-decoration-color: #800080\">│</span>\n",
       "<span style=\"color: #800080; text-decoration-color: #800080\">│</span>                                                                                                                 <span style=\"color: #800080; text-decoration-color: #800080\">│</span>\n",
       "<span style=\"color: #800080; text-decoration-color: #800080\">╰─────────────────────────────────────────────────────────────────────────────────────────────────────────────────╯</span>\n",
       "</pre>\n"
      ],
      "text/plain": [
       "\u001b[35m╭─\u001b[0m\u001b[35m───────────────────────────────────────────\u001b[0m\u001b[35m 🔧 Agent Tool Execution \u001b[0m\u001b[35m───────────────────────────────────────────\u001b[0m\u001b[35m─╮\u001b[0m\n",
       "\u001b[35m│\u001b[0m                                                                                                                 \u001b[35m│\u001b[0m\n",
       "\u001b[35m│\u001b[0m  \u001b[37mAgent: \u001b[0m\u001b[1;92mAI Technology Researcher\u001b[0m                                                                                \u001b[35m│\u001b[0m\n",
       "\u001b[35m│\u001b[0m                                                                                                                 \u001b[35m│\u001b[0m\n",
       "\u001b[35m│\u001b[0m  \u001b[37mThought: \u001b[0m\u001b[92mThought: I need to gather information about the latest developments in AI specifically for the year \u001b[0m  \u001b[35m│\u001b[0m\n",
       "\u001b[35m│\u001b[0m  \u001b[92m2025.\u001b[0m                                                                                                          \u001b[35m│\u001b[0m\n",
       "\u001b[35m│\u001b[0m                                                                                                                 \u001b[35m│\u001b[0m\n",
       "\u001b[35m│\u001b[0m  \u001b[37mUsing Tool: \u001b[0m\u001b[1;92mSearch the internet with Serper\u001b[0m                                                                    \u001b[35m│\u001b[0m\n",
       "\u001b[35m│\u001b[0m                                                                                                                 \u001b[35m│\u001b[0m\n",
       "\u001b[35m╰─────────────────────────────────────────────────────────────────────────────────────────────────────────────────╯\u001b[0m\n"
      ]
     },
     "metadata": {},
     "output_type": "display_data"
    },
    {
     "data": {
      "text/html": [
       "<pre style=\"white-space:pre;overflow-x:auto;line-height:normal;font-family:Menlo,'DejaVu Sans Mono',consolas,'Courier New',monospace\"><span style=\"color: #000080; text-decoration-color: #000080\">╭────────────────────────────────────────────────── Tool Input ───────────────────────────────────────────────────╮</span>\n",
       "<span style=\"color: #000080; text-decoration-color: #000080\">│</span>                                                                                                                 <span style=\"color: #000080; text-decoration-color: #000080\">│</span>\n",
       "<span style=\"color: #000080; text-decoration-color: #000080\">│</span>  <span style=\"color: #e6db74; text-decoration-color: #e6db74; background-color: #ffffff\">\"{\\\"search_query\\\": \\\"latest developments in AI for 2025\\\"}\"</span>                                                   <span style=\"color: #000080; text-decoration-color: #000080\">│</span>\n",
       "<span style=\"color: #000080; text-decoration-color: #000080\">│</span>                                                                                                                 <span style=\"color: #000080; text-decoration-color: #000080\">│</span>\n",
       "<span style=\"color: #000080; text-decoration-color: #000080\">╰─────────────────────────────────────────────────────────────────────────────────────────────────────────────────╯</span>\n",
       "</pre>\n"
      ],
      "text/plain": [
       "\u001b[34m╭─\u001b[0m\u001b[34m─────────────────────────────────────────────────\u001b[0m\u001b[34m Tool Input \u001b[0m\u001b[34m──────────────────────────────────────────────────\u001b[0m\u001b[34m─╮\u001b[0m\n",
       "\u001b[34m│\u001b[0m                                                                                                                 \u001b[34m│\u001b[0m\n",
       "\u001b[34m│\u001b[0m  \u001b[38;2;230;219;116;49m\"{\\\"search_query\\\": \\\"latest developments in AI for 2025\\\"}\"\u001b[0m                                                   \u001b[34m│\u001b[0m\n",
       "\u001b[34m│\u001b[0m                                                                                                                 \u001b[34m│\u001b[0m\n",
       "\u001b[34m╰─────────────────────────────────────────────────────────────────────────────────────────────────────────────────╯\u001b[0m\n"
      ]
     },
     "metadata": {},
     "output_type": "display_data"
    },
    {
     "data": {
      "text/html": [
       "<pre style=\"white-space:pre;overflow-x:auto;line-height:normal;font-family:Menlo,'DejaVu Sans Mono',consolas,'Courier New',monospace\"><span style=\"color: #008000; text-decoration-color: #008000\">╭────────────────────────────────────────────────── Tool Output ──────────────────────────────────────────────────╮</span>\n",
       "<span style=\"color: #008000; text-decoration-color: #008000\">│</span>                                                                                                                 <span style=\"color: #008000; text-decoration-color: #008000\">│</span>\n",
       "<span style=\"color: #008000; text-decoration-color: #008000\">│</span>  <span style=\"color: #00ff00; text-decoration-color: #00ff00\">{'searchParameters': {'q': 'latest developments in AI for 2025', 'type': 'search', 'num': 10, 'engine': </span>       <span style=\"color: #008000; text-decoration-color: #008000\">│</span>\n",
       "<span style=\"color: #008000; text-decoration-color: #008000\">│</span>  <span style=\"color: #00ff00; text-decoration-color: #00ff00\">'google'}, 'organic': [{'title': 'Latest AI Breakthroughs and News: May, June, July 2025', 'link': </span>            <span style=\"color: #008000; text-decoration-color: #008000\">│</span>\n",
       "<span style=\"color: #008000; text-decoration-color: #008000\">│</span>  <span style=\"color: #00ff00; text-decoration-color: #00ff00\">'https://www.crescendo.ai/news/latest-ai-news-and-updates', 'snippet': \"Summary: OpenAI and SoftBank are </span>      <span style=\"color: #008000; text-decoration-color: #008000\">│</span>\n",
       "<span style=\"color: #008000; text-decoration-color: #008000\">│</span>  <span style=\"color: #00ff00; text-decoration-color: #00ff00\">planning to build a small data center by the end of 2025 to support the Stargate AI initiative . The project </span>  <span style=\"color: #008000; text-decoration-color: #008000\">│</span>\n",
       "<span style=\"color: #008000; text-decoration-color: #008000\">│</span>  <span style=\"color: #00ff00; text-decoration-color: #00ff00\">aims to explore more energy-efficient AI infrastructure at localized scales. Sources suggest this could serve</span>  <span style=\"color: #008000; text-decoration-color: #008000\">│</span>\n",
       "<span style=\"color: #008000; text-decoration-color: #008000\">│</span>  <span style=\"color: #00ff00; text-decoration-color: #00ff00\">as a pilot for SoftBank's larger $1 trillion “Crystal Land” AI hub.\", 'position': 1}, {'title': \"6 AI trends </span>  <span style=\"color: #008000; text-decoration-color: #008000\">│</span>\n",
       "<span style=\"color: #008000; text-decoration-color: #008000\">│</span>  <span style=\"color: #00ff00; text-decoration-color: #00ff00\">you'll see more of in 2025 - Microsoft News\", 'link': </span>                                                         <span style=\"color: #008000; text-decoration-color: #008000\">│</span>\n",
       "<span style=\"color: #008000; text-decoration-color: #008000\">│</span>  <span style=\"color: #00ff00; text-decoration-color: #00ff00\">'https://news.microsoft.com/source/features/ai/6-ai-trends-youll-see-more-of-in-2025/', 'snippet': 'In 2025, </span>  <span style=\"color: #008000; text-decoration-color: #008000\">│</span>\n",
       "<span style=\"color: #008000; text-decoration-color: #008000\">│</span>  <span style=\"color: #00ff00; text-decoration-color: #00ff00\">AI will evolve from a tool for work and home to an integral part of both. AI-powered agents will do more with</span>  <span style=\"color: #008000; text-decoration-color: #008000\">│</span>\n",
       "<span style=\"color: #008000; text-decoration-color: #008000\">│</span>  <span style=\"color: #00ff00; text-decoration-color: #00ff00\">greater autonomy and help simplify your ...', 'position': 2}, {'title': 'The latest AI news we announced in </span>   <span style=\"color: #008000; text-decoration-color: #008000\">│</span>\n",
       "<span style=\"color: #008000; text-decoration-color: #008000\">│</span>  <span style=\"color: #00ff00; text-decoration-color: #00ff00\">June - Google Blog', 'link': 'https://blog.google/technology/ai/google-ai-updates-june-2025/', 'snippet': </span>     <span style=\"color: #008000; text-decoration-color: #008000\">│</span>\n",
       "<span style=\"color: #008000; text-decoration-color: #008000\">│</span>  <span style=\"color: #00ff00; text-decoration-color: #00ff00\">\"Here's a recap of some of our biggest AI updates from June, including more ways to search with AI Mode, a </span>    <span style=\"color: #008000; text-decoration-color: #008000\">│</span>\n",
       "<span style=\"color: #008000; text-decoration-color: #008000\">│</span>  <span style=\"color: #00ff00; text-decoration-color: #00ff00\">new way to share your NotebookLM notebooks publicly.\", 'position': 3}, {'title': 'AI News | Latest AI News, </span>   <span style=\"color: #008000; text-decoration-color: #008000\">│</span>\n",
       "<span style=\"color: #008000; text-decoration-color: #008000\">│</span>  <span style=\"color: #00ff00; text-decoration-color: #00ff00\">Analysis &amp; Events', 'link': 'https://www.artificialintelligence-news.com/', 'snippet': 'AI News reports on </span>    <span style=\"color: #008000; text-decoration-color: #008000\">│</span>\n",
       "<span style=\"color: #008000; text-decoration-color: #008000\">│</span>  <span style=\"color: #00ff00; text-decoration-color: #00ff00\">the latest artificial intelligence news and insights. Explore industry trends from the frontline of AI.', </span>     <span style=\"color: #008000; text-decoration-color: #008000\">│</span>\n",
       "<span style=\"color: #008000; text-decoration-color: #008000\">│</span>  <span style=\"color: #00ff00; text-decoration-color: #00ff00\">'position': 4}, {'title': '5 AI Trends Shaping the Future of Public Sector in 2025', 'link': </span>                  <span style=\"color: #008000; text-decoration-color: #008000\">│</span>\n",
       "<span style=\"color: #008000; text-decoration-color: #008000\">│</span>  <span style=\"color: #00ff00; text-decoration-color: #00ff00\">'https://cloud.google.com/blog/topics/public-sector/5-ai-trends-shaping-the-future-of-the-public-sector-in-20</span>  <span style=\"color: #008000; text-decoration-color: #008000\">│</span>\n",
       "<span style=\"color: #008000; text-decoration-color: #008000\">│</span>  <span style=\"color: #00ff00; text-decoration-color: #00ff00\">25', 'snippet': 'Trend #1: Multimodal AI: Unleashing the power of context · Trend #2: AI agents: The </span>          <span style=\"color: #008000; text-decoration-color: #008000\">│</span>\n",
       "<span style=\"color: #008000; text-decoration-color: #008000\">│</span>  <span style=\"color: #00ff00; text-decoration-color: #00ff00\">evolution from chatbots to multi-agent systems · Trend #3: ...', 'position': 5}, {'title': 'The Future of AI </span>  <span style=\"color: #008000; text-decoration-color: #008000\">│</span>\n",
       "<span style=\"color: #008000; text-decoration-color: #008000\">│</span>  <span style=\"color: #00ff00; text-decoration-color: #00ff00\">| 2025 Predictions from Cengage Gr...</span>                                                                          <span style=\"color: #008000; text-decoration-color: #008000\">│</span>\n",
       "<span style=\"color: #008000; text-decoration-color: #008000\">│</span>                                                                                                                 <span style=\"color: #008000; text-decoration-color: #008000\">│</span>\n",
       "<span style=\"color: #008000; text-decoration-color: #008000\">╰─────────────────────────────────────────────────────────────────────────────────────────────────────────────────╯</span>\n",
       "</pre>\n"
      ],
      "text/plain": [
       "\u001b[32m╭─\u001b[0m\u001b[32m─────────────────────────────────────────────────\u001b[0m\u001b[32m Tool Output \u001b[0m\u001b[32m─────────────────────────────────────────────────\u001b[0m\u001b[32m─╮\u001b[0m\n",
       "\u001b[32m│\u001b[0m                                                                                                                 \u001b[32m│\u001b[0m\n",
       "\u001b[32m│\u001b[0m  \u001b[92m{'searchParameters': {'q': 'latest developments in AI for 2025', 'type': 'search', 'num': 10, 'engine': \u001b[0m       \u001b[32m│\u001b[0m\n",
       "\u001b[32m│\u001b[0m  \u001b[92m'google'}, 'organic': [{'title': 'Latest AI Breakthroughs and News: May, June, July 2025', 'link': \u001b[0m            \u001b[32m│\u001b[0m\n",
       "\u001b[32m│\u001b[0m  \u001b[92m'https://www.crescendo.ai/news/latest-ai-news-and-updates', 'snippet': \"Summary: OpenAI and SoftBank are \u001b[0m      \u001b[32m│\u001b[0m\n",
       "\u001b[32m│\u001b[0m  \u001b[92mplanning to build a small data center by the end of 2025 to support the Stargate AI initiative . The project \u001b[0m  \u001b[32m│\u001b[0m\n",
       "\u001b[32m│\u001b[0m  \u001b[92maims to explore more energy-efficient AI infrastructure at localized scales. Sources suggest this could serve\u001b[0m  \u001b[32m│\u001b[0m\n",
       "\u001b[32m│\u001b[0m  \u001b[92mas a pilot for SoftBank's larger $1 trillion “Crystal Land” AI hub.\", 'position': 1}, {'title': \"6 AI trends \u001b[0m  \u001b[32m│\u001b[0m\n",
       "\u001b[32m│\u001b[0m  \u001b[92myou'll see more of in 2025 - Microsoft News\", 'link': \u001b[0m                                                         \u001b[32m│\u001b[0m\n",
       "\u001b[32m│\u001b[0m  \u001b[92m'https://news.microsoft.com/source/features/ai/6-ai-trends-youll-see-more-of-in-2025/', 'snippet': 'In 2025, \u001b[0m  \u001b[32m│\u001b[0m\n",
       "\u001b[32m│\u001b[0m  \u001b[92mAI will evolve from a tool for work and home to an integral part of both. AI-powered agents will do more with\u001b[0m  \u001b[32m│\u001b[0m\n",
       "\u001b[32m│\u001b[0m  \u001b[92mgreater autonomy and help simplify your ...', 'position': 2}, {'title': 'The latest AI news we announced in \u001b[0m   \u001b[32m│\u001b[0m\n",
       "\u001b[32m│\u001b[0m  \u001b[92mJune - Google Blog', 'link': 'https://blog.google/technology/ai/google-ai-updates-june-2025/', 'snippet': \u001b[0m     \u001b[32m│\u001b[0m\n",
       "\u001b[32m│\u001b[0m  \u001b[92m\"Here's a recap of some of our biggest AI updates from June, including more ways to search with AI Mode, a \u001b[0m    \u001b[32m│\u001b[0m\n",
       "\u001b[32m│\u001b[0m  \u001b[92mnew way to share your NotebookLM notebooks publicly.\", 'position': 3}, {'title': 'AI News | Latest AI News, \u001b[0m   \u001b[32m│\u001b[0m\n",
       "\u001b[32m│\u001b[0m  \u001b[92mAnalysis & Events', 'link': 'https://www.artificialintelligence-news.com/', 'snippet': 'AI News reports on \u001b[0m    \u001b[32m│\u001b[0m\n",
       "\u001b[32m│\u001b[0m  \u001b[92mthe latest artificial intelligence news and insights. Explore industry trends from the frontline of AI.', \u001b[0m     \u001b[32m│\u001b[0m\n",
       "\u001b[32m│\u001b[0m  \u001b[92m'position': 4}, {'title': '5 AI Trends Shaping the Future of Public Sector in 2025', 'link': \u001b[0m                  \u001b[32m│\u001b[0m\n",
       "\u001b[32m│\u001b[0m  \u001b[92m'https://cloud.google.com/blog/topics/public-sector/5-ai-trends-shaping-the-future-of-the-public-sector-in-20\u001b[0m  \u001b[32m│\u001b[0m\n",
       "\u001b[32m│\u001b[0m  \u001b[92m25', 'snippet': 'Trend #1: Multimodal AI: Unleashing the power of context · Trend #2: AI agents: The \u001b[0m          \u001b[32m│\u001b[0m\n",
       "\u001b[32m│\u001b[0m  \u001b[92mevolution from chatbots to multi-agent systems · Trend #3: ...', 'position': 5}, {'title': 'The Future of AI \u001b[0m  \u001b[32m│\u001b[0m\n",
       "\u001b[32m│\u001b[0m  \u001b[92m| 2025 Predictions from Cengage Gr...\u001b[0m                                                                          \u001b[32m│\u001b[0m\n",
       "\u001b[32m│\u001b[0m                                                                                                                 \u001b[32m│\u001b[0m\n",
       "\u001b[32m╰─────────────────────────────────────────────────────────────────────────────────────────────────────────────────╯\u001b[0m\n"
      ]
     },
     "metadata": {},
     "output_type": "display_data"
    },
    {
     "data": {
      "text/html": [
       "<pre style=\"white-space:pre;overflow-x:auto;line-height:normal;font-family:Menlo,'DejaVu Sans Mono',consolas,'Courier New',monospace\">\n",
       "</pre>\n"
      ],
      "text/plain": [
       "\n"
      ]
     },
     "metadata": {},
     "output_type": "display_data"
    },
    {
     "data": {
      "application/vnd.jupyter.widget-view+json": {
       "model_id": "8d6d6a88ca57454cb514a1abfcd3e878",
       "version_major": 2,
       "version_minor": 0
      },
      "text/plain": [
       "Output()"
      ]
     },
     "metadata": {},
     "output_type": "display_data"
    },
    {
     "data": {
      "text/html": [
       "<pre style=\"white-space:pre;overflow-x:auto;line-height:normal;font-family:Menlo,'DejaVu Sans Mono',consolas,'Courier New',monospace\"></pre>\n"
      ],
      "text/plain": []
     },
     "metadata": {},
     "output_type": "display_data"
    },
    {
     "data": {
      "text/html": [
       "<pre style=\"white-space:pre;overflow-x:auto;line-height:normal;font-family:Menlo,'DejaVu Sans Mono',consolas,'Courier New',monospace\"><span style=\"color: #008000; text-decoration-color: #008000\">╭───────────────────────────────────────────── ✅ Agent Final Answer ─────────────────────────────────────────────╮</span>\n",
       "<span style=\"color: #008000; text-decoration-color: #008000\">│</span>                                                                                                                 <span style=\"color: #008000; text-decoration-color: #008000\">│</span>\n",
       "<span style=\"color: #008000; text-decoration-color: #008000\">│</span>  <span style=\"color: #c0c0c0; text-decoration-color: #c0c0c0\">Agent: </span><span style=\"color: #00ff00; text-decoration-color: #00ff00; font-weight: bold\">AI Technology Researcher</span>                                                                                <span style=\"color: #008000; text-decoration-color: #008000\">│</span>\n",
       "<span style=\"color: #008000; text-decoration-color: #008000\">│</span>                                                                                                                 <span style=\"color: #008000; text-decoration-color: #008000\">│</span>\n",
       "<span style=\"color: #008000; text-decoration-color: #008000\">│</span>  <span style=\"color: #c0c0c0; text-decoration-color: #c0c0c0\">Final Answer:</span>                                                                                                  <span style=\"color: #008000; text-decoration-color: #008000\">│</span>\n",
       "<span style=\"color: #008000; text-decoration-color: #008000\">│</span>  <span style=\"color: #00ff00; text-decoration-color: #00ff00\">{</span>                                                                                                              <span style=\"color: #008000; text-decoration-color: #008000\">│</span>\n",
       "<span style=\"color: #008000; text-decoration-color: #008000\">│</span>  <span style=\"color: #00ff00; text-decoration-color: #00ff00\">  \"main_points\": [</span>                                                                                             <span style=\"color: #008000; text-decoration-color: #008000\">│</span>\n",
       "<span style=\"color: #008000; text-decoration-color: #008000\">│</span>  <span style=\"color: #00ff00; text-decoration-color: #00ff00\">    \"AI will evolve from a tool for work and home to an integral part of both, with AI-powered agents having </span>  <span style=\"color: #008000; text-decoration-color: #008000\">│</span>\n",
       "<span style=\"color: #008000; text-decoration-color: #008000\">│</span>  <span style=\"color: #00ff00; text-decoration-color: #00ff00\">greater autonomy.\",</span>                                                                                            <span style=\"color: #008000; text-decoration-color: #008000\">│</span>\n",
       "<span style=\"color: #008000; text-decoration-color: #008000\">│</span>  <span style=\"color: #00ff00; text-decoration-color: #00ff00\">    \"Advancements in multimodal AI will leverage context to improve interactions and functionality.\",</span>          <span style=\"color: #008000; text-decoration-color: #008000\">│</span>\n",
       "<span style=\"color: #008000; text-decoration-color: #008000\">│</span>  <span style=\"color: #00ff00; text-decoration-color: #00ff00\">    \"The development of autonomous systems and multi-agent AI systems will mark a significant trend.\",</span>         <span style=\"color: #008000; text-decoration-color: #008000\">│</span>\n",
       "<span style=\"color: #008000; text-decoration-color: #008000\">│</span>  <span style=\"color: #00ff00; text-decoration-color: #00ff00\">    \"Cost-efficient and smaller AI models will increase the accessibility and functionality of AI </span>             <span style=\"color: #008000; text-decoration-color: #008000\">│</span>\n",
       "<span style=\"color: #008000; text-decoration-color: #008000\">│</span>  <span style=\"color: #00ff00; text-decoration-color: #00ff00\">applications.\",</span>                                                                                                <span style=\"color: #008000; text-decoration-color: #008000\">│</span>\n",
       "<span style=\"color: #008000; text-decoration-color: #008000\">│</span>  <span style=\"color: #00ff00; text-decoration-color: #00ff00\">    \"OpenAI and SoftBank are planning to build a small data center to support energy-efficient AI </span>             <span style=\"color: #008000; text-decoration-color: #008000\">│</span>\n",
       "<span style=\"color: #008000; text-decoration-color: #008000\">│</span>  <span style=\"color: #00ff00; text-decoration-color: #00ff00\">infrastructure.\"</span>                                                                                               <span style=\"color: #008000; text-decoration-color: #008000\">│</span>\n",
       "<span style=\"color: #008000; text-decoration-color: #008000\">│</span>  <span style=\"color: #00ff00; text-decoration-color: #00ff00\">  ],</span>                                                                                                           <span style=\"color: #008000; text-decoration-color: #008000\">│</span>\n",
       "<span style=\"color: #008000; text-decoration-color: #008000\">│</span>  <span style=\"color: #00ff00; text-decoration-color: #00ff00\">  \"key_technologies\": [</span>                                                                                        <span style=\"color: #008000; text-decoration-color: #008000\">│</span>\n",
       "<span style=\"color: #008000; text-decoration-color: #008000\">│</span>  <span style=\"color: #00ff00; text-decoration-color: #00ff00\">    \"Multimodal AI\",</span>                                                                                           <span style=\"color: #008000; text-decoration-color: #008000\">│</span>\n",
       "<span style=\"color: #008000; text-decoration-color: #008000\">│</span>  <span style=\"color: #00ff00; text-decoration-color: #00ff00\">    \"AI-powered agents\",</span>                                                                                       <span style=\"color: #008000; text-decoration-color: #008000\">│</span>\n",
       "<span style=\"color: #008000; text-decoration-color: #008000\">│</span>  <span style=\"color: #00ff00; text-decoration-color: #00ff00\">    \"Autonomous systems\",</span>                                                                                      <span style=\"color: #008000; text-decoration-color: #008000\">│</span>\n",
       "<span style=\"color: #008000; text-decoration-color: #008000\">│</span>  <span style=\"color: #00ff00; text-decoration-color: #00ff00\">    \"Small AI models\",</span>                                                                                         <span style=\"color: #008000; text-decoration-color: #008000\">│</span>\n",
       "<span style=\"color: #008000; text-decoration-color: #008000\">│</span>  <span style=\"color: #00ff00; text-decoration-color: #00ff00\">    \"Energy-efficient data centers\"</span>                                                                            <span style=\"color: #008000; text-decoration-color: #008000\">│</span>\n",
       "<span style=\"color: #008000; text-decoration-color: #008000\">│</span>  <span style=\"color: #00ff00; text-decoration-color: #00ff00\">  ],</span>                                                                                                           <span style=\"color: #008000; text-decoration-color: #008000\">│</span>\n",
       "<span style=\"color: #008000; text-decoration-color: #008000\">│</span>  <span style=\"color: #00ff00; text-decoration-color: #00ff00\">  \"future_predictions\": \"By 2025, AI will permeate daily life further, influencing learning, work, and </span>        <span style=\"color: #008000; text-decoration-color: #008000\">│</span>\n",
       "<span style=\"color: #008000; text-decoration-color: #008000\">│</span>  <span style=\"color: #00ff00; text-decoration-color: #00ff00\">business, with continued emphasis on efficiency and accessibility.\"</span>                                            <span style=\"color: #008000; text-decoration-color: #008000\">│</span>\n",
       "<span style=\"color: #008000; text-decoration-color: #008000\">│</span>  <span style=\"color: #00ff00; text-decoration-color: #00ff00\">}</span>                                                                                                              <span style=\"color: #008000; text-decoration-color: #008000\">│</span>\n",
       "<span style=\"color: #008000; text-decoration-color: #008000\">│</span>                                                                                                                 <span style=\"color: #008000; text-decoration-color: #008000\">│</span>\n",
       "<span style=\"color: #008000; text-decoration-color: #008000\">╰─────────────────────────────────────────────────────────────────────────────────────────────────────────────────╯</span>\n",
       "</pre>\n"
      ],
      "text/plain": [
       "\u001b[32m╭─\u001b[0m\u001b[32m────────────────────────────────────────────\u001b[0m\u001b[32m ✅ Agent Final Answer \u001b[0m\u001b[32m────────────────────────────────────────────\u001b[0m\u001b[32m─╮\u001b[0m\n",
       "\u001b[32m│\u001b[0m                                                                                                                 \u001b[32m│\u001b[0m\n",
       "\u001b[32m│\u001b[0m  \u001b[37mAgent: \u001b[0m\u001b[1;92mAI Technology Researcher\u001b[0m                                                                                \u001b[32m│\u001b[0m\n",
       "\u001b[32m│\u001b[0m                                                                                                                 \u001b[32m│\u001b[0m\n",
       "\u001b[32m│\u001b[0m  \u001b[37mFinal Answer:\u001b[0m                                                                                                  \u001b[32m│\u001b[0m\n",
       "\u001b[32m│\u001b[0m  \u001b[92m{\u001b[0m                                                                                                              \u001b[32m│\u001b[0m\n",
       "\u001b[32m│\u001b[0m  \u001b[92m  \"main_points\": [\u001b[0m                                                                                             \u001b[32m│\u001b[0m\n",
       "\u001b[32m│\u001b[0m  \u001b[92m    \"AI will evolve from a tool for work and home to an integral part of both, with AI-powered agents having \u001b[0m  \u001b[32m│\u001b[0m\n",
       "\u001b[32m│\u001b[0m  \u001b[92mgreater autonomy.\",\u001b[0m                                                                                            \u001b[32m│\u001b[0m\n",
       "\u001b[32m│\u001b[0m  \u001b[92m    \"Advancements in multimodal AI will leverage context to improve interactions and functionality.\",\u001b[0m          \u001b[32m│\u001b[0m\n",
       "\u001b[32m│\u001b[0m  \u001b[92m    \"The development of autonomous systems and multi-agent AI systems will mark a significant trend.\",\u001b[0m         \u001b[32m│\u001b[0m\n",
       "\u001b[32m│\u001b[0m  \u001b[92m    \"Cost-efficient and smaller AI models will increase the accessibility and functionality of AI \u001b[0m             \u001b[32m│\u001b[0m\n",
       "\u001b[32m│\u001b[0m  \u001b[92mapplications.\",\u001b[0m                                                                                                \u001b[32m│\u001b[0m\n",
       "\u001b[32m│\u001b[0m  \u001b[92m    \"OpenAI and SoftBank are planning to build a small data center to support energy-efficient AI \u001b[0m             \u001b[32m│\u001b[0m\n",
       "\u001b[32m│\u001b[0m  \u001b[92minfrastructure.\"\u001b[0m                                                                                               \u001b[32m│\u001b[0m\n",
       "\u001b[32m│\u001b[0m  \u001b[92m  ],\u001b[0m                                                                                                           \u001b[32m│\u001b[0m\n",
       "\u001b[32m│\u001b[0m  \u001b[92m  \"key_technologies\": [\u001b[0m                                                                                        \u001b[32m│\u001b[0m\n",
       "\u001b[32m│\u001b[0m  \u001b[92m    \"Multimodal AI\",\u001b[0m                                                                                           \u001b[32m│\u001b[0m\n",
       "\u001b[32m│\u001b[0m  \u001b[92m    \"AI-powered agents\",\u001b[0m                                                                                       \u001b[32m│\u001b[0m\n",
       "\u001b[32m│\u001b[0m  \u001b[92m    \"Autonomous systems\",\u001b[0m                                                                                      \u001b[32m│\u001b[0m\n",
       "\u001b[32m│\u001b[0m  \u001b[92m    \"Small AI models\",\u001b[0m                                                                                         \u001b[32m│\u001b[0m\n",
       "\u001b[32m│\u001b[0m  \u001b[92m    \"Energy-efficient data centers\"\u001b[0m                                                                            \u001b[32m│\u001b[0m\n",
       "\u001b[32m│\u001b[0m  \u001b[92m  ],\u001b[0m                                                                                                           \u001b[32m│\u001b[0m\n",
       "\u001b[32m│\u001b[0m  \u001b[92m  \"future_predictions\": \"By 2025, AI will permeate daily life further, influencing learning, work, and \u001b[0m        \u001b[32m│\u001b[0m\n",
       "\u001b[32m│\u001b[0m  \u001b[92mbusiness, with continued emphasis on efficiency and accessibility.\"\u001b[0m                                            \u001b[32m│\u001b[0m\n",
       "\u001b[32m│\u001b[0m  \u001b[92m}\u001b[0m                                                                                                              \u001b[32m│\u001b[0m\n",
       "\u001b[32m│\u001b[0m                                                                                                                 \u001b[32m│\u001b[0m\n",
       "\u001b[32m╰─────────────────────────────────────────────────────────────────────────────────────────────────────────────────╯\u001b[0m\n"
      ]
     },
     "metadata": {},
     "output_type": "display_data"
    },
    {
     "data": {
      "text/html": [
       "<pre style=\"white-space:pre;overflow-x:auto;line-height:normal;font-family:Menlo,'DejaVu Sans Mono',consolas,'Courier New',monospace\">\n",
       "</pre>\n"
      ],
      "text/plain": [
       "\n"
      ]
     },
     "metadata": {},
     "output_type": "display_data"
    },
    {
     "data": {
      "text/html": [
       "<pre style=\"white-space:pre;overflow-x:auto;line-height:normal;font-family:Menlo,'DejaVu Sans Mono',consolas,'Courier New',monospace\"></pre>\n"
      ],
      "text/plain": []
     },
     "metadata": {},
     "output_type": "display_data"
    },
    {
     "data": {
      "text/html": [
       "<pre style=\"white-space:pre;overflow-x:auto;line-height:normal;font-family:Menlo,'DejaVu Sans Mono',consolas,'Courier New',monospace\"><span style=\"color: #008000; text-decoration-color: #008000\">╭───────────────────────────────────────────── LiteAgent Completion ──────────────────────────────────────────────╮</span>\n",
       "<span style=\"color: #008000; text-decoration-color: #008000\">│</span>                                                                                                                 <span style=\"color: #008000; text-decoration-color: #008000\">│</span>\n",
       "<span style=\"color: #008000; text-decoration-color: #008000\">│</span>  <span style=\"color: #008000; text-decoration-color: #008000; font-weight: bold\">LiteAgent Completed</span>                                                                                            <span style=\"color: #008000; text-decoration-color: #008000\">│</span>\n",
       "<span style=\"color: #008000; text-decoration-color: #008000\">│</span>  <span style=\"color: #c0c0c0; text-decoration-color: #c0c0c0\">Name: </span><span style=\"color: #008000; text-decoration-color: #008000\">AI Technology Researcher</span>                                                                                 <span style=\"color: #008000; text-decoration-color: #008000\">│</span>\n",
       "<span style=\"color: #008000; text-decoration-color: #008000\">│</span>  <span style=\"color: #c0c0c0; text-decoration-color: #c0c0c0\">id: </span><span style=\"color: #008000; text-decoration-color: #008000\">0e87979b-18f3-4a27-8b25-689ec59189f1</span>                                                                       <span style=\"color: #008000; text-decoration-color: #008000\">│</span>\n",
       "<span style=\"color: #008000; text-decoration-color: #008000\">│</span>  <span style=\"color: #c0c0c0; text-decoration-color: #c0c0c0\">role: </span><span style=\"color: #008000; text-decoration-color: #008000\">AI Technology Researcher</span>                                                                                 <span style=\"color: #008000; text-decoration-color: #008000\">│</span>\n",
       "<span style=\"color: #008000; text-decoration-color: #008000\">│</span>  <span style=\"color: #c0c0c0; text-decoration-color: #c0c0c0\">goal: </span><span style=\"color: #008000; text-decoration-color: #008000\">Research the latest AI developments and trends</span>                                                           <span style=\"color: #008000; text-decoration-color: #008000\">│</span>\n",
       "<span style=\"color: #008000; text-decoration-color: #008000\">│</span>  <span style=\"color: #c0c0c0; text-decoration-color: #c0c0c0\">backstory: </span>                                                                                                    <span style=\"color: #008000; text-decoration-color: #008000\">│</span>\n",
       "<span style=\"color: #008000; text-decoration-color: #008000\">│</span>  <span style=\"color: #008000; text-decoration-color: #008000\">    You are an expert AI researcher with 10+ years of experience in machine learning, </span>                         <span style=\"color: #008000; text-decoration-color: #008000\">│</span>\n",
       "<span style=\"color: #008000; text-decoration-color: #008000\">│</span>  <span style=\"color: #008000; text-decoration-color: #008000\">    natural language processing, and artificial intelligence. You have a PhD in Computer Science </span>              <span style=\"color: #008000; text-decoration-color: #008000\">│</span>\n",
       "<span style=\"color: #008000; text-decoration-color: #008000\">│</span>  <span style=\"color: #008000; text-decoration-color: #008000\">    and have published numerous papers on AI advancements. You're known for your ability to </span>                   <span style=\"color: #008000; text-decoration-color: #008000\">│</span>\n",
       "<span style=\"color: #008000; text-decoration-color: #008000\">│</span>  <span style=\"color: #008000; text-decoration-color: #008000\">    identify emerging trends and explain complex AI concepts in simple terms.</span>                                  <span style=\"color: #008000; text-decoration-color: #008000\">│</span>\n",
       "<span style=\"color: #008000; text-decoration-color: #008000\">│</span>  <span style=\"color: #008000; text-decoration-color: #008000\">    </span>                                                                                                           <span style=\"color: #008000; text-decoration-color: #008000\">│</span>\n",
       "<span style=\"color: #008000; text-decoration-color: #008000\">│</span>  <span style=\"color: #c0c0c0; text-decoration-color: #c0c0c0\">tools: </span><span style=\"color: #008000; text-decoration-color: #008000\">[CrewStructuredTool(name='Search the internet with Serper', description='Tool Name: Search the </span>         <span style=\"color: #008000; text-decoration-color: #008000\">│</span>\n",
       "<span style=\"color: #008000; text-decoration-color: #008000\">│</span>  <span style=\"color: #008000; text-decoration-color: #008000\">internet with Serper</span>                                                                                           <span style=\"color: #008000; text-decoration-color: #008000\">│</span>\n",
       "<span style=\"color: #008000; text-decoration-color: #008000\">│</span>  <span style=\"color: #008000; text-decoration-color: #008000\">Tool Arguments: {'search_query': {'description': 'Mandatory search query you want to use to search the </span>        <span style=\"color: #008000; text-decoration-color: #008000\">│</span>\n",
       "<span style=\"color: #008000; text-decoration-color: #008000\">│</span>  <span style=\"color: #008000; text-decoration-color: #008000\">internet', 'type': 'str'}}</span>                                                                                     <span style=\"color: #008000; text-decoration-color: #008000\">│</span>\n",
       "<span style=\"color: #008000; text-decoration-color: #008000\">│</span>  <span style=\"color: #008000; text-decoration-color: #008000\">Tool Description: A tool that can be used to search the internet with a search_query. Supports different </span>      <span style=\"color: #008000; text-decoration-color: #008000\">│</span>\n",
       "<span style=\"color: #008000; text-decoration-color: #008000\">│</span>  <span style=\"color: #008000; text-decoration-color: #008000\">search types: 'search' (default), 'news'')]</span>                                                                    <span style=\"color: #008000; text-decoration-color: #008000\">│</span>\n",
       "<span style=\"color: #008000; text-decoration-color: #008000\">│</span>  <span style=\"color: #c0c0c0; text-decoration-color: #c0c0c0\">verbose: </span><span style=\"color: #008000; text-decoration-color: #008000\">True</span>                                                                                                  <span style=\"color: #008000; text-decoration-color: #008000\">│</span>\n",
       "<span style=\"color: #008000; text-decoration-color: #008000\">│</span>  <span style=\"color: #c0c0c0; text-decoration-color: #c0c0c0\">Tool Args: </span>                                                                                                    <span style=\"color: #008000; text-decoration-color: #008000\">│</span>\n",
       "<span style=\"color: #008000; text-decoration-color: #008000\">│</span>                                                                                                                 <span style=\"color: #008000; text-decoration-color: #008000\">│</span>\n",
       "<span style=\"color: #008000; text-decoration-color: #008000\">│</span>                                                                                                                 <span style=\"color: #008000; text-decoration-color: #008000\">│</span>\n",
       "<span style=\"color: #008000; text-decoration-color: #008000\">╰─────────────────────────────────────────────────────────────────────────────────────────────────────────────────╯</span>\n",
       "</pre>\n"
      ],
      "text/plain": [
       "\u001b[32m╭─\u001b[0m\u001b[32m────────────────────────────────────────────\u001b[0m\u001b[32m LiteAgent Completion \u001b[0m\u001b[32m─────────────────────────────────────────────\u001b[0m\u001b[32m─╮\u001b[0m\n",
       "\u001b[32m│\u001b[0m                                                                                                                 \u001b[32m│\u001b[0m\n",
       "\u001b[32m│\u001b[0m  \u001b[1;32mLiteAgent Completed\u001b[0m                                                                                            \u001b[32m│\u001b[0m\n",
       "\u001b[32m│\u001b[0m  \u001b[37mName: \u001b[0m\u001b[32mAI Technology Researcher\u001b[0m                                                                                 \u001b[32m│\u001b[0m\n",
       "\u001b[32m│\u001b[0m  \u001b[37mid: \u001b[0m\u001b[32m0e87979b-18f3-4a27-8b25-689ec59189f1\u001b[0m                                                                       \u001b[32m│\u001b[0m\n",
       "\u001b[32m│\u001b[0m  \u001b[37mrole: \u001b[0m\u001b[32mAI Technology Researcher\u001b[0m                                                                                 \u001b[32m│\u001b[0m\n",
       "\u001b[32m│\u001b[0m  \u001b[37mgoal: \u001b[0m\u001b[32mResearch the latest AI developments and trends\u001b[0m                                                           \u001b[32m│\u001b[0m\n",
       "\u001b[32m│\u001b[0m  \u001b[37mbackstory: \u001b[0m                                                                                                    \u001b[32m│\u001b[0m\n",
       "\u001b[32m│\u001b[0m  \u001b[32m    You are an expert AI researcher with 10+ years of experience in machine learning, \u001b[0m                         \u001b[32m│\u001b[0m\n",
       "\u001b[32m│\u001b[0m  \u001b[32m    natural language processing, and artificial intelligence. You have a PhD in Computer Science \u001b[0m              \u001b[32m│\u001b[0m\n",
       "\u001b[32m│\u001b[0m  \u001b[32m    and have published numerous papers on AI advancements. You're known for your ability to \u001b[0m                   \u001b[32m│\u001b[0m\n",
       "\u001b[32m│\u001b[0m  \u001b[32m    identify emerging trends and explain complex AI concepts in simple terms.\u001b[0m                                  \u001b[32m│\u001b[0m\n",
       "\u001b[32m│\u001b[0m  \u001b[32m    \u001b[0m                                                                                                           \u001b[32m│\u001b[0m\n",
       "\u001b[32m│\u001b[0m  \u001b[37mtools: \u001b[0m\u001b[32m[CrewStructuredTool(name='Search the internet with Serper', description='Tool Name: Search the \u001b[0m         \u001b[32m│\u001b[0m\n",
       "\u001b[32m│\u001b[0m  \u001b[32minternet with Serper\u001b[0m                                                                                           \u001b[32m│\u001b[0m\n",
       "\u001b[32m│\u001b[0m  \u001b[32mTool Arguments: {'search_query': {'description': 'Mandatory search query you want to use to search the \u001b[0m        \u001b[32m│\u001b[0m\n",
       "\u001b[32m│\u001b[0m  \u001b[32minternet', 'type': 'str'}}\u001b[0m                                                                                     \u001b[32m│\u001b[0m\n",
       "\u001b[32m│\u001b[0m  \u001b[32mTool Description: A tool that can be used to search the internet with a search_query. Supports different \u001b[0m      \u001b[32m│\u001b[0m\n",
       "\u001b[32m│\u001b[0m  \u001b[32msearch types: 'search' (default), 'news'')]\u001b[0m                                                                    \u001b[32m│\u001b[0m\n",
       "\u001b[32m│\u001b[0m  \u001b[37mverbose: \u001b[0m\u001b[32mTrue\u001b[0m                                                                                                  \u001b[32m│\u001b[0m\n",
       "\u001b[32m│\u001b[0m  \u001b[37mTool Args: \u001b[0m                                                                                                    \u001b[32m│\u001b[0m\n",
       "\u001b[32m│\u001b[0m                                                                                                                 \u001b[32m│\u001b[0m\n",
       "\u001b[32m│\u001b[0m                                                                                                                 \u001b[32m│\u001b[0m\n",
       "\u001b[32m╰─────────────────────────────────────────────────────────────────────────────────────────────────────────────────╯\u001b[0m\n"
      ]
     },
     "metadata": {},
     "output_type": "display_data"
    },
    {
     "data": {
      "text/html": [
       "<pre style=\"white-space:pre;overflow-x:auto;line-height:normal;font-family:Menlo,'DejaVu Sans Mono',consolas,'Courier New',monospace\">\n",
       "</pre>\n"
      ],
      "text/plain": [
       "\n"
      ]
     },
     "metadata": {},
     "output_type": "display_data"
    },
    {
     "name": "stdout",
     "output_type": "stream",
     "text": [
      "📊 Datos estructurados:\n",
      "Main Points: ['AI will evolve from a tool for work and home to an integral part of both, with AI-powered agents having greater autonomy.', 'Advancements in multimodal AI will leverage context to improve interactions and functionality.', 'The development of autonomous systems and multi-agent AI systems will mark a significant trend.', 'Cost-efficient and smaller AI models will increase the accessibility and functionality of AI applications.', 'OpenAI and SoftBank are planning to build a small data center to support energy-efficient AI infrastructure.']\n",
      "Key Technologies: ['Multimodal AI', 'AI-powered agents', 'Autonomous systems', 'Small AI models', 'Energy-efficient data centers']\n",
      "Future Predictions: By 2025, AI will permeate daily life further, influencing learning, work, and business, with continued emphasis on efficiency and accessibility.\n"
     ]
    }
   ],
   "source": [
    "# Ejemplo con salida estructurada usando Pydantic\n",
    "from pydantic import BaseModel\n",
    "from typing import List\n",
    "\n",
    "class ResearchFindings(BaseModel):\n",
    "    main_points: List[str]\n",
    "    key_technologies: List[str]\n",
    "    future_predictions: str\n",
    "\n",
    "# Obtener salida estructurada\n",
    "result = researcher.kickoff(\n",
    "    \"Summarize the latest developments in AI for 2025\",\n",
    "    response_format=ResearchFindings\n",
    ")\n",
    "\n",
    "print(\"📊 Datos estructurados:\")\n",
    "print(f\"Main Points: {result.pydantic.main_points}\")\n",
    "print(f\"Key Technologies: {result.pydantic.key_technologies}\")\n",
    "print(f\"Future Predictions: {result.pydantic.future_predictions}\")"
   ]
  },
  {
   "cell_type": "code",
   "execution_count": 17,
   "metadata": {},
   "outputs": [
    {
     "data": {
      "text/html": [
       "<pre style=\"white-space:pre;overflow-x:auto;line-height:normal;font-family:Menlo,'DejaVu Sans Mono',consolas,'Courier New',monospace\"><span style=\"color: #008080; text-decoration-color: #008080\">╭─────────────────────────────────────────────── LiteAgent Started ───────────────────────────────────────────────╮</span>\n",
       "<span style=\"color: #008080; text-decoration-color: #008080\">│</span>                                                                                                                 <span style=\"color: #008080; text-decoration-color: #008080\">│</span>\n",
       "<span style=\"color: #008080; text-decoration-color: #008080\">│</span>  <span style=\"color: #008080; text-decoration-color: #008080; font-weight: bold\">LiteAgent Session Started</span>                                                                                      <span style=\"color: #008080; text-decoration-color: #008080\">│</span>\n",
       "<span style=\"color: #008080; text-decoration-color: #008080\">│</span>  <span style=\"color: #c0c0c0; text-decoration-color: #c0c0c0\">Name: </span><span style=\"color: #008080; text-decoration-color: #008080\">AI Technology Researcher</span>                                                                                 <span style=\"color: #008080; text-decoration-color: #008080\">│</span>\n",
       "<span style=\"color: #008080; text-decoration-color: #008080\">│</span>  <span style=\"color: #c0c0c0; text-decoration-color: #c0c0c0\">id: </span><span style=\"color: #008080; text-decoration-color: #008080\">0e87979b-18f3-4a27-8b25-689ec59189f1</span>                                                                       <span style=\"color: #008080; text-decoration-color: #008080\">│</span>\n",
       "<span style=\"color: #008080; text-decoration-color: #008080\">│</span>  <span style=\"color: #c0c0c0; text-decoration-color: #c0c0c0\">role: </span><span style=\"color: #008080; text-decoration-color: #008080\">AI Technology Researcher</span>                                                                                 <span style=\"color: #008080; text-decoration-color: #008080\">│</span>\n",
       "<span style=\"color: #008080; text-decoration-color: #008080\">│</span>  <span style=\"color: #c0c0c0; text-decoration-color: #c0c0c0\">goal: </span><span style=\"color: #008080; text-decoration-color: #008080\">Research the latest AI developments and trends</span>                                                           <span style=\"color: #008080; text-decoration-color: #008080\">│</span>\n",
       "<span style=\"color: #008080; text-decoration-color: #008080\">│</span>  <span style=\"color: #c0c0c0; text-decoration-color: #c0c0c0\">backstory: </span>                                                                                                    <span style=\"color: #008080; text-decoration-color: #008080\">│</span>\n",
       "<span style=\"color: #008080; text-decoration-color: #008080\">│</span>  <span style=\"color: #008080; text-decoration-color: #008080\">    You are an expert AI researcher with 10+ years of experience in machine learning, </span>                         <span style=\"color: #008080; text-decoration-color: #008080\">│</span>\n",
       "<span style=\"color: #008080; text-decoration-color: #008080\">│</span>  <span style=\"color: #008080; text-decoration-color: #008080\">    natural language processing, and artificial intelligence. You have a PhD in Computer Science </span>              <span style=\"color: #008080; text-decoration-color: #008080\">│</span>\n",
       "<span style=\"color: #008080; text-decoration-color: #008080\">│</span>  <span style=\"color: #008080; text-decoration-color: #008080\">    and have published numerous papers on AI advancements. You're known for your ability to </span>                   <span style=\"color: #008080; text-decoration-color: #008080\">│</span>\n",
       "<span style=\"color: #008080; text-decoration-color: #008080\">│</span>  <span style=\"color: #008080; text-decoration-color: #008080\">    identify emerging trends and explain complex AI concepts in simple terms.</span>                                  <span style=\"color: #008080; text-decoration-color: #008080\">│</span>\n",
       "<span style=\"color: #008080; text-decoration-color: #008080\">│</span>  <span style=\"color: #008080; text-decoration-color: #008080\">    </span>                                                                                                           <span style=\"color: #008080; text-decoration-color: #008080\">│</span>\n",
       "<span style=\"color: #008080; text-decoration-color: #008080\">│</span>  <span style=\"color: #c0c0c0; text-decoration-color: #c0c0c0\">tools: </span><span style=\"color: #008080; text-decoration-color: #008080\">[CrewStructuredTool(name='Search the internet with Serper', description='Tool Name: Search the </span>         <span style=\"color: #008080; text-decoration-color: #008080\">│</span>\n",
       "<span style=\"color: #008080; text-decoration-color: #008080\">│</span>  <span style=\"color: #008080; text-decoration-color: #008080\">internet with Serper</span>                                                                                           <span style=\"color: #008080; text-decoration-color: #008080\">│</span>\n",
       "<span style=\"color: #008080; text-decoration-color: #008080\">│</span>  <span style=\"color: #008080; text-decoration-color: #008080\">Tool Arguments: {'search_query': {'description': 'Mandatory search query you want to use to search the </span>        <span style=\"color: #008080; text-decoration-color: #008080\">│</span>\n",
       "<span style=\"color: #008080; text-decoration-color: #008080\">│</span>  <span style=\"color: #008080; text-decoration-color: #008080\">internet', 'type': 'str'}}</span>                                                                                     <span style=\"color: #008080; text-decoration-color: #008080\">│</span>\n",
       "<span style=\"color: #008080; text-decoration-color: #008080\">│</span>  <span style=\"color: #008080; text-decoration-color: #008080\">Tool Description: A tool that can be used to search the internet with a search_query. Supports different </span>      <span style=\"color: #008080; text-decoration-color: #008080\">│</span>\n",
       "<span style=\"color: #008080; text-decoration-color: #008080\">│</span>  <span style=\"color: #008080; text-decoration-color: #008080\">search types: 'search' (default), 'news'')]</span>                                                                    <span style=\"color: #008080; text-decoration-color: #008080\">│</span>\n",
       "<span style=\"color: #008080; text-decoration-color: #008080\">│</span>  <span style=\"color: #c0c0c0; text-decoration-color: #c0c0c0\">verbose: </span><span style=\"color: #008080; text-decoration-color: #008080\">True</span>                                                                                                  <span style=\"color: #008080; text-decoration-color: #008080\">│</span>\n",
       "<span style=\"color: #008080; text-decoration-color: #008080\">│</span>  <span style=\"color: #c0c0c0; text-decoration-color: #c0c0c0\">Tool Args: </span>                                                                                                    <span style=\"color: #008080; text-decoration-color: #008080\">│</span>\n",
       "<span style=\"color: #008080; text-decoration-color: #008080\">│</span>                                                                                                                 <span style=\"color: #008080; text-decoration-color: #008080\">│</span>\n",
       "<span style=\"color: #008080; text-decoration-color: #008080\">│</span>                                                                                                                 <span style=\"color: #008080; text-decoration-color: #008080\">│</span>\n",
       "<span style=\"color: #008080; text-decoration-color: #008080\">╰─────────────────────────────────────────────────────────────────────────────────────────────────────────────────╯</span>\n",
       "</pre>\n"
      ],
      "text/plain": [
       "\u001b[36m╭─\u001b[0m\u001b[36m──────────────────────────────────────────────\u001b[0m\u001b[36m LiteAgent Started \u001b[0m\u001b[36m──────────────────────────────────────────────\u001b[0m\u001b[36m─╮\u001b[0m\n",
       "\u001b[36m│\u001b[0m                                                                                                                 \u001b[36m│\u001b[0m\n",
       "\u001b[36m│\u001b[0m  \u001b[1;36mLiteAgent Session Started\u001b[0m                                                                                      \u001b[36m│\u001b[0m\n",
       "\u001b[36m│\u001b[0m  \u001b[37mName: \u001b[0m\u001b[36mAI Technology Researcher\u001b[0m                                                                                 \u001b[36m│\u001b[0m\n",
       "\u001b[36m│\u001b[0m  \u001b[37mid: \u001b[0m\u001b[36m0e87979b-18f3-4a27-8b25-689ec59189f1\u001b[0m                                                                       \u001b[36m│\u001b[0m\n",
       "\u001b[36m│\u001b[0m  \u001b[37mrole: \u001b[0m\u001b[36mAI Technology Researcher\u001b[0m                                                                                 \u001b[36m│\u001b[0m\n",
       "\u001b[36m│\u001b[0m  \u001b[37mgoal: \u001b[0m\u001b[36mResearch the latest AI developments and trends\u001b[0m                                                           \u001b[36m│\u001b[0m\n",
       "\u001b[36m│\u001b[0m  \u001b[37mbackstory: \u001b[0m                                                                                                    \u001b[36m│\u001b[0m\n",
       "\u001b[36m│\u001b[0m  \u001b[36m    You are an expert AI researcher with 10+ years of experience in machine learning, \u001b[0m                         \u001b[36m│\u001b[0m\n",
       "\u001b[36m│\u001b[0m  \u001b[36m    natural language processing, and artificial intelligence. You have a PhD in Computer Science \u001b[0m              \u001b[36m│\u001b[0m\n",
       "\u001b[36m│\u001b[0m  \u001b[36m    and have published numerous papers on AI advancements. You're known for your ability to \u001b[0m                   \u001b[36m│\u001b[0m\n",
       "\u001b[36m│\u001b[0m  \u001b[36m    identify emerging trends and explain complex AI concepts in simple terms.\u001b[0m                                  \u001b[36m│\u001b[0m\n",
       "\u001b[36m│\u001b[0m  \u001b[36m    \u001b[0m                                                                                                           \u001b[36m│\u001b[0m\n",
       "\u001b[36m│\u001b[0m  \u001b[37mtools: \u001b[0m\u001b[36m[CrewStructuredTool(name='Search the internet with Serper', description='Tool Name: Search the \u001b[0m         \u001b[36m│\u001b[0m\n",
       "\u001b[36m│\u001b[0m  \u001b[36minternet with Serper\u001b[0m                                                                                           \u001b[36m│\u001b[0m\n",
       "\u001b[36m│\u001b[0m  \u001b[36mTool Arguments: {'search_query': {'description': 'Mandatory search query you want to use to search the \u001b[0m        \u001b[36m│\u001b[0m\n",
       "\u001b[36m│\u001b[0m  \u001b[36minternet', 'type': 'str'}}\u001b[0m                                                                                     \u001b[36m│\u001b[0m\n",
       "\u001b[36m│\u001b[0m  \u001b[36mTool Description: A tool that can be used to search the internet with a search_query. Supports different \u001b[0m      \u001b[36m│\u001b[0m\n",
       "\u001b[36m│\u001b[0m  \u001b[36msearch types: 'search' (default), 'news'')]\u001b[0m                                                                    \u001b[36m│\u001b[0m\n",
       "\u001b[36m│\u001b[0m  \u001b[37mverbose: \u001b[0m\u001b[36mTrue\u001b[0m                                                                                                  \u001b[36m│\u001b[0m\n",
       "\u001b[36m│\u001b[0m  \u001b[37mTool Args: \u001b[0m                                                                                                    \u001b[36m│\u001b[0m\n",
       "\u001b[36m│\u001b[0m                                                                                                                 \u001b[36m│\u001b[0m\n",
       "\u001b[36m│\u001b[0m                                                                                                                 \u001b[36m│\u001b[0m\n",
       "\u001b[36m╰─────────────────────────────────────────────────────────────────────────────────────────────────────────────────╯\u001b[0m\n"
      ]
     },
     "metadata": {},
     "output_type": "display_data"
    },
    {
     "data": {
      "text/html": [
       "<pre style=\"white-space:pre;overflow-x:auto;line-height:normal;font-family:Menlo,'DejaVu Sans Mono',consolas,'Courier New',monospace\">\n",
       "</pre>\n"
      ],
      "text/plain": [
       "\n"
      ]
     },
     "metadata": {},
     "output_type": "display_data"
    },
    {
     "data": {
      "application/vnd.jupyter.widget-view+json": {
       "model_id": "3893e02065ec4989a1621fdcac34d662",
       "version_major": 2,
       "version_minor": 0
      },
      "text/plain": [
       "Output()"
      ]
     },
     "metadata": {},
     "output_type": "display_data"
    },
    {
     "data": {
      "text/html": [
       "<pre style=\"white-space:pre;overflow-x:auto;line-height:normal;font-family:Menlo,'DejaVu Sans Mono',consolas,'Courier New',monospace\"></pre>\n"
      ],
      "text/plain": []
     },
     "metadata": {},
     "output_type": "display_data"
    },
    {
     "data": {
      "text/html": [
       "<pre style=\"white-space:pre;overflow-x:auto;line-height:normal;font-family:Menlo,'DejaVu Sans Mono',consolas,'Courier New',monospace\"><span style=\"color: #800080; text-decoration-color: #800080\">╭──────────────────────────────────────────── 🔧 Agent Tool Execution ────────────────────────────────────────────╮</span>\n",
       "<span style=\"color: #800080; text-decoration-color: #800080\">│</span>                                                                                                                 <span style=\"color: #800080; text-decoration-color: #800080\">│</span>\n",
       "<span style=\"color: #800080; text-decoration-color: #800080\">│</span>  <span style=\"color: #c0c0c0; text-decoration-color: #c0c0c0\">Agent: </span><span style=\"color: #00ff00; text-decoration-color: #00ff00; font-weight: bold\">AI Technology Researcher</span>                                                                                <span style=\"color: #800080; text-decoration-color: #800080\">│</span>\n",
       "<span style=\"color: #800080; text-decoration-color: #800080\">│</span>                                                                                                                 <span style=\"color: #800080; text-decoration-color: #800080\">│</span>\n",
       "<span style=\"color: #800080; text-decoration-color: #800080\">│</span>  <span style=\"color: #c0c0c0; text-decoration-color: #c0c0c0\">Thought: </span><span style=\"color: #00ff00; text-decoration-color: #00ff00\">Thought: I need to search for information about the latest developments in large language models </span>     <span style=\"color: #800080; text-decoration-color: #800080\">│</span>\n",
       "<span style=\"color: #800080; text-decoration-color: #800080\">│</span>  <span style=\"color: #00ff00; text-decoration-color: #00ff00\">specifically in the year 2025.</span>                                                                                 <span style=\"color: #800080; text-decoration-color: #800080\">│</span>\n",
       "<span style=\"color: #800080; text-decoration-color: #800080\">│</span>                                                                                                                 <span style=\"color: #800080; text-decoration-color: #800080\">│</span>\n",
       "<span style=\"color: #800080; text-decoration-color: #800080\">│</span>  <span style=\"color: #c0c0c0; text-decoration-color: #c0c0c0\">Using Tool: </span><span style=\"color: #00ff00; text-decoration-color: #00ff00; font-weight: bold\">Search the internet with Serper</span>                                                                    <span style=\"color: #800080; text-decoration-color: #800080\">│</span>\n",
       "<span style=\"color: #800080; text-decoration-color: #800080\">│</span>                                                                                                                 <span style=\"color: #800080; text-decoration-color: #800080\">│</span>\n",
       "<span style=\"color: #800080; text-decoration-color: #800080\">╰─────────────────────────────────────────────────────────────────────────────────────────────────────────────────╯</span>\n",
       "</pre>\n"
      ],
      "text/plain": [
       "\u001b[35m╭─\u001b[0m\u001b[35m───────────────────────────────────────────\u001b[0m\u001b[35m 🔧 Agent Tool Execution \u001b[0m\u001b[35m───────────────────────────────────────────\u001b[0m\u001b[35m─╮\u001b[0m\n",
       "\u001b[35m│\u001b[0m                                                                                                                 \u001b[35m│\u001b[0m\n",
       "\u001b[35m│\u001b[0m  \u001b[37mAgent: \u001b[0m\u001b[1;92mAI Technology Researcher\u001b[0m                                                                                \u001b[35m│\u001b[0m\n",
       "\u001b[35m│\u001b[0m                                                                                                                 \u001b[35m│\u001b[0m\n",
       "\u001b[35m│\u001b[0m  \u001b[37mThought: \u001b[0m\u001b[92mThought: I need to search for information about the latest developments in large language models \u001b[0m     \u001b[35m│\u001b[0m\n",
       "\u001b[35m│\u001b[0m  \u001b[92mspecifically in the year 2025.\u001b[0m                                                                                 \u001b[35m│\u001b[0m\n",
       "\u001b[35m│\u001b[0m                                                                                                                 \u001b[35m│\u001b[0m\n",
       "\u001b[35m│\u001b[0m  \u001b[37mUsing Tool: \u001b[0m\u001b[1;92mSearch the internet with Serper\u001b[0m                                                                    \u001b[35m│\u001b[0m\n",
       "\u001b[35m│\u001b[0m                                                                                                                 \u001b[35m│\u001b[0m\n",
       "\u001b[35m╰─────────────────────────────────────────────────────────────────────────────────────────────────────────────────╯\u001b[0m\n"
      ]
     },
     "metadata": {},
     "output_type": "display_data"
    },
    {
     "data": {
      "text/html": [
       "<pre style=\"white-space:pre;overflow-x:auto;line-height:normal;font-family:Menlo,'DejaVu Sans Mono',consolas,'Courier New',monospace\"><span style=\"color: #000080; text-decoration-color: #000080\">╭────────────────────────────────────────────────── Tool Input ───────────────────────────────────────────────────╮</span>\n",
       "<span style=\"color: #000080; text-decoration-color: #000080\">│</span>                                                                                                                 <span style=\"color: #000080; text-decoration-color: #000080\">│</span>\n",
       "<span style=\"color: #000080; text-decoration-color: #000080\">│</span>  <span style=\"color: #e6db74; text-decoration-color: #e6db74; background-color: #ffffff\">\"{\\\"search_query\\\": \\\"latest developments in large language models 2025\\\"}\"</span>                                    <span style=\"color: #000080; text-decoration-color: #000080\">│</span>\n",
       "<span style=\"color: #000080; text-decoration-color: #000080\">│</span>                                                                                                                 <span style=\"color: #000080; text-decoration-color: #000080\">│</span>\n",
       "<span style=\"color: #000080; text-decoration-color: #000080\">╰─────────────────────────────────────────────────────────────────────────────────────────────────────────────────╯</span>\n",
       "</pre>\n"
      ],
      "text/plain": [
       "\u001b[34m╭─\u001b[0m\u001b[34m─────────────────────────────────────────────────\u001b[0m\u001b[34m Tool Input \u001b[0m\u001b[34m──────────────────────────────────────────────────\u001b[0m\u001b[34m─╮\u001b[0m\n",
       "\u001b[34m│\u001b[0m                                                                                                                 \u001b[34m│\u001b[0m\n",
       "\u001b[34m│\u001b[0m  \u001b[38;2;230;219;116;49m\"{\\\"search_query\\\": \\\"latest developments in large language models 2025\\\"}\"\u001b[0m                                    \u001b[34m│\u001b[0m\n",
       "\u001b[34m│\u001b[0m                                                                                                                 \u001b[34m│\u001b[0m\n",
       "\u001b[34m╰─────────────────────────────────────────────────────────────────────────────────────────────────────────────────╯\u001b[0m\n"
      ]
     },
     "metadata": {},
     "output_type": "display_data"
    },
    {
     "data": {
      "text/html": [
       "<pre style=\"white-space:pre;overflow-x:auto;line-height:normal;font-family:Menlo,'DejaVu Sans Mono',consolas,'Courier New',monospace\"><span style=\"color: #008000; text-decoration-color: #008000\">╭────────────────────────────────────────────────── Tool Output ──────────────────────────────────────────────────╮</span>\n",
       "<span style=\"color: #008000; text-decoration-color: #008000\">│</span>                                                                                                                 <span style=\"color: #008000; text-decoration-color: #008000\">│</span>\n",
       "<span style=\"color: #008000; text-decoration-color: #008000\">│</span>  <span style=\"color: #00ff00; text-decoration-color: #00ff00\">{'searchParameters': {'q': 'latest developments in large language models 2025', 'type': 'search', 'num': 10, </span>  <span style=\"color: #008000; text-decoration-color: #008000\">│</span>\n",
       "<span style=\"color: #008000; text-decoration-color: #008000\">│</span>  <span style=\"color: #00ff00; text-decoration-color: #00ff00\">'engine': 'google'}, 'organic': [{'title': 'Top 9 Large Language Models as of July 2025 | Shakudo', 'link': </span>   <span style=\"color: #008000; text-decoration-color: #008000\">│</span>\n",
       "<span style=\"color: #008000; text-decoration-color: #008000\">│</span>  <span style=\"color: #00ff00; text-decoration-color: #00ff00\">'https://www.shakudo.io/blog/top-9-large-language-models', 'snippet': 'Below, we highlighted the top 9 LLMs </span>   <span style=\"color: #008000; text-decoration-color: #008000\">│</span>\n",
       "<span style=\"color: #008000; text-decoration-color: #008000\">│</span>  <span style=\"color: #00ff00; text-decoration-color: #00ff00\">that we think are currently making waves in the industry, each with distinct capabilities and specialized </span>     <span style=\"color: #008000; text-decoration-color: #008000\">│</span>\n",
       "<span style=\"color: #008000; text-decoration-color: #008000\">│</span>  <span style=\"color: #00ff00; text-decoration-color: #00ff00\">strengths.', 'position': 1}, {'title': 'Large Language Models: What You Need to Know in 2025', 'link': </span>        <span style=\"color: #008000; text-decoration-color: #008000\">│</span>\n",
       "<span style=\"color: #008000; text-decoration-color: #008000\">│</span>  <span style=\"color: #00ff00; text-decoration-color: #00ff00\">'https://hatchworks.com/blog/gen-ai/large-language-models-guide/', 'snippet': 'Explore the latest on large </span>    <span style=\"color: #008000; text-decoration-color: #008000\">│</span>\n",
       "<span style=\"color: #008000; text-decoration-color: #008000\">│</span>  <span style=\"color: #00ff00; text-decoration-color: #00ff00\">language models in 2025 with our guide on their capabilities, advancements, and limitations.', 'position': </span>    <span style=\"color: #008000; text-decoration-color: #008000\">│</span>\n",
       "<span style=\"color: #008000; text-decoration-color: #008000\">│</span>  <span style=\"color: #00ff00; text-decoration-color: #00ff00\">2}, {'title': 'LLM Trends 2025: A Deep Dive into the Future of Large Language ...', 'link': </span>                   <span style=\"color: #008000; text-decoration-color: #008000\">│</span>\n",
       "<span style=\"color: #008000; text-decoration-color: #008000\">│</span>  <span style=\"color: #00ff00; text-decoration-color: #00ff00\">'https://prajnaaiwisdom.medium.com/llm-trends-2025-a-deep-dive-into-the-future-of-large-language-models-bff23</span>  <span style=\"color: #008000; text-decoration-color: #008000\">│</span>\n",
       "<span style=\"color: #008000; text-decoration-color: #008000\">│</span>  <span style=\"color: #00ff00; text-decoration-color: #00ff00\">aa7cdbc', 'snippet': 'In this post, we explore the key trends that will define LLM development in 2025, </span>       <span style=\"color: #008000; text-decoration-color: #008000\">│</span>\n",
       "<span style=\"color: #008000; text-decoration-color: #008000\">│</span>  <span style=\"color: #00ff00; text-decoration-color: #00ff00\">highlight eye-opening statistics and expert quotes.', 'position': 3}, {'title': 'Researchers Found a Better </span>   <span style=\"color: #008000; text-decoration-color: #008000\">│</span>\n",
       "<span style=\"color: #008000; text-decoration-color: #008000\">│</span>  <span style=\"color: #00ff00; text-decoration-color: #00ff00\">Way to Teach Large Language Models ...', 'link': 'https://news.ncsu.edu/2025/07/iimproving-llm-new-skills/', </span>  <span style=\"color: #008000; text-decoration-color: #008000\">│</span>\n",
       "<span style=\"color: #008000; text-decoration-color: #008000\">│</span>  <span style=\"color: #00ff00; text-decoration-color: #00ff00\">'snippet': 'The new technique improves AI performance over previous techniques in tasks including commonsense</span>  <span style=\"color: #008000; text-decoration-color: #008000\">│</span>\n",
       "<span style=\"color: #008000; text-decoration-color: #008000\">│</span>  <span style=\"color: #00ff00; text-decoration-color: #00ff00\">reasoning, arithmetic reasoning, ...', 'position': 4}, {'title': 'The 10 Best Large Language Models (LLMs) in</span>  <span style=\"color: #008000; text-decoration-color: #008000\">│</span>\n",
       "<span style=\"color: #008000; text-decoration-color: #008000\">│</span>  <span style=\"color: #00ff00; text-decoration-color: #00ff00\">2025 - Botpress', 'link': 'https://botpress.com/blog/best-large-language-models', 'snippet': \"Claude Sonnet 4</span>  <span style=\"color: #008000; text-decoration-color: #008000\">│</span>\n",
       "<span style=\"color: #008000; text-decoration-color: #008000\">│</span>  <span style=\"color: #00ff00; text-decoration-color: #00ff00\">is Anthropic's newest conversational AI model, released in May 2025. It's designed for natural conversations </span>  <span style=\"color: #008000; text-decoration-color: #008000\">│</span>\n",
       "<span style=\"color: #008000; text-decoration-color: #008000\">│</span>  <span style=\"color: #00ff00; text-decoration-color: #00ff00\">that feel ...\", 'position': 5}, {'title': 'LLM Research Papers: The 2025 List (January to June) - Ahead of </span>    <span style=\"color: #008000; text-decoration-color: #008000\">│</span>\n",
       "<span style=\"color: #008000; text-decoration-color: #008000\">│</span>  <span style=\"color: #00ff00; text-decoration-color: #00ff00\">AI', 'link': 'https://magazine.sebastianraschka.com/p/llm-research-papers-2025-list-one', 'snippet': 'The </span>     <span style=\"color: #008000; text-decoration-color: #008000\">│</span>\n",
       "<span style=\"color: #008000; text-decoration-color: #008000\">│</span>  <span style=\"color: #00ff00; text-decoration-color: #00ff00\">latest in LLM research with a hand-curated, topic-organized list of over 20...</span>                                 <span style=\"color: #008000; text-decoration-color: #008000\">│</span>\n",
       "<span style=\"color: #008000; text-decoration-color: #008000\">│</span>                                                                                                                 <span style=\"color: #008000; text-decoration-color: #008000\">│</span>\n",
       "<span style=\"color: #008000; text-decoration-color: #008000\">╰─────────────────────────────────────────────────────────────────────────────────────────────────────────────────╯</span>\n",
       "</pre>\n"
      ],
      "text/plain": [
       "\u001b[32m╭─\u001b[0m\u001b[32m─────────────────────────────────────────────────\u001b[0m\u001b[32m Tool Output \u001b[0m\u001b[32m─────────────────────────────────────────────────\u001b[0m\u001b[32m─╮\u001b[0m\n",
       "\u001b[32m│\u001b[0m                                                                                                                 \u001b[32m│\u001b[0m\n",
       "\u001b[32m│\u001b[0m  \u001b[92m{'searchParameters': {'q': 'latest developments in large language models 2025', 'type': 'search', 'num': 10, \u001b[0m  \u001b[32m│\u001b[0m\n",
       "\u001b[32m│\u001b[0m  \u001b[92m'engine': 'google'}, 'organic': [{'title': 'Top 9 Large Language Models as of July 2025 | Shakudo', 'link': \u001b[0m   \u001b[32m│\u001b[0m\n",
       "\u001b[32m│\u001b[0m  \u001b[92m'https://www.shakudo.io/blog/top-9-large-language-models', 'snippet': 'Below, we highlighted the top 9 LLMs \u001b[0m   \u001b[32m│\u001b[0m\n",
       "\u001b[32m│\u001b[0m  \u001b[92mthat we think are currently making waves in the industry, each with distinct capabilities and specialized \u001b[0m     \u001b[32m│\u001b[0m\n",
       "\u001b[32m│\u001b[0m  \u001b[92mstrengths.', 'position': 1}, {'title': 'Large Language Models: What You Need to Know in 2025', 'link': \u001b[0m        \u001b[32m│\u001b[0m\n",
       "\u001b[32m│\u001b[0m  \u001b[92m'https://hatchworks.com/blog/gen-ai/large-language-models-guide/', 'snippet': 'Explore the latest on large \u001b[0m    \u001b[32m│\u001b[0m\n",
       "\u001b[32m│\u001b[0m  \u001b[92mlanguage models in 2025 with our guide on their capabilities, advancements, and limitations.', 'position': \u001b[0m    \u001b[32m│\u001b[0m\n",
       "\u001b[32m│\u001b[0m  \u001b[92m2}, {'title': 'LLM Trends 2025: A Deep Dive into the Future of Large Language ...', 'link': \u001b[0m                   \u001b[32m│\u001b[0m\n",
       "\u001b[32m│\u001b[0m  \u001b[92m'https://prajnaaiwisdom.medium.com/llm-trends-2025-a-deep-dive-into-the-future-of-large-language-models-bff23\u001b[0m  \u001b[32m│\u001b[0m\n",
       "\u001b[32m│\u001b[0m  \u001b[92maa7cdbc', 'snippet': 'In this post, we explore the key trends that will define LLM development in 2025, \u001b[0m       \u001b[32m│\u001b[0m\n",
       "\u001b[32m│\u001b[0m  \u001b[92mhighlight eye-opening statistics and expert quotes.', 'position': 3}, {'title': 'Researchers Found a Better \u001b[0m   \u001b[32m│\u001b[0m\n",
       "\u001b[32m│\u001b[0m  \u001b[92mWay to Teach Large Language Models ...', 'link': 'https://news.ncsu.edu/2025/07/iimproving-llm-new-skills/', \u001b[0m  \u001b[32m│\u001b[0m\n",
       "\u001b[32m│\u001b[0m  \u001b[92m'snippet': 'The new technique improves AI performance over previous techniques in tasks including commonsense\u001b[0m  \u001b[32m│\u001b[0m\n",
       "\u001b[32m│\u001b[0m  \u001b[92mreasoning, arithmetic reasoning, ...', 'position': 4}, {'title': 'The 10 Best Large Language Models (LLMs) in\u001b[0m  \u001b[32m│\u001b[0m\n",
       "\u001b[32m│\u001b[0m  \u001b[92m2025 - Botpress', 'link': 'https://botpress.com/blog/best-large-language-models', 'snippet': \"Claude Sonnet 4\u001b[0m  \u001b[32m│\u001b[0m\n",
       "\u001b[32m│\u001b[0m  \u001b[92mis Anthropic's newest conversational AI model, released in May 2025. It's designed for natural conversations \u001b[0m  \u001b[32m│\u001b[0m\n",
       "\u001b[32m│\u001b[0m  \u001b[92mthat feel ...\", 'position': 5}, {'title': 'LLM Research Papers: The 2025 List (January to June) - Ahead of \u001b[0m    \u001b[32m│\u001b[0m\n",
       "\u001b[32m│\u001b[0m  \u001b[92mAI', 'link': 'https://magazine.sebastianraschka.com/p/llm-research-papers-2025-list-one', 'snippet': 'The \u001b[0m     \u001b[32m│\u001b[0m\n",
       "\u001b[32m│\u001b[0m  \u001b[92mlatest in LLM research with a hand-curated, topic-organized list of over 20...\u001b[0m                                 \u001b[32m│\u001b[0m\n",
       "\u001b[32m│\u001b[0m                                                                                                                 \u001b[32m│\u001b[0m\n",
       "\u001b[32m╰─────────────────────────────────────────────────────────────────────────────────────────────────────────────────╯\u001b[0m\n"
      ]
     },
     "metadata": {},
     "output_type": "display_data"
    },
    {
     "data": {
      "text/html": [
       "<pre style=\"white-space:pre;overflow-x:auto;line-height:normal;font-family:Menlo,'DejaVu Sans Mono',consolas,'Courier New',monospace\">\n",
       "</pre>\n"
      ],
      "text/plain": [
       "\n"
      ]
     },
     "metadata": {},
     "output_type": "display_data"
    },
    {
     "data": {
      "application/vnd.jupyter.widget-view+json": {
       "model_id": "571d8f4cc1af4719b25dac0026e565b2",
       "version_major": 2,
       "version_minor": 0
      },
      "text/plain": [
       "Output()"
      ]
     },
     "metadata": {},
     "output_type": "display_data"
    },
    {
     "data": {
      "text/html": [
       "<pre style=\"white-space:pre;overflow-x:auto;line-height:normal;font-family:Menlo,'DejaVu Sans Mono',consolas,'Courier New',monospace\"></pre>\n"
      ],
      "text/plain": []
     },
     "metadata": {},
     "output_type": "display_data"
    },
    {
     "data": {
      "text/html": [
       "<pre style=\"white-space:pre;overflow-x:auto;line-height:normal;font-family:Menlo,'DejaVu Sans Mono',consolas,'Courier New',monospace\"><span style=\"color: #008000; text-decoration-color: #008000\">╭───────────────────────────────────────────── ✅ Agent Final Answer ─────────────────────────────────────────────╮</span>\n",
       "<span style=\"color: #008000; text-decoration-color: #008000\">│</span>                                                                                                                 <span style=\"color: #008000; text-decoration-color: #008000\">│</span>\n",
       "<span style=\"color: #008000; text-decoration-color: #008000\">│</span>  <span style=\"color: #c0c0c0; text-decoration-color: #c0c0c0\">Agent: </span><span style=\"color: #00ff00; text-decoration-color: #00ff00; font-weight: bold\">AI Technology Researcher</span>                                                                                <span style=\"color: #008000; text-decoration-color: #008000\">│</span>\n",
       "<span style=\"color: #008000; text-decoration-color: #008000\">│</span>                                                                                                                 <span style=\"color: #008000; text-decoration-color: #008000\">│</span>\n",
       "<span style=\"color: #008000; text-decoration-color: #008000\">│</span>  <span style=\"color: #c0c0c0; text-decoration-color: #c0c0c0\">Final Answer:</span>                                                                                                  <span style=\"color: #008000; text-decoration-color: #008000\">│</span>\n",
       "<span style=\"color: #008000; text-decoration-color: #008000\">│</span>  <span style=\"color: #00ff00; text-decoration-color: #00ff00\">In 2025, several notable developments in large language models (LLMs) have emerged:</span>                            <span style=\"color: #008000; text-decoration-color: #008000\">│</span>\n",
       "<span style=\"color: #008000; text-decoration-color: #008000\">│</span>                                                                                                                 <span style=\"color: #008000; text-decoration-color: #008000\">│</span>\n",
       "<span style=\"color: #008000; text-decoration-color: #008000\">│</span>  <span style=\"color: #00ff00; text-decoration-color: #00ff00\">1. **Top Large Language Models**: A variety of LLMs are making waves in the industry, each demonstrating </span>      <span style=\"color: #008000; text-decoration-color: #008000\">│</span>\n",
       "<span style=\"color: #008000; text-decoration-color: #008000\">│</span>  <span style=\"color: #00ff00; text-decoration-color: #00ff00\">unique capabilities and specialization. [Shakudo](https://www.shakudo.io/blog/top-9-large-language-models).</span>    <span style=\"color: #008000; text-decoration-color: #008000\">│</span>\n",
       "<span style=\"color: #008000; text-decoration-color: #008000\">│</span>                                                                                                                 <span style=\"color: #008000; text-decoration-color: #008000\">│</span>\n",
       "<span style=\"color: #008000; text-decoration-color: #008000\">│</span>  <span style=\"color: #00ff00; text-decoration-color: #00ff00\">2. **Understanding LLMs**: A comprehensive guide discusses the advancements, limitations, and capabilities of</span>  <span style=\"color: #008000; text-decoration-color: #008000\">│</span>\n",
       "<span style=\"color: #008000; text-decoration-color: #008000\">│</span>  <span style=\"color: #00ff00; text-decoration-color: #00ff00\">LLMs in 2025, highlighting their evolving roles in different applications. </span>                                    <span style=\"color: #008000; text-decoration-color: #008000\">│</span>\n",
       "<span style=\"color: #008000; text-decoration-color: #008000\">│</span>  <span style=\"color: #00ff00; text-decoration-color: #00ff00\">[Hatchworks](https://hatchworks.com/blog/gen-ai/large-language-models-guide/).</span>                                 <span style=\"color: #008000; text-decoration-color: #008000\">│</span>\n",
       "<span style=\"color: #008000; text-decoration-color: #008000\">│</span>                                                                                                                 <span style=\"color: #008000; text-decoration-color: #008000\">│</span>\n",
       "<span style=\"color: #008000; text-decoration-color: #008000\">│</span>  <span style=\"color: #00ff00; text-decoration-color: #00ff00\">3. **Key Trends**: Significant trends impacting LLM development include improvements in training techniques </span>   <span style=\"color: #008000; text-decoration-color: #008000\">│</span>\n",
       "<span style=\"color: #008000; text-decoration-color: #008000\">│</span>  <span style=\"color: #00ff00; text-decoration-color: #00ff00\">and enhanced reasoning capabilities. A detailed analysis is available on emerging trends shaping the future </span>   <span style=\"color: #008000; text-decoration-color: #008000\">│</span>\n",
       "<span style=\"color: #008000; text-decoration-color: #008000\">│</span>  <span style=\"color: #00ff00; text-decoration-color: #00ff00\">of LLMs. [Prajna AI </span>                                                                                           <span style=\"color: #008000; text-decoration-color: #008000\">│</span>\n",
       "<span style=\"color: #008000; text-decoration-color: #008000\">│</span>  <span style=\"color: #00ff00; text-decoration-color: #00ff00\">Wisdom](https://prajnaaiwisdom.medium.com/llm-trends-2025-a-deep-dive-into-the-future-of-large-language-model</span>  <span style=\"color: #008000; text-decoration-color: #008000\">│</span>\n",
       "<span style=\"color: #008000; text-decoration-color: #008000\">│</span>  <span style=\"color: #00ff00; text-decoration-color: #00ff00\">s-bff23aa7cdbc).</span>                                                                                               <span style=\"color: #008000; text-decoration-color: #008000\">│</span>\n",
       "<span style=\"color: #008000; text-decoration-color: #008000\">│</span>                                                                                                                 <span style=\"color: #008000; text-decoration-color: #008000\">│</span>\n",
       "<span style=\"color: #008000; text-decoration-color: #008000\">│</span>  <span style=\"color: #00ff00; text-decoration-color: #00ff00\">4. **Enhanced Learning Techniques**: Researchers have developed new techniques for teaching LLMs, improving </span>   <span style=\"color: #008000; text-decoration-color: #008000\">│</span>\n",
       "<span style=\"color: #008000; text-decoration-color: #008000\">│</span>  <span style=\"color: #00ff00; text-decoration-color: #00ff00\">their performance in tasks like commonsense reasoning and arithmetic reasoning. [NC State </span>                     <span style=\"color: #008000; text-decoration-color: #008000\">│</span>\n",
       "<span style=\"color: #008000; text-decoration-color: #008000\">│</span>  <span style=\"color: #00ff00; text-decoration-color: #00ff00\">News](https://news.ncsu.edu/2025/07/iimproving-llm-new-skills/).</span>                                               <span style=\"color: #008000; text-decoration-color: #008000\">│</span>\n",
       "<span style=\"color: #008000; text-decoration-color: #008000\">│</span>                                                                                                                 <span style=\"color: #008000; text-decoration-color: #008000\">│</span>\n",
       "<span style=\"color: #008000; text-decoration-color: #008000\">│</span>  <span style=\"color: #00ff00; text-decoration-color: #00ff00\">5. **Best LLMs**: Models like Claude Sonnet 4 have been released for conversational AI, emphasizing natural </span>   <span style=\"color: #008000; text-decoration-color: #008000\">│</span>\n",
       "<span style=\"color: #008000; text-decoration-color: #008000\">│</span>  <span style=\"color: #00ff00; text-decoration-color: #00ff00\">conversations that feel more humanlike. [Botpress](https://botpress.com/blog/best-large-language-models).</span>      <span style=\"color: #008000; text-decoration-color: #008000\">│</span>\n",
       "<span style=\"color: #008000; text-decoration-color: #008000\">│</span>                                                                                                                 <span style=\"color: #008000; text-decoration-color: #008000\">│</span>\n",
       "<span style=\"color: #008000; text-decoration-color: #008000\">│</span>  <span style=\"color: #00ff00; text-decoration-color: #00ff00\">6. **Research Papers**: A curated list detailing over 200 research papers published in 2025 related to LLM </span>    <span style=\"color: #008000; text-decoration-color: #008000\">│</span>\n",
       "<span style=\"color: #008000; text-decoration-color: #008000\">│</span>  <span style=\"color: #00ff00; text-decoration-color: #00ff00\">advancements offers insights into the academic side of the technology. [Ahead of </span>                              <span style=\"color: #008000; text-decoration-color: #008000\">│</span>\n",
       "<span style=\"color: #008000; text-decoration-color: #008000\">│</span>  <span style=\"color: #00ff00; text-decoration-color: #00ff00\">AI](https://magazine.sebastianraschka.com/p/llm-research-papers-2025-list-one).</span>                                <span style=\"color: #008000; text-decoration-color: #008000\">│</span>\n",
       "<span style=\"color: #008000; text-decoration-color: #008000\">│</span>                                                                                                                 <span style=\"color: #008000; text-decoration-color: #008000\">│</span>\n",
       "<span style=\"color: #008000; text-decoration-color: #008000\">│</span>  <span style=\"color: #00ff00; text-decoration-color: #00ff00\">7. **Reasoning Capabilities**: New studies indicate that LLMs can represent and reason about data in various </span>  <span style=\"color: #008000; text-decoration-color: #008000\">│</span>\n",
       "<span style=\"color: #008000; text-decoration-color: #008000\">│</span>  <span style=\"color: #00ff00; text-decoration-color: #00ff00\">forms, similar to human cognitive processes, broadening their application potential across different </span>          <span style=\"color: #008000; text-decoration-color: #008000\">│</span>\n",
       "<span style=\"color: #008000; text-decoration-color: #008000\">│</span>  <span style=\"color: #00ff00; text-decoration-color: #00ff00\">industries. [MIT </span>                                                                                              <span style=\"color: #008000; text-decoration-color: #008000\">│</span>\n",
       "<span style=\"color: #008000; text-decoration-color: #008000\">│</span>  <span style=\"color: #00ff00; text-decoration-color: #00ff00\">News](https://news.mit.edu/2025/large-language-models-reason-about-diverse-data-general-way-0219).</span>             <span style=\"color: #008000; text-decoration-color: #008000\">│</span>\n",
       "<span style=\"color: #008000; text-decoration-color: #008000\">│</span>                                                                                                                 <span style=\"color: #008000; text-decoration-color: #008000\">│</span>\n",
       "<span style=\"color: #008000; text-decoration-color: #008000\">│</span>  <span style=\"color: #00ff00; text-decoration-color: #00ff00\">8. **Widespread Applications**: LLMs are now integral across various sectors, including finance and </span>           <span style=\"color: #008000; text-decoration-color: #008000\">│</span>\n",
       "<span style=\"color: #008000; text-decoration-color: #008000\">│</span>  <span style=\"color: #00ff00; text-decoration-color: #00ff00\">healthcare, with ongoing research aimed at expanding their utility. [Chicago </span>                                  <span style=\"color: #008000; text-decoration-color: #008000\">│</span>\n",
       "<span style=\"color: #008000; text-decoration-color: #008000\">│</span>  <span style=\"color: #00ff00; text-decoration-color: #00ff00\">Booth](https://www.chicagobooth.edu/research/center-for-applied-artificial-intelligence/stories/2025/llms-acr</span>  <span style=\"color: #008000; text-decoration-color: #008000\">│</span>\n",
       "<span style=\"color: #008000; text-decoration-color: #008000\">│</span>  <span style=\"color: #00ff00; text-decoration-color: #00ff00\">oss-industries).</span>                                                                                               <span style=\"color: #008000; text-decoration-color: #008000\">│</span>\n",
       "<span style=\"color: #008000; text-decoration-color: #008000\">│</span>                                                                                                                 <span style=\"color: #008000; text-decoration-color: #008000\">│</span>\n",
       "<span style=\"color: #008000; text-decoration-color: #008000\">│</span>  <span style=\"color: #00ff00; text-decoration-color: #00ff00\">Overall, 2025 marks an exciting year for LLMs, characterized by innovative techniques, impactful </span>              <span style=\"color: #008000; text-decoration-color: #008000\">│</span>\n",
       "<span style=\"color: #008000; text-decoration-color: #008000\">│</span>  <span style=\"color: #00ff00; text-decoration-color: #00ff00\">applications, and enhanced performance capabilities.</span>                                                           <span style=\"color: #008000; text-decoration-color: #008000\">│</span>\n",
       "<span style=\"color: #008000; text-decoration-color: #008000\">│</span>                                                                                                                 <span style=\"color: #008000; text-decoration-color: #008000\">│</span>\n",
       "<span style=\"color: #008000; text-decoration-color: #008000\">╰─────────────────────────────────────────────────────────────────────────────────────────────────────────────────╯</span>\n",
       "</pre>\n"
      ],
      "text/plain": [
       "\u001b[32m╭─\u001b[0m\u001b[32m────────────────────────────────────────────\u001b[0m\u001b[32m ✅ Agent Final Answer \u001b[0m\u001b[32m────────────────────────────────────────────\u001b[0m\u001b[32m─╮\u001b[0m\n",
       "\u001b[32m│\u001b[0m                                                                                                                 \u001b[32m│\u001b[0m\n",
       "\u001b[32m│\u001b[0m  \u001b[37mAgent: \u001b[0m\u001b[1;92mAI Technology Researcher\u001b[0m                                                                                \u001b[32m│\u001b[0m\n",
       "\u001b[32m│\u001b[0m                                                                                                                 \u001b[32m│\u001b[0m\n",
       "\u001b[32m│\u001b[0m  \u001b[37mFinal Answer:\u001b[0m                                                                                                  \u001b[32m│\u001b[0m\n",
       "\u001b[32m│\u001b[0m  \u001b[92mIn 2025, several notable developments in large language models (LLMs) have emerged:\u001b[0m                            \u001b[32m│\u001b[0m\n",
       "\u001b[32m│\u001b[0m                                                                                                                 \u001b[32m│\u001b[0m\n",
       "\u001b[32m│\u001b[0m  \u001b[92m1. **Top Large Language Models**: A variety of LLMs are making waves in the industry, each demonstrating \u001b[0m      \u001b[32m│\u001b[0m\n",
       "\u001b[32m│\u001b[0m  \u001b[92munique capabilities and specialization. [Shakudo](https://www.shakudo.io/blog/top-9-large-language-models).\u001b[0m    \u001b[32m│\u001b[0m\n",
       "\u001b[32m│\u001b[0m                                                                                                                 \u001b[32m│\u001b[0m\n",
       "\u001b[32m│\u001b[0m  \u001b[92m2. **Understanding LLMs**: A comprehensive guide discusses the advancements, limitations, and capabilities of\u001b[0m  \u001b[32m│\u001b[0m\n",
       "\u001b[32m│\u001b[0m  \u001b[92mLLMs in 2025, highlighting their evolving roles in different applications. \u001b[0m                                    \u001b[32m│\u001b[0m\n",
       "\u001b[32m│\u001b[0m  \u001b[92m[Hatchworks](https://hatchworks.com/blog/gen-ai/large-language-models-guide/).\u001b[0m                                 \u001b[32m│\u001b[0m\n",
       "\u001b[32m│\u001b[0m                                                                                                                 \u001b[32m│\u001b[0m\n",
       "\u001b[32m│\u001b[0m  \u001b[92m3. **Key Trends**: Significant trends impacting LLM development include improvements in training techniques \u001b[0m   \u001b[32m│\u001b[0m\n",
       "\u001b[32m│\u001b[0m  \u001b[92mand enhanced reasoning capabilities. A detailed analysis is available on emerging trends shaping the future \u001b[0m   \u001b[32m│\u001b[0m\n",
       "\u001b[32m│\u001b[0m  \u001b[92mof LLMs. [Prajna AI \u001b[0m                                                                                           \u001b[32m│\u001b[0m\n",
       "\u001b[32m│\u001b[0m  \u001b[92mWisdom](https://prajnaaiwisdom.medium.com/llm-trends-2025-a-deep-dive-into-the-future-of-large-language-model\u001b[0m  \u001b[32m│\u001b[0m\n",
       "\u001b[32m│\u001b[0m  \u001b[92ms-bff23aa7cdbc).\u001b[0m                                                                                               \u001b[32m│\u001b[0m\n",
       "\u001b[32m│\u001b[0m                                                                                                                 \u001b[32m│\u001b[0m\n",
       "\u001b[32m│\u001b[0m  \u001b[92m4. **Enhanced Learning Techniques**: Researchers have developed new techniques for teaching LLMs, improving \u001b[0m   \u001b[32m│\u001b[0m\n",
       "\u001b[32m│\u001b[0m  \u001b[92mtheir performance in tasks like commonsense reasoning and arithmetic reasoning. [NC State \u001b[0m                     \u001b[32m│\u001b[0m\n",
       "\u001b[32m│\u001b[0m  \u001b[92mNews](https://news.ncsu.edu/2025/07/iimproving-llm-new-skills/).\u001b[0m                                               \u001b[32m│\u001b[0m\n",
       "\u001b[32m│\u001b[0m                                                                                                                 \u001b[32m│\u001b[0m\n",
       "\u001b[32m│\u001b[0m  \u001b[92m5. **Best LLMs**: Models like Claude Sonnet 4 have been released for conversational AI, emphasizing natural \u001b[0m   \u001b[32m│\u001b[0m\n",
       "\u001b[32m│\u001b[0m  \u001b[92mconversations that feel more humanlike. [Botpress](https://botpress.com/blog/best-large-language-models).\u001b[0m      \u001b[32m│\u001b[0m\n",
       "\u001b[32m│\u001b[0m                                                                                                                 \u001b[32m│\u001b[0m\n",
       "\u001b[32m│\u001b[0m  \u001b[92m6. **Research Papers**: A curated list detailing over 200 research papers published in 2025 related to LLM \u001b[0m    \u001b[32m│\u001b[0m\n",
       "\u001b[32m│\u001b[0m  \u001b[92madvancements offers insights into the academic side of the technology. [Ahead of \u001b[0m                              \u001b[32m│\u001b[0m\n",
       "\u001b[32m│\u001b[0m  \u001b[92mAI](https://magazine.sebastianraschka.com/p/llm-research-papers-2025-list-one).\u001b[0m                                \u001b[32m│\u001b[0m\n",
       "\u001b[32m│\u001b[0m                                                                                                                 \u001b[32m│\u001b[0m\n",
       "\u001b[32m│\u001b[0m  \u001b[92m7. **Reasoning Capabilities**: New studies indicate that LLMs can represent and reason about data in various \u001b[0m  \u001b[32m│\u001b[0m\n",
       "\u001b[32m│\u001b[0m  \u001b[92mforms, similar to human cognitive processes, broadening their application potential across different \u001b[0m          \u001b[32m│\u001b[0m\n",
       "\u001b[32m│\u001b[0m  \u001b[92mindustries. [MIT \u001b[0m                                                                                              \u001b[32m│\u001b[0m\n",
       "\u001b[32m│\u001b[0m  \u001b[92mNews](https://news.mit.edu/2025/large-language-models-reason-about-diverse-data-general-way-0219).\u001b[0m             \u001b[32m│\u001b[0m\n",
       "\u001b[32m│\u001b[0m                                                                                                                 \u001b[32m│\u001b[0m\n",
       "\u001b[32m│\u001b[0m  \u001b[92m8. **Widespread Applications**: LLMs are now integral across various sectors, including finance and \u001b[0m           \u001b[32m│\u001b[0m\n",
       "\u001b[32m│\u001b[0m  \u001b[92mhealthcare, with ongoing research aimed at expanding their utility. [Chicago \u001b[0m                                  \u001b[32m│\u001b[0m\n",
       "\u001b[32m│\u001b[0m  \u001b[92mBooth](https://www.chicagobooth.edu/research/center-for-applied-artificial-intelligence/stories/2025/llms-acr\u001b[0m  \u001b[32m│\u001b[0m\n",
       "\u001b[32m│\u001b[0m  \u001b[92moss-industries).\u001b[0m                                                                                               \u001b[32m│\u001b[0m\n",
       "\u001b[32m│\u001b[0m                                                                                                                 \u001b[32m│\u001b[0m\n",
       "\u001b[32m│\u001b[0m  \u001b[92mOverall, 2025 marks an exciting year for LLMs, characterized by innovative techniques, impactful \u001b[0m              \u001b[32m│\u001b[0m\n",
       "\u001b[32m│\u001b[0m  \u001b[92mapplications, and enhanced performance capabilities.\u001b[0m                                                           \u001b[32m│\u001b[0m\n",
       "\u001b[32m│\u001b[0m                                                                                                                 \u001b[32m│\u001b[0m\n",
       "\u001b[32m╰─────────────────────────────────────────────────────────────────────────────────────────────────────────────────╯\u001b[0m\n"
      ]
     },
     "metadata": {},
     "output_type": "display_data"
    },
    {
     "data": {
      "text/html": [
       "<pre style=\"white-space:pre;overflow-x:auto;line-height:normal;font-family:Menlo,'DejaVu Sans Mono',consolas,'Courier New',monospace\">\n",
       "</pre>\n"
      ],
      "text/plain": [
       "\n"
      ]
     },
     "metadata": {},
     "output_type": "display_data"
    },
    {
     "data": {
      "text/html": [
       "<pre style=\"white-space:pre;overflow-x:auto;line-height:normal;font-family:Menlo,'DejaVu Sans Mono',consolas,'Courier New',monospace\"></pre>\n"
      ],
      "text/plain": []
     },
     "metadata": {},
     "output_type": "display_data"
    },
    {
     "data": {
      "text/html": [
       "<pre style=\"white-space:pre;overflow-x:auto;line-height:normal;font-family:Menlo,'DejaVu Sans Mono',consolas,'Courier New',monospace\"><span style=\"color: #008000; text-decoration-color: #008000\">╭───────────────────────────────────────────── LiteAgent Completion ──────────────────────────────────────────────╮</span>\n",
       "<span style=\"color: #008000; text-decoration-color: #008000\">│</span>                                                                                                                 <span style=\"color: #008000; text-decoration-color: #008000\">│</span>\n",
       "<span style=\"color: #008000; text-decoration-color: #008000\">│</span>  <span style=\"color: #008000; text-decoration-color: #008000; font-weight: bold\">LiteAgent Completed</span>                                                                                            <span style=\"color: #008000; text-decoration-color: #008000\">│</span>\n",
       "<span style=\"color: #008000; text-decoration-color: #008000\">│</span>  <span style=\"color: #c0c0c0; text-decoration-color: #c0c0c0\">Name: </span><span style=\"color: #008000; text-decoration-color: #008000\">AI Technology Researcher</span>                                                                                 <span style=\"color: #008000; text-decoration-color: #008000\">│</span>\n",
       "<span style=\"color: #008000; text-decoration-color: #008000\">│</span>  <span style=\"color: #c0c0c0; text-decoration-color: #c0c0c0\">id: </span><span style=\"color: #008000; text-decoration-color: #008000\">0e87979b-18f3-4a27-8b25-689ec59189f1</span>                                                                       <span style=\"color: #008000; text-decoration-color: #008000\">│</span>\n",
       "<span style=\"color: #008000; text-decoration-color: #008000\">│</span>  <span style=\"color: #c0c0c0; text-decoration-color: #c0c0c0\">role: </span><span style=\"color: #008000; text-decoration-color: #008000\">AI Technology Researcher</span>                                                                                 <span style=\"color: #008000; text-decoration-color: #008000\">│</span>\n",
       "<span style=\"color: #008000; text-decoration-color: #008000\">│</span>  <span style=\"color: #c0c0c0; text-decoration-color: #c0c0c0\">goal: </span><span style=\"color: #008000; text-decoration-color: #008000\">Research the latest AI developments and trends</span>                                                           <span style=\"color: #008000; text-decoration-color: #008000\">│</span>\n",
       "<span style=\"color: #008000; text-decoration-color: #008000\">│</span>  <span style=\"color: #c0c0c0; text-decoration-color: #c0c0c0\">backstory: </span>                                                                                                    <span style=\"color: #008000; text-decoration-color: #008000\">│</span>\n",
       "<span style=\"color: #008000; text-decoration-color: #008000\">│</span>  <span style=\"color: #008000; text-decoration-color: #008000\">    You are an expert AI researcher with 10+ years of experience in machine learning, </span>                         <span style=\"color: #008000; text-decoration-color: #008000\">│</span>\n",
       "<span style=\"color: #008000; text-decoration-color: #008000\">│</span>  <span style=\"color: #008000; text-decoration-color: #008000\">    natural language processing, and artificial intelligence. You have a PhD in Computer Science </span>              <span style=\"color: #008000; text-decoration-color: #008000\">│</span>\n",
       "<span style=\"color: #008000; text-decoration-color: #008000\">│</span>  <span style=\"color: #008000; text-decoration-color: #008000\">    and have published numerous papers on AI advancements. You're known for your ability to </span>                   <span style=\"color: #008000; text-decoration-color: #008000\">│</span>\n",
       "<span style=\"color: #008000; text-decoration-color: #008000\">│</span>  <span style=\"color: #008000; text-decoration-color: #008000\">    identify emerging trends and explain complex AI concepts in simple terms.</span>                                  <span style=\"color: #008000; text-decoration-color: #008000\">│</span>\n",
       "<span style=\"color: #008000; text-decoration-color: #008000\">│</span>  <span style=\"color: #008000; text-decoration-color: #008000\">    </span>                                                                                                           <span style=\"color: #008000; text-decoration-color: #008000\">│</span>\n",
       "<span style=\"color: #008000; text-decoration-color: #008000\">│</span>  <span style=\"color: #c0c0c0; text-decoration-color: #c0c0c0\">tools: </span><span style=\"color: #008000; text-decoration-color: #008000\">[CrewStructuredTool(name='Search the internet with Serper', description='Tool Name: Search the </span>         <span style=\"color: #008000; text-decoration-color: #008000\">│</span>\n",
       "<span style=\"color: #008000; text-decoration-color: #008000\">│</span>  <span style=\"color: #008000; text-decoration-color: #008000\">internet with Serper</span>                                                                                           <span style=\"color: #008000; text-decoration-color: #008000\">│</span>\n",
       "<span style=\"color: #008000; text-decoration-color: #008000\">│</span>  <span style=\"color: #008000; text-decoration-color: #008000\">Tool Arguments: {'search_query': {'description': 'Mandatory search query you want to use to search the </span>        <span style=\"color: #008000; text-decoration-color: #008000\">│</span>\n",
       "<span style=\"color: #008000; text-decoration-color: #008000\">│</span>  <span style=\"color: #008000; text-decoration-color: #008000\">internet', 'type': 'str'}}</span>                                                                                     <span style=\"color: #008000; text-decoration-color: #008000\">│</span>\n",
       "<span style=\"color: #008000; text-decoration-color: #008000\">│</span>  <span style=\"color: #008000; text-decoration-color: #008000\">Tool Description: A tool that can be used to search the internet with a search_query. Supports different </span>      <span style=\"color: #008000; text-decoration-color: #008000\">│</span>\n",
       "<span style=\"color: #008000; text-decoration-color: #008000\">│</span>  <span style=\"color: #008000; text-decoration-color: #008000\">search types: 'search' (default), 'news'')]</span>                                                                    <span style=\"color: #008000; text-decoration-color: #008000\">│</span>\n",
       "<span style=\"color: #008000; text-decoration-color: #008000\">│</span>  <span style=\"color: #c0c0c0; text-decoration-color: #c0c0c0\">verbose: </span><span style=\"color: #008000; text-decoration-color: #008000\">True</span>                                                                                                  <span style=\"color: #008000; text-decoration-color: #008000\">│</span>\n",
       "<span style=\"color: #008000; text-decoration-color: #008000\">│</span>  <span style=\"color: #c0c0c0; text-decoration-color: #c0c0c0\">Tool Args: </span>                                                                                                    <span style=\"color: #008000; text-decoration-color: #008000\">│</span>\n",
       "<span style=\"color: #008000; text-decoration-color: #008000\">│</span>                                                                                                                 <span style=\"color: #008000; text-decoration-color: #008000\">│</span>\n",
       "<span style=\"color: #008000; text-decoration-color: #008000\">│</span>                                                                                                                 <span style=\"color: #008000; text-decoration-color: #008000\">│</span>\n",
       "<span style=\"color: #008000; text-decoration-color: #008000\">╰─────────────────────────────────────────────────────────────────────────────────────────────────────────────────╯</span>\n",
       "</pre>\n"
      ],
      "text/plain": [
       "\u001b[32m╭─\u001b[0m\u001b[32m────────────────────────────────────────────\u001b[0m\u001b[32m LiteAgent Completion \u001b[0m\u001b[32m─────────────────────────────────────────────\u001b[0m\u001b[32m─╮\u001b[0m\n",
       "\u001b[32m│\u001b[0m                                                                                                                 \u001b[32m│\u001b[0m\n",
       "\u001b[32m│\u001b[0m  \u001b[1;32mLiteAgent Completed\u001b[0m                                                                                            \u001b[32m│\u001b[0m\n",
       "\u001b[32m│\u001b[0m  \u001b[37mName: \u001b[0m\u001b[32mAI Technology Researcher\u001b[0m                                                                                 \u001b[32m│\u001b[0m\n",
       "\u001b[32m│\u001b[0m  \u001b[37mid: \u001b[0m\u001b[32m0e87979b-18f3-4a27-8b25-689ec59189f1\u001b[0m                                                                       \u001b[32m│\u001b[0m\n",
       "\u001b[32m│\u001b[0m  \u001b[37mrole: \u001b[0m\u001b[32mAI Technology Researcher\u001b[0m                                                                                 \u001b[32m│\u001b[0m\n",
       "\u001b[32m│\u001b[0m  \u001b[37mgoal: \u001b[0m\u001b[32mResearch the latest AI developments and trends\u001b[0m                                                           \u001b[32m│\u001b[0m\n",
       "\u001b[32m│\u001b[0m  \u001b[37mbackstory: \u001b[0m                                                                                                    \u001b[32m│\u001b[0m\n",
       "\u001b[32m│\u001b[0m  \u001b[32m    You are an expert AI researcher with 10+ years of experience in machine learning, \u001b[0m                         \u001b[32m│\u001b[0m\n",
       "\u001b[32m│\u001b[0m  \u001b[32m    natural language processing, and artificial intelligence. You have a PhD in Computer Science \u001b[0m              \u001b[32m│\u001b[0m\n",
       "\u001b[32m│\u001b[0m  \u001b[32m    and have published numerous papers on AI advancements. You're known for your ability to \u001b[0m                   \u001b[32m│\u001b[0m\n",
       "\u001b[32m│\u001b[0m  \u001b[32m    identify emerging trends and explain complex AI concepts in simple terms.\u001b[0m                                  \u001b[32m│\u001b[0m\n",
       "\u001b[32m│\u001b[0m  \u001b[32m    \u001b[0m                                                                                                           \u001b[32m│\u001b[0m\n",
       "\u001b[32m│\u001b[0m  \u001b[37mtools: \u001b[0m\u001b[32m[CrewStructuredTool(name='Search the internet with Serper', description='Tool Name: Search the \u001b[0m         \u001b[32m│\u001b[0m\n",
       "\u001b[32m│\u001b[0m  \u001b[32minternet with Serper\u001b[0m                                                                                           \u001b[32m│\u001b[0m\n",
       "\u001b[32m│\u001b[0m  \u001b[32mTool Arguments: {'search_query': {'description': 'Mandatory search query you want to use to search the \u001b[0m        \u001b[32m│\u001b[0m\n",
       "\u001b[32m│\u001b[0m  \u001b[32minternet', 'type': 'str'}}\u001b[0m                                                                                     \u001b[32m│\u001b[0m\n",
       "\u001b[32m│\u001b[0m  \u001b[32mTool Description: A tool that can be used to search the internet with a search_query. Supports different \u001b[0m      \u001b[32m│\u001b[0m\n",
       "\u001b[32m│\u001b[0m  \u001b[32msearch types: 'search' (default), 'news'')]\u001b[0m                                                                    \u001b[32m│\u001b[0m\n",
       "\u001b[32m│\u001b[0m  \u001b[37mverbose: \u001b[0m\u001b[32mTrue\u001b[0m                                                                                                  \u001b[32m│\u001b[0m\n",
       "\u001b[32m│\u001b[0m  \u001b[37mTool Args: \u001b[0m                                                                                                    \u001b[32m│\u001b[0m\n",
       "\u001b[32m│\u001b[0m                                                                                                                 \u001b[32m│\u001b[0m\n",
       "\u001b[32m│\u001b[0m                                                                                                                 \u001b[32m│\u001b[0m\n",
       "\u001b[32m╰─────────────────────────────────────────────────────────────────────────────────────────────────────────────────╯\u001b[0m\n"
      ]
     },
     "metadata": {},
     "output_type": "display_data"
    },
    {
     "data": {
      "text/html": [
       "<pre style=\"white-space:pre;overflow-x:auto;line-height:normal;font-family:Menlo,'DejaVu Sans Mono',consolas,'Courier New',monospace\">\n",
       "</pre>\n"
      ],
      "text/plain": [
       "\n"
      ]
     },
     "metadata": {},
     "output_type": "display_data"
    },
    {
     "name": "stdout",
     "output_type": "stream",
     "text": [
      "💬 Resultado de la conversación:\n",
      "In 2025, several notable developments in large language models (LLMs) have emerged:\n",
      "\n",
      "1. **Top Large Language Models**: A variety of LLMs are making waves in the industry, each demonstrating unique capabilities and specialization. [Shakudo](https://www.shakudo.io/blog/top-9-large-language-models).\n",
      "\n",
      "2. **Understanding LLMs**: A comprehensive guide discusses the advancements, limitations, and capabilities of LLMs in 2025, highlighting their evolving roles in different applications. [Hatchworks](https://hatchworks.com/blog/gen-ai/large-language-models-guide/).\n",
      "\n",
      "3. **Key Trends**: Significant trends impacting LLM development include improvements in training techniques and enhanced reasoning capabilities. A detailed analysis is available on emerging trends shaping the future of LLMs. [Prajna AI Wisdom](https://prajnaaiwisdom.medium.com/llm-trends-2025-a-deep-dive-into-the-future-of-large-language-models-bff23aa7cdbc).\n",
      "\n",
      "4. **Enhanced Learning Techniques**: Researchers have developed new techniques for teaching LLMs, improving their performance in tasks like commonsense reasoning and arithmetic reasoning. [NC State News](https://news.ncsu.edu/2025/07/iimproving-llm-new-skills/).\n",
      "\n",
      "5. **Best LLMs**: Models like Claude Sonnet 4 have been released for conversational AI, emphasizing natural conversations that feel more humanlike. [Botpress](https://botpress.com/blog/best-large-language-models).\n",
      "\n",
      "6. **Research Papers**: A curated list detailing over 200 research papers published in 2025 related to LLM advancements offers insights into the academic side of the technology. [Ahead of AI](https://magazine.sebastianraschka.com/p/llm-research-papers-2025-list-one).\n",
      "\n",
      "7. **Reasoning Capabilities**: New studies indicate that LLMs can represent and reason about data in various forms, similar to human cognitive processes, broadening their application potential across different industries. [MIT News](https://news.mit.edu/2025/large-language-models-reason-about-diverse-data-general-way-0219).\n",
      "\n",
      "8. **Widespread Applications**: LLMs are now integral across various sectors, including finance and healthcare, with ongoing research aimed at expanding their utility. [Chicago Booth](https://www.chicagobooth.edu/research/center-for-applied-artificial-intelligence/stories/2025/llms-across-industries).\n",
      "\n",
      "Overall, 2025 marks an exciting year for LLMs, characterized by innovative techniques, impactful applications, and enhanced performance capabilities.\n"
     ]
    }
   ],
   "source": [
    "# Ejemplo con múltiples mensajes (conversación)\n",
    "messages = [\n",
    "    {\"role\": \"user\", \"content\": \"I need information about large language models\"},\n",
    "    {\"role\": \"assistant\", \"content\": \"I'd be happy to help with that! What specifically would you like to know?\"},\n",
    "    {\"role\": \"user\", \"content\": \"What are the latest developments in 2025?\"}\n",
    "]\n",
    "\n",
    "result = researcher.kickoff(messages)\n",
    "print(\"💬 Resultado de la conversación:\")\n",
    "print(result.raw)"
   ]
  },
  {
   "cell_type": "markdown",
   "metadata": {},
   "source": [
    "## ⚙️ 5. Configuraciones Avanzadas\n",
    "\n",
    "### 🔒 Seguridad y Ejecución de Código"
   ]
  },
  {
   "cell_type": "code",
   "execution_count": 18,
   "metadata": {},
   "outputs": [
    {
     "ename": "RuntimeError",
     "evalue": "Docker is not installed. Please install Docker to use code execution with agent: Code Analyst",
     "output_type": "error",
     "traceback": [
      "\u001b[1;31m---------------------------------------------------------------------------\u001b[0m",
      "\u001b[1;31mRuntimeError\u001b[0m                              Traceback (most recent call last)",
      "Cell \u001b[1;32mIn[18], line 2\u001b[0m\n\u001b[0;32m      1\u001b[0m \u001b[38;5;66;03m# Agent con ejecución de código segura\u001b[39;00m\n\u001b[1;32m----> 2\u001b[0m code_agent \u001b[38;5;241m=\u001b[39m \u001b[43mAgent\u001b[49m\u001b[43m(\u001b[49m\n\u001b[0;32m      3\u001b[0m \u001b[43m    \u001b[49m\u001b[43mrole\u001b[49m\u001b[38;5;241;43m=\u001b[39;49m\u001b[38;5;124;43m\"\u001b[39;49m\u001b[38;5;124;43mCode Analyst\u001b[39;49m\u001b[38;5;124;43m\"\u001b[39;49m\u001b[43m,\u001b[49m\n\u001b[0;32m      4\u001b[0m \u001b[43m    \u001b[49m\u001b[43mgoal\u001b[49m\u001b[38;5;241;43m=\u001b[39;49m\u001b[38;5;124;43m\"\u001b[39;49m\u001b[38;5;124;43mAnalyze and improve code quality\u001b[39;49m\u001b[38;5;124;43m\"\u001b[39;49m\u001b[43m,\u001b[49m\n\u001b[0;32m      5\u001b[0m \u001b[43m    \u001b[49m\u001b[43mbackstory\u001b[49m\u001b[38;5;241;43m=\u001b[39;49m\u001b[38;5;124;43m\"\u001b[39;49m\u001b[38;5;124;43mExpert code reviewer with 15 years of experience\u001b[39;49m\u001b[38;5;124;43m\"\u001b[39;49m\u001b[43m,\u001b[49m\n\u001b[0;32m      6\u001b[0m \u001b[43m    \u001b[49m\u001b[43mallow_code_execution\u001b[49m\u001b[38;5;241;43m=\u001b[39;49m\u001b[38;5;28;43;01mTrue\u001b[39;49;00m\u001b[43m,\u001b[49m\n\u001b[0;32m      7\u001b[0m \u001b[43m    \u001b[49m\u001b[43mcode_execution_mode\u001b[49m\u001b[38;5;241;43m=\u001b[39;49m\u001b[38;5;124;43m\"\u001b[39;49m\u001b[38;5;124;43msafe\u001b[39;49m\u001b[38;5;124;43m\"\u001b[39;49m\u001b[43m,\u001b[49m\u001b[43m  \u001b[49m\u001b[38;5;66;43;03m# Usar Docker para seguridad\u001b[39;49;00m\n\u001b[0;32m      8\u001b[0m \u001b[43m    \u001b[49m\u001b[43mmax_execution_time\u001b[49m\u001b[38;5;241;43m=\u001b[39;49m\u001b[38;5;241;43m300\u001b[39;49m\u001b[43m,\u001b[49m\u001b[43m  \u001b[49m\u001b[38;5;66;43;03m# 5 minutos máximo\u001b[39;49;00m\n\u001b[0;32m      9\u001b[0m \u001b[43m    \u001b[49m\u001b[43mverbose\u001b[49m\u001b[38;5;241;43m=\u001b[39;49m\u001b[38;5;28;43;01mTrue\u001b[39;49;00m\n\u001b[0;32m     10\u001b[0m \u001b[43m)\u001b[49m\n\u001b[0;32m     12\u001b[0m \u001b[38;5;28mprint\u001b[39m(\u001b[38;5;124m\"\u001b[39m\u001b[38;5;124m🔒 Agent con ejecución de código segura creado\u001b[39m\u001b[38;5;124m\"\u001b[39m)\n",
      "    \u001b[1;31m[... skipping hidden 1 frame]\u001b[0m\n",
      "File \u001b[1;32mc:\\Users\\Usuario\\AppData\\Local\\Programs\\Python\\Python311\\Lib\\site-packages\\crewai\\agent.py:191\u001b[0m, in \u001b[0;36mAgent.post_init_setup\u001b[1;34m(self)\u001b[0m\n\u001b[0;32m    188\u001b[0m     \u001b[38;5;28mself\u001b[39m\u001b[38;5;241m.\u001b[39m_setup_agent_executor()\n\u001b[0;32m    190\u001b[0m \u001b[38;5;28;01mif\u001b[39;00m \u001b[38;5;28mself\u001b[39m\u001b[38;5;241m.\u001b[39mallow_code_execution:\n\u001b[1;32m--> 191\u001b[0m     \u001b[38;5;28;43mself\u001b[39;49m\u001b[38;5;241;43m.\u001b[39;49m\u001b[43m_validate_docker_installation\u001b[49m\u001b[43m(\u001b[49m\u001b[43m)\u001b[49m\n\u001b[0;32m    193\u001b[0m \u001b[38;5;28;01mreturn\u001b[39;00m \u001b[38;5;28mself\u001b[39m\n",
      "File \u001b[1;32mc:\\Users\\Usuario\\AppData\\Local\\Programs\\Python\\Python311\\Lib\\site-packages\\crewai\\agent.py:697\u001b[0m, in \u001b[0;36mAgent._validate_docker_installation\u001b[1;34m(self)\u001b[0m\n\u001b[0;32m    695\u001b[0m \u001b[38;5;250m\u001b[39m\u001b[38;5;124;03m\"\"\"Check if Docker is installed and running.\"\"\"\u001b[39;00m\n\u001b[0;32m    696\u001b[0m \u001b[38;5;28;01mif\u001b[39;00m \u001b[38;5;129;01mnot\u001b[39;00m shutil\u001b[38;5;241m.\u001b[39mwhich(\u001b[38;5;124m\"\u001b[39m\u001b[38;5;124mdocker\u001b[39m\u001b[38;5;124m\"\u001b[39m):\n\u001b[1;32m--> 697\u001b[0m     \u001b[38;5;28;01mraise\u001b[39;00m \u001b[38;5;167;01mRuntimeError\u001b[39;00m(\n\u001b[0;32m    698\u001b[0m         \u001b[38;5;124mf\u001b[39m\u001b[38;5;124m\"\u001b[39m\u001b[38;5;124mDocker is not installed. Please install Docker to use code execution with agent: \u001b[39m\u001b[38;5;132;01m{\u001b[39;00m\u001b[38;5;28mself\u001b[39m\u001b[38;5;241m.\u001b[39mrole\u001b[38;5;132;01m}\u001b[39;00m\u001b[38;5;124m\"\u001b[39m\n\u001b[0;32m    699\u001b[0m     )\n\u001b[0;32m    701\u001b[0m \u001b[38;5;28;01mtry\u001b[39;00m:\n\u001b[0;32m    702\u001b[0m     subprocess\u001b[38;5;241m.\u001b[39mrun(\n\u001b[0;32m    703\u001b[0m         [\u001b[38;5;124m\"\u001b[39m\u001b[38;5;124mdocker\u001b[39m\u001b[38;5;124m\"\u001b[39m, \u001b[38;5;124m\"\u001b[39m\u001b[38;5;124minfo\u001b[39m\u001b[38;5;124m\"\u001b[39m],\n\u001b[0;32m    704\u001b[0m         check\u001b[38;5;241m=\u001b[39m\u001b[38;5;28;01mTrue\u001b[39;00m,\n\u001b[0;32m    705\u001b[0m         stdout\u001b[38;5;241m=\u001b[39msubprocess\u001b[38;5;241m.\u001b[39mPIPE,\n\u001b[0;32m    706\u001b[0m         stderr\u001b[38;5;241m=\u001b[39msubprocess\u001b[38;5;241m.\u001b[39mPIPE,\n\u001b[0;32m    707\u001b[0m     )\n",
      "\u001b[1;31mRuntimeError\u001b[0m: Docker is not installed. Please install Docker to use code execution with agent: Code Analyst"
     ]
    }
   ],
   "source": [
    "# Agent con ejecución de código segura\n",
    "code_agent = Agent(\n",
    "    role=\"Code Analyst\",\n",
    "    goal=\"Analyze and improve code quality\",\n",
    "    backstory=\"Expert code reviewer with 15 years of experience\",\n",
    "    allow_code_execution=True,\n",
    "    code_execution_mode=\"safe\",  # Usar Docker para seguridad\n",
    "    max_execution_time=300,  # 5 minutos máximo\n",
    "    verbose=True\n",
    ")\n",
    "\n",
    "print(\"🔒 Agent con ejecución de código segura creado\")"
   ]
  },
  {
   "cell_type": "code",
   "execution_count": 19,
   "metadata": {},
   "outputs": [
    {
     "name": "stdout",
     "output_type": "stream",
     "text": [
      "🧠 Agent con capacidades de razonamiento creado\n"
     ]
    }
   ],
   "source": [
    "# Agent con razonamiento y planificación\n",
    "reasoning_agent = Agent(\n",
    "    role=\"Strategic Planner\",\n",
    "    goal=\"Create comprehensive strategic plans\",\n",
    "    backstory=\"Senior strategic consultant with expertise in business planning\",\n",
    "    reasoning=True,  # Habilitar razonamiento\n",
    "    max_reasoning_attempts=5,  # Máximo 5 intentos de planificación\n",
    "    verbose=True\n",
    ")\n",
    "\n",
    "print(\"🧠 Agent con capacidades de razonamiento creado\")"
   ]
  },
  {
   "cell_type": "code",
   "execution_count": 20,
   "metadata": {},
   "outputs": [
    {
     "name": "stdout",
     "output_type": "stream",
     "text": [
      "📅 Agent con conciencia de fecha creado\n"
     ]
    }
   ],
   "source": [
    "# Agent con conciencia de fecha\n",
    "date_aware_agent = Agent(\n",
    "    role=\"Time-Sensitive Analyst\",\n",
    "    goal=\"Analyze time-sensitive data and trends\",\n",
    "    backstory=\"Expert in temporal data analysis\",\n",
    "    inject_date=True,  # Inyectar fecha automáticamente\n",
    "    date_format=\"%Y-%m-%d\",  # Formato ISO\n",
    "    verbose=True\n",
    ")\n",
    "\n",
    "print(\"📅 Agent con conciencia de fecha creado\")"
   ]
  },
  {
   "cell_type": "code",
   "execution_count": 21,
   "metadata": {},
   "outputs": [
    {
     "name": "stdout",
     "output_type": "stream",
     "text": [
      "🖼️ Agent multimodal creado\n"
     ]
    }
   ],
   "source": [
    "# Agent multimodal\n",
    "multimodal_agent = Agent(\n",
    "    role=\"Content Analyzer\",\n",
    "    goal=\"Analyze text and visual content\",\n",
    "    backstory=\"Expert in analyzing both text and visual information\",\n",
    "    multimodal=True,  # Soporte para contenido multimodal\n",
    "    verbose=True\n",
    ")\n",
    "\n",
    "print(\"🖼️ Agent multimodal creado\")"
   ]
  },
  {
   "cell_type": "markdown",
   "metadata": {},
   "source": [
    "## 🎯 6. Mejores Prácticas\n",
    "\n",
    "### 🔒 Seguridad\n",
    "- ⚠️ **Ten cuidado** con `allow_code_execution` y valida siempre el input del usuario\n",
    "- 🐳 Usa `code_execution_mode: \"safe\"` (Docker) en entornos de producción\n",
    "- ⏱️ Establece límites apropiados de `max_execution_time`\n",
    "\n",
    "### ⚡ Optimización de Performance\n",
    "- 📝 Usa `respect_context_window: true` para prevenir problemas de límite de tokens\n",
    "- 🚦 Establece `max_rpm` apropiado para evitar rate limiting\n",
    "- 💾 Habilita `cache: true` para mejorar performance en tareas repetitivas\n",
    "- 🔄 Ajusta `max_iter` y `max_retry_limit` basado en la complejidad de la tarea\n",
    "\n",
    "### 🧠 Gestión de Memoria y Contexto\n",
    "- 📚 Aprovecha `knowledge_sources` para información específica del dominio\n",
    "- 🔧 Configura `embedder` cuando uses modelos de embedding personalizados\n",
    "- 🎨 Usa templates personalizados para control granular del comportamiento del agent\n",
    "\n",
    "### 🚀 Características Avanzadas\n",
    "- 🧠 Habilita `reasoning: true` para agents que necesiten planificar antes de ejecutar tareas complejas\n",
    "- 📅 Usa `inject_date: true` para agents que necesiten conciencia temporal\n",
    "- 🖼️ Habilita `multimodal: true` para agents que procesen contenido visual y textual\n",
    "\n",
    "---"
   ]
  },
  {
   "cell_type": "markdown",
   "metadata": {},
   "source": [
    "## 🔧 7. Troubleshooting Común\n",
    "\n",
    "### 🚦 Rate Limiting\n",
    "```python\n",
    "# Solución: Implementar max_rpm apropiado\n",
    "agent = Agent(\n",
    "    role=\"Researcher\",\n",
    "    max_rpm=10,  # Máximo 10 requests por minuto\n",
    "    cache=True   # Usar caché para operaciones repetitivas\n",
    ")\n",
    "```\n",
    "\n",
    "### 📝 Context Window Errors\n",
    "```python\n",
    "# Solución rápida: Habilitar manejo automático\n",
    "agent.respect_context_window = True\n",
    "\n",
    "# Mejor solución: Usar herramientas RAG\n",
    "from crewai_tools import RagTool\n",
    "agent.tools = [RagTool()]\n",
    "```\n",
    "\n",
    "### 💻 Code Execution Issues\n",
    "```python\n",
    "# Verificar Docker para modo seguro\n",
    "agent = Agent(\n",
    "    role=\"Code Analyst\",\n",
    "    allow_code_execution=True,\n",
    "    code_execution_mode=\"safe\",  # Requiere Docker\n",
    "    max_execution_time=300\n",
    ")\n",
    "```\n",
    "\n",
    "### 🧠 Memory Issues\n",
    "```python\n",
    "# Si las respuestas del agent parecen inconsistentes\n",
    "agent = Agent(\n",
    "    role=\"Analyst\",\n",
    "    knowledge_sources=[your_knowledge_source],  # Configurar fuentes de conocimiento\n",
    "    respect_context_window=True  # Manejar historial de conversación\n",
    ")\n",
    "```\n",
    "\n",
    "---"
   ]
  },
  {
   "cell_type": "markdown",
   "metadata": {},
   "source": [
    "## 🎯 8. Ejemplo Práctico Completo\n",
    "\n",
    "Vamos a crear un ejemplo completo que demuestre varios conceptos:"
   ]
  },
  {
   "cell_type": "code",
   "execution_count": 22,
   "metadata": {},
   "outputs": [
    {
     "name": "stdout",
     "output_type": "stream",
     "text": [
      "✅ Agents creados exitosamente\n",
      "🔍 Researcher: Market Research Specialist\n",
      "📊 Analyst: Business Strategy Analyst\n"
     ]
    }
   ],
   "source": [
    "from crewai import Agent, Task, Crew\n",
    "from crewai_tools import SerperDevTool\n",
    "from pydantic import BaseModel\n",
    "from typing import List\n",
    "\n",
    "# 🎯 Definir modelo de salida estructurada\n",
    "class MarketAnalysis(BaseModel):\n",
    "    market_trends: List[str]\n",
    "    key_players: List[str]\n",
    "    opportunities: List[str]\n",
    "    risks: List[str]\n",
    "    recommendations: str\n",
    "\n",
    "# 🔍 Agent Investigador\n",
    "researcher = Agent(\n",
    "    role=\"Market Research Specialist\",\n",
    "    goal=\"Gather comprehensive market data and insights\",\n",
    "    backstory=\"\"\"\n",
    "    You are a senior market research specialist with 15 years of experience in analyzing \n",
    "    industry trends, competitive landscapes, and market opportunities. You have a Master's \n",
    "    degree in Business Administration and have worked with Fortune 500 companies to identify \n",
    "    market gaps and strategic opportunities. You excel at finding the most relevant and \n",
    "    up-to-date market information from reliable sources.\n",
    "    \"\"\",\n",
    "    tools=[SerperDevTool()],\n",
    "    verbose=True,\n",
    "    reasoning=True,\n",
    "    max_reasoning_attempts=3,\n",
    "    inject_date=True,\n",
    "    date_format=\"%Y-%m-%d\"\n",
    ")\n",
    "\n",
    "# 📊 Agent Analista\n",
    "analyst = Agent(\n",
    "    role=\"Business Strategy Analyst\",\n",
    "    goal=\"Analyze market data and create strategic insights\",\n",
    "    backstory=\"\"\"\n",
    "    You are a strategic business analyst with expertise in data analysis, competitive \n",
    "    intelligence, and strategic planning. You have a PhD in Strategic Management and \n",
    "    have helped numerous companies develop successful market entry and expansion strategies. \n",
    "    You're known for your ability to turn complex market data into actionable business insights.\n",
    "    \"\"\",\n",
    "    verbose=True,\n",
    "    reasoning=True,\n",
    "    max_reasoning_attempts=5\n",
    ")\n",
    "\n",
    "print(\"✅ Agents creados exitosamente\")\n",
    "print(f\"🔍 Researcher: {researcher.role}\")\n",
    "print(f\"📊 Analyst: {analyst.role}\")"
   ]
  },
  {
   "cell_type": "code",
   "execution_count": 23,
   "metadata": {},
   "outputs": [
    {
     "name": "stdout",
     "output_type": "stream",
     "text": [
      "🚀 Ejemplo de análisis de mercado:\n"
     ]
    },
    {
     "data": {
      "text/html": [
       "<pre style=\"white-space:pre;overflow-x:auto;line-height:normal;font-family:Menlo,'DejaVu Sans Mono',consolas,'Courier New',monospace\"><span style=\"color: #008080; text-decoration-color: #008080\">╭─────────────────────────────────────────────── LiteAgent Started ───────────────────────────────────────────────╮</span>\n",
       "<span style=\"color: #008080; text-decoration-color: #008080\">│</span>                                                                                                                 <span style=\"color: #008080; text-decoration-color: #008080\">│</span>\n",
       "<span style=\"color: #008080; text-decoration-color: #008080\">│</span>  <span style=\"color: #008080; text-decoration-color: #008080; font-weight: bold\">LiteAgent Session Started</span>                                                                                      <span style=\"color: #008080; text-decoration-color: #008080\">│</span>\n",
       "<span style=\"color: #008080; text-decoration-color: #008080\">│</span>  <span style=\"color: #c0c0c0; text-decoration-color: #c0c0c0\">Name: </span><span style=\"color: #008080; text-decoration-color: #008080\">Market Research Specialist</span>                                                                               <span style=\"color: #008080; text-decoration-color: #008080\">│</span>\n",
       "<span style=\"color: #008080; text-decoration-color: #008080\">│</span>  <span style=\"color: #c0c0c0; text-decoration-color: #c0c0c0\">id: </span><span style=\"color: #008080; text-decoration-color: #008080\">5c52ed6f-d303-483c-838b-714fc5dcd5b0</span>                                                                       <span style=\"color: #008080; text-decoration-color: #008080\">│</span>\n",
       "<span style=\"color: #008080; text-decoration-color: #008080\">│</span>  <span style=\"color: #c0c0c0; text-decoration-color: #c0c0c0\">role: </span><span style=\"color: #008080; text-decoration-color: #008080\">Market Research Specialist</span>                                                                               <span style=\"color: #008080; text-decoration-color: #008080\">│</span>\n",
       "<span style=\"color: #008080; text-decoration-color: #008080\">│</span>  <span style=\"color: #c0c0c0; text-decoration-color: #c0c0c0\">goal: </span><span style=\"color: #008080; text-decoration-color: #008080\">Gather comprehensive market data and insights</span>                                                            <span style=\"color: #008080; text-decoration-color: #008080\">│</span>\n",
       "<span style=\"color: #008080; text-decoration-color: #008080\">│</span>  <span style=\"color: #c0c0c0; text-decoration-color: #c0c0c0\">backstory: </span>                                                                                                    <span style=\"color: #008080; text-decoration-color: #008080\">│</span>\n",
       "<span style=\"color: #008080; text-decoration-color: #008080\">│</span>  <span style=\"color: #008080; text-decoration-color: #008080\">    You are a senior market research specialist with 15 years of experience in analyzing </span>                      <span style=\"color: #008080; text-decoration-color: #008080\">│</span>\n",
       "<span style=\"color: #008080; text-decoration-color: #008080\">│</span>  <span style=\"color: #008080; text-decoration-color: #008080\">    industry trends, competitive landscapes, and market opportunities. You have a Master's </span>                    <span style=\"color: #008080; text-decoration-color: #008080\">│</span>\n",
       "<span style=\"color: #008080; text-decoration-color: #008080\">│</span>  <span style=\"color: #008080; text-decoration-color: #008080\">    degree in Business Administration and have worked with Fortune 500 companies to identify </span>                  <span style=\"color: #008080; text-decoration-color: #008080\">│</span>\n",
       "<span style=\"color: #008080; text-decoration-color: #008080\">│</span>  <span style=\"color: #008080; text-decoration-color: #008080\">    market gaps and strategic opportunities. You excel at finding the most relevant and </span>                       <span style=\"color: #008080; text-decoration-color: #008080\">│</span>\n",
       "<span style=\"color: #008080; text-decoration-color: #008080\">│</span>  <span style=\"color: #008080; text-decoration-color: #008080\">    up-to-date market information from reliable sources.</span>                                                       <span style=\"color: #008080; text-decoration-color: #008080\">│</span>\n",
       "<span style=\"color: #008080; text-decoration-color: #008080\">│</span>  <span style=\"color: #008080; text-decoration-color: #008080\">    </span>                                                                                                           <span style=\"color: #008080; text-decoration-color: #008080\">│</span>\n",
       "<span style=\"color: #008080; text-decoration-color: #008080\">│</span>  <span style=\"color: #c0c0c0; text-decoration-color: #c0c0c0\">tools: </span><span style=\"color: #008080; text-decoration-color: #008080\">[CrewStructuredTool(name='Search the internet with Serper', description='Tool Name: Search the </span>         <span style=\"color: #008080; text-decoration-color: #008080\">│</span>\n",
       "<span style=\"color: #008080; text-decoration-color: #008080\">│</span>  <span style=\"color: #008080; text-decoration-color: #008080\">internet with Serper</span>                                                                                           <span style=\"color: #008080; text-decoration-color: #008080\">│</span>\n",
       "<span style=\"color: #008080; text-decoration-color: #008080\">│</span>  <span style=\"color: #008080; text-decoration-color: #008080\">Tool Arguments: {'search_query': {'description': 'Mandatory search query you want to use to search the </span>        <span style=\"color: #008080; text-decoration-color: #008080\">│</span>\n",
       "<span style=\"color: #008080; text-decoration-color: #008080\">│</span>  <span style=\"color: #008080; text-decoration-color: #008080\">internet', 'type': 'str'}}</span>                                                                                     <span style=\"color: #008080; text-decoration-color: #008080\">│</span>\n",
       "<span style=\"color: #008080; text-decoration-color: #008080\">│</span>  <span style=\"color: #008080; text-decoration-color: #008080\">Tool Description: A tool that can be used to search the internet with a search_query. Supports different </span>      <span style=\"color: #008080; text-decoration-color: #008080\">│</span>\n",
       "<span style=\"color: #008080; text-decoration-color: #008080\">│</span>  <span style=\"color: #008080; text-decoration-color: #008080\">search types: 'search' (default), 'news'')]</span>                                                                    <span style=\"color: #008080; text-decoration-color: #008080\">│</span>\n",
       "<span style=\"color: #008080; text-decoration-color: #008080\">│</span>  <span style=\"color: #c0c0c0; text-decoration-color: #c0c0c0\">verbose: </span><span style=\"color: #008080; text-decoration-color: #008080\">True</span>                                                                                                  <span style=\"color: #008080; text-decoration-color: #008080\">│</span>\n",
       "<span style=\"color: #008080; text-decoration-color: #008080\">│</span>  <span style=\"color: #c0c0c0; text-decoration-color: #c0c0c0\">Tool Args: </span>                                                                                                    <span style=\"color: #008080; text-decoration-color: #008080\">│</span>\n",
       "<span style=\"color: #008080; text-decoration-color: #008080\">│</span>                                                                                                                 <span style=\"color: #008080; text-decoration-color: #008080\">│</span>\n",
       "<span style=\"color: #008080; text-decoration-color: #008080\">│</span>                                                                                                                 <span style=\"color: #008080; text-decoration-color: #008080\">│</span>\n",
       "<span style=\"color: #008080; text-decoration-color: #008080\">╰─────────────────────────────────────────────────────────────────────────────────────────────────────────────────╯</span>\n",
       "</pre>\n"
      ],
      "text/plain": [
       "\u001b[36m╭─\u001b[0m\u001b[36m──────────────────────────────────────────────\u001b[0m\u001b[36m LiteAgent Started \u001b[0m\u001b[36m──────────────────────────────────────────────\u001b[0m\u001b[36m─╮\u001b[0m\n",
       "\u001b[36m│\u001b[0m                                                                                                                 \u001b[36m│\u001b[0m\n",
       "\u001b[36m│\u001b[0m  \u001b[1;36mLiteAgent Session Started\u001b[0m                                                                                      \u001b[36m│\u001b[0m\n",
       "\u001b[36m│\u001b[0m  \u001b[37mName: \u001b[0m\u001b[36mMarket Research Specialist\u001b[0m                                                                               \u001b[36m│\u001b[0m\n",
       "\u001b[36m│\u001b[0m  \u001b[37mid: \u001b[0m\u001b[36m5c52ed6f-d303-483c-838b-714fc5dcd5b0\u001b[0m                                                                       \u001b[36m│\u001b[0m\n",
       "\u001b[36m│\u001b[0m  \u001b[37mrole: \u001b[0m\u001b[36mMarket Research Specialist\u001b[0m                                                                               \u001b[36m│\u001b[0m\n",
       "\u001b[36m│\u001b[0m  \u001b[37mgoal: \u001b[0m\u001b[36mGather comprehensive market data and insights\u001b[0m                                                            \u001b[36m│\u001b[0m\n",
       "\u001b[36m│\u001b[0m  \u001b[37mbackstory: \u001b[0m                                                                                                    \u001b[36m│\u001b[0m\n",
       "\u001b[36m│\u001b[0m  \u001b[36m    You are a senior market research specialist with 15 years of experience in analyzing \u001b[0m                      \u001b[36m│\u001b[0m\n",
       "\u001b[36m│\u001b[0m  \u001b[36m    industry trends, competitive landscapes, and market opportunities. You have a Master's \u001b[0m                    \u001b[36m│\u001b[0m\n",
       "\u001b[36m│\u001b[0m  \u001b[36m    degree in Business Administration and have worked with Fortune 500 companies to identify \u001b[0m                  \u001b[36m│\u001b[0m\n",
       "\u001b[36m│\u001b[0m  \u001b[36m    market gaps and strategic opportunities. You excel at finding the most relevant and \u001b[0m                       \u001b[36m│\u001b[0m\n",
       "\u001b[36m│\u001b[0m  \u001b[36m    up-to-date market information from reliable sources.\u001b[0m                                                       \u001b[36m│\u001b[0m\n",
       "\u001b[36m│\u001b[0m  \u001b[36m    \u001b[0m                                                                                                           \u001b[36m│\u001b[0m\n",
       "\u001b[36m│\u001b[0m  \u001b[37mtools: \u001b[0m\u001b[36m[CrewStructuredTool(name='Search the internet with Serper', description='Tool Name: Search the \u001b[0m         \u001b[36m│\u001b[0m\n",
       "\u001b[36m│\u001b[0m  \u001b[36minternet with Serper\u001b[0m                                                                                           \u001b[36m│\u001b[0m\n",
       "\u001b[36m│\u001b[0m  \u001b[36mTool Arguments: {'search_query': {'description': 'Mandatory search query you want to use to search the \u001b[0m        \u001b[36m│\u001b[0m\n",
       "\u001b[36m│\u001b[0m  \u001b[36minternet', 'type': 'str'}}\u001b[0m                                                                                     \u001b[36m│\u001b[0m\n",
       "\u001b[36m│\u001b[0m  \u001b[36mTool Description: A tool that can be used to search the internet with a search_query. Supports different \u001b[0m      \u001b[36m│\u001b[0m\n",
       "\u001b[36m│\u001b[0m  \u001b[36msearch types: 'search' (default), 'news'')]\u001b[0m                                                                    \u001b[36m│\u001b[0m\n",
       "\u001b[36m│\u001b[0m  \u001b[37mverbose: \u001b[0m\u001b[36mTrue\u001b[0m                                                                                                  \u001b[36m│\u001b[0m\n",
       "\u001b[36m│\u001b[0m  \u001b[37mTool Args: \u001b[0m                                                                                                    \u001b[36m│\u001b[0m\n",
       "\u001b[36m│\u001b[0m                                                                                                                 \u001b[36m│\u001b[0m\n",
       "\u001b[36m│\u001b[0m                                                                                                                 \u001b[36m│\u001b[0m\n",
       "\u001b[36m╰─────────────────────────────────────────────────────────────────────────────────────────────────────────────────╯\u001b[0m\n"
      ]
     },
     "metadata": {},
     "output_type": "display_data"
    },
    {
     "data": {
      "text/html": [
       "<pre style=\"white-space:pre;overflow-x:auto;line-height:normal;font-family:Menlo,'DejaVu Sans Mono',consolas,'Courier New',monospace\">\n",
       "</pre>\n"
      ],
      "text/plain": [
       "\n"
      ]
     },
     "metadata": {},
     "output_type": "display_data"
    },
    {
     "data": {
      "application/vnd.jupyter.widget-view+json": {
       "model_id": "a53b6181f41c4f6aa43a80df7e9b1ad9",
       "version_major": 2,
       "version_minor": 0
      },
      "text/plain": [
       "Output()"
      ]
     },
     "metadata": {},
     "output_type": "display_data"
    },
    {
     "data": {
      "text/html": [
       "<pre style=\"white-space:pre;overflow-x:auto;line-height:normal;font-family:Menlo,'DejaVu Sans Mono',consolas,'Courier New',monospace\"></pre>\n"
      ],
      "text/plain": []
     },
     "metadata": {},
     "output_type": "display_data"
    },
    {
     "data": {
      "text/html": [
       "<pre style=\"white-space:pre;overflow-x:auto;line-height:normal;font-family:Menlo,'DejaVu Sans Mono',consolas,'Courier New',monospace\"><span style=\"color: #800080; text-decoration-color: #800080\">╭──────────────────────────────────────────── 🔧 Agent Tool Execution ────────────────────────────────────────────╮</span>\n",
       "<span style=\"color: #800080; text-decoration-color: #800080\">│</span>                                                                                                                 <span style=\"color: #800080; text-decoration-color: #800080\">│</span>\n",
       "<span style=\"color: #800080; text-decoration-color: #800080\">│</span>  <span style=\"color: #c0c0c0; text-decoration-color: #c0c0c0\">Agent: </span><span style=\"color: #00ff00; text-decoration-color: #00ff00; font-weight: bold\">Market Research Specialist</span>                                                                              <span style=\"color: #800080; text-decoration-color: #800080\">│</span>\n",
       "<span style=\"color: #800080; text-decoration-color: #800080\">│</span>                                                                                                                 <span style=\"color: #800080; text-decoration-color: #800080\">│</span>\n",
       "<span style=\"color: #800080; text-decoration-color: #800080\">│</span>  <span style=\"color: #c0c0c0; text-decoration-color: #c0c0c0\">Thought: </span><span style=\"color: #00ff00; text-decoration-color: #00ff00\">Thought: I need to gather recent information about the AI market in 2025, specifically focusing on </span>   <span style=\"color: #800080; text-decoration-color: #800080\">│</span>\n",
       "<span style=\"color: #800080; text-decoration-color: #800080\">│</span>  <span style=\"color: #00ff00; text-decoration-color: #00ff00\">language models, automation tools, and trends in enterprise adoption. This will require targeted searches to </span>  <span style=\"color: #800080; text-decoration-color: #800080\">│</span>\n",
       "<span style=\"color: #800080; text-decoration-color: #800080\">│</span>  <span style=\"color: #00ff00; text-decoration-color: #00ff00\">find up-to-date trends, key players, opportunities, and risks in the market.</span>                                   <span style=\"color: #800080; text-decoration-color: #800080\">│</span>\n",
       "<span style=\"color: #800080; text-decoration-color: #800080\">│</span>                                                                                                                 <span style=\"color: #800080; text-decoration-color: #800080\">│</span>\n",
       "<span style=\"color: #800080; text-decoration-color: #800080\">│</span>  <span style=\"color: #c0c0c0; text-decoration-color: #c0c0c0\">Using Tool: </span><span style=\"color: #00ff00; text-decoration-color: #00ff00; font-weight: bold\">Search the internet with Serper</span>                                                                    <span style=\"color: #800080; text-decoration-color: #800080\">│</span>\n",
       "<span style=\"color: #800080; text-decoration-color: #800080\">│</span>                                                                                                                 <span style=\"color: #800080; text-decoration-color: #800080\">│</span>\n",
       "<span style=\"color: #800080; text-decoration-color: #800080\">╰─────────────────────────────────────────────────────────────────────────────────────────────────────────────────╯</span>\n",
       "</pre>\n"
      ],
      "text/plain": [
       "\u001b[35m╭─\u001b[0m\u001b[35m───────────────────────────────────────────\u001b[0m\u001b[35m 🔧 Agent Tool Execution \u001b[0m\u001b[35m───────────────────────────────────────────\u001b[0m\u001b[35m─╮\u001b[0m\n",
       "\u001b[35m│\u001b[0m                                                                                                                 \u001b[35m│\u001b[0m\n",
       "\u001b[35m│\u001b[0m  \u001b[37mAgent: \u001b[0m\u001b[1;92mMarket Research Specialist\u001b[0m                                                                              \u001b[35m│\u001b[0m\n",
       "\u001b[35m│\u001b[0m                                                                                                                 \u001b[35m│\u001b[0m\n",
       "\u001b[35m│\u001b[0m  \u001b[37mThought: \u001b[0m\u001b[92mThought: I need to gather recent information about the AI market in 2025, specifically focusing on \u001b[0m   \u001b[35m│\u001b[0m\n",
       "\u001b[35m│\u001b[0m  \u001b[92mlanguage models, automation tools, and trends in enterprise adoption. This will require targeted searches to \u001b[0m  \u001b[35m│\u001b[0m\n",
       "\u001b[35m│\u001b[0m  \u001b[92mfind up-to-date trends, key players, opportunities, and risks in the market.\u001b[0m                                   \u001b[35m│\u001b[0m\n",
       "\u001b[35m│\u001b[0m                                                                                                                 \u001b[35m│\u001b[0m\n",
       "\u001b[35m│\u001b[0m  \u001b[37mUsing Tool: \u001b[0m\u001b[1;92mSearch the internet with Serper\u001b[0m                                                                    \u001b[35m│\u001b[0m\n",
       "\u001b[35m│\u001b[0m                                                                                                                 \u001b[35m│\u001b[0m\n",
       "\u001b[35m╰─────────────────────────────────────────────────────────────────────────────────────────────────────────────────╯\u001b[0m\n"
      ]
     },
     "metadata": {},
     "output_type": "display_data"
    },
    {
     "data": {
      "text/html": [
       "<pre style=\"white-space:pre;overflow-x:auto;line-height:normal;font-family:Menlo,'DejaVu Sans Mono',consolas,'Courier New',monospace\"><span style=\"color: #000080; text-decoration-color: #000080\">╭────────────────────────────────────────────────── Tool Input ───────────────────────────────────────────────────╮</span>\n",
       "<span style=\"color: #000080; text-decoration-color: #000080\">│</span>                                                                                                                 <span style=\"color: #000080; text-decoration-color: #000080\">│</span>\n",
       "<span style=\"color: #000080; text-decoration-color: #000080\">│</span>  <span style=\"color: #e6db74; text-decoration-color: #e6db74; background-color: #ffffff\">\"{\\\"search_query\\\": \\\"AI market trends 2025 language models automation tools enterprise adoption\\\"}\"</span>           <span style=\"color: #000080; text-decoration-color: #000080\">│</span>\n",
       "<span style=\"color: #000080; text-decoration-color: #000080\">│</span>                                                                                                                 <span style=\"color: #000080; text-decoration-color: #000080\">│</span>\n",
       "<span style=\"color: #000080; text-decoration-color: #000080\">╰─────────────────────────────────────────────────────────────────────────────────────────────────────────────────╯</span>\n",
       "</pre>\n"
      ],
      "text/plain": [
       "\u001b[34m╭─\u001b[0m\u001b[34m─────────────────────────────────────────────────\u001b[0m\u001b[34m Tool Input \u001b[0m\u001b[34m──────────────────────────────────────────────────\u001b[0m\u001b[34m─╮\u001b[0m\n",
       "\u001b[34m│\u001b[0m                                                                                                                 \u001b[34m│\u001b[0m\n",
       "\u001b[34m│\u001b[0m  \u001b[38;2;230;219;116;49m\"{\\\"search_query\\\": \\\"AI market trends 2025 language models automation tools enterprise adoption\\\"}\"\u001b[0m           \u001b[34m│\u001b[0m\n",
       "\u001b[34m│\u001b[0m                                                                                                                 \u001b[34m│\u001b[0m\n",
       "\u001b[34m╰─────────────────────────────────────────────────────────────────────────────────────────────────────────────────╯\u001b[0m\n"
      ]
     },
     "metadata": {},
     "output_type": "display_data"
    },
    {
     "data": {
      "text/html": [
       "<pre style=\"white-space:pre;overflow-x:auto;line-height:normal;font-family:Menlo,'DejaVu Sans Mono',consolas,'Courier New',monospace\"><span style=\"color: #008000; text-decoration-color: #008000\">╭────────────────────────────────────────────────── Tool Output ──────────────────────────────────────────────────╮</span>\n",
       "<span style=\"color: #008000; text-decoration-color: #008000\">│</span>                                                                                                                 <span style=\"color: #008000; text-decoration-color: #008000\">│</span>\n",
       "<span style=\"color: #008000; text-decoration-color: #008000\">│</span>  <span style=\"color: #00ff00; text-decoration-color: #00ff00\">{'searchParameters': {'q': 'AI market trends 2025 language models automation tools enterprise adoption', </span>      <span style=\"color: #008000; text-decoration-color: #008000\">│</span>\n",
       "<span style=\"color: #008000; text-decoration-color: #008000\">│</span>  <span style=\"color: #00ff00; text-decoration-color: #00ff00\">'type': 'search', 'num': 10, 'engine': 'google'}, 'organic': [{'title': 'Top 8 Enterprise AI Trends That Will</span>  <span style=\"color: #008000; text-decoration-color: #008000\">│</span>\n",
       "<span style=\"color: #008000; text-decoration-color: #008000\">│</span>  <span style=\"color: #00ff00; text-decoration-color: #00ff00\">Shape 2025 - Coworker AI', 'link': 'https://coworker.ai/blog/enterprise-ai-trends-2025', 'snippet': 'The top </span>  <span style=\"color: #008000; text-decoration-color: #008000\">│</span>\n",
       "<span style=\"color: #008000; text-decoration-color: #008000\">│</span>  <span style=\"color: #00ff00; text-decoration-color: #00ff00\">enterprise AI trends in 2025 include smarter AI reasoning, rise of agentic AI, mainstream adoption of </span>         <span style=\"color: #008000; text-decoration-color: #008000\">│</span>\n",
       "<span style=\"color: #008000; text-decoration-color: #008000\">│</span>  <span style=\"color: #00ff00; text-decoration-color: #00ff00\">multimodal AI, domain-specific AI models, tighter AI governance and regulation, more practical enterprise AI </span>  <span style=\"color: #008000; text-decoration-color: #008000\">│</span>\n",
       "<span style=\"color: #008000; text-decoration-color: #008000\">│</span>  <span style=\"color: #00ff00; text-decoration-color: #00ff00\">tools, increased focus on AI security, and the use of synthetic and internal data to fuel AI growth.', </span>        <span style=\"color: #008000; text-decoration-color: #008000\">│</span>\n",
       "<span style=\"color: #008000; text-decoration-color: #008000\">│</span>  <span style=\"color: #00ff00; text-decoration-color: #00ff00\">'position': 1}, {'title': 'AI in the workplace: A report for 2025 - McKinsey', 'link': </span>                        <span style=\"color: #008000; text-decoration-color: #008000\">│</span>\n",
       "<span style=\"color: #008000; text-decoration-color: #008000\">│</span>  <span style=\"color: #00ff00; text-decoration-color: #00ff00\">'https://www.mckinsey.com/capabilities/mckinsey-digital/our-insights/superagency-in-the-workplace-empowering-</span>  <span style=\"color: #008000; text-decoration-color: #008000\">│</span>\n",
       "<span style=\"color: #008000; text-decoration-color: #008000\">│</span>  <span style=\"color: #00ff00; text-decoration-color: #00ff00\">people-to-unlock-ais-full-potential-at-work', 'snippet': 'Over the past two years, AI has advanced in leaps </span>   <span style=\"color: #008000; text-decoration-color: #008000\">│</span>\n",
       "<span style=\"color: #008000; text-decoration-color: #008000\">│</span>  <span style=\"color: #00ff00; text-decoration-color: #00ff00\">and bounds, and enterprise-level adoption has accelerated due to lower costs and greater ...', 'position': </span>    <span style=\"color: #008000; text-decoration-color: #008000\">│</span>\n",
       "<span style=\"color: #008000; text-decoration-color: #008000\">│</span>  <span style=\"color: #00ff00; text-decoration-color: #00ff00\">2}, {'title': 'McKinsey technology trends outlook 2025', 'link': </span>                                              <span style=\"color: #008000; text-decoration-color: #008000\">│</span>\n",
       "<span style=\"color: #008000; text-decoration-color: #008000\">│</span>  <span style=\"color: #00ff00; text-decoration-color: #00ff00\">'https://www.mckinsey.com/capabilities/mckinsey-digital/our-insights/the-top-trends-in-tech', 'snippet': \"In </span>  <span style=\"color: #008000; text-decoration-color: #008000\">│</span>\n",
       "<span style=\"color: #008000; text-decoration-color: #008000\">│</span>  <span style=\"color: #00ff00; text-decoration-color: #00ff00\">addition to the growing reach of AI, another new trend we have chosen to highlight in this year's report is </span>   <span style=\"color: #008000; text-decoration-color: #008000\">│</span>\n",
       "<span style=\"color: #008000; text-decoration-color: #008000\">│</span>  <span style=\"color: #00ff00; text-decoration-color: #00ff00\">agentic AI, which has rapidly ...\", 'position': 3}, {'title': '2025: The State of Consumer AI | Menlo </span>         <span style=\"color: #008000; text-decoration-color: #008000\">│</span>\n",
       "<span style=\"color: #008000; text-decoration-color: #008000\">│</span>  <span style=\"color: #00ff00; text-decoration-color: #00ff00\">Ventures', 'link': 'https://menlovc.com/perspective/2025-the-state-of-consumer-ai/', 'snippet': 'Based on a </span>   <span style=\"color: #008000; text-decoration-color: #008000\">│</span>\n",
       "<span style=\"color: #008000; text-decoration-color: #008000\">│</span>  <span style=\"color: #00ff00; text-decoration-color: #00ff00\">survey of over 5000 U.S. adults, Menlo Ventures unpacks consumer AI adoption in 2025, with key takeaways for </span>  <span style=\"color: #008000; text-decoration-color: #008000\">│</span>\n",
       "<span style=\"color: #008000; text-decoration-color: #008000\">│</span>  <span style=\"color: #00ff00; text-decoration-color: #00ff00\">founders.', 'position': 4}, {'title': '5 AI Trends Shaping Innovation and ROI in 2025 | Morgan Stanley', </span>      <span style=\"color: #008000; text-decoration-color: #008000\">│</span>\n",
       "<span style=\"color: #008000; text-decoration-color: #008000\">│</span>  <span style=\"color: #00ff00; text-decoration-color: #00ff00\">'link': 'https://www.morganstanley.com/insights/articles/ai-trends-reasoning-frontier-models-2025-tmt', </span>       <span style=\"color: #008000; text-decoration-color: #008000\">│</span>\n",
       "<span style=\"color: #008000; text-decoration-color: #008000\">│</span>  <span style=\"color: #00ff00; text-decoration-color: #00ff00\">'snippet': 'The top trends in new AI frontiers and the focus on enterprises include AI reasoning, custom </span>      <span style=\"color: #008000; text-decoration-color: #008000\">│</span>\n",
       "<span style=\"color: #008000; text-decoration-color: #008000\">│</span>  <span style=\"color: #00ff00; text-decoration-color: #00ff00\">silicon, cloud migrations, system...</span>                                                                           <span style=\"color: #008000; text-decoration-color: #008000\">│</span>\n",
       "<span style=\"color: #008000; text-decoration-color: #008000\">│</span>                                                                                                                 <span style=\"color: #008000; text-decoration-color: #008000\">│</span>\n",
       "<span style=\"color: #008000; text-decoration-color: #008000\">╰─────────────────────────────────────────────────────────────────────────────────────────────────────────────────╯</span>\n",
       "</pre>\n"
      ],
      "text/plain": [
       "\u001b[32m╭─\u001b[0m\u001b[32m─────────────────────────────────────────────────\u001b[0m\u001b[32m Tool Output \u001b[0m\u001b[32m─────────────────────────────────────────────────\u001b[0m\u001b[32m─╮\u001b[0m\n",
       "\u001b[32m│\u001b[0m                                                                                                                 \u001b[32m│\u001b[0m\n",
       "\u001b[32m│\u001b[0m  \u001b[92m{'searchParameters': {'q': 'AI market trends 2025 language models automation tools enterprise adoption', \u001b[0m      \u001b[32m│\u001b[0m\n",
       "\u001b[32m│\u001b[0m  \u001b[92m'type': 'search', 'num': 10, 'engine': 'google'}, 'organic': [{'title': 'Top 8 Enterprise AI Trends That Will\u001b[0m  \u001b[32m│\u001b[0m\n",
       "\u001b[32m│\u001b[0m  \u001b[92mShape 2025 - Coworker AI', 'link': 'https://coworker.ai/blog/enterprise-ai-trends-2025', 'snippet': 'The top \u001b[0m  \u001b[32m│\u001b[0m\n",
       "\u001b[32m│\u001b[0m  \u001b[92menterprise AI trends in 2025 include smarter AI reasoning, rise of agentic AI, mainstream adoption of \u001b[0m         \u001b[32m│\u001b[0m\n",
       "\u001b[32m│\u001b[0m  \u001b[92mmultimodal AI, domain-specific AI models, tighter AI governance and regulation, more practical enterprise AI \u001b[0m  \u001b[32m│\u001b[0m\n",
       "\u001b[32m│\u001b[0m  \u001b[92mtools, increased focus on AI security, and the use of synthetic and internal data to fuel AI growth.', \u001b[0m        \u001b[32m│\u001b[0m\n",
       "\u001b[32m│\u001b[0m  \u001b[92m'position': 1}, {'title': 'AI in the workplace: A report for 2025 - McKinsey', 'link': \u001b[0m                        \u001b[32m│\u001b[0m\n",
       "\u001b[32m│\u001b[0m  \u001b[92m'https://www.mckinsey.com/capabilities/mckinsey-digital/our-insights/superagency-in-the-workplace-empowering-\u001b[0m  \u001b[32m│\u001b[0m\n",
       "\u001b[32m│\u001b[0m  \u001b[92mpeople-to-unlock-ais-full-potential-at-work', 'snippet': 'Over the past two years, AI has advanced in leaps \u001b[0m   \u001b[32m│\u001b[0m\n",
       "\u001b[32m│\u001b[0m  \u001b[92mand bounds, and enterprise-level adoption has accelerated due to lower costs and greater ...', 'position': \u001b[0m    \u001b[32m│\u001b[0m\n",
       "\u001b[32m│\u001b[0m  \u001b[92m2}, {'title': 'McKinsey technology trends outlook 2025', 'link': \u001b[0m                                              \u001b[32m│\u001b[0m\n",
       "\u001b[32m│\u001b[0m  \u001b[92m'https://www.mckinsey.com/capabilities/mckinsey-digital/our-insights/the-top-trends-in-tech', 'snippet': \"In \u001b[0m  \u001b[32m│\u001b[0m\n",
       "\u001b[32m│\u001b[0m  \u001b[92maddition to the growing reach of AI, another new trend we have chosen to highlight in this year's report is \u001b[0m   \u001b[32m│\u001b[0m\n",
       "\u001b[32m│\u001b[0m  \u001b[92magentic AI, which has rapidly ...\", 'position': 3}, {'title': '2025: The State of Consumer AI | Menlo \u001b[0m         \u001b[32m│\u001b[0m\n",
       "\u001b[32m│\u001b[0m  \u001b[92mVentures', 'link': 'https://menlovc.com/perspective/2025-the-state-of-consumer-ai/', 'snippet': 'Based on a \u001b[0m   \u001b[32m│\u001b[0m\n",
       "\u001b[32m│\u001b[0m  \u001b[92msurvey of over 5000 U.S. adults, Menlo Ventures unpacks consumer AI adoption in 2025, with key takeaways for \u001b[0m  \u001b[32m│\u001b[0m\n",
       "\u001b[32m│\u001b[0m  \u001b[92mfounders.', 'position': 4}, {'title': '5 AI Trends Shaping Innovation and ROI in 2025 | Morgan Stanley', \u001b[0m      \u001b[32m│\u001b[0m\n",
       "\u001b[32m│\u001b[0m  \u001b[92m'link': 'https://www.morganstanley.com/insights/articles/ai-trends-reasoning-frontier-models-2025-tmt', \u001b[0m       \u001b[32m│\u001b[0m\n",
       "\u001b[32m│\u001b[0m  \u001b[92m'snippet': 'The top trends in new AI frontiers and the focus on enterprises include AI reasoning, custom \u001b[0m      \u001b[32m│\u001b[0m\n",
       "\u001b[32m│\u001b[0m  \u001b[92msilicon, cloud migrations, system...\u001b[0m                                                                           \u001b[32m│\u001b[0m\n",
       "\u001b[32m│\u001b[0m                                                                                                                 \u001b[32m│\u001b[0m\n",
       "\u001b[32m╰─────────────────────────────────────────────────────────────────────────────────────────────────────────────────╯\u001b[0m\n"
      ]
     },
     "metadata": {},
     "output_type": "display_data"
    },
    {
     "data": {
      "text/html": [
       "<pre style=\"white-space:pre;overflow-x:auto;line-height:normal;font-family:Menlo,'DejaVu Sans Mono',consolas,'Courier New',monospace\">\n",
       "</pre>\n"
      ],
      "text/plain": [
       "\n"
      ]
     },
     "metadata": {},
     "output_type": "display_data"
    },
    {
     "data": {
      "application/vnd.jupyter.widget-view+json": {
       "model_id": "30bd6b22eddc4c28807b6614f5cae86a",
       "version_major": 2,
       "version_minor": 0
      },
      "text/plain": [
       "Output()"
      ]
     },
     "metadata": {},
     "output_type": "display_data"
    },
    {
     "data": {
      "text/html": [
       "<pre style=\"white-space:pre;overflow-x:auto;line-height:normal;font-family:Menlo,'DejaVu Sans Mono',consolas,'Courier New',monospace\"></pre>\n"
      ],
      "text/plain": []
     },
     "metadata": {},
     "output_type": "display_data"
    },
    {
     "data": {
      "text/html": [
       "<pre style=\"white-space:pre;overflow-x:auto;line-height:normal;font-family:Menlo,'DejaVu Sans Mono',consolas,'Courier New',monospace\"><span style=\"color: #008000; text-decoration-color: #008000\">╭───────────────────────────────────────────── ✅ Agent Final Answer ─────────────────────────────────────────────╮</span>\n",
       "<span style=\"color: #008000; text-decoration-color: #008000\">│</span>                                                                                                                 <span style=\"color: #008000; text-decoration-color: #008000\">│</span>\n",
       "<span style=\"color: #008000; text-decoration-color: #008000\">│</span>  <span style=\"color: #c0c0c0; text-decoration-color: #c0c0c0\">Agent: </span><span style=\"color: #00ff00; text-decoration-color: #00ff00; font-weight: bold\">Market Research Specialist</span>                                                                              <span style=\"color: #008000; text-decoration-color: #008000\">│</span>\n",
       "<span style=\"color: #008000; text-decoration-color: #008000\">│</span>                                                                                                                 <span style=\"color: #008000; text-decoration-color: #008000\">│</span>\n",
       "<span style=\"color: #008000; text-decoration-color: #008000\">│</span>  <span style=\"color: #c0c0c0; text-decoration-color: #c0c0c0\">Final Answer:</span>                                                                                                  <span style=\"color: #008000; text-decoration-color: #008000\">│</span>\n",
       "<span style=\"color: #008000; text-decoration-color: #008000\">│</span>  <span style=\"color: #00ff00; text-decoration-color: #00ff00\">{</span>                                                                                                              <span style=\"color: #008000; text-decoration-color: #008000\">│</span>\n",
       "<span style=\"color: #008000; text-decoration-color: #008000\">│</span>  <span style=\"color: #00ff00; text-decoration-color: #00ff00\">  \"market_trends\": [</span>                                                                                           <span style=\"color: #008000; text-decoration-color: #008000\">│</span>\n",
       "<span style=\"color: #008000; text-decoration-color: #008000\">│</span>  <span style=\"color: #00ff00; text-decoration-color: #00ff00\">    \"Increased Adoption of Agentic AI\",</span>                                                                        <span style=\"color: #008000; text-decoration-color: #008000\">│</span>\n",
       "<span style=\"color: #008000; text-decoration-color: #008000\">│</span>  <span style=\"color: #00ff00; text-decoration-color: #00ff00\">    \"Multimodal AI\",</span>                                                                                           <span style=\"color: #008000; text-decoration-color: #008000\">│</span>\n",
       "<span style=\"color: #008000; text-decoration-color: #008000\">│</span>  <span style=\"color: #00ff00; text-decoration-color: #00ff00\">    \"Hyperautomation\",</span>                                                                                         <span style=\"color: #008000; text-decoration-color: #008000\">│</span>\n",
       "<span style=\"color: #008000; text-decoration-color: #008000\">│</span>  <span style=\"color: #00ff00; text-decoration-color: #00ff00\">    \"AI Governance and Security\"</span>                                                                               <span style=\"color: #008000; text-decoration-color: #008000\">│</span>\n",
       "<span style=\"color: #008000; text-decoration-color: #008000\">│</span>  <span style=\"color: #00ff00; text-decoration-color: #00ff00\">  ],</span>                                                                                                           <span style=\"color: #008000; text-decoration-color: #008000\">│</span>\n",
       "<span style=\"color: #008000; text-decoration-color: #008000\">│</span>  <span style=\"color: #00ff00; text-decoration-color: #00ff00\">  \"key_players\": [</span>                                                                                             <span style=\"color: #008000; text-decoration-color: #008000\">│</span>\n",
       "<span style=\"color: #008000; text-decoration-color: #008000\">│</span>  <span style=\"color: #00ff00; text-decoration-color: #00ff00\">    \"Microsoft\",</span>                                                                                               <span style=\"color: #008000; text-decoration-color: #008000\">│</span>\n",
       "<span style=\"color: #008000; text-decoration-color: #008000\">│</span>  <span style=\"color: #00ff00; text-decoration-color: #00ff00\">    \"Google\",</span>                                                                                                  <span style=\"color: #008000; text-decoration-color: #008000\">│</span>\n",
       "<span style=\"color: #008000; text-decoration-color: #008000\">│</span>  <span style=\"color: #00ff00; text-decoration-color: #00ff00\">    \"Amazon\",</span>                                                                                                  <span style=\"color: #008000; text-decoration-color: #008000\">│</span>\n",
       "<span style=\"color: #008000; text-decoration-color: #008000\">│</span>  <span style=\"color: #00ff00; text-decoration-color: #00ff00\">    \"Emerging AI firms\"</span>                                                                                        <span style=\"color: #008000; text-decoration-color: #008000\">│</span>\n",
       "<span style=\"color: #008000; text-decoration-color: #008000\">│</span>  <span style=\"color: #00ff00; text-decoration-color: #00ff00\">  ],</span>                                                                                                           <span style=\"color: #008000; text-decoration-color: #008000\">│</span>\n",
       "<span style=\"color: #008000; text-decoration-color: #008000\">│</span>  <span style=\"color: #00ff00; text-decoration-color: #00ff00\">  \"opportunities\": [</span>                                                                                           <span style=\"color: #008000; text-decoration-color: #008000\">│</span>\n",
       "<span style=\"color: #008000; text-decoration-color: #008000\">│</span>  <span style=\"color: #00ff00; text-decoration-color: #00ff00\">    \"Cost Reduction and Efficiency\",</span>                                                                           <span style=\"color: #008000; text-decoration-color: #008000\">│</span>\n",
       "<span style=\"color: #008000; text-decoration-color: #008000\">│</span>  <span style=\"color: #00ff00; text-decoration-color: #00ff00\">    \"Bespoke AI Solutions\",</span>                                                                                    <span style=\"color: #008000; text-decoration-color: #008000\">│</span>\n",
       "<span style=\"color: #008000; text-decoration-color: #008000\">│</span>  <span style=\"color: #00ff00; text-decoration-color: #00ff00\">    \"AI-Driven Insights and Analytics\"</span>                                                                         <span style=\"color: #008000; text-decoration-color: #008000\">│</span>\n",
       "<span style=\"color: #008000; text-decoration-color: #008000\">│</span>  <span style=\"color: #00ff00; text-decoration-color: #00ff00\">  ],</span>                                                                                                           <span style=\"color: #008000; text-decoration-color: #008000\">│</span>\n",
       "<span style=\"color: #008000; text-decoration-color: #008000\">│</span>  <span style=\"color: #00ff00; text-decoration-color: #00ff00\">  \"risks\": [</span>                                                                                                   <span style=\"color: #008000; text-decoration-color: #008000\">│</span>\n",
       "<span style=\"color: #008000; text-decoration-color: #008000\">│</span>  <span style=\"color: #00ff00; text-decoration-color: #00ff00\">    \"Regulatory Challenges\",</span>                                                                                   <span style=\"color: #008000; text-decoration-color: #008000\">│</span>\n",
       "<span style=\"color: #008000; text-decoration-color: #008000\">│</span>  <span style=\"color: #00ff00; text-decoration-color: #00ff00\">    \"Security Vulnerabilities\",</span>                                                                                <span style=\"color: #008000; text-decoration-color: #008000\">│</span>\n",
       "<span style=\"color: #008000; text-decoration-color: #008000\">│</span>  <span style=\"color: #00ff00; text-decoration-color: #00ff00\">    \"Skill Gaps\"</span>                                                                                               <span style=\"color: #008000; text-decoration-color: #008000\">│</span>\n",
       "<span style=\"color: #008000; text-decoration-color: #008000\">│</span>  <span style=\"color: #00ff00; text-decoration-color: #00ff00\">  ],</span>                                                                                                           <span style=\"color: #008000; text-decoration-color: #008000\">│</span>\n",
       "<span style=\"color: #008000; text-decoration-color: #008000\">│</span>  <span style=\"color: #00ff00; text-decoration-color: #00ff00\">  \"recommendations\": \"Companies looking to leverage AI in 2025 should focus on building robust governance </span>     <span style=\"color: #008000; text-decoration-color: #008000\">│</span>\n",
       "<span style=\"color: #008000; text-decoration-color: #008000\">│</span>  <span style=\"color: #00ff00; text-decoration-color: #00ff00\">frameworks, investing in training and skill development for their workforce, and adopting multimodal and </span>      <span style=\"color: #008000; text-decoration-color: #008000\">│</span>\n",
       "<span style=\"color: #008000; text-decoration-color: #008000\">│</span>  <span style=\"color: #00ff00; text-decoration-color: #00ff00\">agentic AI solutions that enhance productivity and customer engagement.\"</span>                                       <span style=\"color: #008000; text-decoration-color: #008000\">│</span>\n",
       "<span style=\"color: #008000; text-decoration-color: #008000\">│</span>  <span style=\"color: #00ff00; text-decoration-color: #00ff00\">}</span>                                                                                                              <span style=\"color: #008000; text-decoration-color: #008000\">│</span>\n",
       "<span style=\"color: #008000; text-decoration-color: #008000\">│</span>                                                                                                                 <span style=\"color: #008000; text-decoration-color: #008000\">│</span>\n",
       "<span style=\"color: #008000; text-decoration-color: #008000\">╰─────────────────────────────────────────────────────────────────────────────────────────────────────────────────╯</span>\n",
       "</pre>\n"
      ],
      "text/plain": [
       "\u001b[32m╭─\u001b[0m\u001b[32m────────────────────────────────────────────\u001b[0m\u001b[32m ✅ Agent Final Answer \u001b[0m\u001b[32m────────────────────────────────────────────\u001b[0m\u001b[32m─╮\u001b[0m\n",
       "\u001b[32m│\u001b[0m                                                                                                                 \u001b[32m│\u001b[0m\n",
       "\u001b[32m│\u001b[0m  \u001b[37mAgent: \u001b[0m\u001b[1;92mMarket Research Specialist\u001b[0m                                                                              \u001b[32m│\u001b[0m\n",
       "\u001b[32m│\u001b[0m                                                                                                                 \u001b[32m│\u001b[0m\n",
       "\u001b[32m│\u001b[0m  \u001b[37mFinal Answer:\u001b[0m                                                                                                  \u001b[32m│\u001b[0m\n",
       "\u001b[32m│\u001b[0m  \u001b[92m{\u001b[0m                                                                                                              \u001b[32m│\u001b[0m\n",
       "\u001b[32m│\u001b[0m  \u001b[92m  \"market_trends\": [\u001b[0m                                                                                           \u001b[32m│\u001b[0m\n",
       "\u001b[32m│\u001b[0m  \u001b[92m    \"Increased Adoption of Agentic AI\",\u001b[0m                                                                        \u001b[32m│\u001b[0m\n",
       "\u001b[32m│\u001b[0m  \u001b[92m    \"Multimodal AI\",\u001b[0m                                                                                           \u001b[32m│\u001b[0m\n",
       "\u001b[32m│\u001b[0m  \u001b[92m    \"Hyperautomation\",\u001b[0m                                                                                         \u001b[32m│\u001b[0m\n",
       "\u001b[32m│\u001b[0m  \u001b[92m    \"AI Governance and Security\"\u001b[0m                                                                               \u001b[32m│\u001b[0m\n",
       "\u001b[32m│\u001b[0m  \u001b[92m  ],\u001b[0m                                                                                                           \u001b[32m│\u001b[0m\n",
       "\u001b[32m│\u001b[0m  \u001b[92m  \"key_players\": [\u001b[0m                                                                                             \u001b[32m│\u001b[0m\n",
       "\u001b[32m│\u001b[0m  \u001b[92m    \"Microsoft\",\u001b[0m                                                                                               \u001b[32m│\u001b[0m\n",
       "\u001b[32m│\u001b[0m  \u001b[92m    \"Google\",\u001b[0m                                                                                                  \u001b[32m│\u001b[0m\n",
       "\u001b[32m│\u001b[0m  \u001b[92m    \"Amazon\",\u001b[0m                                                                                                  \u001b[32m│\u001b[0m\n",
       "\u001b[32m│\u001b[0m  \u001b[92m    \"Emerging AI firms\"\u001b[0m                                                                                        \u001b[32m│\u001b[0m\n",
       "\u001b[32m│\u001b[0m  \u001b[92m  ],\u001b[0m                                                                                                           \u001b[32m│\u001b[0m\n",
       "\u001b[32m│\u001b[0m  \u001b[92m  \"opportunities\": [\u001b[0m                                                                                           \u001b[32m│\u001b[0m\n",
       "\u001b[32m│\u001b[0m  \u001b[92m    \"Cost Reduction and Efficiency\",\u001b[0m                                                                           \u001b[32m│\u001b[0m\n",
       "\u001b[32m│\u001b[0m  \u001b[92m    \"Bespoke AI Solutions\",\u001b[0m                                                                                    \u001b[32m│\u001b[0m\n",
       "\u001b[32m│\u001b[0m  \u001b[92m    \"AI-Driven Insights and Analytics\"\u001b[0m                                                                         \u001b[32m│\u001b[0m\n",
       "\u001b[32m│\u001b[0m  \u001b[92m  ],\u001b[0m                                                                                                           \u001b[32m│\u001b[0m\n",
       "\u001b[32m│\u001b[0m  \u001b[92m  \"risks\": [\u001b[0m                                                                                                   \u001b[32m│\u001b[0m\n",
       "\u001b[32m│\u001b[0m  \u001b[92m    \"Regulatory Challenges\",\u001b[0m                                                                                   \u001b[32m│\u001b[0m\n",
       "\u001b[32m│\u001b[0m  \u001b[92m    \"Security Vulnerabilities\",\u001b[0m                                                                                \u001b[32m│\u001b[0m\n",
       "\u001b[32m│\u001b[0m  \u001b[92m    \"Skill Gaps\"\u001b[0m                                                                                               \u001b[32m│\u001b[0m\n",
       "\u001b[32m│\u001b[0m  \u001b[92m  ],\u001b[0m                                                                                                           \u001b[32m│\u001b[0m\n",
       "\u001b[32m│\u001b[0m  \u001b[92m  \"recommendations\": \"Companies looking to leverage AI in 2025 should focus on building robust governance \u001b[0m     \u001b[32m│\u001b[0m\n",
       "\u001b[32m│\u001b[0m  \u001b[92mframeworks, investing in training and skill development for their workforce, and adopting multimodal and \u001b[0m      \u001b[32m│\u001b[0m\n",
       "\u001b[32m│\u001b[0m  \u001b[92magentic AI solutions that enhance productivity and customer engagement.\"\u001b[0m                                       \u001b[32m│\u001b[0m\n",
       "\u001b[32m│\u001b[0m  \u001b[92m}\u001b[0m                                                                                                              \u001b[32m│\u001b[0m\n",
       "\u001b[32m│\u001b[0m                                                                                                                 \u001b[32m│\u001b[0m\n",
       "\u001b[32m╰─────────────────────────────────────────────────────────────────────────────────────────────────────────────────╯\u001b[0m\n"
      ]
     },
     "metadata": {},
     "output_type": "display_data"
    },
    {
     "data": {
      "text/html": [
       "<pre style=\"white-space:pre;overflow-x:auto;line-height:normal;font-family:Menlo,'DejaVu Sans Mono',consolas,'Courier New',monospace\">\n",
       "</pre>\n"
      ],
      "text/plain": [
       "\n"
      ]
     },
     "metadata": {},
     "output_type": "display_data"
    },
    {
     "data": {
      "text/html": [
       "<pre style=\"white-space:pre;overflow-x:auto;line-height:normal;font-family:Menlo,'DejaVu Sans Mono',consolas,'Courier New',monospace\"></pre>\n"
      ],
      "text/plain": []
     },
     "metadata": {},
     "output_type": "display_data"
    },
    {
     "data": {
      "text/html": [
       "<pre style=\"white-space:pre;overflow-x:auto;line-height:normal;font-family:Menlo,'DejaVu Sans Mono',consolas,'Courier New',monospace\"><span style=\"color: #008000; text-decoration-color: #008000\">╭───────────────────────────────────────────── LiteAgent Completion ──────────────────────────────────────────────╮</span>\n",
       "<span style=\"color: #008000; text-decoration-color: #008000\">│</span>                                                                                                                 <span style=\"color: #008000; text-decoration-color: #008000\">│</span>\n",
       "<span style=\"color: #008000; text-decoration-color: #008000\">│</span>  <span style=\"color: #008000; text-decoration-color: #008000; font-weight: bold\">LiteAgent Completed</span>                                                                                            <span style=\"color: #008000; text-decoration-color: #008000\">│</span>\n",
       "<span style=\"color: #008000; text-decoration-color: #008000\">│</span>  <span style=\"color: #c0c0c0; text-decoration-color: #c0c0c0\">Name: </span><span style=\"color: #008000; text-decoration-color: #008000\">Market Research Specialist</span>                                                                               <span style=\"color: #008000; text-decoration-color: #008000\">│</span>\n",
       "<span style=\"color: #008000; text-decoration-color: #008000\">│</span>  <span style=\"color: #c0c0c0; text-decoration-color: #c0c0c0\">id: </span><span style=\"color: #008000; text-decoration-color: #008000\">5c52ed6f-d303-483c-838b-714fc5dcd5b0</span>                                                                       <span style=\"color: #008000; text-decoration-color: #008000\">│</span>\n",
       "<span style=\"color: #008000; text-decoration-color: #008000\">│</span>  <span style=\"color: #c0c0c0; text-decoration-color: #c0c0c0\">role: </span><span style=\"color: #008000; text-decoration-color: #008000\">Market Research Specialist</span>                                                                               <span style=\"color: #008000; text-decoration-color: #008000\">│</span>\n",
       "<span style=\"color: #008000; text-decoration-color: #008000\">│</span>  <span style=\"color: #c0c0c0; text-decoration-color: #c0c0c0\">goal: </span><span style=\"color: #008000; text-decoration-color: #008000\">Gather comprehensive market data and insights</span>                                                            <span style=\"color: #008000; text-decoration-color: #008000\">│</span>\n",
       "<span style=\"color: #008000; text-decoration-color: #008000\">│</span>  <span style=\"color: #c0c0c0; text-decoration-color: #c0c0c0\">backstory: </span>                                                                                                    <span style=\"color: #008000; text-decoration-color: #008000\">│</span>\n",
       "<span style=\"color: #008000; text-decoration-color: #008000\">│</span>  <span style=\"color: #008000; text-decoration-color: #008000\">    You are a senior market research specialist with 15 years of experience in analyzing </span>                      <span style=\"color: #008000; text-decoration-color: #008000\">│</span>\n",
       "<span style=\"color: #008000; text-decoration-color: #008000\">│</span>  <span style=\"color: #008000; text-decoration-color: #008000\">    industry trends, competitive landscapes, and market opportunities. You have a Master's </span>                    <span style=\"color: #008000; text-decoration-color: #008000\">│</span>\n",
       "<span style=\"color: #008000; text-decoration-color: #008000\">│</span>  <span style=\"color: #008000; text-decoration-color: #008000\">    degree in Business Administration and have worked with Fortune 500 companies to identify </span>                  <span style=\"color: #008000; text-decoration-color: #008000\">│</span>\n",
       "<span style=\"color: #008000; text-decoration-color: #008000\">│</span>  <span style=\"color: #008000; text-decoration-color: #008000\">    market gaps and strategic opportunities. You excel at finding the most relevant and </span>                       <span style=\"color: #008000; text-decoration-color: #008000\">│</span>\n",
       "<span style=\"color: #008000; text-decoration-color: #008000\">│</span>  <span style=\"color: #008000; text-decoration-color: #008000\">    up-to-date market information from reliable sources.</span>                                                       <span style=\"color: #008000; text-decoration-color: #008000\">│</span>\n",
       "<span style=\"color: #008000; text-decoration-color: #008000\">│</span>  <span style=\"color: #008000; text-decoration-color: #008000\">    </span>                                                                                                           <span style=\"color: #008000; text-decoration-color: #008000\">│</span>\n",
       "<span style=\"color: #008000; text-decoration-color: #008000\">│</span>  <span style=\"color: #c0c0c0; text-decoration-color: #c0c0c0\">tools: </span><span style=\"color: #008000; text-decoration-color: #008000\">[CrewStructuredTool(name='Search the internet with Serper', description='Tool Name: Search the </span>         <span style=\"color: #008000; text-decoration-color: #008000\">│</span>\n",
       "<span style=\"color: #008000; text-decoration-color: #008000\">│</span>  <span style=\"color: #008000; text-decoration-color: #008000\">internet with Serper</span>                                                                                           <span style=\"color: #008000; text-decoration-color: #008000\">│</span>\n",
       "<span style=\"color: #008000; text-decoration-color: #008000\">│</span>  <span style=\"color: #008000; text-decoration-color: #008000\">Tool Arguments: {'search_query': {'description': 'Mandatory search query you want to use to search the </span>        <span style=\"color: #008000; text-decoration-color: #008000\">│</span>\n",
       "<span style=\"color: #008000; text-decoration-color: #008000\">│</span>  <span style=\"color: #008000; text-decoration-color: #008000\">internet', 'type': 'str'}}</span>                                                                                     <span style=\"color: #008000; text-decoration-color: #008000\">│</span>\n",
       "<span style=\"color: #008000; text-decoration-color: #008000\">│</span>  <span style=\"color: #008000; text-decoration-color: #008000\">Tool Description: A tool that can be used to search the internet with a search_query. Supports different </span>      <span style=\"color: #008000; text-decoration-color: #008000\">│</span>\n",
       "<span style=\"color: #008000; text-decoration-color: #008000\">│</span>  <span style=\"color: #008000; text-decoration-color: #008000\">search types: 'search' (default), 'news'')]</span>                                                                    <span style=\"color: #008000; text-decoration-color: #008000\">│</span>\n",
       "<span style=\"color: #008000; text-decoration-color: #008000\">│</span>  <span style=\"color: #c0c0c0; text-decoration-color: #c0c0c0\">verbose: </span><span style=\"color: #008000; text-decoration-color: #008000\">True</span>                                                                                                  <span style=\"color: #008000; text-decoration-color: #008000\">│</span>\n",
       "<span style=\"color: #008000; text-decoration-color: #008000\">│</span>  <span style=\"color: #c0c0c0; text-decoration-color: #c0c0c0\">Tool Args: </span>                                                                                                    <span style=\"color: #008000; text-decoration-color: #008000\">│</span>\n",
       "<span style=\"color: #008000; text-decoration-color: #008000\">│</span>                                                                                                                 <span style=\"color: #008000; text-decoration-color: #008000\">│</span>\n",
       "<span style=\"color: #008000; text-decoration-color: #008000\">│</span>                                                                                                                 <span style=\"color: #008000; text-decoration-color: #008000\">│</span>\n",
       "<span style=\"color: #008000; text-decoration-color: #008000\">╰─────────────────────────────────────────────────────────────────────────────────────────────────────────────────╯</span>\n",
       "</pre>\n"
      ],
      "text/plain": [
       "\u001b[32m╭─\u001b[0m\u001b[32m────────────────────────────────────────────\u001b[0m\u001b[32m LiteAgent Completion \u001b[0m\u001b[32m─────────────────────────────────────────────\u001b[0m\u001b[32m─╮\u001b[0m\n",
       "\u001b[32m│\u001b[0m                                                                                                                 \u001b[32m│\u001b[0m\n",
       "\u001b[32m│\u001b[0m  \u001b[1;32mLiteAgent Completed\u001b[0m                                                                                            \u001b[32m│\u001b[0m\n",
       "\u001b[32m│\u001b[0m  \u001b[37mName: \u001b[0m\u001b[32mMarket Research Specialist\u001b[0m                                                                               \u001b[32m│\u001b[0m\n",
       "\u001b[32m│\u001b[0m  \u001b[37mid: \u001b[0m\u001b[32m5c52ed6f-d303-483c-838b-714fc5dcd5b0\u001b[0m                                                                       \u001b[32m│\u001b[0m\n",
       "\u001b[32m│\u001b[0m  \u001b[37mrole: \u001b[0m\u001b[32mMarket Research Specialist\u001b[0m                                                                               \u001b[32m│\u001b[0m\n",
       "\u001b[32m│\u001b[0m  \u001b[37mgoal: \u001b[0m\u001b[32mGather comprehensive market data and insights\u001b[0m                                                            \u001b[32m│\u001b[0m\n",
       "\u001b[32m│\u001b[0m  \u001b[37mbackstory: \u001b[0m                                                                                                    \u001b[32m│\u001b[0m\n",
       "\u001b[32m│\u001b[0m  \u001b[32m    You are a senior market research specialist with 15 years of experience in analyzing \u001b[0m                      \u001b[32m│\u001b[0m\n",
       "\u001b[32m│\u001b[0m  \u001b[32m    industry trends, competitive landscapes, and market opportunities. You have a Master's \u001b[0m                    \u001b[32m│\u001b[0m\n",
       "\u001b[32m│\u001b[0m  \u001b[32m    degree in Business Administration and have worked with Fortune 500 companies to identify \u001b[0m                  \u001b[32m│\u001b[0m\n",
       "\u001b[32m│\u001b[0m  \u001b[32m    market gaps and strategic opportunities. You excel at finding the most relevant and \u001b[0m                       \u001b[32m│\u001b[0m\n",
       "\u001b[32m│\u001b[0m  \u001b[32m    up-to-date market information from reliable sources.\u001b[0m                                                       \u001b[32m│\u001b[0m\n",
       "\u001b[32m│\u001b[0m  \u001b[32m    \u001b[0m                                                                                                           \u001b[32m│\u001b[0m\n",
       "\u001b[32m│\u001b[0m  \u001b[37mtools: \u001b[0m\u001b[32m[CrewStructuredTool(name='Search the internet with Serper', description='Tool Name: Search the \u001b[0m         \u001b[32m│\u001b[0m\n",
       "\u001b[32m│\u001b[0m  \u001b[32minternet with Serper\u001b[0m                                                                                           \u001b[32m│\u001b[0m\n",
       "\u001b[32m│\u001b[0m  \u001b[32mTool Arguments: {'search_query': {'description': 'Mandatory search query you want to use to search the \u001b[0m        \u001b[32m│\u001b[0m\n",
       "\u001b[32m│\u001b[0m  \u001b[32minternet', 'type': 'str'}}\u001b[0m                                                                                     \u001b[32m│\u001b[0m\n",
       "\u001b[32m│\u001b[0m  \u001b[32mTool Description: A tool that can be used to search the internet with a search_query. Supports different \u001b[0m      \u001b[32m│\u001b[0m\n",
       "\u001b[32m│\u001b[0m  \u001b[32msearch types: 'search' (default), 'news'')]\u001b[0m                                                                    \u001b[32m│\u001b[0m\n",
       "\u001b[32m│\u001b[0m  \u001b[37mverbose: \u001b[0m\u001b[32mTrue\u001b[0m                                                                                                  \u001b[32m│\u001b[0m\n",
       "\u001b[32m│\u001b[0m  \u001b[37mTool Args: \u001b[0m                                                                                                    \u001b[32m│\u001b[0m\n",
       "\u001b[32m│\u001b[0m                                                                                                                 \u001b[32m│\u001b[0m\n",
       "\u001b[32m│\u001b[0m                                                                                                                 \u001b[32m│\u001b[0m\n",
       "\u001b[32m╰─────────────────────────────────────────────────────────────────────────────────────────────────────────────────╯\u001b[0m\n"
      ]
     },
     "metadata": {},
     "output_type": "display_data"
    },
    {
     "data": {
      "text/html": [
       "<pre style=\"white-space:pre;overflow-x:auto;line-height:normal;font-family:Menlo,'DejaVu Sans Mono',consolas,'Courier New',monospace\">\n",
       "</pre>\n"
      ],
      "text/plain": [
       "\n"
      ]
     },
     "metadata": {},
     "output_type": "display_data"
    },
    {
     "name": "stdout",
     "output_type": "stream",
     "text": [
      "📊 Resultado del análisis:\n",
      "\n",
      "🎯 Market Trends:\n",
      "  • Increased Adoption of Agentic AI\n",
      "  • Multimodal AI\n",
      "  • Hyperautomation\n",
      "  • AI Governance and Security\n",
      "\n",
      "🏢 Key Players:\n",
      "  • Microsoft\n",
      "  • Google\n",
      "  • Amazon\n",
      "  • Emerging AI firms\n",
      "\n",
      "💡 Opportunities:\n",
      "  • Cost Reduction and Efficiency\n",
      "  • Bespoke AI Solutions\n",
      "  • AI-Driven Insights and Analytics\n",
      "\n",
      "⚠️ Risks:\n",
      "  • Regulatory Challenges\n",
      "  • Security Vulnerabilities\n",
      "  • Skill Gaps\n",
      "\n",
      "📋 Recommendations:\n",
      "  Companies looking to leverage AI in 2025 should focus on building robust governance frameworks, investing in training and skill development for their workforce, and adopting multimodal and agentic AI solutions that enhance productivity and customer engagement.\n"
     ]
    }
   ],
   "source": [
    "# 🎯 Ejemplo de uso directo con kickoff()\n",
    "print(\"🚀 Ejemplo de análisis de mercado:\")\n",
    "\n",
    "# Usar el agent investigador directamente\n",
    "research_result = researcher.kickoff(\n",
    "    \"Analyze the current state of the AI market in 2025, focusing on language models, \"\n",
    "    \"automation tools, and enterprise adoption trends\",\n",
    "    response_format=MarketAnalysis\n",
    ")\n",
    "\n",
    "print(\"📊 Resultado del análisis:\")\n",
    "print(f\"\\n🎯 Market Trends:\")\n",
    "for trend in research_result.pydantic.market_trends:\n",
    "    print(f\"  • {trend}\")\n",
    "\n",
    "print(f\"\\n🏢 Key Players:\")\n",
    "for player in research_result.pydantic.key_players:\n",
    "    print(f\"  • {player}\")\n",
    "\n",
    "print(f\"\\n💡 Opportunities:\")\n",
    "for opportunity in research_result.pydantic.opportunities:\n",
    "    print(f\"  • {opportunity}\")\n",
    "\n",
    "print(f\"\\n⚠️ Risks:\")\n",
    "for risk in research_result.pydantic.risks:\n",
    "    print(f\"  • {risk}\")\n",
    "\n",
    "print(f\"\\n📋 Recommendations:\")\n",
    "print(f\"  {research_result.pydantic.recommendations}\")"
   ]
  },
  {
   "cell_type": "markdown",
   "metadata": {},
   "source": [
    "## 📚 9. Recursos Adicionales\n",
    "\n",
    "### 🔗 Documentación Oficial\n",
    "- 📖 [CrewAI Agents Documentation](https://docs.crewai.com/en/concepts/agents.md)\n",
    "- 🛠️ [CrewAI Tools](https://docs.crewai.com/en/concepts/tools.md)\n",
    "- 👥 [CrewAI Crews](https://docs.crewai.com/en/concepts/crews.md)\n",
    "\n",
    "### 🎯 Próximos Pasos\n",
    "1. **Explorar Tools**: Aprender sobre las herramientas disponibles\n",
    "2. **Crear Crews**: Combinar múltiples agents en workflows\n",
    "3. **Implementar RAG**: Usar fuentes de conocimiento personalizadas\n",
    "4. **Optimizar Performance**: Ajustar configuraciones para tu caso de uso\n",
    "\n",
    "---\n",
    "\n",
    "## 🎉 ¡Felicidades!\n",
    "\n",
    "Has completado el tutorial completo sobre **Agents en CrewAI**. Ahora tienes:\n",
    "\n",
    "✅ **Comprensión profunda** de qué son los agents  \n",
    "✅ **Habilidades prácticas** para crear agents con YAML y código  \n",
    "✅ **Conocimiento de todas las configuraciones** disponibles  \n",
    "✅ **Ejemplos reales** para aplicar en tus proyectos  \n",
    "✅ **Mejores prácticas** para desarrollo seguro y eficiente  \n",
    "✅ **Técnicas de troubleshooting** para resolver problemas comunes  \n",
    "\n",
    "### 🚀 ¿Qué sigue?\n",
    "\n",
    "1. **Practica** creando agents para diferentes casos de uso\n",
    "2. **Experimenta** con diferentes configuraciones\n",
    "3. **Explora** las herramientas disponibles en `crewai_tools`\n",
    "4. **Construye** crews complejos con múltiples agents\n",
    "\n",
    "¡Ahora estás listo para crear agents inteligentes y autónomos con CrewAI! 🎯"
   ]
  }
 ],
 "metadata": {
  "kernelspec": {
   "display_name": "Python 3",
   "language": "python",
   "name": "python3"
  },
  "language_info": {
   "codemirror_mode": {
    "name": "ipython",
    "version": 3
   },
   "file_extension": ".py",
   "mimetype": "text/x-python",
   "name": "python",
   "nbconvert_exporter": "python",
   "pygments_lexer": "ipython3",
   "version": "3.11.4"
  }
 },
 "nbformat": 4,
 "nbformat_minor": 4
}
