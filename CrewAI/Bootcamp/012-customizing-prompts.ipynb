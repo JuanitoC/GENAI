{
 "cells": [
  {
   "cell_type": "markdown",
   "id": "aefff130-8a5d-4892-89d4-94ce30208883",
   "metadata": {},
   "source": [
    "# Advanced Guide: Customizing Prompts\n",
    "* Deep dive into low-level prompt customization for CrewAI."
   ]
  },
  {
   "cell_type": "markdown",
   "id": "dadbfdba-91f6-4f22-8980-3151af9f0302",
   "metadata": {},
   "source": [
    "## Why customize prompts?\n",
    "* CrewAI's default prompts work well for many scenarios.\n",
    "* Use prompt customization when you need more flexible and powerful agent behavior.\n",
    "    * Prompts customized for one particular LLM.\n",
    "    * Prompts in languages other than English.\n",
    "    * Prompts customized for one particular industry.\n",
    "    * Prompts to customize tone and style of the agents.\n",
    "    * Prompts customized for one particular use case."
   ]
  },
  {
   "cell_type": "markdown",
   "id": "8fe21ac8-ff60-415f-a8df-882a11b184c7",
   "metadata": {},
   "source": [
    "## Understanding CrewAI's Prompt System\n",
    "Under the hood, **CrewAI uses a modular prompt system that you can customize extensively**:\n",
    "* Agent.\n",
    "* Task, tool usage, output structure.\n",
    "* How agents respond to errors.\n",
    "* How tools are used.\n",
    "Check out the [repository of original prompt templates in CrewAI’s](https://github.com/crewAIInc/crewAI/blob/main/src/crewai/translations/en.json) to see how these elements are organized. You can override or adapt them as needed to unlock advanced behaviors."
   ]
  },
  {
   "cell_type": "markdown",
   "id": "e4a8db42-1e5e-40f6-9af0-fc05c319bc4b",
   "metadata": {},
   "source": [
    "## Best Practices for Managing Prompt Files\n",
    "* Store your customized prompts in dedicated JSON files outside your main codebase.\n",
    "* Use naming schemes like prompts_llama.json or prompts_es.json to quickly identify specialized configurations.\n",
    "* Only override the specific prompts you genuinely need to adjust'"
   ]
  },
  {
   "cell_type": "markdown",
   "id": "72db5233-c366-4ee3-94a5-2580060cb38b",
   "metadata": {},
   "source": [
    "## The Simplest Way to Customize Prompts\n",
    "* Create a JSON file for the prompts you want to override and then reference that file via the prompt_file parameter in your Crew.\n",
    "* CrewAI then merges your customizations with the defaults."
   ]
  },
  {
   "cell_type": "markdown",
   "id": "248f08bf-304d-478f-9981-d123385d4e84",
   "metadata": {},
   "source": [
    "## Example of Prompt Customization\n",
    "* Create a `custom_prompts.json` file with the prompts you want to modify:"
   ]
  },
  {
   "cell_type": "code",
   "execution_count": null,
   "id": "99dec581-382e-4cbb-829e-d61d24d4af44",
   "metadata": {},
   "outputs": [],
   "source": [
    "{\n",
    "  \"slices\": {\n",
    "    \"format\": \"When responding, follow this structure:\\n\\nTHOUGHTS: Your step-by-step thinking\\nACTION: Any tool you're using\\nRESULT: Your final answer or conclusion\"\n",
    "  }\n",
    "}"
   ]
  },
  {
   "cell_type": "markdown",
   "id": "bfbf7e21-323f-44ef-a2fa-549f8a120a00",
   "metadata": {},
   "source": [
    "* In crew.py, reference that file via the prompt_file parameter in your Crew:"
   ]
  },
  {
   "cell_type": "code",
   "execution_count": null,
   "id": "d51f5eb2-bbf0-4737-a860-292e7f591afe",
   "metadata": {},
   "outputs": [],
   "source": [
    "# Create a crew with your custom prompt file\n",
    "crew = Crew(\n",
    "    agents=[researcher],\n",
    "    tasks=[research_task],\n",
    "    prompt_file=\"path/to/custom_prompts.json\",\n",
    "    verbose=True\n",
    ")"
   ]
  },
  {
   "cell_type": "code",
   "execution_count": null,
   "id": "864cbb69-f879-4c1d-a8e5-fd2c61f1d221",
   "metadata": {},
   "outputs": [],
   "source": []
  }
 ],
 "metadata": {
  "kernelspec": {
   "display_name": "Python 3 (ipykernel)",
   "language": "python",
   "name": "python3"
  },
  "language_info": {
   "codemirror_mode": {
    "name": "ipython",
    "version": 3
   },
   "file_extension": ".py",
   "mimetype": "text/x-python",
   "name": "python",
   "nbconvert_exporter": "python",
   "pygments_lexer": "ipython3",
   "version": "3.12.2"
  }
 },
 "nbformat": 4,
 "nbformat_minor": 5
}
