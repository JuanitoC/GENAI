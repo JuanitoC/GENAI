{
 "cells": [
  {
   "cell_type": "markdown",
   "id": "3e1a0296-44d8-4b72-9718-8e98188afc1c",
   "metadata": {},
   "source": [
    "# Advanced Guide: Fingerprinting\n",
    "* Each Agent, Crew, and Task automatically receives a unique fingerprint when created\n",
    "* Fingerprints in CrewAI provide a way to uniquely identify and track any of them throughout their lifecycle."
   ]
  },
  {
   "cell_type": "markdown",
   "id": "8253d50b-04d0-40b5-bb91-38c713ab9728",
   "metadata": {},
   "source": [
    "## How Fingerprints work\n",
    "* Fingerprints are automatically generated and assigned when a component is created.\n",
    "* Each fingerprint contains:\n",
    "    * A unique identifier.\n",
    "    * A creation timestamp.\n",
    "    * Metadata (customizable)."
   ]
  },
  {
   "cell_type": "markdown",
   "id": "c327892a-7b8f-40d9-af24-45f41117cd98",
   "metadata": {},
   "source": [
    "## Example of how to use Fingerprints"
   ]
  },
  {
   "cell_type": "code",
   "execution_count": null,
   "id": "844d6371-d83d-44bb-9b69-be7c58bc9b19",
   "metadata": {},
   "outputs": [],
   "source": [
    "from crewai import Agent\n",
    "\n",
    "# Create components - fingerprints are automatically generated\n",
    "agent = Agent(\n",
    "    role=\"Data Scientist\",\n",
    "    goal=\"Analyze data\",\n",
    "    backstory=\"Expert in data analysis\"\n",
    ")\n",
    "\n",
    "# Access the fingerprints\n",
    "agent_fingerprint = agent.fingerprint\n",
    "\n",
    "# Print the UUID strings\n",
    "print(f\"Agent fingerprint: {agent_fingerprint.uuid_str}\")"
   ]
  },
  {
   "cell_type": "code",
   "execution_count": null,
   "id": "ca912c68-bdb9-4503-a7d3-c8aefb5c3b63",
   "metadata": {},
   "outputs": [],
   "source": [
    "# Add metadata to the agent's fingerprint\n",
    "agent.security_config.fingerprint.metadata = {\n",
    "    \"version\": \"1.0\",\n",
    "    \"department\": \"Data Science\",\n",
    "    \"project\": \"Customer Analysis\"\n",
    "}\n",
    "\n",
    "# Access the metadata\n",
    "print(f\"Agent metadata: {agent.fingerprint.metadata}\")"
   ]
  }
 ],
 "metadata": {
  "kernelspec": {
   "display_name": "Python 3 (ipykernel)",
   "language": "python",
   "name": "python3"
  },
  "language_info": {
   "codemirror_mode": {
    "name": "ipython",
    "version": 3
   },
   "file_extension": ".py",
   "mimetype": "text/x-python",
   "name": "python",
   "nbconvert_exporter": "python",
   "pygments_lexer": "ipython3",
   "version": "3.12.2"
  }
 },
 "nbformat": 4,
 "nbformat_minor": 5
}
