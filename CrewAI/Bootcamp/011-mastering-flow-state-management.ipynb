{
 "cells": [
  {
   "cell_type": "markdown",
   "id": "1d9067e3-b099-4b53-9512-b28cbad56ac8",
   "metadata": {},
   "source": [
    "# Mastering Flow State Management"
   ]
  },
  {
   "cell_type": "markdown",
   "id": "2c2e42ae-b631-400e-987b-d622912d4f5d",
   "metadata": {},
   "source": [
    "## Two Approaches to State Management\n",
    "CrewAI offers two ways to manage state in your flows:\n",
    "* Unstructured State - Using dictionary-like objects for flexibility and simplicity when you are working with prototype and simple applications.\n",
    "* Structured State - Using Pydantic models for type safety and validation for regular and complex applications."
   ]
  },
  {
   "cell_type": "markdown",
   "id": "dff4663d-fa57-4797-81ba-cfd37a39061e",
   "metadata": {},
   "source": [
    "## The Automatic State ID\n",
    "Both unstructured and structured states automatically receive a unique identifier (UUID) to help track and manage state instances."
   ]
  },
  {
   "cell_type": "markdown",
   "id": "978585d7-9ed5-46fc-be0a-0bcff12a6cdd",
   "metadata": {},
   "source": [
    "## Passing Data Between Steps\n",
    "Flow methods can return values that are then passed as arguments to listening methods."
   ]
  },
  {
   "cell_type": "code",
   "execution_count": null,
   "id": "7b207829-4819-4c5f-b784-f5bc71c29a24",
   "metadata": {},
   "outputs": [],
   "source": [
    "from crewai.flow.flow import Flow, listen, start\n",
    "\n",
    "class DataPassingFlow(Flow):\n",
    "    @start()\n",
    "    def generate_data(self):\n",
    "        # This return value will be passed to listening methods\n",
    "        return \"Generated data\"\n",
    "\n",
    "    @listen(generate_data)\n",
    "    def process_data(self, data_from_previous_step):\n",
    "        print(f\"Received: {data_from_previous_step}\")\n",
    "        # You can modify the data and pass it along\n",
    "        processed_data = f\"{data_from_previous_step} - processed\"\n",
    "        # Also update state\n",
    "        self.state[\"last_processed\"] = processed_data\n",
    "        return processed_data\n",
    "\n",
    "    @listen(process_data)\n",
    "    def finalize_data(self, processed_data):\n",
    "        print(f\"Received processed data: {processed_data}\")\n",
    "        # Access both the passed data and state\n",
    "        last_processed = self.state.get(\"last_processed\", \"\")\n",
    "        return f\"Final: {processed_data} (from state: {last_processed})\""
   ]
  },
  {
   "cell_type": "markdown",
   "id": "4a2a8b07-636b-49bd-9b0e-0bf7e99e4553",
   "metadata": {},
   "source": [
    "## Persisting Flow State\n",
    "One of CrewAI’s most powerful features is the ability to persist flow state across executions. This enables workflows that can be paused, resumed, and even recovered after failures.\n",
    "\n",
    "The @persist decorator automates state persistence, saving your flow’s state at key points in execution."
   ]
  },
  {
   "cell_type": "code",
   "execution_count": null,
   "id": "d85abb02-d177-493a-a493-988d7c339221",
   "metadata": {},
   "outputs": [],
   "source": []
  }
 ],
 "metadata": {
  "kernelspec": {
   "display_name": "Python 3 (ipykernel)",
   "language": "python",
   "name": "python3"
  },
  "language_info": {
   "codemirror_mode": {
    "name": "ipython",
    "version": 3
   },
   "file_extension": ".py",
   "mimetype": "text/x-python",
   "name": "python",
   "nbconvert_exporter": "python",
   "pygments_lexer": "ipython3",
   "version": "3.12.2"
  }
 },
 "nbformat": 4,
 "nbformat_minor": 5
}
