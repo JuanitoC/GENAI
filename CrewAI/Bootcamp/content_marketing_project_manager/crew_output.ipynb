{
 "cells": [
  {
   "cell_type": "code",
   "execution_count": null,
   "id": "b84eb709",
   "metadata": {},
   "outputs": [],
   "source": [
    "import pandas as pd"
   ]
  },
  {
   "cell_type": "code",
   "execution_count": null,
   "id": "1d1d0ace",
   "metadata": {},
   "outputs": [],
   "source": [
    "tasks = [{'task_name': 'Blog Series - Part 1', 'format': 'Blog post', 'estimated_time_hours': 24.0, 'required_resources': ['Sarah Lee', 'Mark Johnson'], 'target_publish_date': '2024-01-01', 'dependencies': ['Research']}, {'task_name': 'Blog Series - Part 2', 'format': 'Blog post', 'estimated_time_hours': 24.0, 'required_resources': ['Sarah Lee', 'Mark Johnson'], 'target_publish_date': '2024-01-08', 'dependencies': ['Blog Series - Part 1']}, {'task_name': 'Blog Series - Part 3', 'format': 'Blog post', 'estimated_time_hours': 24.0, 'required_resources': ['Sarah Lee', 'Mark Johnson'], 'target_publish_date': '2024-01-15', 'dependencies': ['Blog Series - Part 2']}, {'task_name': 'Blog Series - Part 4', 'format': 'Blog post', 'estimated_time_hours': 24.0, 'required_resources': ['Sarah Lee', 'Mark Johnson'], 'target_publish_date': '2024-01-22', 'dependencies': ['Blog Series - Part 3']}, {'task_name': 'Lead Magnet - eBook', 'format': 'eBook', 'estimated_time_hours': 40.0, 'required_resources': ['Sarah Lee', 'Carlos Rivera', 'Priya Desai'], 'target_publish_date': '2024-01-29', 'dependencies': ['Research', 'Drafting']}, {'task_name': 'Lead Magnet - Checklist', 'format': 'Checklist', 'estimated_time_hours': 16.0, 'required_resources': ['Sarah Lee', 'Carlos Rivera', 'Priya Desai'], 'target_publish_date': '2024-01-29', 'dependencies': ['Lead Magnet - eBook']}, {'task_name': 'Email Nurture Sequence - Part 1', 'format': 'Email', 'estimated_time_hours': 8.0, 'required_resources': ['Carlos Rivera'], 'target_publish_date': '2024-02-05', 'dependencies': ['Blog Series']}, {'task_name': 'Email Nurture Sequence - Part 2', 'format': 'Email', 'estimated_time_hours': 8.0, 'required_resources': ['Carlos Rivera'], 'target_publish_date': '2024-02-12', 'dependencies': ['Email Nurture Sequence - Part 1']}, {'task_name': 'Email Nurture Sequence - Part 3', 'format': 'Email', 'estimated_time_hours': 8.0, 'required_resources': ['Carlos Rivera'], 'target_publish_date': '2024-02-19', 'dependencies': ['Email Nurture Sequence - Part 2']}, {'task_name': 'Email Nurture Sequence - Part 4', 'format': 'Email', 'estimated_time_hours': 8.0, 'required_resources': ['Carlos Rivera'], 'target_publish_date': '2024-02-26', 'dependencies': ['Email Nurture Sequence - Part 3']}, {'task_name': 'Promotional Assets for Social Media', 'format': 'Graphics', 'estimated_time_hours': 20.0, 'required_resources': ['Priya Desai', 'Emma Chen'], 'target_publish_date': '2024-01-01', 'dependencies': ['Blog Series', 'Lead Magnet Release']}, {'task_name': 'Promotional Assets for Social Media', 'format': 'Graphics', 'estimated_time_hours': 20.0, 'required_resources': ['Priya Desai', 'Emma Chen'], 'target_publish_date': '2024-01-29', 'dependencies': ['Blog Series', 'Lead Magnet Release']}, {'task_name': 'Promotional Assets for Social Media', 'format': 'Graphics', 'estimated_time_hours': 20.0, 'required_resources': ['Priya Desai', 'Emma Chen'], 'target_publish_date': '2024-02-05', 'dependencies': ['Blog Series', 'Lead Magnet Release']}, {'task_name': 'Promotional Assets for Social Media', 'format': 'Graphics', 'estimated_time_hours': 20.0, 'required_resources': ['Priya Desai', 'Emma Chen'], 'target_publish_date': '2024-02-19', 'dependencies': ['Blog Series', 'Lead Magnet Release']}, {'task_name': 'Promotional Assets for Social Media', 'format': 'Graphics', 'estimated_time_hours': 20.0, 'required_resources': ['Priya Desai', 'Emma Chen'], 'target_publish_date': '2024-03-01', 'dependencies': ['Blog Series', 'Lead Magnet Release']}, {'task_name': 'Explainer Video', 'format': 'Video', 'estimated_time_hours': 24.0, 'required_resources': ['Liam Brown'], 'target_publish_date': '2024-02-05', 'dependencies': ['Script Development']}, {'task_name': 'Webinar Coordination', 'format': 'Webinar', 'estimated_time_hours': 20.0, 'required_resources': ['Sarah Lee', 'Emma Chen', 'Carlos Rivera'], 'target_publish_date': '2024-02-26', 'dependencies': ['Confirm Guest Speakers']}, {'task_name': 'Brand Guidelines Compliance', 'format': 'Review', 'estimated_time_hours': 8.0, 'required_resources': ['All team members'], 'target_publish_date': 'Ongoing', 'dependencies': []}, {'task_name': 'SEO Optimization', 'format': 'Text edits', 'estimated_time_hours': 16.0, 'required_resources': ['Mark Johnson'], 'target_publish_date': 'Ongoing', 'dependencies': ['Blog Drafts Finalization']}, {'task_name': 'Track Deadlines', 'format': 'Editorial Calendar', 'estimated_time_hours': 10.0, 'required_resources': ['All team members'], 'target_publish_date': 'Ongoing', 'dependencies': []}]\n",
    "df_tasks = pd.DataFrame(tasks)\n",
    "df_tasks.style.set_table_attributes('border=\"1\"').set_caption(\"Task Details\").set_table_styles(\n",
    "    [{'selector': 'th, td', 'props': [('font-size', '120%')]}]\n",
    ")"
   ]
  },
  {
   "cell_type": "code",
   "execution_count": null,
   "id": "2a78e7b3",
   "metadata": {},
   "outputs": [],
   "source": [
    "assignments = [{'task_name': 'Blog Series - Part 1', 'assigned_to': 'Mark Johnson', 'role': 'Writer', 'start_date': '2024-01-01', 'end_date': '2024-01-03', 'justification': 'Mark has strong writing skills and specializes in SEO content.'}, {'task_name': 'Blog Series - Part 1', 'assigned_to': 'Sarah Lee', 'role': 'Content Strategist', 'start_date': '2024-01-01', 'end_date': '2024-01-03', 'justification': 'Sarah oversees content direction and ensures alignment with campaign goals.'}, {'task_name': 'Blog Series - Part 2', 'assigned_to': 'Mark Johnson', 'role': 'Writer', 'start_date': '2024-01-08', 'end_date': '2024-01-10', 'justification': 'Mark continues with the next post ensuring consistency in tone and style.'}, {'task_name': 'Blog Series - Part 2', 'assigned_to': 'Sarah Lee', 'role': 'Content Strategist', 'start_date': '2024-01-08', 'end_date': '2024-01-10', 'justification': 'Sarah provides strategic guidance and final approval by ensuring content efficacy.'}, {'task_name': 'Blog Series - Part 3', 'assigned_to': 'Mark Johnson', 'role': 'Writer', 'start_date': '2024-01-15', 'end_date': '2024-01-17', 'justification': \"Mark continues to assist in crafting content tailored for our audience's needs.\"}, {'task_name': 'Blog Series - Part 3', 'assigned_to': 'Sarah Lee', 'role': 'Content Strategist', 'start_date': '2024-01-15', 'end_date': '2024-01-17', 'justification': \"Sarah maintains oversight of the campaign's strategic direction.\"}, {'task_name': 'Blog Series - Part 4', 'assigned_to': 'Mark Johnson', 'role': 'Writer', 'start_date': '2024-01-22', 'end_date': '2024-01-24', 'justification': 'Mark finalizes the blog series, echoing our overarching theme.'}, {'task_name': 'Blog Series - Part 4', 'assigned_to': 'Sarah Lee', 'role': 'Content Strategist', 'start_date': '2024-01-22', 'end_date': '2024-01-24', 'justification': 'Sarah conducts the final review to ensure quality control.'}, {'task_name': 'Lead Magnet - eBook', 'assigned_to': 'Sarah Lee', 'role': 'Content Strategist', 'start_date': '2024-01-15', 'end_date': '2024-01-29', 'justification': 'Sarah focuses on lead content strategy by drafting the eBook.'}, {'task_name': 'Lead Magnet - eBook', 'assigned_to': 'Carlos Rivera', 'role': 'Email Marketing Specialist', 'start_date': '2024-01-15', 'end_date': '2024-01-29', 'justification': 'Carlos provides marketing insights to align the eBook with audience conversion strategies.'}, {'task_name': 'Lead Magnet - eBook', 'assigned_to': 'Priya Desai', 'role': 'Graphic Designer', 'start_date': '2024-01-29', 'end_date': '2024-01-30', 'justification': 'Priya uses her design skills to create visually appealing eBook layouts.'}, {'task_name': 'Lead Magnet - Checklist', 'assigned_to': 'Sarah Lee', 'role': 'Content Strategist', 'start_date': '2024-01-22', 'end_date': '2024-01-29', 'justification': 'Sarah ensures the checklist aligns with the eBook to support our nurturing strategy.'}, {'task_name': 'Lead Magnet - Checklist', 'assigned_to': 'Carlos Rivera', 'role': 'Email Marketing Specialist', 'start_date': '2024-01-22', 'end_date': '2024-01-29', 'justification': \"Carlos contributes to the checklist's content to ensure it aligns with our marketing strategy.\"}, {'task_name': 'Lead Magnet - Checklist', 'assigned_to': 'Priya Desai', 'role': 'Graphic Designer', 'start_date': '2024-01-29', 'end_date': '2024-01-30', 'justification': 'Priya finalizes the visual design for the checklist.'}, {'task_name': 'Email Nurture Sequence - Part 1', 'assigned_to': 'Carlos Rivera', 'role': 'Email Marketing Specialist', 'start_date': '2024-02-05', 'end_date': '2024-02-06', 'justification': 'Carlos crafts emails that guide potential clients through the nurture process directly.'}, {'task_name': 'Email Nurture Sequence - Part 2', 'assigned_to': 'Carlos Rivera', 'role': 'Email Marketing Specialist', 'start_date': '2024-02-12', 'end_date': '2024-02-13', 'justification': 'Consistency in the messaging stream is vital, hence Carlos handles the second email.'}, {'task_name': 'Email Nurture Sequence - Part 3', 'assigned_to': 'Carlos Rivera', 'role': 'Email Marketing Specialist', 'start_date': '2024-02-19', 'end_date': '2024-02-20', 'justification': 'Carlos continues establishing the narrative with email number three.'}, {'task_name': 'Email Nurture Sequence - Part 4', 'assigned_to': 'Carlos Rivera', 'role': 'Email Marketing Specialist', 'start_date': '2024-02-26', 'end_date': '2024-02-27', 'justification': 'Carlos finalizes the email sequence, ensuring all nurtured leads receive valuable information.'}, {'task_name': 'Promotional Assets for Social Media', 'assigned_to': 'Priya Desai', 'role': 'Graphic Designer', 'start_date': '2024-01-01', 'end_date': '2024-01-05', 'justification': 'Early graphics production allows for pre-promotion of the blog series.'}, {'task_name': 'Promotional Assets for Social Media', 'assigned_to': 'Emma Chen', 'role': 'Social Media Manager', 'start_date': '2024-01-01', 'end_date': '2024-01-05', 'justification': 'Emma strategizes the content distribution across social channels in alignment with promotions.'}, {'task_name': 'Explainer Video', 'assigned_to': 'Liam Brown', 'role': 'Video Producer', 'start_date': '2024-01-29', 'end_date': '2024-02-05', 'justification': \"Liam's technical ability focuses on delivering a high-quality explainer video within the timeline.\"}, {'task_name': 'Webinar Coordination', 'assigned_to': 'Sarah Lee', 'role': 'Content Strategist', 'start_date': '2024-01-29', 'end_date': '2024-02-26', 'justification': \"Sarah's coordination skills ensure the webinar is strategically aligned and professionally executed.\"}, {'task_name': 'Webinar Coordination', 'assigned_to': 'Emma Chen', 'role': 'Social Media Manager', 'start_date': '2024-01-29', 'end_date': '2024-02-26', 'justification': \"Emma's social media expertise will help promote the webinar effectively.\"}, {'task_name': 'Webinar Coordination', 'assigned_to': 'Carlos Rivera', 'role': 'Email Marketing Specialist', 'start_date': '2024-02-19', 'end_date': '2024-02-26', 'justification': 'Carlos aids in crafting email promotions for the webinar, driving attendance.'}, {'task_name': 'Brand Guidelines Compliance', 'assigned_to': 'All team members', 'role': 'Various', 'start_date': '2024-01-01', 'end_date': '2024-02-26', 'justification': 'All members need to ensure adherence to brand voice and visual standards.'}, {'task_name': 'SEO Optimization', 'assigned_to': 'Mark Johnson', 'role': 'SEO Writer', 'start_date': '2024-01-01', 'end_date': '2024-02-26', 'justification': \"Mark's expertise in SEO will ensure that the blog posts are well-optimized for search engines.\"}, {'task_name': 'Track Deadlines', 'assigned_to': 'All team members', 'role': 'Various', 'start_date': '2024-01-01', 'end_date': '2024-02-26', 'justification': 'All team members will contribute to maintaining the editorial calendar and keeping track of deadlines.'}]\n",
    "df_assignments = pd.DataFrame(assignments)\n",
    "df_assignments.style.set_table_attributes('border=\"1\"').set_caption(\"Resource Assignments\").set_table_styles(\n",
    "    [{'selector': 'th, td', 'props': [('font-size', '120%')]}]\n",
    ")"
   ]
  },
  {
   "cell_type": "code",
   "execution_count": null,
   "id": "b1b43eb2",
   "metadata": {},
   "outputs": [],
   "source": [
    "milestones = [{'milestone_name': 'Completion of Blog Series', 'tasks': ['Blog Series - Part 1', 'Blog Series - Part 2', 'Blog Series - Part 3', 'Blog Series - Part 4']}, {'milestone_name': 'Launch of Lead Magnet', 'tasks': ['Lead Magnet - eBook', 'Lead Magnet - Checklist']}, {'milestone_name': 'Completion of Email Nurture Sequence', 'tasks': ['Email Nurture Sequence - Part 1', 'Email Nurture Sequence - Part 2', 'Email Nurture Sequence - Part 3', 'Email Nurture Sequence - Part 4']}, {'milestone_name': 'Release of the Explainer Video', 'tasks': ['Explainer Video']}, {'milestone_name': 'Successful Webinar Execution', 'tasks': ['Webinar Coordination']}]\n",
    "df_milestones = pd.DataFrame(milestones)\n",
    "df_milestones.style.set_table_attributes('border=\"1\"').set_caption(\"Milestones\").set_table_styles(\n",
    "    [{'selector': 'th, td', 'props': [('font-size', '120%')]}]\n",
    ")"
   ]
  },
  {
   "cell_type": "code",
   "execution_count": null,
   "id": "cb98e4c3",
   "metadata": {},
   "outputs": [],
   "source": [
    "print(\"📅 Content Calendar Summary:\")\n",
    "print(\"\"\"Gantt chart tracking all deadlines and publishing dates.\"\"\")"
   ]
  }
 ],
 "metadata": {},
 "nbformat": 4,
 "nbformat_minor": 5
}
