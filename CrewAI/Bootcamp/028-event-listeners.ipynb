{
 "cells": [
  {
   "cell_type": "markdown",
   "id": "296a04c9-d60d-4a9e-acde-327a25249c31",
   "metadata": {},
   "source": [
    "# Event Listeners\n",
    "* This feature enables you to build custom integrations, monitoring solutions, logging systems, or any other functionality that needs to be triggered based on CrewAI’s internal events.\n",
    "* When specific actions occur in CrewAI (like a Crew starting execution, an Agent completing a task, or a tool being used), the CrewAI system emits corresponding events. You can register handlers for these events to execute custom code when they occur."
   ]
  },
  {
   "cell_type": "markdown",
   "id": "282dba08-f69d-4c55-ad26-3c9fe5bef718",
   "metadata": {},
   "source": [
    "## How to create a Custom Event Listener\n",
    "To create a custom event listener, you need to:\n",
    "* Create a class that inherits from BaseEventListener.\n",
    "* Implement the setup_listeners method.\n",
    "* Register handlers for the events you’re interested in.\n",
    "* Create an instance of your listener in the appropriate file.\n",
    "\n",
    "#### Example"
   ]
  },
  {
   "cell_type": "code",
   "execution_count": null,
   "id": "0d93c1f2-93f9-4bdf-ac66-0d6fe16e52ef",
   "metadata": {},
   "outputs": [],
   "source": [
    "from crewai.utilities.events import (\n",
    "    CrewKickoffStartedEvent,\n",
    "    CrewKickoffCompletedEvent,\n",
    "    AgentExecutionCompletedEvent,\n",
    ")\n",
    "from crewai.utilities.events.base_event_listener import BaseEventListener\n",
    "\n",
    "class MyCustomListener(BaseEventListener):\n",
    "    def __init__(self):\n",
    "        super().__init__()\n",
    "\n",
    "    def setup_listeners(self, crewai_event_bus):\n",
    "        @crewai_event_bus.on(CrewKickoffStartedEvent)\n",
    "        def on_crew_started(source, event):\n",
    "            print(f\"Crew '{event.crew_name}' has started execution!\")\n",
    "\n",
    "        @crewai_event_bus.on(CrewKickoffCompletedEvent)\n",
    "        def on_crew_completed(source, event):\n",
    "            print(f\"Crew '{event.crew_name}' has completed execution!\")\n",
    "            print(f\"Output: {event.output}\")\n",
    "\n",
    "        @crewai_event_bus.on(AgentExecutionCompletedEvent)\n",
    "        def on_agent_execution_completed(source, event):\n",
    "            print(f\"Agent '{event.agent.role}' completed task\")\n",
    "            print(f\"Output: {event.output}\")"
   ]
  },
  {
   "attachments": {},
   "cell_type": "markdown",
   "id": "26c14a5d-8caa-4f90-8e0d-7351f93ec768",
   "metadata": {},
   "source": [
    "## Miscelanea: Registering your Listener, Available Event Types, Real-world Example, Use Cases, etc."
   ]
  },
  {
   "cell_type": "code",
   "execution_count": null,
   "id": "b274cd62-a32c-4a06-9a62-a44df4deab75",
   "metadata": {},
   "outputs": [],
   "source": []
  }
 ],
 "metadata": {
  "kernelspec": {
   "display_name": "Python 3 (ipykernel)",
   "language": "python",
   "name": "python3"
  },
  "language_info": {
   "codemirror_mode": {
    "name": "ipython",
    "version": 3
   },
   "file_extension": ".py",
   "mimetype": "text/x-python",
   "name": "python",
   "nbconvert_exporter": "python",
   "pygments_lexer": "ipython3",
   "version": "3.12.2"
  }
 },
 "nbformat": 4,
 "nbformat_minor": 5
}
