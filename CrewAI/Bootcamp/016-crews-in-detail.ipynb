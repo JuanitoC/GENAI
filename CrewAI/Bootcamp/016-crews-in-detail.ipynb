{
 "cells": [
  {
   "cell_type": "markdown",
   "id": "83abf99e-5671-4d3b-ab28-187a59cb2281",
   "metadata": {},
   "source": [
    "# CrewAI's Crews in Detail"
   ]
  },
  {
   "cell_type": "markdown",
   "id": "2a2736b8-c495-4924-925f-8260a097fb24",
   "metadata": {},
   "source": [
    "## Crew Attributes\n",
    "* List of attibutes: from the 2 non-optional to the +10 optional ones."
   ]
  },
  {
   "cell_type": "markdown",
   "id": "553a259a-eea0-4a18-b5bf-a816bf9077c2",
   "metadata": {},
   "source": [
    "## Creating Crews\n",
    "* Two alternative ways:\n",
    "    * Recommended: using the YAML configuration.\n",
    "    * Or defining them directly in code.  \n",
    "\n",
    "#### The YAML configuration (the crew.py we find in the typical crewAI template)\n",
    "* @CrewBase, @agent, @task, @crew, and other optional decorators (@before_kickoff, @after_kickoff) help in organizing the crew’s structure and automatically collecting agents and tasks without manually listing them.\n",
    "    * @CrewBase: Marks the class as a crew base class.\n",
    "    * @agent: Denotes a method that returns an Agent object.\n",
    "    * @task: Denotes a method that returns a Task object.\n",
    "    * @crew: Denotes the method that returns the Crew object.\n",
    "    * @before_kickoff: (Optional) Marks a method to be executed before the crew starts.\n",
    "    * @after_kickoff: (Optional) Marks a method to be executed after the crew finishes.\n",
    "\n",
    "#### But... is the crew.py a YAML configuration, or just a Python file?\n",
    "The `crew.py` code **does use a YAML configuration** —although the actual YAML content isn't shown in the script.\n",
    "\n",
    "Here's how you can tell:\n",
    "\n",
    "- These lines indicate that the code expects to load agent and task configurations from YAML files:\n",
    "\n",
    "  ```python\n",
    "  agents_config = 'config/agents.yaml' \n",
    "  tasks_config = 'config/tasks.yaml'\n",
    "  ```\n",
    "\n",
    "- The `Agent` and `Task` objects are being instantiated using:\n",
    "\n",
    "  ```python\n",
    "  config=self.agents_config['agent_one']  # type: ignore[index]\n",
    "  ```\n",
    "\n",
    "  which implies that `self.agents_config` is expected to be a dictionary-like object (parsed from YAML) containing entries like `agent_one` and `agent_two`.\n",
    "\n",
    "**Conclusion:**  \n",
    "The code in `crew.py` is designed to use **external YAML files** (`agents.yaml` and `tasks.yaml`) to define agent and task configurations. These files must exist in the `config/` directory and contain appropriately structured YAML entries."
   ]
  },
  {
   "cell_type": "markdown",
   "id": "652a8935-05ce-4076-bff0-711269392320",
   "metadata": {},
   "source": [
    "## Miscelanea: Crew Output Attributes, Crew Logs, Memory, Sequential vs Hierarchical Process, etc."
   ]
  },
  {
   "cell_type": "markdown",
   "id": "9ed2b4ad-a7c3-4d17-ae03-34a915f87dce",
   "metadata": {},
   "source": [
    "## Replaying a Crew from a specific task\n",
    "By running the command `crewai replay -t <task_id>`, you can specify the task_id for the replay process."
   ]
  },
  {
   "cell_type": "code",
   "execution_count": null,
   "id": "87e590c3-e351-40a0-81f4-7bf014500150",
   "metadata": {},
   "outputs": [],
   "source": []
  }
 ],
 "metadata": {
  "kernelspec": {
   "display_name": "Python 3 (ipykernel)",
   "language": "python",
   "name": "python3"
  },
  "language_info": {
   "codemirror_mode": {
    "name": "ipython",
    "version": 3
   },
   "file_extension": ".py",
   "mimetype": "text/x-python",
   "name": "python",
   "nbconvert_exporter": "python",
   "pygments_lexer": "ipython3",
   "version": "3.12.2"
  }
 },
 "nbformat": 4,
 "nbformat_minor": 5
}
