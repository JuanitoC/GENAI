{
 "cells": [
  {
   "cell_type": "markdown",
   "id": "14120911-cf7c-4805-9eaf-3c9844160617",
   "metadata": {},
   "source": [
    "# CLI (Terminal Commands for CrewAI)"
   ]
  },
  {
   "cell_type": "markdown",
   "id": "fef57b75-4b8a-44dd-af2b-1d4a23a834d1",
   "metadata": {},
   "source": [
    "## CrewAI Chat\n",
    "* Starting in version 0.98.0, when you run the `crewai chat` command in your terminal, you start an interactive session with your crew. The AI assistant will guide you by asking for necessary inputs to execute the crew. Once all inputs are provided, the crew will execute its tasks.\n",
    "* After receiving the results, you can continue interacting with the assistant for further instructions or questions.\n",
    "* IMPORTANT: Set the chat_llm property in your crew.py file to enable this command."
   ]
  },
  {
   "cell_type": "code",
   "execution_count": null,
   "id": "c2019da8-3d05-4391-9c9b-00a60138fb7e",
   "metadata": {},
   "outputs": [],
   "source": [
    "@crew\n",
    "def crew(self) -> Crew:\n",
    "    return Crew(\n",
    "        agents=self.agents,\n",
    "        tasks=self.tasks,\n",
    "        process=Process.sequential,\n",
    "        verbose=True,\n",
    "        chat_llm=\"gpt-4o\",  # LLM for chat orchestration\n",
    "    )"
   ]
  },
  {
   "cell_type": "markdown",
   "id": "7176b38c-f301-4901-bda4-fd9019c2f102",
   "metadata": {},
   "source": [
    "## LLM Selection\n",
    "* When running crewai create crew command, the CLI will first show you the top 5 most common LLM providers and ask you to select one.\n",
    "* If you select option 6, you will be able to select from a list of [LiteLLM supported providers](https://docs.litellm.ai/docs/providers). When you select a provider, the CLI will prompt you to enter the Key name and the API key."
   ]
  },
  {
   "cell_type": "code",
   "execution_count": null,
   "id": "5af1170a-a0f7-42a8-95d6-a4b1b9265913",
   "metadata": {},
   "outputs": [],
   "source": []
  }
 ],
 "metadata": {
  "kernelspec": {
   "display_name": "Python 3 (ipykernel)",
   "language": "python",
   "name": "python3"
  },
  "language_info": {
   "codemirror_mode": {
    "name": "ipython",
    "version": 3
   },
   "file_extension": ".py",
   "mimetype": "text/x-python",
   "name": "python",
   "nbconvert_exporter": "python",
   "pygments_lexer": "ipython3",
   "version": "3.12.2"
  }
 },
 "nbformat": 4,
 "nbformat_minor": 5
}
