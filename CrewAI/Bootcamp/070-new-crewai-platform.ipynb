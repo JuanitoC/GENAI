{
 "cells": [
  {
   "cell_type": "markdown",
   "id": "b9c35a96-2677-4f83-a968-520041cbcaff",
   "metadata": {},
   "source": [
    "# The new CrewAI Platform for Deployment and Observability"
   ]
  },
  {
   "cell_type": "markdown",
   "id": "d271bfb0-6a89-4ab3-bb9f-f627cebdafac",
   "metadata": {},
   "source": [
    "# Deployment"
   ]
  },
  {
   "cell_type": "markdown",
   "id": "d0de53a0-3a5a-4dbf-8825-e65866077f37",
   "metadata": {},
   "source": [
    "## To deploy your project in the CrewAI Platform is very similar to what you do in other similar platforms\n",
    "* Do you remember what we did in Vercel or Streamlit in the Bootcamp #1? This is going to be a very similar process: we will store our project in a github repo and the CrewAI platform will create a temporary URL for our project."
   ]
  },
  {
   "cell_type": "markdown",
   "id": "f3a8b3ca-5ea1-4f26-9518-286f06e36f71",
   "metadata": {},
   "source": [
    "## Alternative ways to deploy to the CrewAI platform\n",
    "* Using terminal (when the crewai project is in your local computer).\n",
    "* From a github repo (when the crewai project is loaded in a github repo)."
   ]
  },
  {
   "cell_type": "markdown",
   "id": "48e849fc-1731-49b3-b47d-d25c282c9655",
   "metadata": {},
   "source": [
    "## Create a free account in the CrewAI platform\n",
    "* You can sign in for free by clicking in the Start Cloud Trial link in the top right corner of [the crewai website](https://www.crewai.com/))"
   ]
  },
  {
   "cell_type": "markdown",
   "id": "e6267ffd-0455-4a2b-914f-9e94f7bf97ab",
   "metadata": {},
   "source": [
    "# Option 1: Deploy a local project"
   ]
  },
  {
   "cell_type": "markdown",
   "id": "85697ebb-216d-4460-99f3-a84a78674616",
   "metadata": {},
   "source": [
    "## See the available CLI commands\n",
    "In terminal, enter:\n",
    "* `crewai --help`: this will show you all available commands.\n",
    "* `crewai deploy --help`: this will show you all available commands to deploy."
   ]
  },
  {
   "cell_type": "markdown",
   "id": "6d0e2152-cb37-43eb-9485-b81df016f6d1",
   "metadata": {},
   "source": [
    "## The CLI commands we will use\n",
    "* `crewai deploy create`: this will deploy your local crewai project into a github repository.\n",
    "* `crewai deploy status`: to see if the deployment is complete."
   ]
  },
  {
   "cell_type": "markdown",
   "id": "b7a17660-b91f-4ef2-9b97-8eb4c2d33c26",
   "metadata": {},
   "source": [
    "## Go to app.crewai.com\n",
    "* You will see the deployment you just created from terminal.\n",
    "* You can see different data from that deployment:\n",
    "    * Status.\n",
    "    * Temporary URL.\n",
    "    * Test endpoints.\n",
    "    * Run: graphic representation and ability to run the app with test input.\n",
    "    * Metrics.\n",
    "    * Tests.\n",
    "    * Many others: take time to explore."
   ]
  },
  {
   "cell_type": "markdown",
   "id": "eccc2e34-18ba-4da8-b7b9-1f1cd4511986",
   "metadata": {},
   "source": [
    "# Option 2: Deploy a project already uploaded into a github repo"
   ]
  },
  {
   "cell_type": "markdown",
   "id": "96af6ceb-c32a-4e51-953c-209f9b24d130",
   "metadata": {},
   "source": [
    "## Go to app.crewai.com\n",
    "* Here you can see the button to deploy from a github repo."
   ]
  },
  {
   "cell_type": "markdown",
   "id": "d8b2d165-f3c9-4304-9905-9e765abc4d00",
   "metadata": {},
   "source": [
    "# Integrations\n",
    "Integrations initially available:\n",
    "* Slack\n",
    "* HubSpot\n",
    "* Zapier\n",
    "* Salesforce"
   ]
  },
  {
   "cell_type": "markdown",
   "id": "238bac63-d939-435c-a340-462d02b269a2",
   "metadata": {},
   "source": [
    "## How to connect any of the integrations\n",
    "* Click on the connect button under the Integration name.\n",
    "* You will need to be logged in the platform you want to integrate with.\n",
    "* Click on the settings button under the Integration name to configure the automations: run a crew everytime something happens in the selected platform (for example, run a crew everytime a new account is created in Salesforce)."
   ]
  },
  {
   "cell_type": "markdown",
   "id": "850d6c82-0621-4369-9f60-612d7b2b128b",
   "metadata": {},
   "source": [
    "# Observability\n",
    "* In app.crewai.com, go to `Traces`\n",
    "* Click on one project\n",
    "* You will be able to see observability data similar to what we saw in other platforms like LangSmith in the Bootcamp #1.\n",
    "* Other interesting sections to explore:\n",
    "    * Usage.\n",
    "    * Tools.\n",
    "    * Crew Studio: here is where you could build a project just using a chatbot.\n",
    "    * LLM Connections.\n",
    "    * Environment variables."
   ]
  },
  {
   "cell_type": "code",
   "execution_count": null,
   "id": "57e1fe9b-b961-44b5-aa00-db3f9d11aa5b",
   "metadata": {},
   "outputs": [],
   "source": []
  }
 ],
 "metadata": {
  "kernelspec": {
   "display_name": "Python 3 (ipykernel)",
   "language": "python",
   "name": "python3"
  },
  "language_info": {
   "codemirror_mode": {
    "name": "ipython",
    "version": 3
   },
   "file_extension": ".py",
   "mimetype": "text/x-python",
   "name": "python",
   "nbconvert_exporter": "python",
   "pygments_lexer": "ipython3",
   "version": "3.12.2"
  }
 },
 "nbformat": 4,
 "nbformat_minor": 5
}
