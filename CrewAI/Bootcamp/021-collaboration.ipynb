{
 "cells": [
  {
   "cell_type": "markdown",
   "id": "b6c58e0c-0058-4420-ac6f-b2f5df1b8875",
   "metadata": {},
   "source": [
    "# Collaboration"
   ]
  },
  {
   "cell_type": "markdown",
   "id": "5d3c2cc5-8f92-454d-8130-0ab0f9201651",
   "metadata": {},
   "source": [
    "## Crew Attributes for Improved Collaboration\n",
    "* Brief explanation of each one."
   ]
  },
  {
   "cell_type": "code",
   "execution_count": null,
   "id": "c001a56f-3152-4465-9b8b-df0fe293dab2",
   "metadata": {},
   "outputs": [],
   "source": []
  }
 ],
 "metadata": {
  "kernelspec": {
   "display_name": "Python 3 (ipykernel)",
   "language": "python",
   "name": "python3"
  },
  "language_info": {
   "codemirror_mode": {
    "name": "ipython",
    "version": 3
   },
   "file_extension": ".py",
   "mimetype": "text/x-python",
   "name": "python",
   "nbconvert_exporter": "python",
   "pygments_lexer": "ipython3",
   "version": "3.12.2"
  }
 },
 "nbformat": 4,
 "nbformat_minor": 5
}
