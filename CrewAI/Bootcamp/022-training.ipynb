{
 "cells": [
  {
   "cell_type": "markdown",
   "id": "c64b4160-da0b-4238-ba98-6a4cc076d8c2",
   "metadata": {},
   "source": [
    "# Training\n",
    "* Train your CrewAI agents by giving them feedback early on.\n",
    "* The training feature in CrewAI allows you to train your AI agents using the command-line interface (CLI).\n",
    "    * By running the command crewai `train -n <n_iterations>`, you can specify the number of iterations for the training process.\n",
    "* It is important to note that the training process may take some time, depending on the complexity of your agents and will also require your feedback on each iteration.\n",
    "* Once the training is complete, your agents will be equipped with enhanced capabilities and knowledge, ready to tackle complex tasks and provide more consistent and valuable insights.\n",
    "* Remember to regularly update and retrain your agents to ensure they stay up-to-date with the latest information and advancements in the field. "
   ]
  },
  {
   "cell_type": "code",
   "execution_count": null,
   "id": "e8c4670b-9941-475d-8163-47e00817ae7a",
   "metadata": {},
   "outputs": [],
   "source": []
  }
 ],
 "metadata": {
  "kernelspec": {
   "display_name": "Python 3 (ipykernel)",
   "language": "python",
   "name": "python3"
  },
  "language_info": {
   "codemirror_mode": {
    "name": "ipython",
    "version": 3
   },
   "file_extension": ".py",
   "mimetype": "text/x-python",
   "name": "python",
   "nbconvert_exporter": "python",
   "pygments_lexer": "ipython3",
   "version": "3.12.2"
  }
 },
 "nbformat": 4,
 "nbformat_minor": 5
}
