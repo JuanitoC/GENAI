{
 "cells": [
  {
   "cell_type": "markdown",
   "id": "83bfff69-b889-4baf-baf0-f67827de1536",
   "metadata": {},
   "source": [
    "# # Gmail Auto Responder Project: Clear Explanation to get the Google Credentials"
   ]
  },
  {
   "cell_type": "markdown",
   "id": "47634355-e2d8-4a75-85a7-c9056a23af0c",
   "metadata": {},
   "source": [
    "## Set up your Google Account\n",
    "* In the project documentation, the CrewAI recommends you to follow these [Google instructions](https://developers.google.com/workspace/gmail/api/quickstart/python#authorize_credentials_for_a_desktop_application) to set up your Google account and obtain the `credentials.json` file necessary to connect the app with your Gmail account.\n",
    "* **However, the information provided in that link is not very straightforward and can make you crazy**.\n",
    "* **Do not worry: we will give you step-by-step instructions below**."
   ]
  },
  {
   "cell_type": "markdown",
   "id": "0d0718e5-3a7b-4a15-a545-e2c5f5b5395c",
   "metadata": {},
   "source": [
    "## Step-by-Step: How to Generate `credentials.json` for Gmail API\n",
    "\n",
    "To enable Gmail API access for your CrewAI email autoresponder project, you need to create a `credentials.json` file by setting up OAuth 2.0 credentials in Google Cloud. Here's a step-by-step guide:\n",
    "\n",
    "#### 1. Access Google Cloud Console\n",
    "\n",
    "* Navigate to [https://console.cloud.google.com/](https://console.cloud.google.com/).\n",
    "* Sign in with your Google account.\n",
    "\n",
    "#### 2. Create a New Project\n",
    "\n",
    "* Click on the project dropdown at the top and select **\"New Project\"**.\n",
    "* Enter a project name (e.g., `CrewAI Gmail Autoresponder`) and click **\"Create\"**.\n",
    "\n",
    "#### 3. Enable Gmail API\n",
    "\n",
    "* In the left sidebar, go to **APIs & Services > Library**.\n",
    "* Search for **\"Gmail API\"**.\n",
    "* Click on **\"Gmail API\"**, then click **\"Enable\"**.\n",
    "#### 4. Configure OAuth Consent Screen\n",
    "\n",
    "* Navigate to **APIs & Services > OAuth consent screen**.\n",
    "* Choose **\"External\"** for user type and click **\"Create\"**.\n",
    "* Fill in the required fields:\n",
    "\n",
    "  * **App name**: e.g., `CrewAI Autoresponder`\n",
    "  * **User support email**: your email address\n",
    "  * **Developer contact information**: your email address\n",
    "* Click **\"Save and Continue\"** through the remaining steps.\n",
    "\n",
    "#### 5. Create OAuth 2.0 Client ID\n",
    "\n",
    "* Go to **APIs & Services > Credentials**.\n",
    "* Click **\"Create Credentials\"** and select **\"OAuth client ID\"**.\n",
    "* Choose **\"Desktop app\"** as the application type.\n",
    "* Enter a name (e.g., `CrewAI Desktop Client`) and click **\"Create\"**.\n",
    "\n",
    "#### 6. Download `credentials.json`\n",
    "\n",
    "* After creation, a dialog will display your new client ID.\n",
    "* Click **\"Download JSON\"** to obtain your `credentials.json` file.\n",
    "* Save this file securely; you'll need it for your application.\n",
    "\n",
    "#### Next Steps\n",
    "\n",
    "* Place the downloaded `credentials.json` file in your project's working directory.\n",
    "* When running your application, it will use this file to authenticate with Gmail API.\n",
    "\n",
    "**Note**: The first time you run the application, you will be prompted to authorize access to your Gmail account. We will help you with this in a next lesson called \"Clear explanation about installation and execution\"."
   ]
  },
  {
   "cell_type": "markdown",
   "id": "bca05463-ffc9-4e88-998b-c94bd97d9e86",
   "metadata": {},
   "source": []
  }
 ],
 "metadata": {
  "kernelspec": {
   "display_name": "Python 3 (ipykernel)",
   "language": "python",
   "name": "python3"
  },
  "language_info": {
   "codemirror_mode": {
    "name": "ipython",
    "version": 3
   },
   "file_extension": ".py",
   "mimetype": "text/x-python",
   "name": "python",
   "nbconvert_exporter": "python",
   "pygments_lexer": "ipython3",
   "version": "3.12.2"
  }
 },
 "nbformat": 4,
 "nbformat_minor": 5
}
