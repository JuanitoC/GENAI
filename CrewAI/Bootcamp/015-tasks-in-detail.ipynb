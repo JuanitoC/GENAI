{
 "cells": [
  {
   "cell_type": "markdown",
   "id": "906ce563-fc42-4a21-a495-0417dd17dec0",
   "metadata": {},
   "source": [
    "# CrewAI's Tasks in Detail"
   ]
  },
  {
   "cell_type": "markdown",
   "id": "f823dc54-9482-425b-9add-cc32c74c9664",
   "metadata": {},
   "source": [
    "## Task Attributes\n",
    "* List of attibutes: from the 2 non-optional to the +10 optional ones."
   ]
  },
  {
   "cell_type": "markdown",
   "id": "b2f7d1c8-a066-4706-9ac3-5192c5d08daa",
   "metadata": {},
   "source": [
    "## Creating Tasks\n",
    "* Two alternative ways:\n",
    "    * Recommended: using the tasks.yaml file.\n",
    "    * Or defining them directly in code.  "
   ]
  },
  {
   "cell_type": "markdown",
   "id": "0597ba07-1a5a-40b4-a995-d8f40ecf89a2",
   "metadata": {},
   "source": [
    "## Task Output Attributes\n",
    "* CrewAI provides a structured way to handle task results through the TaskOutput class, which supports multiple output formats and can be easily passed between tasks.\n",
    "* This class provides a structured way to access results of a task, including various formats such as raw output, JSON, and Pydantic models.\n",
    "* By default, the TaskOutput will only include the raw output. A TaskOutput will only include the pydantic or json_dict output if the original Task object was configured with output_pydantic or output_json, respectively.\n",
    "* List of Task Output Attributes."
   ]
  },
  {
   "cell_type": "markdown",
   "id": "eb51f0a0-c08d-4745-b988-23d11fdc4bad",
   "metadata": {},
   "source": [
    "## Miscelanea: task guardrails, integrating tools with tasks, error handling, etc."
   ]
  },
  {
   "cell_type": "code",
   "execution_count": null,
   "id": "cdbc827a-d954-47ce-a3a7-7e4a7ea97833",
   "metadata": {},
   "outputs": [],
   "source": []
  }
 ],
 "metadata": {
  "kernelspec": {
   "display_name": "Python 3 (ipykernel)",
   "language": "python",
   "name": "python3"
  },
  "language_info": {
   "codemirror_mode": {
    "name": "ipython",
    "version": 3
   },
   "file_extension": ".py",
   "mimetype": "text/x-python",
   "name": "python",
   "nbconvert_exporter": "python",
   "pygments_lexer": "ipython3",
   "version": "3.12.2"
  }
 },
 "nbformat": 4,
 "nbformat_minor": 5
}
