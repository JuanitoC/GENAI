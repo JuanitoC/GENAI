{
 "cells": [
  {
   "cell_type": "markdown",
   "id": "bd5fd79e",
   "metadata": {},
   "source": [
    "# Tutorial Completo de Poetry: De Principiante a Experto 🚀\n",
    "\n",
    "Bienvenido a este tutorial integral sobre [Poetry](https://python-poetry.org/), una herramienta para manejar dependencias y empaquetar proyectos de Python de forma moderna y elegante.\n",
    "\n",
    "## ¿Qué aprenderás?\n",
    "\n",
    "- Qué es Poetry y por qué usarlo\n",
    "- Cómo instalarlo\n",
    "- Cómo crear y gestionar proyectos\n",
    "- Cómo manejar dependencias\n",
    "- Uso de entornos virtuales con Poetry\n",
    "- Versionado, scripts, y publicación en PyPI\n",
    "- Trucos avanzados y buenas prácticas\n",
    "\n",
    "> Este notebook está diseñado para ejecutarse en local. Puedes correr los comandos de shell con `!` delante."
   ]
  },
  {
   "cell_type": "markdown",
   "id": "db20003f",
   "metadata": {},
   "source": [
    "## 1. Instalación de Poetry"
   ]
  },
  {
   "cell_type": "code",
   "execution_count": 1,
   "id": "d36bd2c7",
   "metadata": {},
   "outputs": [
    {
     "name": "stderr",
     "output_type": "stream",
     "text": [
      "no se encontr� Python; ejecutar sin argumentos para instalar desde el Microsoft Store o deshabilitar este acceso directo desde Configuraci�n > Aplicaciones > Configuraci�n avanzada de aplicaciones > Alias de ejecuci�n de aplicaciones.\n",
      "curl: (23) Failure writing output to destination, passed 4716 returned 710\n"
     ]
    }
   ],
   "source": [
    "!curl -sSL https://install.python-poetry.org | python3 -"
   ]
  },
  {
   "cell_type": "code",
   "execution_count": 2,
   "id": "0e51d680",
   "metadata": {},
   "outputs": [
    {
     "name": "stdout",
     "output_type": "stream",
     "text": [
      "Poetry (version 2.1.3)\n"
     ]
    }
   ],
   "source": [
    "!poetry --version"
   ]
  },
  {
   "cell_type": "markdown",
   "id": "590ff970",
   "metadata": {},
   "source": [
    "## 2. Crear un nuevo proyecto\n",
    "\n",
    "Poetry permite crear un proyecto con estructura profesional automáticamente."
   ]
  },
  {
   "cell_type": "code",
   "execution_count": 3,
   "id": "a5d7f3f5",
   "metadata": {},
   "outputs": [
    {
     "name": "stderr",
     "output_type": "stream",
     "text": [
      "\n",
      "Destination c:\\Users\\Usuario\\Desktop\\REPOS\\GENAI BOOTCAMP\\Poetry\\mi_proyecto_demo exists and is not empty\n"
     ]
    }
   ],
   "source": [
    "!poetry new mi_proyecto_demo"
   ]
  },
  {
   "cell_type": "markdown",
   "id": "591ad323",
   "metadata": {},
   "source": [
    "```\n",
    "mi_proyecto_demo/\n",
    "├── pyproject.toml\n",
    "├── README.rst\n",
    "├── mi_proyecto_demo/\n",
    "│   └── __init__.py\n",
    "└── tests/\n",
    "    └── __init__.py\n",
    "    └── test_mi_proyecto_demo.py\n",
    "```"
   ]
  },
  {
   "cell_type": "code",
   "execution_count": 12,
   "id": "6286a636",
   "metadata": {},
   "outputs": [
    {
     "name": "stdout",
     "output_type": "stream",
     "text": [
      "c:\\Users\\Usuario\\Desktop\\REPOS\\GENAI BOOTCAMP\\Poetry\\mi_proyecto_demo\\mi_proyecto_demo\n"
     ]
    }
   ],
   "source": [
    "%cd mi_proyecto_demo"
   ]
  },
  {
   "cell_type": "markdown",
   "id": "eecf1ff2",
   "metadata": {},
   "source": [
    "## 3. Entorno virtual y dependencias"
   ]
  },
  {
   "cell_type": "code",
   "execution_count": 13,
   "id": "ce7ae922",
   "metadata": {},
   "outputs": [
    {
     "name": "stdout",
     "output_type": "stream",
     "text": [
      "\n",
      "Virtualenv\n",
      "Python:         3.11.4\n",
      "Implementation: CPython\n",
      "Path:           NA\n",
      "Executable:     NA\n",
      "\n",
      "Base\n",
      "Platform:   win32\n",
      "OS:         nt\n",
      "Python:     3.11.4\n",
      "Path:       c:\\Users\\Usuario\\AppData\\Local\\Programs\\Python\\Python311\n",
      "Executable: c:\\Users\\Usuario\\AppData\\Local\\Programs\\Python\\Python311\\python.exe\n"
     ]
    }
   ],
   "source": [
    "# 1. Ver información del entorno virtual de Poetry\n",
    "# Muestra detalles como la ruta del entorno, versión de Python, dependencias, etc.\n",
    "!poetry env info"
   ]
  },
  {
   "cell_type": "code",
   "execution_count": 14,
   "id": "4437f412",
   "metadata": {},
   "outputs": [
    {
     "name": "stdout",
     "output_type": "stream",
     "text": [
      "Created package env in env\n"
     ]
    }
   ],
   "source": [
    "# 2. Activar el entorno virtual de Poetry\n",
    "# Cambia a la terminal para usar el entorno virtual del proyecto\n",
    "# Esto hace que todas las dependencias instaladas estén disponibles\n",
    "!poetry new env"
   ]
  },
  {
   "cell_type": "code",
   "execution_count": 15,
   "id": "d5841505",
   "metadata": {},
   "outputs": [
    {
     "name": "stdout",
     "output_type": "stream",
     "text": [
      "Using version ^2.3.1 for pandas\n",
      "\n",
      "Updating dependencies\n",
      "Resolving dependencies...\n",
      "\n",
      "Package operations: 6 installs, 0 updates, 0 removals\n",
      "\n",
      "  - Installing six (1.17.0)\n",
      "  - Installing numpy (2.3.1)\n",
      "  - Installing python-dateutil (2.9.0.post0)\n",
      "  - Installing pytz (2025.2)\n",
      "  - Installing tzdata (2025.2)\n",
      "  - Installing pandas (2.3.1)\n",
      "\n",
      "Writing lock file\n"
     ]
    },
    {
     "name": "stderr",
     "output_type": "stream",
     "text": [
      "Creating virtualenv mi-proyecto-demo-SAVKidQe-py3.11 in C:\\Users\\Usuario\\AppData\\Local\\pypoetry\\Cache\\virtualenvs\n"
     ]
    }
   ],
   "source": [
    "# 3. Agregar dependencia de producción\n",
    "# Instala 'requests' y la agrega al archivo pyproject.toml\n",
    "# Las dependencias de producción son las que tu aplicación necesita para funcionar\n",
    "!poetry add pandas"
   ]
  },
  {
   "cell_type": "code",
   "execution_count": 16,
   "id": "f1b3b578",
   "metadata": {},
   "outputs": [
    {
     "name": "stdout",
     "output_type": "stream",
     "text": [
      "Using version ^8.4.1 for pytest\n",
      "\n",
      "Updating dependencies\n",
      "Resolving dependencies...\n",
      "\n",
      "Package operations: 6 installs, 0 updates, 0 removals\n",
      "\n",
      "  - Installing colorama (0.4.6)\n",
      "  - Installing iniconfig (2.1.0)\n",
      "  - Installing packaging (25.0)\n",
      "  - Installing pluggy (1.6.0)\n",
      "  - Installing pygments (2.19.2)\n",
      "  - Installing pytest (8.4.1)\n",
      "\n",
      "Writing lock file\n"
     ]
    }
   ],
   "source": [
    "# 4. Agregar dependencia de desarrollo\n",
    "# Instala 'pytest' como dependencia de desarrollo (solo para testing)\n",
    "# Las dependencias de desarrollo no se incluyen en producción\n",
    "!poetry add --group dev pytest"
   ]
  },
  {
   "cell_type": "markdown",
   "id": "92e7ba58",
   "metadata": {},
   "source": [
    "## 4. Ejecutar scripts y pruebas"
   ]
  },
  {
   "cell_type": "code",
   "execution_count": 17,
   "id": "c4d7d144",
   "metadata": {},
   "outputs": [
    {
     "name": "stderr",
     "output_type": "stream",
     "text": [
      "C:\\Users\\Usuario\\AppData\\Local\\Programs\\Python\\Python311\\python.exe: can't open file 'c:\\\\Users\\\\Usuario\\\\Desktop\\\\REPOS\\\\GENAI BOOTCAMP\\\\Poetry\\\\mi_proyecto_demo\\\\mi_proyecto_demo\\\\mi_proyecto_demo\\\\mi_proyecto_demo\\\\test\\\\__init__.py': [Errno 2] No such file or directory\n"
     ]
    }
   ],
   "source": [
    "!poetry run python mi_proyecto_demo/mi_proyecto_demo/test/__init__.py"
   ]
  },
  {
   "cell_type": "code",
   "execution_count": 18,
   "id": "e908c4cb",
   "metadata": {},
   "outputs": [
    {
     "name": "stdout",
     "output_type": "stream",
     "text": [
      "\u001b[1m============================= test session starts =============================\u001b[0m\n",
      "platform win32 -- Python 3.11.4, pytest-8.4.1, pluggy-1.6.0\n",
      "rootdir: c:\\Users\\Usuario\\Desktop\\REPOS\\GENAI BOOTCAMP\\Poetry\\mi_proyecto_demo\\mi_proyecto_demo\n",
      "configfile: pyproject.toml\n",
      "collected 0 items\n",
      "\n",
      "\u001b[33m============================ \u001b[33mno tests ran\u001b[0m\u001b[33m in 0.01s\u001b[0m\u001b[33m ============================\u001b[0m\n"
     ]
    }
   ],
   "source": [
    "!poetry run pytest"
   ]
  },
  {
   "cell_type": "markdown",
   "id": "bd83dfaf",
   "metadata": {},
   "source": [
    "## 5. El archivo `pyproject.toml`\n",
    "\n",
    "Ejemplo de contenido:\n",
    "\n",
    "```toml\n",
    "[tool.poetry]\n",
    "name = \"mi_proyecto_demo\"\n",
    "version = \"0.1.0\"\n",
    "description = \"\"\n",
    "authors = [\"Tu Nombre <tu@email.com>\"]\n",
    "\n",
    "[tool.poetry.dependencies]\n",
    "python = \"^3.11\"\n",
    "requests = \"^2.28.1\"\n",
    "\n",
    "[tool.poetry.group.dev.dependencies]\n",
    "pytest = \"^7.2.0\"\n",
    "```"
   ]
  },
  {
   "cell_type": "markdown",
   "id": "0f75dbe5",
   "metadata": {},
   "source": [
    "## 6. Versionado, scripts y extras"
   ]
  },
  {
   "cell_type": "code",
   "execution_count": 19,
   "id": "0cef1738",
   "metadata": {},
   "outputs": [
    {
     "name": "stdout",
     "output_type": "stream",
     "text": [
      "Bumping version from 0.1.0 to 0.1.1\n"
     ]
    }
   ],
   "source": [
    "!poetry version patch"
   ]
  },
  {
   "cell_type": "markdown",
   "id": "820e216c",
   "metadata": {},
   "source": [
    "```toml\n",
    "[tool.poetry.scripts]\n",
    "mi-script = \"mi_proyecto_demo.script:main\"\n",
    "```"
   ]
  },
  {
   "cell_type": "markdown",
   "id": "c8174873",
   "metadata": {},
   "source": [
    "## 8. Trucos avanzados y buenas prácticas\n",
    "\n",
    "- `poetry lock` para regenerar `poetry.lock`\n",
    "- `poetry update` para actualizar dependencias\n",
    "- `poetry export` para crear un `requirements.txt`\n",
    "- `poetry show --tree` para ver el árbol de dependencias\n",
    "- Integra `pre-commit` con Poetry para flujos profesionales"
   ]
  },
  {
   "cell_type": "code",
   "execution_count": 22,
   "id": "e953f7f0",
   "metadata": {},
   "outputs": [
    {
     "name": "stdout",
     "output_type": "stream",
     "text": [
      "pandas 2.3.1 Powerful data structures for data analysis, time series, and statistics\n",
      "├── numpy >=1.23.2\n",
      "├── numpy >=1.26.0\n",
      "├── python-dateutil >=2.8.2\n",
      "│   └── six >=1.5 \n",
      "├── pytz >=2020.1\n",
      "└── tzdata >=2022.7\n",
      "pytest 8.4.1 pytest: simple powerful testing with Python\n",
      "├── colorama >=0.4\n",
      "├── iniconfig >=1\n",
      "├── packaging >=20\n",
      "├── pluggy >=1.5,<2\n",
      "└── pygments >=2.7.2\n"
     ]
    }
   ],
   "source": [
    "!poetry show --tree"
   ]
  },
  {
   "cell_type": "markdown",
   "id": "7ef72d26",
   "metadata": {},
   "source": [
    "## 9. Recursos adicionales\n",
    "\n",
    "- 📘 Documentación oficial: https://python-poetry.org/docs/\n",
    "- 📦 Publicación en PyPI: https://packaging.python.org/\n",
    "- 🛠️ Código fuente: https://github.com/python-poetry/poetry\n",
    "\n",
    "---\n",
    "\n",
    "## 🎉 ¡Felicidades!\n",
    "Ahora tienes el conocimiento necesario para usar Poetry como un profesional."
   ]
  }
 ],
 "metadata": {
  "kernelspec": {
   "display_name": "Python 3",
   "language": "python",
   "name": "python3"
  },
  "language_info": {
   "codemirror_mode": {
    "name": "ipython",
    "version": 3
   },
   "file_extension": ".py",
   "mimetype": "text/x-python",
   "name": "python",
   "nbconvert_exporter": "python",
   "pygments_lexer": "ipython3",
   "version": "3.11.4"
  }
 },
 "nbformat": 4,
 "nbformat_minor": 5
}
