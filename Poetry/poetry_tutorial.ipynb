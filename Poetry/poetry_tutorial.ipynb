{
 "cells": [
  {
   "cell_type": "markdown",
   "id": "bd5fd79e",
   "metadata": {},
   "source": [
    "# Tutorial Completo de Poetry: De Principiante a Experto 🚀\n",
    "\n",
    "Bienvenido a este tutorial integral sobre [Poetry](https://python-poetry.org/), una herramienta para manejar dependencias y empaquetar proyectos de Python de forma moderna y elegante.\n",
    "\n",
    "## ¿Qué aprenderás?\n",
    "\n",
    "- Qué es Poetry y por qué usarlo\n",
    "- Cómo instalarlo\n",
    "- Cómo crear y gestionar proyectos\n",
    "- Cómo manejar dependencias\n",
    "- Uso de entornos virtuales con Poetry\n",
    "- Versionado, scripts, y publicación en PyPI\n",
    "- Trucos avanzados y buenas prácticas\n",
    "\n",
    "> Este notebook está diseñado para ejecutarse en local. Puedes correr los comandos de shell con `!` delante."
   ]
  },
  {
   "cell_type": "markdown",
   "id": "db20003f",
   "metadata": {},
   "source": [
    "## 1. Instalación de Poetry"
   ]
  },
  {
   "cell_type": "code",
   "execution_count": 3,
   "id": "d36bd2c7",
   "metadata": {},
   "outputs": [
    {
     "name": "stdout",
     "output_type": "stream",
     "text": [
      "Retrieving Poetry metadata\n",
      "\n",
      "# Welcome to Poetry!\n",
      "\n",
      "This will download and install the latest version of Poetry,\n",
      "a dependency and package manager for Python.\n",
      "\n",
      "It will add the `poetry` command to Poetry's bin directory, located at:\n",
      "\n",
      "C:\\Users\\Usuario\\AppData\\Roaming\\Python\\Scripts\n",
      "\n",
      "You can uninstall at any time by executing this script with the --uninstall option,\n",
      "and these changes will be reverted.\n",
      "\n",
      "Installing Poetry (2.1.3)\n",
      "Installing Poetry (2.1.3): Creating environment\n",
      "Installing Poetry (2.1.3): Installing Poetry\n",
      "Installing Poetry (2.1.3): Creating script\n",
      "Installing Poetry (2.1.3): Done\n",
      "\n",
      "Poetry (2.1.3) is installed now. Great!\n",
      "\n",
      "To get started you need Poetry's bin directory (C:\\Users\\Usuario\\AppData\\Roaming\\Python\\Scripts) in your `PATH`\n",
      "environment variable.\n",
      "\n",
      "You can choose and execute one of the following commands in PowerShell:\n",
      "\n",
      "A. Append the bin directory to your user environment variable `PATH`:\n",
      "\n",
      "```\n",
      "[Environment]::SetEnvironmentVariable(\"Path\", [Environment]::GetEnvironmentVariable(\"Path\", \"User\") + \";C:\\Users\\Usuario\\AppData\\Roaming\\Python\\Scripts\", \"User\")\n",
      "```\n",
      "\n",
      "B. Try to append the bin directory to PATH every when you run PowerShell (>=6 recommended):\n",
      "\n",
      "```\n",
      "echo 'if (-not (Get-Command poetry -ErrorAction Ignore)) { $env:Path += \";C:\\Users\\Usuario\\AppData\\Roaming\\Python\\Scripts\" }' | Out-File -Append $PROFILE\n",
      "```\n",
      "\n",
      "Alternatively, you can call Poetry explicitly with `C:\\Users\\Usuario\\AppData\\Roaming\\Python\\Scripts\\poetry`.\n",
      "\n",
      "You can test that everything is set up by executing:\n",
      "\n",
      "`poetry --version`\n",
      "\n"
     ]
    },
    {
     "name": "stderr",
     "output_type": "stream",
     "text": [
      "Actual environment location may have moved due to redirects, links or junctions.\n",
      "  Requested location: \"C:\\Users\\Usuario\\AppData\\Roaming\\pypoetry\\venv\\Scripts\\python.exe\"\n",
      "  Actual location:    \"C:\\Users\\Usuario\\AppData\\Local\\Packages\\PythonSoftwareFoundation.Python.3.13_qbz5n2kfra8p0\\LocalCache\\Roaming\\pypoetry\\venv\\Scripts\\python.exe\"\n"
     ]
    }
   ],
   "source": [
    "!curl -sSL https://install.python-poetry.org | python3 -"
   ]
  },
  {
   "cell_type": "code",
   "execution_count": null,
   "id": "0e51d680",
   "metadata": {},
   "outputs": [
    {
     "name": "stdout",
     "output_type": "stream",
     "text": [
      "Poetry (version 2.1.3)\n"
     ]
    }
   ],
   "source": [
    "!poetry --version\n"
   ]
  },
  {
   "cell_type": "markdown",
   "id": "590ff970",
   "metadata": {},
   "source": [
    "## 2. Crear un nuevo proyecto\n",
    "\n",
    "Poetry permite crear un proyecto con estructura profesional automáticamente."
   ]
  },
  {
   "cell_type": "code",
   "execution_count": 2,
   "id": "a5d7f3f5",
   "metadata": {},
   "outputs": [
    {
     "name": "stdout",
     "output_type": "stream",
     "text": [
      "Created package mi_proyecto_demo in mi_proyecto_demo\n"
     ]
    }
   ],
   "source": [
    "!poetry new mi_proyecto_demo"
   ]
  },
  {
   "cell_type": "markdown",
   "id": "591ad323",
   "metadata": {},
   "source": [
    "```\n",
    "mi_proyecto_demo/\n",
    "├── pyproject.toml\n",
    "├── README.rst\n",
    "├── mi_proyecto_demo/\n",
    "│   └── __init__.py\n",
    "└── tests/\n",
    "    └── __init__.py\n",
    "    └── test_mi_proyecto_demo.py\n",
    "```"
   ]
  },
  {
   "cell_type": "code",
   "execution_count": 3,
   "id": "6286a636",
   "metadata": {},
   "outputs": [
    {
     "name": "stdout",
     "output_type": "stream",
     "text": [
      "c:\\Users\\Usuario\\Desktop\\GENAI\\Poetry\\mi_proyecto_demo\n"
     ]
    }
   ],
   "source": [
    "%cd mi_proyecto_demo"
   ]
  },
  {
   "cell_type": "markdown",
   "id": "eecf1ff2",
   "metadata": {},
   "source": [
    "## 3. Entorno virtual y dependencias"
   ]
  },
  {
   "cell_type": "code",
   "execution_count": 8,
   "id": "ce7ae922",
   "metadata": {},
   "outputs": [
    {
     "name": "stdout",
     "output_type": "stream",
     "text": [
      "\n",
      "Virtualenv\n",
      "Python:         3.11.8\n",
      "Implementation: CPython\n",
      "Path:           C:\\Users\\Usuario\\AppData\\Local\\Packages\\PythonSoftwareFoundation.Python.3.13_qbz5n2kfra8p0\\LocalCache\\Local\\pypoetry\\Cache\\virtualenvs\\mi-proyecto-demo-crjLUD1F-py3.11\n",
      "Executable:     C:\\Users\\Usuario\\AppData\\Local\\Packages\\PythonSoftwareFoundation.Python.3.13_qbz5n2kfra8p0\\LocalCache\\Local\\pypoetry\\Cache\\virtualenvs\\mi-proyecto-demo-crjLUD1F-py3.11\\Scripts\\python.exe\n",
      "Valid:          True\n",
      "\n",
      "Base\n",
      "Platform:   win32\n",
      "OS:         nt\n",
      "Python:     3.11.8\n",
      "Path:       C:\\Users\\Usuario\\AppData\\Local\\Programs\\Python\\Python311\n",
      "Executable: C:\\Users\\Usuario\\AppData\\Local\\Programs\\Python\\Python311\\python.exe\n"
     ]
    }
   ],
   "source": [
    "# 1. Ver información del entorno virtual de Poetry\n",
    "# Muestra detalles como la ruta del entorno, versión de Python, dependencias, etc.\n",
    "!poetry env info"
   ]
  },
  {
   "cell_type": "code",
   "execution_count": 11,
   "id": "4437f412",
   "metadata": {},
   "outputs": [
    {
     "name": "stderr",
     "output_type": "stream",
     "text": [
      "\n",
      "Destination c:\\Users\\Usuario\\Desktop\\GENAI\\Poetry\\mi_proyecto_demo\\env exists and is not empty\n"
     ]
    }
   ],
   "source": [
    "# 2. Activar el entorno virtual de Poetry\n",
    "# Cambia a la terminal para usar el entorno virtual del proyecto\n",
    "# Esto hace que todas las dependencias instaladas estén disponibles\n",
    "!poetry new env"
   ]
  },
  {
   "cell_type": "code",
   "execution_count": 16,
   "id": "d5841505",
   "metadata": {},
   "outputs": [
    {
     "name": "stdout",
     "output_type": "stream",
     "text": [
      "Using version ^2.3.1 for pandas\n",
      "\n",
      "Updating dependencies\n",
      "Resolving dependencies...\n",
      "\n",
      "Package operations: 6 installs, 0 updates, 0 removals\n",
      "\n",
      "  - Installing six (1.17.0)\n",
      "  - Installing numpy (2.3.1)\n",
      "  - Installing python-dateutil (2.9.0.post0)\n",
      "  - Installing pytz (2025.2)\n",
      "  - Installing tzdata (2025.2)\n",
      "  - Installing pandas (2.3.1)\n",
      "\n",
      "Writing lock file\n"
     ]
    }
   ],
   "source": [
    "# 3. Agregar dependencia de producción\n",
    "# Instala 'requests' y la agrega al archivo pyproject.toml\n",
    "# Las dependencias de producción son las que tu aplicación necesita para funcionar\n",
    "!poetry add pandas"
   ]
  },
  {
   "cell_type": "code",
   "execution_count": null,
   "id": "f1b3b578",
   "metadata": {},
   "outputs": [],
   "source": [
    "# 4. Agregar dependencia de desarrollo\n",
    "# Instala 'pytest' como dependencia de desarrollo (solo para testing)\n",
    "# Las dependencias de desarrollo no se incluyen en producción\n",
    "!poetry add --group dev pytest"
   ]
  },
  {
   "cell_type": "markdown",
   "id": "92e7ba58",
   "metadata": {},
   "source": [
    "## 4. Ejecutar scripts y pruebas"
   ]
  },
  {
   "cell_type": "code",
   "execution_count": null,
   "id": "c4d7d144",
   "metadata": {},
   "outputs": [],
   "source": [
    "!poetry run python mi_proyecto_demo/__init__.py"
   ]
  },
  {
   "cell_type": "code",
   "execution_count": null,
   "id": "e908c4cb",
   "metadata": {},
   "outputs": [],
   "source": [
    "!poetry run pytest"
   ]
  },
  {
   "cell_type": "markdown",
   "id": "bd83dfaf",
   "metadata": {},
   "source": [
    "## 5. El archivo `pyproject.toml`\n",
    "\n",
    "Ejemplo de contenido:\n",
    "\n",
    "```toml\n",
    "[tool.poetry]\n",
    "name = \"mi_proyecto_demo\"\n",
    "version = \"0.1.0\"\n",
    "description = \"\"\n",
    "authors = [\"Tu Nombre <tu@email.com>\"]\n",
    "\n",
    "[tool.poetry.dependencies]\n",
    "python = \"^3.11\"\n",
    "requests = \"^2.28.1\"\n",
    "\n",
    "[tool.poetry.group.dev.dependencies]\n",
    "pytest = \"^7.2.0\"\n",
    "```"
   ]
  },
  {
   "cell_type": "markdown",
   "id": "0f75dbe5",
   "metadata": {},
   "source": [
    "## 6. Versionado, scripts y extras"
   ]
  },
  {
   "cell_type": "code",
   "execution_count": 15,
   "id": "0cef1738",
   "metadata": {},
   "outputs": [
    {
     "name": "stdout",
     "output_type": "stream",
     "text": [
      "Bumping version from 0.1.0 to 0.1.1\n"
     ]
    }
   ],
   "source": [
    "!poetry version patch"
   ]
  },
  {
   "cell_type": "markdown",
   "id": "820e216c",
   "metadata": {},
   "source": [
    "```toml\n",
    "[tool.poetry.scripts]\n",
    "mi-script = \"mi_proyecto_demo.script:main\"\n",
    "```"
   ]
  },
  {
   "cell_type": "markdown",
   "id": "c8174873",
   "metadata": {},
   "source": [
    "## 8. Trucos avanzados y buenas prácticas\n",
    "\n",
    "- `poetry lock` para regenerar `poetry.lock`\n",
    "- `poetry update` para actualizar dependencias\n",
    "- `poetry export` para crear un `requirements.txt`\n",
    "- `poetry show --tree` para ver el árbol de dependencias\n",
    "- Integra `pre-commit` con Poetry para flujos profesionales"
   ]
  },
  {
   "cell_type": "markdown",
   "id": "7ef72d26",
   "metadata": {},
   "source": [
    "## 9. Recursos adicionales\n",
    "\n",
    "- 📘 Documentación oficial: https://python-poetry.org/docs/\n",
    "- 📦 Publicación en PyPI: https://packaging.python.org/\n",
    "- 🛠️ Código fuente: https://github.com/python-poetry/poetry\n",
    "\n",
    "---\n",
    "\n",
    "## 🎉 ¡Felicidades!\n",
    "Ahora tienes el conocimiento necesario para usar Poetry como un profesional."
   ]
  }
 ],
 "metadata": {
  "kernelspec": {
   "display_name": "Python 3",
   "language": "python",
   "name": "python3"
  },
  "language_info": {
   "codemirror_mode": {
    "name": "ipython",
    "version": 3
   },
   "file_extension": ".py",
   "mimetype": "text/x-python",
   "name": "python",
   "nbconvert_exporter": "python",
   "pygments_lexer": "ipython3",
   "version": "3.11.8"
  }
 },
 "nbformat": 4,
 "nbformat_minor": 5
}
