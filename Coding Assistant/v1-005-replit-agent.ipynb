{
 "cells": [
  {
   "cell_type": "markdown",
   "id": "b50a1223-c058-4609-90b2-61eeeaabd993",
   "metadata": {},
   "source": [
    "# Replit Agent"
   ]
  },
  {
   "cell_type": "markdown",
   "id": "f7c538a5-f2f1-4054-a6a5-176337965381",
   "metadata": {},
   "source": [
    "## What is Replit?\n",
    "* Replit is a coding workspace that runs in your browser.\n",
    "* It allows you to build and deploy apps.\n",
    "* Since it is a cloud tool, there is no configuration needed.\n",
    "* You can start from a template or install npm, python, etc. Replit takes care of the configuration for you.\n",
    "* Integrated:\n",
    "    * Secrets management.\n",
    "    * Databases.\n",
    "    * Deployment.\n",
    "* Replit Deployments make it easy to get any project (called Repl in Replit) and deploy it in the cloud.\n",
    "* With Replit you could even code and deploy from your phone.\n",
    "* With the new Gen AI features like the Replit Agent, Replit makes coding easier than ever even for people without coding experience.\n",
    "* [Link to Replit Documentation](https://docs.replit.com/getting-started/intro-replit)"
   ]
  },
  {
   "cell_type": "markdown",
   "id": "777f719d-d6b5-4444-a021-f8f65b48692a",
   "metadata": {},
   "source": [
    "## Pricing plans\n",
    "* Free: limited access.\n",
    "* Core: 25 US dollars per month or 120 per year.\n",
    "    * Access to Replit Agent. \n",
    "* Teams: 40 US dollars per month.\n",
    "* Enterprise: coming soon."
   ]
  },
  {
   "cell_type": "markdown",
   "id": "3c09fc63-2175-4929-adbf-a14209e8a3e9",
   "metadata": {},
   "source": [
    "## Intro to Replit Agent\n",
    "* Replit Agent is still in experimental mode.\n",
    "* Good for simple projects and MVPs. For complex projects it will likely not work yet."
   ]
  },
  {
   "cell_type": "markdown",
   "id": "9c99a908-ce37-4007-8806-a15df66fcc08",
   "metadata": {},
   "source": [
    "## Replit vs. Cursor\n",
    "* Cursor does not make it easy to deploy what you have coded. The Replit Agent does.\n",
    "    * Package management. Poetry.\n",
    "    * Dependencies.\n",
    "    * Installs.\n",
    "    * Connect with database (firebase, etc).\n",
    "    * Deployment.\n",
    "    * Connect to a custom domain."
   ]
  },
  {
   "cell_type": "markdown",
   "id": "c7b68b33-f6b6-463f-a291-f2d46b065411",
   "metadata": {},
   "source": [
    "## Recommended process\n",
    "* Ask chatgpt to create a detailed prompt to develop you idea. For example: \"From the following idea... create a detailed proposal (requirement specs and technical document) to ask a junior development to develop this project.\" The more specific (goal, logic, use case, languages, tools, platform, similar projects, etc), the better.\n",
    "* Enter the detailed prompt in the Replit Agent.\n",
    "* See initial proposal from Replit Agent.\n",
    "* Click on Approve Plan and Start.\n",
    "* Interact with the Replit Agent to improve the results."
   ]
  },
  {
   "cell_type": "markdown",
   "id": "c7f174dd-370e-4542-843d-d846067eabbe",
   "metadata": {},
   "source": [
    "## Quickstart\n",
    "* Go to [Replit](https://replit.com) and log in.\n",
    "* Go to the [Pricing page](https://replit.com/pricing).\n",
    "* Select Replit Core\n",
    "    * Our recommendation: start with the month plan (25 US dollars), test it for one or two months, and then consider upgrading to the year plan (120  US dollars)."
   ]
  },
  {
   "cell_type": "code",
   "execution_count": null,
   "id": "6411fd9b-a517-4757-b1f2-f746484059d9",
   "metadata": {},
   "outputs": [],
   "source": []
  }
 ],
 "metadata": {
  "kernelspec": {
   "display_name": "Python 3 (ipykernel)",
   "language": "python",
   "name": "python3"
  },
  "language_info": {
   "codemirror_mode": {
    "name": "ipython",
    "version": 3
   },
   "file_extension": ".py",
   "mimetype": "text/x-python",
   "name": "python",
   "nbconvert_exporter": "python",
   "pygments_lexer": "ipython3",
   "version": "3.11.4"
  }
 },
 "nbformat": 4,
 "nbformat_minor": 5
}
