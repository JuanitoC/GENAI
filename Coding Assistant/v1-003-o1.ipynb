{
 "cells": [
  {
   "cell_type": "markdown",
   "id": "6c81fa0b-b7fd-4731-9ff9-4a73ae995e8c",
   "metadata": {},
   "source": [
    "# OpenAI's o1\n",
    "* [OpenAI's o1 web page](https://openai.com/o1/)\n",
    "* [OpenAI's o1-preview web page](https://openai.com/index/introducing-openai-o1-preview/)\n",
    "* You can try it with chatGPT.\n",
    "* Initially, API use limited for tier 5 users ($1,000 paid and 30+ days since first successful payment).\n",
    "* Careful: pricing.\n",
    "    * Right now, OpenAI o1 is 3 times more expensive than ChatGPT 4.\n",
    "* Initial benchmarks show that o1-preview is worst than Claude Sonnet for coding. "
   ]
  },
  {
   "cell_type": "code",
   "execution_count": null,
   "id": "b4c31b4b-0d7c-43d7-98f7-ddc955dfe488",
   "metadata": {},
   "outputs": [],
   "source": []
  }
 ],
 "metadata": {
  "kernelspec": {
   "display_name": "Python 3 (ipykernel)",
   "language": "python",
   "name": "python3"
  },
  "language_info": {
   "codemirror_mode": {
    "name": "ipython",
    "version": 3
   },
   "file_extension": ".py",
   "mimetype": "text/x-python",
   "name": "python",
   "nbconvert_exporter": "python",
   "pygments_lexer": "ipython3",
   "version": "3.11.4"
  }
 },
 "nbformat": 4,
 "nbformat_minor": 5
}
