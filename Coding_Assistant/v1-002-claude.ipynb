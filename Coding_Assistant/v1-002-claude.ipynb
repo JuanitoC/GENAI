{
 "cells": [
  {
   "cell_type": "markdown",
   "id": "b66f0882-e474-4c84-9396-cdfffe3a3f7b",
   "metadata": {},
   "source": [
    "# Claude AI"
   ]
  },
  {
   "cell_type": "markdown",
   "id": "49831a74-6784-4fb2-93dd-b022009fab16",
   "metadata": {},
   "source": [
    "## Intro\n",
    "* [Presentation of Claude Sonnet](https://www.anthropic.com/news/claude-3-5-sonnet) \n",
    "* [Website](https://claude.ai/new)\n",
    "* Free login.\n",
    "* Expand the sidebar to see options.\n",
    "* Claude 3.5 Sonnet includes Artifacts.\n",
    "    * Side panel where you can see the code and a preview.\n",
    "* Cannot preview full stack projects. "
   ]
  },
  {
   "cell_type": "markdown",
   "id": "b55c24f5-ff0d-49e2-b3df-fee1e8702d5c",
   "metadata": {},
   "source": [
    "## Pricing Plans\n",
    "* Free plan\n",
    "* Pro: $20 per month.\n",
    "    * Fastest model: Claude Haiku\n",
    "    * Create projects to work with Claude around a set of docs, code or file\n",
    "    * Priority access during high-traffic periods.\n",
    "    * Early access to new features."
   ]
  },
  {
   "cell_type": "markdown",
   "id": "ce9dbd3d-e4a0-4a70-8394-3f59a61093bb",
   "metadata": {},
   "source": [
    "## Sample prompts\n",
    "* Create a to-do list app. For the frontend, use Next.js and Tailwind. For the backend, use fastAPI and Postgres."
   ]
  },
  {
   "cell_type": "code",
   "execution_count": null,
   "id": "60948902-44e4-4e35-af11-2953021c75a7",
   "metadata": {},
   "outputs": [],
   "source": []
  }
 ],
 "metadata": {
  "kernelspec": {
   "display_name": "Python 3 (ipykernel)",
   "language": "python",
   "name": "python3"
  },
  "language_info": {
   "codemirror_mode": {
    "name": "ipython",
    "version": 3
   },
   "file_extension": ".py",
   "mimetype": "text/x-python",
   "name": "python",
   "nbconvert_exporter": "python",
   "pygments_lexer": "ipython3",
   "version": "3.11.4"
  }
 },
 "nbformat": 4,
 "nbformat_minor": 5
}
