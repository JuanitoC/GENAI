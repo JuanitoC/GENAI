{
 "cells": [
  {
   "cell_type": "markdown",
   "id": "a6be8b35-8652-4376-a41e-d95e531cb633",
   "metadata": {},
   "source": [
    "# Cursor Quickstart: Main Operations"
   ]
  },
  {
   "cell_type": "markdown",
   "id": "330a1129-e560-4a0f-ac0d-0a98a9224dfa",
   "metadata": {},
   "source": [
    "## Important note\n",
    "* Remember: since Cursor uses LLMs and LLMs are not deterministic, your results will not be exactly as ours."
   ]
  },
  {
   "cell_type": "markdown",
   "id": "89a3dacd-f1d6-4103-9e7c-73b6cad07ca5",
   "metadata": {},
   "source": [
    "## 3 different ways you can make changes to the code in Cursor\n",
    "* **Option #1: If you want to create a project boilerplate from scratch, you could use the composer instead of a custom Starter Template in Replit as we recommend. If you want to do this:**\n",
    "    * Open composer: Command + Shift + i\n",
    "    * Tell the composer what you want to create using natural language.\n",
    "    * Review what the composer proposes.\n",
    "    * Click on Accept All.\n",
    "* **Option #2 (Inline Edits): When you want to make changes in one file, select all the code of the file and ask for changes using Command + K**.\n",
    "    *  Tell what you want to change using natural language.\n",
    "* **Option #3: use the Cursor Chat.**\n",
    "    * Open Cursor Chat: Command + L.\n",
    "    * @Web to refer to web sources (URLs of images, etc)\n",
    "    * @Docs to refer to different documentation sources (about frameworks, etc) saved previously or stored by default in Cursor.\n",
    "    * @Files to refer a local file.\n",
    "    * @Folders to refer a local folder.\n",
    "    * @Codebase\n",
    "    * @Git to save versions\n",
    "    * Press Enter (execute) or Command + Enter (make the codebase)"
   ]
  },
  {
   "cell_type": "markdown",
   "id": "b01e6193-8d45-4abb-b46d-784200f6afef",
   "metadata": {},
   "source": [
    "## Remember the three shorcuts more used in Cursor\n",
    "* Open Composer: Command + Shift + i\n",
    "* Open Chat: Command + L\n",
    "* Inline edits: Command + K"
   ]
  },
  {
   "cell_type": "markdown",
   "id": "8a78fc40-23bf-4ed4-b9c2-a0c962a859aa",
   "metadata": {},
   "source": [
    "## Common operations\n",
    "* **Remember: Ctrl in Windows, Command in Mac**\n",
    "* When Cursor proposes a change:\n",
    "    * Click on Apply to see the proposed change in the file.\n",
    "    * Click on Accept to confirm the change.\n",
    "* Command + C to revert a change.\n",
    "* Command + L to open the Cursor Chat.\n",
    "    * **This is like chatGPT, but the Cursor Chat already knows your code.**\n",
    "    * By default, the context is the file you have opened.\n",
    "    * If you close the chat and open a new one, you will have a fresh context without memory of the previous one. It is like to have a new conversation with chatGPT.\n",
    "    * We can tag several files to make changes in all of them as once of use them as context.\n",
    "* Accept edits: Command + Enter\n",
    "* Reject edits: Command + Backspace"
   ]
  },
  {
   "cell_type": "markdown",
   "id": "b6eb2e85-9127-48b9-8e68-ccf79f7732b9",
   "metadata": {},
   "source": [
    "## The Tab key in Cursor\n",
    "* **In the Cursor code editor, whenever you click the tab key, Cursor will provide suggestions for your code.**\n",
    "\n",
    "#### Applying comments\n",
    "* If you do this after writing a comment about something you would like to do in the code, Cursor will suggest ways to do it.\n",
    "* If you write a comment before a block of code saying that you would like to Rewrite it in a particular way, clicking Cursor Tab may rewrite the block in the right direction.\n",
    "\n",
    "#### Solving errors\n",
    "* If you keep clicking the Tab key, Cursor will keep making suggestions in different parts of your code.\n",
    "\n",
    "#### Renaming variables\n",
    "* If you rename a variable already present in a file, clicking the Tab will rename the remaining instances of that variable.\n",
    "\n",
    "#### Building functions\n",
    "* If you name a simple function with a enough descriptive name and arguments, and you then clik Tab, Cursor may be able to complete the function for you.\n",
    "\n",
    "#### The Cursor Tab context\n",
    "* Cursor Tab will make suggestions based on the code you have written. If you write more code, Cursor Tab knows more about your project and about how to make useful suggestions for it.\n",
    "\n",
    "#### Final notes\n",
    "* This is a feature github copilot's users are familiar with. Not everybody likes it, but it is very popular within the copilot community.\n",
    "* Remember that Cursor is not 100% infalible and can make mistakes."
   ]
  },
  {
   "cell_type": "markdown",
   "id": "3c5a843c-45e6-42ef-a8ae-97b08361464c",
   "metadata": {},
   "source": [
    "## Command + K (The Cursor Inline Editor)\n",
    "* Mainly used for inline editing. Inline editing means that you want Cursor to help you creating or improving the code of the particular file you are in.\n",
    "* When you click Command + K you will see a box where you can tell Cursor what you want to do.\n",
    "* You will have the option to select the LLM model we use to create the coding responses. Right now, the best option is Claude 3.5 Sonnet and this is the one Cursor will use by default.\n",
    "* After you write want you want, you must click Enter.\n",
    "    * Then, Cursor will suggest the code changes.\n",
    "    * And you will be able to Accept (Command + Y or Command + Enter) or Reject (Command + N or Command + Backspace) the changes.\n",
    "    * You can also add follow up instructions (Shift + Command + K).\n",
    "\n",
    "#### Selecting the block of code you want to edit\n",
    "* If you select a block of code in the file and then click Command + K, the inline editor will understand that your requests refer to that block.\n",
    "\n",
    "#### You can use @ in the inline editor the same way you use it in the Cursor Chat\n",
    "* More info about this in the section about the Cursor Chat."
   ]
  },
  {
   "cell_type": "markdown",
   "id": "9fed276a-b04c-4060-9457-2a8c2bdb14fc",
   "metadata": {},
   "source": [
    "## Command + L (The Cursor Chat)\n",
    "\n",
    "#### Chat vs. Inline Editing\n",
    "* Unlike with Inline Editing, if you use the Chat the code suggestions will not appear in the file, but in the chat box. We can then click on Apply (this will not be definitive until we click Accept), Copy, or Ask.\n",
    "\n",
    "#### The chat context\n",
    "* You can add files in the context of the chat clicking on the + sign (located on the top left of the chat).\n",
    "* Apart from the currently opened file, you can also add files manually to the chat context by @your_file_name_here.\n",
    "\n",
    "#### Chat with or without the codebase?\n",
    "* You can execute the chat by clicking Enter or Command + Enter. The difference between these two options is that the second one will use all the codebase as context. You can also use the @Codebase option and then you only need to clik Enter. Keep in mind that using all the codebase as context will be more expensive in the Cursor credits consumed.\n",
    "\n",
    "#### Apply, Accept and Reject\n",
    "* After clicking Apply, you can also Accept (Command + Y) or Reject (Command + N) the changes one by one in the file.\n",
    "\n",
    "#### Calling the chat from inside a file\n",
    "* If you have an error in a file, you can hover over it and click on \"AI in Chat\". This will open the chat in a sidebar and will tell you how you can fix the error.\n",
    "\n",
    "#### Terminal commands suggested by the chat\n",
    "* The chat can suggest to run one or more commands on terminal. If you click on the \"Run\" option in the chat box, this will write and run the command in the Cursor Terminal for you.\n",
    "\n",
    "#### Error messages in the chat\n",
    "* If the Terminal or the Dev Tools View in Chrome throws you an error message, you can copy and paste the error message in the Chat and it will provide suggestions to solve it.\n",
    "\n",
    "#### You can revisit previous chats\n",
    "* When you open a new chat, you can still revisit your old chats clicking on the Previous Chats icon (top right).\n",
    "\n",
    "#### The @ option\n",
    "* When you type @ in the chat, you will see a dropdown with different options to add @File, @Folder, @Docs, etc.\n",
    "\n",
    "#### Using screenshots, images, and diagrams as inspiration in the chat\n",
    "* You can load screenshots of similar apps to inspire Cursor in the right direction.\n",
    "* You can also use images created with drawing tools or generated by other AI frontend Coding Assistants like [v0](https://v0.dev/chat). Of course, in the case of v0 you can also use the generated code as inspiration in the chat.\n",
    "* If you want to use complex images or diagrams, it can be a good idea to select an LLM model like gpt-4o-mini in the chat box instead of Claude Sonnet 3.5 so the chat can better understand the contents of the image.\n",
    "\n",
    "#### Using web search in the chat\n",
    "* Sometimes it can be interesting to use some web resource in your Cursor chat. Just use @Web before your search query, a web link like a particular page in a framework documentation, or any other online resource you want to use, and the chat will take care of it."
   ]
  },
  {
   "cell_type": "markdown",
   "id": "59765282-bb2b-4c5a-88d7-4ac54c612135",
   "metadata": {},
   "source": [
    "## Command + Shift + I (The Cursor Composer)\n",
    "* By default it will open in a full screen Panel, but if you click on the square icon (top right) you can see the Composer as a small floating window instead.\n",
    "* Multi-file creation or editing.\n",
    "* Example: create a simple CRUD app.\n",
    "* Normally, you will need to iterate with several prompts to fix errors and introduce improvements.\n",
    "* If you like what Composer suggests, click on Accept All.\n",
    "* In some occassions, Cursor and Composer may not be able to solve your request and will be lost in a kind of loop. In these cases, review the recommendations for debugging with Cursor we gave you in the basic project.\n",
    "\n",
    "#### You can revisit your previous composers\n",
    "* Use the left sidebar for that.\n",
    "\n",
    "#### You can use @ like in the Cursor Chat\n",
    "* See more info about this in the Cursor Chat section."
   ]
  },
  {
   "cell_type": "markdown",
   "id": "711199cc-1d5a-423b-a4b1-017d4f575134",
   "metadata": {},
   "source": [
    "## Composer checkpoints: how to revert the changes introduced by Composer\n",
    "* You will find checkpoints in the Composer response. Clicking on the \"checkout\" link will revert the changes to that particular checkpoint."
   ]
  },
  {
   "cell_type": "markdown",
   "id": "a1bf7614-907a-4f17-9db9-3bb39399ae56",
   "metadata": {},
   "source": [
    "## Manage errors/problems\n",
    "* Copy error/problem message.\n",
    "    * Directly in the browser.\n",
    "    * In the browser console (Chrome > View > Developer > Developer Tools).\n",
    "    * In the Cursor Terminal. \n",
    "* Paste error message in Cursor Chat.\n",
    "* See Cursor generating suggested changes.\n",
    "* Apply.\n",
    "* Accept.\n",
    "* In some occassions, Cursor and Composer may not be able to solve your request and will be lost in a kind of loop. In these cases, review the recommendations for debugging with Cursor we gave you in the basic project."
   ]
  }
 ],
 "metadata": {
  "kernelspec": {
   "display_name": "Python 3 (ipykernel)",
   "language": "python",
   "name": "python3"
  },
  "language_info": {
   "codemirror_mode": {
    "name": "ipython",
    "version": 3
   },
   "file_extension": ".py",
   "mimetype": "text/x-python",
   "name": "python",
   "nbconvert_exporter": "python",
   "pygments_lexer": "ipython3",
   "version": "3.11.4"
  }
 },
 "nbformat": 4,
 "nbformat_minor": 5
}
