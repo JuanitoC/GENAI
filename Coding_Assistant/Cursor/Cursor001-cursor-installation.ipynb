{
 "cells": [
  {
   "cell_type": "markdown",
   "id": "0d52ea33-fcd2-403c-9b09-57c5aaaa5385",
   "metadata": {},
   "source": [
    "# Cursor Installation"
   ]
  },
  {
   "cell_type": "markdown",
   "id": "385a0e19-8d25-4564-8152-f4739689ca02",
   "metadata": {},
   "source": [
    "## What is Cursor?\n",
    "* A fork of VSCode.\n",
    "* Key features.\n",
    "    * Natural language code generation and editing.\n",
    "    * Multi-file editing.\n",
    "    * Codebase-aware chat assitant.\n",
    "* Why use Cursor?\n",
    "    * Like a Junior Assistant: code development.\n",
    "    * Like a Senior Assistant: learning to code."
   ]
  },
  {
   "cell_type": "markdown",
   "id": "e3df1e7b-cb03-47cf-84a8-5574d324838f",
   "metadata": {},
   "source": [
    "## Installation and free login\n",
    "* Go to [cursor.com](https://www.cursor.com)\n",
    "* Login.\n",
    "* Download for free."
   ]
  },
  {
   "cell_type": "markdown",
   "id": "21dfca0e-574f-4592-ae06-787740ecfddc",
   "metadata": {},
   "source": [
    "## Pricing\n",
    "* Free plan: 2000 completions, 50 requests.\n",
    "* Pro: 20 dollars, unlimited completions, 500 requests.\n",
    "* Business: 40 dollars, admin dashboard, zero-data retention."
   ]
  },
  {
   "cell_type": "markdown",
   "id": "4d70e186-93af-4b14-8b25-5c7e277ae2cf",
   "metadata": {},
   "source": [
    "## The Settings Area of your Cursor Account in the Cursor Website\n",
    "* Once logged in, click on Settings.\n",
    "* You will see your monthly use of fast requests on premium models (like Claude AI 3.5 Sonnet).\n",
    "    * If you consume your monthly quota, you will need to buy additional credits."
   ]
  },
  {
   "cell_type": "markdown",
   "id": "8a225040-4df8-4825-9d49-1e4b425b2703",
   "metadata": {},
   "source": [
    "## Quickstart\n",
    "* Go to [cursor.com](https://www.cursor.com)\n",
    "* Login.\n",
    "* Download for free.\n",
    "* Go to the [Pricing page](https://www.cursor.com/pricing):\n",
    "    * Our recommendation: initially, select the Pro plan (20 US dollars), test it for one or two months, and then consider upgrading to the year plan (192 US dollars).\n",
    "* Open Cursor locally\n",
    "* Open a project folder"
   ]
  },
  {
   "cell_type": "markdown",
   "id": "80af398e-c30a-47ef-8dcb-965a3350c80a",
   "metadata": {},
   "source": [
    "## If you want to use Cursor from your Terminal\n",
    "* Command + Shift + P\n",
    "    * Search for: Shell\n",
    "    * Install cursor command\n",
    "    * Now you can open cursor from your terminal entering \"cursor .\""
   ]
  }
 ],
 "metadata": {
  "kernelspec": {
   "display_name": "Python 3 (ipykernel)",
   "language": "python",
   "name": "python3"
  },
  "language_info": {
   "codemirror_mode": {
    "name": "ipython",
    "version": 3
   },
   "file_extension": ".py",
   "mimetype": "text/x-python",
   "name": "python",
   "nbconvert_exporter": "python",
   "pygments_lexer": "ipython3",
   "version": "3.11.4"
  }
 },
 "nbformat": 4,
 "nbformat_minor": 5
}
