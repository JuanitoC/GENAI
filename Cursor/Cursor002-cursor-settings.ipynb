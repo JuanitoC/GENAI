{
 "cells": [
  {
   "cell_type": "markdown",
   "id": "0d52ea33-fcd2-403c-9b09-57c5aaaa5385",
   "metadata": {},
   "source": [
    "# Cursor Settings"
   ]
  },
  {
   "cell_type": "markdown",
   "id": "6db81ac7-28f6-443c-a0eb-22db8776fe2c",
   "metadata": {},
   "source": [
    "## Configuring Cursor Settings\n",
    "* Open Cursor in your computer and go to the Settings Section.\n",
    "* Remember - Mac vs Windows:\n",
    "    * Mac: command key\n",
    "    * Windows: ctrl key \n",
    "* Command + Shift + P\n",
    "    * Search for: Cursor Settings"
   ]
  },
  {
   "cell_type": "markdown",
   "id": "cfa8b46e-629f-4477-9fd9-799bc6ce2340",
   "metadata": {},
   "source": [
    "## Settings > General: If you want to, you can import your VSC Settings to Cursor"
   ]
  },
  {
   "cell_type": "markdown",
   "id": "711a3309-5d9d-4441-b57c-0fe634332cee",
   "metadata": {},
   "source": [
    "## Settings > Models: what LLM models should you enable with Cursor?\n",
    "* Claude AI 3.5 Sonnet is right now the best LLM for coding. It will be the model Cursor will use by default.\n",
    "* We tend to keep the models that come enabled by default in Cursor, but it will probably be a good idea to experiment with this and see if it is worthy to disable or enable any of them.\n",
    "* If you have a Cursor Pro account, you do not have to enter your OpenAI API Key or any other API keys since you will use the models Cursor Pro offers by default. Also, in some cases the Composer feature will not be available if you enter your own API keys."
   ]
  },
  {
   "cell_type": "markdown",
   "id": "e93a10ca-fec0-4363-85bb-f79cc32a8553",
   "metadata": {},
   "source": [
    "## Settings > General: Rules for AI and the .cursorrules file\n",
    "* Rules for AI: if you want to use exclusively some programming languages in ALL your projects.\n",
    "    * You could enter this globally in the Cursor Settings (Rules for AI), but we think it is a better option to do if for each of your projects.\n",
    "* .cursorrules file: if you want to use exclusively some programming languages in ONE your projects.\n",
    "    * This is a file you can add to each of your projects, just like what you do with other files like .env or .gitignore.\n",
    "    * In the .cursorrules file you describe the role you want your \"Cursor Junior Developer\" to play while writing each one of your projects.\n",
    "* You can find good templates of .cursorrules in the [Cursor Directory Site](https://cursor.directory/)."
   ]
  },
  {
   "cell_type": "markdown",
   "id": "50451ffe-968e-4ba0-8479-c42cd79a94fb",
   "metadata": {},
   "source": [
    "## Settings > Features > Cursor Tab\n",
    "* If you have previously used copilot, it could be interesting for you to configure your preferences for Cursor Tab.\n",
    "* We tend to leave the default settings here."
   ]
  },
  {
   "cell_type": "markdown",
   "id": "75cbccda-f01d-4e29-8df8-5f7a886fbcbd",
   "metadata": {},
   "source": [
    "## Settings > Features > Composer\n",
    "* Make sure it is enabled.\n",
    "* We like to enable the first option \"Always keep composer in bound. Keep a space between the composer and the screen edge\"."
   ]
  },
  {
   "cell_type": "markdown",
   "id": "cda4c572-d003-4238-945b-3a50327a37d7",
   "metadata": {},
   "source": [
    "## Settings > Features > Codebase indexing\n",
    "* Cursor will index all the files of your project to be able to have them in context.\n",
    "* By default, Cursor will ignore all the files listed in the .gitignore file in your project, but if you want you can also use a more Cursor-specific file called .cursorignore in your projects that does something very similar to .gitignore: to list the files you do not want Cursor to index. What kind of files could these be?\n",
    "    * Package files."
   ]
  },
  {
   "cell_type": "markdown",
   "id": "8f960ff6-4728-44d8-8405-0d94c56ccb87",
   "metadata": {},
   "source": [
    "## Settings > Features > Docs\n",
    "* Important feature when you are using new frameworks or frameworks that are not very popular. If you use established frameworks, you do not need to use this since LLMs are already trained with them.\n",
    "* You can refresh each doc here at any moment to keep it up-to-date. Remember, however, that these operations will consume some of your monthly credits with Cursor. So use them wisely.\n",
    "* It may be a good idea that you add here the documentation of the newest frameworks you use often in your projects (LangChain, LangGraph, NextJS). It is as easy as going to the documentation pages of those frameworks, copy the URL and click on the Add new doc button in Cursor.\n",
    "\n",
    "#### For example, how could we add the latest LangChain documentation?\n",
    "* The most popular documentations are already charged by default in Cursor. You can find LangChain if you enter @Doc LangChain in Composer, for example.\n",
    "* If LangChain were not there or if the LangChain doc loaded by default by Cursor is not what we like to use, we could load our own LangChain doc. For example, we could want to use the latest LangChain API Documentation, the one in [here](https://python.langchain.com/api_reference/).\n",
    "* What we will do is to copy this URL and to add a new Doc in Feature > Docs. From then on it will take Cursor some time to index all the pages of the documentation. Once it is loaded, to use this documentation you open a chat, click @Doc and select the saved doc in the dropdown.\n",
    "* You can also save a documentation directly from the chat box. For that, in the chat you will click @Docs and paste the documentation URL there. From then on, you will see that the documentation is in the chat context and you can then ask questions to that documentation in the chat and see what pages in the documentation it is consulting."
   ]
  },
  {
   "cell_type": "markdown",
   "id": "4d8a50e4-8e3a-4a30-a245-fb3af71fb9b5",
   "metadata": {},
   "source": [
    "## Settings > Features > Chat\n",
    "* Careful here, some of the options like \"always search the web\" may be expensive.\n",
    "* We tend to keep the default settings here."
   ]
  },
  {
   "cell_type": "markdown",
   "id": "b1a68f2d-df5a-4cc1-bd2c-7e48f1f37021",
   "metadata": {},
   "source": [
    "## Settings > Features > Editor\n",
    "* We tend to keep the default settings here."
   ]
  },
  {
   "cell_type": "markdown",
   "id": "e6d1d33a-8861-4ecb-8e2d-8c782fd300f0",
   "metadata": {},
   "source": [
    "## Settings > Features > Terminal\n",
    "* We tend to keep the default settings here."
   ]
  },
  {
   "cell_type": "markdown",
   "id": "e4fee330-4d73-42ce-8c33-ff177d76258b",
   "metadata": {},
   "source": [
    "## Settings > Beta\n",
    "* We tend to enable all for experimentation. But be careful here since these features are in beta (in experimental mode, they can produce errors)."
   ]
  }
 ],
 "metadata": {
  "kernelspec": {
   "display_name": "Python 3 (ipykernel)",
   "language": "python",
   "name": "python3"
  },
  "language_info": {
   "codemirror_mode": {
    "name": "ipython",
    "version": 3
   },
   "file_extension": ".py",
   "mimetype": "text/x-python",
   "name": "python",
   "nbconvert_exporter": "python",
   "pygments_lexer": "ipython3",
   "version": "3.11.4"
  }
 },
 "nbformat": 4,
 "nbformat_minor": 5
}
