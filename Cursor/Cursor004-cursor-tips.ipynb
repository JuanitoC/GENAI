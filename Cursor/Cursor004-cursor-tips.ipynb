{
 "cells": [
  {
   "cell_type": "markdown",
   "id": "4cf4c911-9356-4377-922f-6c412628d5aa",
   "metadata": {},
   "source": [
    "# Cursor Tips: Recommendations"
   ]
  },
  {
   "cell_type": "markdown",
   "id": "a77992d6-08ec-4c46-b862-27c7f8d1f29a",
   "metadata": {},
   "source": [
    "## Tips: Working with Cursor\n",
    "* Use popular languages.\n",
    "* If you do not want to use a custom starter template with Replit as we recommend, you can use Composer to quickly get started and create multiple files.\n",
    "* Ask the Composer to turn a screenshot of a good example into code.\n",
    "* Once the Composer has reached a point where it is not making significant progresses and gets stuck in loops, you must take control and finish coding yourself.\n",
    "* In some occassions, Cursor and Composer may not be able to solve your request and will be lost in a kind of loop. In these cases, review the recommendations for debugging with Cursor we gave you in the basic project.\n",
    "* Use @Docs with specific documentation for each framework.\n",
    "* Use @File to include files in the context of an operation. Put frontend and backend files in the same repo so you can include the right files in context when an operation affects both front and backend. If possible, do not use the whole @Codebase as context, but only the specific files that are affected in the operation."
   ]
  },
  {
   "cell_type": "markdown",
   "id": "bfc3bdd8-de03-40dc-be75-ccf0126a86e7",
   "metadata": {},
   "source": [
    "#### Use Prompt Engineering techniques\n",
    "* Role: \"act as a senior software engineer\".\n",
    "* Directions:\n",
    "    * \"be very detailed\".\n",
    "    * \"include a way to handle potential errors in the user input.\"\n",
    "* Etc.\n",
    "* See book \"Do You Speak Generative AI? The Prompt Engineering Beginner’s Guide.\" \n",
    "\n",
    "#### Using several LLM models in one project.\n",
    "* Some LLM models like o1-preview are better for planning.\n",
    "* Other LLM models like claude sonnet 3.5 are better for executing.\n",
    "* You can change easily the LLM model Cursor is using to generate its responses. In the Composer, for example, you can use the drop-down at the bottom of the box for this.\n",
    "\n",
    "#### Use Comments.\n",
    "* Adding escriptive comments to explain your code will improve the quality of the responses provided by Cursor.\n",
    "* You can even ask Cursor to add comments to your code.\n",
    "\n",
    "#### Use the .cursorrules file.\n",
    "* Use the .cursorrules file with the specific roles, tools, and mistakes to avoid in the particular project."
   ]
  },
  {
   "cell_type": "code",
   "execution_count": null,
   "id": "54c23435-c331-4b08-a9a1-92fe2e334815",
   "metadata": {},
   "outputs": [],
   "source": []
  }
 ],
 "metadata": {
  "kernelspec": {
   "display_name": "Python 3 (ipykernel)",
   "language": "python",
   "name": "python3"
  },
  "language_info": {
   "codemirror_mode": {
    "name": "ipython",
    "version": 3
   },
   "file_extension": ".py",
   "mimetype": "text/x-python",
   "name": "python",
   "nbconvert_exporter": "python",
   "pygments_lexer": "ipython3",
   "version": "3.11.4"
  }
 },
 "nbformat": 4,
 "nbformat_minor": 5
}
